{
 "cells": [
  {
   "cell_type": "code",
   "execution_count": 17,
   "id": "4d441418-80f2-47fb-afc0-180ad244b4ff",
   "metadata": {},
   "outputs": [
    {
     "name": "stdout",
     "output_type": "stream",
     "text": [
      "                   sepal length (cm)  sepal width (cm)  petal length (cm)  \\\n",
      "sepal length (cm)           1.000000         -0.117570           0.871754   \n",
      "sepal width (cm)           -0.117570          1.000000          -0.428440   \n",
      "petal length (cm)           0.871754         -0.428440           1.000000   \n",
      "petal width (cm)            0.817941         -0.366126           0.962865   \n",
      "target                      0.782561         -0.426658           0.949035   \n",
      "\n",
      "                   petal width (cm)    target  \n",
      "sepal length (cm)          0.817941  0.782561  \n",
      "sepal width (cm)          -0.366126 -0.426658  \n",
      "petal length (cm)          0.962865  0.949035  \n",
      "petal width (cm)           1.000000  0.956547  \n",
      "target                     0.956547  1.000000  \n"
     ]
    }
   ],
   "source": [
    "# import needed packages\n",
    "import numpy as np\n",
    "import pandas as pd\n",
    "\n",
    "# import and load dataset\n",
    "from sklearn.datasets import load_iris\n",
    "iris = load_iris()\n",
    "# iris\n",
    "\n",
    "# convert the dataset into a dataframe\n",
    "df = pd.DataFrame(data= np.c_[iris['data'], iris['target']],\n",
    "                     columns= iris['feature_names'] + ['target'])\n",
    "\n",
    "# print the correlation matrix of the dataframe\n",
    "print(df.corr(method='pearson'))"
   ]
  },
  {
   "cell_type": "code",
   "execution_count": null,
   "id": "e46ce8a0-3a2a-45d1-875f-81d06cda0b08",
   "metadata": {},
   "outputs": [],
   "source": []
  }
 ],
 "metadata": {
  "kernelspec": {
   "display_name": "Python 3 (ipykernel)",
   "language": "python",
   "name": "python3"
  },
  "language_info": {
   "codemirror_mode": {
    "name": "ipython",
    "version": 3
   },
   "file_extension": ".py",
   "mimetype": "text/x-python",
   "name": "python",
   "nbconvert_exporter": "python",
   "pygments_lexer": "ipython3",
   "version": "3.11.7"
  }
 },
 "nbformat": 4,
 "nbformat_minor": 5
}
