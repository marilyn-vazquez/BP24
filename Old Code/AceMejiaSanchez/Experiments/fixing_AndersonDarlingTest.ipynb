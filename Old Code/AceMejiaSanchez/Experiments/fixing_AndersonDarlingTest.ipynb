{
 "cells": [
  {
   "cell_type": "code",
   "execution_count": null,
   "id": "bc59ffe9-cbc4-4484-a511-4d72a9833142",
   "metadata": {},
   "outputs": [],
   "source": [
    "    ############################# Anderson-Darling Test ##########################\n",
    "    # tests if a sample comes from a population with a specific distribution\n",
    "    # used to determine whether or not your data follow a normal distribution\n",
    "    from scipy.stats import anderson\n",
    "\n",
    "    # Subset to select only numerical variables columns --> A-D Test only works with numerical\n",
    "    df_AD = X_train.select_dtypes(include = [\"float64\"])\n",
    "\n",
    "    # Get the actual column indices for the numerical columns\n",
    "    numerical_column_indices = [X_train.columns.get_loc(col) for col in df_AD.columns]\n",
    "\n",
    "    # Initialize a list to store results\n",
    "    results = []\n",
    "\n",
    "    # Significance level for the normality test (usually 0.05)\n",
    "    significance_level_index = 2  # Index for 5% significance level in the Anderson-Darling test\n",
    "\n",
    "    # Iterate through each row\n",
    "    for col_index, column in zip(numerical_column_indices, df_AD.columns):\n",
    "        # Convert columns to a numpy array\n",
    "        data = df_AD[column].values\n",
    "\n",
    "        # Perform the Anderson-Darling Test\n",
    "        result = anderson(data)\n",
    "\n",
    "        # Determine if the distribution is normal at the 5% significance level\n",
    "        is_normal = result.statistic < result.critical_values[significance_level_index]\n",
    "\n",
    "        #H0:  the data are normally distributed, \n",
    "        #Ha:  the data are not normally distributed. \n",
    "        # Formulate the hypothesis result\n",
    "        hypothesis = \"H0: Fail to reject\" if is_normal else \"Ha: Reject\"\n",
    "    \n",
    "        # Store the results\n",
    "        results.append({\n",
    "            'feature': col_index,\n",
    "            'statistic': result.statistic,\n",
    "            'critical_values': result.critical_values,\n",
    "            'significance_level': result.significance_level,\n",
    "            'normal_dist': is_normal,\n",
    "            'hypothesis': hypothesis\n",
    "            })\n",
    "\n",
    "    # Convert results to a DataFrame for better readability\n",
    "    results_df = pd.DataFrame(results)\n",
    "\n",
    "    # Display the results\n",
    "    print(\"---------------------------------------- Anderson-Darling Test Results ---------------------------------------------\")\n",
    "    print(results_df.to_string())\n"
   ]
  }
 ],
 "metadata": {
  "kernelspec": {
   "display_name": "Python 3 (ipykernel)",
   "language": "python",
   "name": "python3"
  },
  "language_info": {
   "codemirror_mode": {
    "name": "ipython",
    "version": 3
   },
   "file_extension": ".py",
   "mimetype": "text/x-python",
   "name": "python",
   "nbconvert_exporter": "python",
   "pygments_lexer": "ipython3",
   "version": "3.11.7"
  }
 },
 "nbformat": 4,
 "nbformat_minor": 5
}
