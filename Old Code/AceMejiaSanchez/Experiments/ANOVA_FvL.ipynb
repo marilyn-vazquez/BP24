{
 "cells": [
  {
   "cell_type": "code",
   "execution_count": null,
   "id": "c010277c-3e36-43f4-acb7-1e841532f76a",
   "metadata": {},
   "outputs": [],
   "source": [
    "##################### ANOVA (F vs label column) Code ####################################\n",
    "print(\"\\n-----------------------ANOVA (Feature v. Label)-------------------------------\")\n",
    "    \n",
    "# Finds dependency between all features in X_train & the label in y_train\n",
    "def anova_fvl(X_train, y_train):\n",
    "        \n",
    "    # Combining X_train and y_train\n",
    "    df = X_train\n",
    "    df['label'] = y_train\n",
    "\n",
    "    # Number of features, excluding label\n",
    "    var_count = len(df.columns)-1\n",
    "\n",
    "    # Creates an empty array for Chi2 and P-values\n",
    "    results = []\n",
    "\n",
    "    for i in range(0, var_count):\n",
    "\n",
    "        # ANOVA: Compute f-statistics and p-values\n",
    "        f_statistic, p_value = f_oneway()\n",
    "        \n",
    "        # Append results to the list\n",
    "        results.append({\n",
    "            \"Feature\": df.columns[i],\n",
    "            \"Chi Squared Statistic\": chi2,\n",
    "            \"P-Value\": p})\n",
    "\n",
    "    # Create a dataFrame from the results\n",
    "    results_df = pd.DataFrame(results)\n",
    "\n",
    "    # Print the dataFrame\n",
    "    print(\"Label:\", df.columns.values[-1])\n",
    "    print(results_df.to_string(index=False))\n",
    "    \n",
    "anova_fvl(categorical_df, y_train)"
   ]
  },
  {
   "cell_type": "code",
   "execution_count": null,
   "id": "b9bd3780-6714-4afb-a670-8e854bca165e",
   "metadata": {},
   "outputs": [],
   "source": [
    "############################# ANOVA (Feature vs Feature) #########################################\n",
    "\n",
    "print(\"\\n------------------ ANOVA (Feature vs Feature) -----------------------\")\n",
    "# Initialize an empty DataFrame to store ANOVA results\n",
    "anova_results = pd.DataFrame(index=categorical_df.columns, columns=numerical_df.columns)\n",
    "\n",
    "# Perform ANOVA for each combination of categorical and numerical columns\n",
    "for cat_col in categorical_df:\n",
    "    for num_col in numerical_df:\n",
    "        groups = []\n",
    "        for category in X_train[cat_col].unique():\n",
    "            groups.append(X_train[num_col][X_train[cat_col] == category])\n",
    "        f_statistic, p_value = f_oneway(*groups)\n",
    "        anova_results.loc[cat_col, num_col] = f_statistic, p_value\n",
    "\n",
    "# Create a formatted DataFrame for ANOVA results with labeled interpretation\n",
    "formatted_results = pd.DataFrame(index=categorical_df.columns, columns=numerical_df.columns)\n",
    "for num_col in numerical_df:\n",
    "    for cat_col in categorical_df:\n",
    "        f_statistic, p_value = anova_results.loc[cat_col, num_col]\n",
    "        if p_value < 0.05:\n",
    "            significance = \"Significant\"\n",
    "        else:\n",
    "            significance = \"Not Significant\"\n",
    "        formatted_results.loc[cat_col, num_col] = f\"F = {f_statistic:.2f}, p = {p_value:.4f} ({significance})\"\n",
    "\n",
    "# Display formatted ANOVA results as a table\n",
    "print(\"ANOVA Results:\")\n",
    "print(formatted_results)"
   ]
  }
 ],
 "metadata": {
  "kernelspec": {
   "display_name": "Python 3 (ipykernel)",
   "language": "python",
   "name": "python3"
  },
  "language_info": {
   "codemirror_mode": {
    "name": "ipython",
    "version": 3
   },
   "file_extension": ".py",
   "mimetype": "text/x-python",
   "name": "python",
   "nbconvert_exporter": "python",
   "pygments_lexer": "ipython3",
   "version": "3.11.7"
  }
 },
 "nbformat": 4,
 "nbformat_minor": 5
}
