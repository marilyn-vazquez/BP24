{
 "cells": [
  {
   "cell_type": "code",
   "execution_count": 6,
   "id": "e42d16e5-2ca0-4351-a34e-e79dc28f4ec6",
   "metadata": {},
   "outputs": [],
   "source": [
    "import pandas as pd\n",
    "import numpy as np\n",
    "\n",
    "df = pd.read_csv(\"C:/Users/aceme/OneDrive/Documents/GitHub/BP24/Data Creation/Gaussian - small distance/gaussian_small_d_1.tex\")\n"
   ]
  },
  {
   "cell_type": "code",
   "execution_count": 28,
   "id": "72bad7da-91f4-4c67-a05b-aed3072469a6",
   "metadata": {},
   "outputs": [
    {
     "ename": "TypeError",
     "evalue": "'tuple' object is not callable",
     "output_type": "error",
     "traceback": [
      "\u001b[1;31m---------------------------------------------------------------------------\u001b[0m",
      "\u001b[1;31mTypeError\u001b[0m                                 Traceback (most recent call last)",
      "Cell \u001b[1;32mIn[28], line 1\u001b[0m\n\u001b[1;32m----> 1\u001b[0m df\u001b[38;5;241m.\u001b[39mshape()\n",
      "\u001b[1;31mTypeError\u001b[0m: 'tuple' object is not callable"
     ]
    }
   ],
   "source": [
    "df.shape()"
   ]
  },
  {
   "cell_type": "markdown",
   "id": "fe819059-1c82-4817-b7ab-bbbf2bf860bb",
   "metadata": {},
   "source": [
    "# Correlation between columns"
   ]
  },
  {
   "cell_type": "code",
   "execution_count": null,
   "id": "f84ee7a6-ae5a-4f8a-893a-3661719faaf7",
   "metadata": {},
   "outputs": [],
   "source": [
    "# import needed packages\n",
    "import numpy as np\n",
    "import pandas as pd\n",
    "\n",
    "# import and load dataset\n",
    "from sklearn.datasets import load_iris\n",
    "iris = load_iris()\n",
    "# iris\n",
    "\n",
    "# convert the dataset into a dataframe\n",
    "df = pd.DataFrame(data= np.c_[iris['data'], iris['target']],\n",
    "                     columns= iris['feature_names'] + ['target'])\n",
    "\n",
    "# print the correlation matrix of the dataframe\n",
    "print(df.corr(method='pearson'))"
   ]
  },
  {
   "cell_type": "markdown",
   "id": "8a248993-dc2e-4326-8383-9012a1a303ff",
   "metadata": {},
   "source": [
    "# Chi-squared test"
   ]
  },
  {
   "cell_type": "code",
   "execution_count": null,
   "id": "3aef9b1e-56d5-409d-ad93-e6763b8de133",
   "metadata": {},
   "outputs": [],
   "source": [
    "############### CHI-SQUARE STAT FOR 2 VARIABLES ########################\n",
    "# Import relevant libraries \n",
    "import scipy.stats as stats\n",
    "\n",
    "# Load new dataset\n",
    "df = pd.read_csv(\"C:/Users/aceme/OneDrive/Documents/GitHub/BP24/AceMejiaSanchez/Demo Code/fatal-police-shootings-data.csv\")\n",
    "df.head()\n",
    "\n",
    "# Create contigency table\n",
    "crosstab = pd.crosstab(df[\"manner_of_death\"], df[\"body_camera\"])\n",
    "print(crosstab)\n",
    "\n",
    "# Passing contingency table into chi-squared test\n",
    "chi, p, dof, exp = stats.chi2_contingency(crosstab)\n",
    "print(\" \")\n",
    "print(\"Chi-squared:\", chi)\n",
    "print(\"p-value:\", p)\n",
    "\n",
    "#######################################################################\n",
    "\n",
    "# Number of features, excluding label\n",
    "var_count = 4\n",
    "\n",
    "# Empty list\n",
    "out = []\n",
    "\n",
    "for i in range(0, var_count):\n",
    "\n",
    "    # Create contigency table\n",
    "    crosstab = pd.crosstab(df.iloc[:, i], df.loc[:, 'species'])\n",
    "\n",
    "    # Passing contingency table into chi-squared test\n",
    "    result = stats.chi2_contingency(crosstab)\n",
    "    print(result)"
   ]
  }
 ],
 "metadata": {
  "kernelspec": {
   "display_name": "Python 3 (ipykernel)",
   "language": "python",
   "name": "python3"
  },
  "language_info": {
   "codemirror_mode": {
    "name": "ipython",
    "version": 3
   },
   "file_extension": ".py",
   "mimetype": "text/x-python",
   "name": "python",
   "nbconvert_exporter": "python",
   "pygments_lexer": "ipython3",
   "version": "3.11.7"
  }
 },
 "nbformat": 4,
 "nbformat_minor": 5
}
