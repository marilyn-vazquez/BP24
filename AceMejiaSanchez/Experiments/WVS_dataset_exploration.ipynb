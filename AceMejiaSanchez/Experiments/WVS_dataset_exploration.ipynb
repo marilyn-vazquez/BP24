{
 "cells": [
  {
   "cell_type": "markdown",
   "id": "39f49205-d75a-4a1b-a69d-dcd44e8d2d43",
   "metadata": {},
   "source": [
    "# Data Exploration"
   ]
  },
  {
   "cell_type": "code",
   "execution_count": 314,
   "id": "cfb7a264-ec1f-478e-802d-c2762b1fd474",
   "metadata": {},
   "outputs": [],
   "source": [
    "import pandas as pd\n",
    "import numpy as np\n",
    "import matplotlib.pyplot as plt\n",
    "from sklearn.model_selection import train_test_split\n",
    "from xgboost import XGBClassifier\n",
    "from matplotlib import colors\n",
    "from matplotlib.ticker import PercentFormatter\n",
    "import sklearn.metrics as skm"
   ]
  },
  {
   "cell_type": "code",
   "execution_count": 316,
   "id": "f82fcd0e-e5fd-4a41-a55f-89f461c25280",
   "metadata": {},
   "outputs": [
    {
     "name": "stderr",
     "output_type": "stream",
     "text": [
      "C:\\Users\\aceme\\AppData\\Local\\Temp\\ipykernel_31268\\3996359589.py:1: DtypeWarning: Columns (346,348,350,580,581,582,583) have mixed types. Specify dtype option on import or set low_memory=False.\n",
      "  df = pd.read_csv(\"C:/Users/aceme/OneDrive/Documents/SIAM Simons Summer Opportunity/Datasets/WVS_Cross-National_Wave_7_csv_v6_0.csv\")\n"
     ]
    }
   ],
   "source": [
    "df = pd.read_csv(\"C:/Users/aceme/OneDrive/Documents/SIAM Simons Summer Opportunity/Datasets/WVS_Cross-National_Wave_7_csv_v6_0.csv\")"
   ]
  },
  {
   "cell_type": "code",
   "execution_count": 317,
   "id": "02d27d96-4c43-451c-a0e2-0653eb92677f",
   "metadata": {},
   "outputs": [
    {
     "data": {
      "text/plain": [
       "(97220, 613)"
      ]
     },
     "execution_count": 317,
     "metadata": {},
     "output_type": "execute_result"
    }
   ],
   "source": [
    "df.head()\n",
    "df.shape"
   ]
  },
  {
   "cell_type": "code",
   "execution_count": 318,
   "id": "fce9c1fa-6db4-4a91-a478-061e7d1e0b9a",
   "metadata": {},
   "outputs": [
    {
     "name": "stdout",
     "output_type": "stream",
     "text": [
      "['version' 'doi' 'A_WAVE' 'A_YEAR' 'A_STUDY' 'B_COUNTRY' 'B_COUNTRY_ALPHA'\n",
      " 'C_COW_NUM' 'C_COW_ALPHA' 'D_INTERVIEW' 'S007' 'J_INTDATE' 'FW_START'\n",
      " 'FW_END' 'K_TIME_START' 'K_TIME_END' 'K_DURATION' 'Q_MODE' 'N_REGION_ISO'\n",
      " 'N_REGION_WVS' 'N_REGION_NUTS2' 'N_REG_NUTS1' 'N_TOWN' 'G_TOWNSIZE'\n",
      " 'G_TOWNSIZE2' 'H_SETTLEMENT' 'H_URBRURAL' 'I_PSU' 'O1_LONGITUDE'\n",
      " 'O2_LATITUDE' 'L_INTERVIEWER_NUMBER' 'S_INTLANGUAGE' 'LNGE_ISO'\n",
      " 'E_RESPINT' 'F_INTPRIVACY' 'E1_LITERACY' 'W_WEIGHT' 'S018' 'PWGHT' 'S025'\n",
      " 'Q1' 'Q2' 'Q3' 'Q4' 'Q5' 'Q6' 'Q7' 'Q8' 'Q9' 'Q10' 'Q11' 'Q12' 'Q13'\n",
      " 'Q14' 'Q15' 'Q16' 'Q17' 'Q18' 'Q19' 'Q20' 'Q21' 'Q22' 'Q23' 'Q24' 'Q25'\n",
      " 'Q26' 'Q27' 'Q28' 'Q29' 'Q30' 'Q31' 'Q32' 'Q33' 'Q33_3' 'Q34' 'Q34_3'\n",
      " 'Q35' 'Q35_3' 'Q36' 'Q37' 'Q38' 'Q39' 'Q40' 'Q41' 'Q42' 'Q43' 'Q44' 'Q45'\n",
      " 'Q46' 'Q47' 'Q48' 'Q49' 'Q50' 'Q51' 'Q52' 'Q53' 'Q54' 'Q55' 'Q56' 'Q57'\n",
      " 'Q58' 'Q59' 'Q60' 'Q61' 'Q62' 'Q63' 'Q64' 'Q65' 'Q66' 'Q67' 'Q68' 'Q69'\n",
      " 'Q70' 'Q71' 'Q72' 'Q73' 'Q74' 'Q75' 'Q76' 'Q77' 'Q78' 'Q79' 'Q80' 'Q81'\n",
      " 'Q82' 'Q82_AFRICANUNION' 'Q82_APEC' 'Q82_ARABLEAGUE' 'Q82_ASEAN'\n",
      " 'Q82_CIS' 'Q82_CUSMA' 'Q82_ECO' 'Q82_EU' 'Q82_GULFCOOP' 'Q82_ISLCOOP'\n",
      " 'Q82_MERCOSUR' 'Q82_NAFTA' 'Q82_OAS' 'Q82_SAARC' 'Q82_SCO' 'Q82_TLC'\n",
      " 'Q82_UNDP' 'Q83' 'Q84' 'Q85' 'Q86' 'Q87' 'Q88' 'Q89' 'Q90' 'Q91' 'Q92'\n",
      " 'Q93' 'Q94' 'Q94R' 'Q95' 'Q95R' 'Q96' 'Q96R' 'Q97' 'Q97R' 'Q98' 'Q98R'\n",
      " 'Q99' 'Q99R' 'Q100' 'Q100R' 'Q101' 'Q101R' 'Q102' 'Q102R' 'Q103' 'Q103R'\n",
      " 'Q104' 'Q104R' 'Q105' 'Q105R' 'Q106' 'Q107' 'Q108' 'Q109' 'Q110' 'Q111'\n",
      " 'Q112' 'Q113' 'Q114' 'Q115' 'Q116' 'Q117' 'Q118' 'Q119' 'Q120' 'Q121'\n",
      " 'Q122' 'Q123' 'Q124' 'Q125' 'Q126' 'Q127' 'Q128' 'Q129' 'Q130' 'Q131'\n",
      " 'Q132' 'Q133' 'Q134' 'Q135' 'Q136' 'Q137' 'Q138' 'Q139' 'Q140' 'Q141'\n",
      " 'Q142' 'Q143' 'Q144' 'Q145' 'Q146' 'Q147' 'Q148' 'Q149' 'Q150' 'Q151'\n",
      " 'Q152' 'Q153' 'Q154' 'Q155' 'Q156' 'Q157' 'Q158' 'Q159' 'Q160' 'Q161'\n",
      " 'Q162' 'Q163' 'Q164' 'Q165' 'Q166' 'Q167' 'Q168' 'Q169' 'Q170' 'Q171'\n",
      " 'Q172' 'Q172R' 'Q173' 'Q174' 'Q175' 'Q176' 'Q177' 'Q178' 'Q179' 'Q180'\n",
      " 'Q181' 'Q182' 'Q183' 'Q184' 'Q185' 'Q186' 'Q187' 'Q188' 'Q189' 'Q190'\n",
      " 'Q191' 'Q192' 'Q193' 'Q194' 'Q195' 'Q196' 'Q197' 'Q198' 'Q199' 'Q200'\n",
      " 'Q201' 'Q202' 'Q203' 'Q204' 'Q205' 'Q206' 'Q207' 'Q208' 'Q209' 'Q210'\n",
      " 'Q211' 'Q212' 'Q213' 'Q214' 'Q215' 'Q216' 'Q217' 'Q218' 'Q219' 'Q220'\n",
      " 'Q221' 'Q222' 'Q223' 'Q223_ABREV' 'Q223_LOCAL' 'Q224' 'Q225' 'Q226'\n",
      " 'Q227' 'Q228' 'Q229' 'Q230' 'Q231' 'Q232' 'Q233' 'Q234' 'Q234A' 'Q235'\n",
      " 'Q236' 'Q237' 'Q238' 'Q239' 'Q240' 'Q241' 'Q242' 'Q243' 'Q244' 'Q245'\n",
      " 'Q246' 'Q247' 'Q248' 'Q249' 'Q250' 'Q251' 'Q252' 'Q253' 'Q254' 'Q255'\n",
      " 'Q256' 'Q257' 'Q258' 'Q259' 'Q260' 'Q261' 'Q262' 'X003R' 'X003R2' 'Q263'\n",
      " 'Q264' 'V002' 'Q265' 'V001' 'Q266' 'X002_02B' 'Q267' 'V002A_01' 'Q268'\n",
      " 'V001A_01' 'Q269' 'Q270' 'Q271' 'Q272' 'Q273' 'Q274' 'Q275' 'Q275A'\n",
      " 'Q275R' 'Q276' 'Q276A' 'Q276R' 'Q277' 'Q277A' 'Q277R' 'Q278' 'Q278A'\n",
      " 'Q278R' 'Q279' 'Q280' 'Q281' 'Q282' 'Q283' 'Q284' 'Q285' 'Q286' 'Q287'\n",
      " 'Q288' 'Q288R' 'Q289' 'Q289CS9' 'Q290' 'Q291G1' 'Q291G2' 'Q291G3'\n",
      " 'Q291G4' 'Q291G5' 'Q291G6' 'Q291P1' 'Q291P2' 'Q291P3' 'Q291P4' 'Q291P5'\n",
      " 'Q291P6' 'Q291UN1' 'Q291UN2' 'Q291UN3' 'Q291UN4' 'Q291UN5' 'Q291UN6'\n",
      " 'Q292A' 'Q292B' 'Q292C' 'Q292D' 'Q292E' 'Q292F' 'Q292G' 'Q292H' 'Q292I'\n",
      " 'Q292J' 'Q292K' 'Q292L' 'Q292M' 'Q292N' 'Q292O' 'Q293' 'Q294A' 'Q294B'\n",
      " 'Y001' 'Y002' 'Y003' 'SACSECVAL' 'RESEMAVAL' 'I_AUTHORITY'\n",
      " 'I_NATIONALISM' 'I_DEVOUT' 'DEFIANCE' 'I_RELIGIMP' 'I_RELIGBEL'\n",
      " 'I_RELIGPRAC' 'DISBELIEF' 'I_NORM1' 'I_NORM2' 'I_NORM3' 'RELATIVISM'\n",
      " 'I_TRUSTARMY' 'I_TRUSTPOLICE' 'I_TRUSTCOURTS' 'SCEPTICISM' 'I_INDEP'\n",
      " 'I_IMAGIN' 'I_NONOBED' 'AUTONOMY' 'I_WOMJOB' 'I_WOMPOL' 'I_WOMEDU'\n",
      " 'EQUALITY' 'I_HOMOLIB' 'I_ABORTLIB' 'I_DIVORLIB' 'CHOICE' 'I_VOICE1'\n",
      " 'I_VOICE2' 'I_VOI2_00' 'VOICE' 'SECVALWGT' 'RESEMAVALWGT' 'fhregion'\n",
      " 'polregfh' 'freestfh' 'prfhrat' 'prfhscore' 'clfhrat' 'clfhscore' 'democ'\n",
      " 'autoc' 'polity' 'durable' 'regtype' 'ruleoflaw' 'corrupttransp'\n",
      " 'electintegr' 'btiregion' 'btistatus' 'btidemstatus' 'btistate'\n",
      " 'btipolpart' 'btiruleoflaw' 'btistability' 'btiintegration' 'btimarket'\n",
      " 'btigovindex' 'btigoveperform' 'btiregime' 'regionWB' 'incomeWB' 'landWB'\n",
      " 'GDPpercap1' 'GDPpercap2' 'giniWB' 'incrichest10p' 'popWB1990'\n",
      " 'popWB2000' 'popWB2019' 'lifeexpect' 'popgrowth' 'urbanpop' 'laborforce'\n",
      " 'deathrate' 'unemployfem' 'unemploymale' 'unemploytotal' 'accessclfuel'\n",
      " 'accesselectr' 'renewelectr' 'co2emis' 'co2percap' 'easeofbusiness'\n",
      " 'militaryexp' 'Trade' 'healthexp' 'educationexp' 'medageun'\n",
      " 'meanschooling' 'educationHDI' 'compulseduc' 'GII' 'DGI' 'womenparl'\n",
      " 'hdi' 'incomeindexHDI' 'humanineqiality' 'lifeexpectHDI' 'homiciderate'\n",
      " 'Refugeesorigin' 'internetusers' 'mobphone' 'migrationrate' 'schoolgpi'\n",
      " 'femchoutsch' 'choutsch' 'v2x_polyarchy' 'v2x_libdem' 'v2x_partipdem'\n",
      " 'v2x_delibdem' 'v2x_egaldem' 'v2x_freexp_altinf' 'v2x_frassoc_thick'\n",
      " 'v2xel_frefair' 'v2xcl_rol' 'v2x_cspart' 'v2xeg_eqdr' 'v2excrptps'\n",
      " 'v2exthftps' 'v2juaccnt' 'v2cltrnslw' 'v2clacjust' 'v2clsocgrp'\n",
      " 'v2clacfree' 'v2clrelig' 'v2csrlgrep' 'v2mecenefm' 'v2mecenefi'\n",
      " 'v2mebias' 'v2pepwrses' 'v2pepwrgen' 'v2peedueq' 'v2pehealth'\n",
      " 'v2peapsecon' 'v2peasjsoecon' 'v2clgencl' 'v2peasjgen' 'v2peasbgen'\n",
      " 'v2cafres' 'v2cafexch' 'v2x_corr' 'v2x_gender' 'v2x_gencl' 'v2x_genpp'\n",
      " 'v2x_rule' 'v2xcl_acjst' 'td_voiacc' 'td_polstab' 'td_goveff'\n",
      " 'td_regqual' 'td_rulelaw' 'td_ctrlcorr' 'ID_GPS' 'ID_PartyFacts'\n",
      " 'Partyname' 'Partyabb' 'CPARTY' 'CPARTYABB' 'Type_Values' 'Type_Populism'\n",
      " 'Type_Populist_Values' 'Type_Partysize_vote' 'Type_Partysize_seat'\n",
      " 'GPS_V4_Scale' 'GPS_V6_Scale' 'GPS_V8_Scale' 'GPS_V9' 'GPS_V10' 'GPS_V11'\n",
      " 'GPS_V12' 'GPS_V13' 'GPS_V14' 'GPS_V15' 'GPS_V16' 'GPS_V17'\n",
      " 'WVS_LR_PartyVoter' 'WVS_LibCon_PartyVoter' 'WVS_Polmistrust_PartyVoter'\n",
      " 'WVS_LR_MedianVoter' 'WVS_LibCon_MedianVoter' 'v2psbars' 'v2psorgs'\n",
      " 'v2psprbrch' 'v2psprlnks' 'v2psplats' 'v2xnp_client' 'v2xps_party']\n"
     ]
    }
   ],
   "source": [
    "# Column names\n",
    "print(df.columns.values)"
   ]
  },
  {
   "cell_type": "code",
   "execution_count": 319,
   "id": "8d698913-36f0-432f-aaa9-275b83e8bcab",
   "metadata": {},
   "outputs": [
    {
     "data": {
      "text/plain": [
       "array([dtype('O'), dtype('O'), dtype('int64'), dtype('int64'),\n",
       "       dtype('int64'), dtype('int64'), dtype('O'), dtype('int64'),\n",
       "       dtype('O'), dtype('int64'), dtype('int64'), dtype('int64'),\n",
       "       dtype('int64'), dtype('int64'), dtype('float64'), dtype('float64'),\n",
       "       dtype('int64'), dtype('int64'), dtype('int64'), dtype('int64'),\n",
       "       dtype('int64'), dtype('int64'), dtype('float64'), dtype('int64'),\n",
       "       dtype('int64'), dtype('int64'), dtype('int64'), dtype('int64'),\n",
       "       dtype('float64'), dtype('float64'), dtype('int64'), dtype('int64'),\n",
       "       dtype('O'), dtype('int64'), dtype('int64'), dtype('int64'),\n",
       "       dtype('float64'), dtype('float64'), dtype('float64'),\n",
       "       dtype('int64'), dtype('int64'), dtype('int64'), dtype('int64'),\n",
       "       dtype('int64'), dtype('int64'), dtype('int64'), dtype('int64'),\n",
       "       dtype('int64'), dtype('int64'), dtype('int64'), dtype('int64'),\n",
       "       dtype('int64'), dtype('int64'), dtype('int64'), dtype('int64'),\n",
       "       dtype('int64'), dtype('int64'), dtype('int64'), dtype('int64'),\n",
       "       dtype('int64'), dtype('int64'), dtype('int64'), dtype('int64'),\n",
       "       dtype('int64'), dtype('int64'), dtype('int64'), dtype('int64'),\n",
       "       dtype('int64'), dtype('int64'), dtype('int64'), dtype('int64'),\n",
       "       dtype('int64'), dtype('int64'), dtype('int64'), dtype('int64'),\n",
       "       dtype('int64'), dtype('int64'), dtype('int64'), dtype('int64'),\n",
       "       dtype('int64'), dtype('int64'), dtype('int64'), dtype('int64'),\n",
       "       dtype('int64'), dtype('int64'), dtype('int64'), dtype('int64'),\n",
       "       dtype('int64'), dtype('int64'), dtype('int64'), dtype('int64'),\n",
       "       dtype('int64'), dtype('int64'), dtype('int64'), dtype('int64'),\n",
       "       dtype('int64'), dtype('int64'), dtype('int64'), dtype('int64'),\n",
       "       dtype('int64'), dtype('int64'), dtype('int64'), dtype('int64'),\n",
       "       dtype('int64'), dtype('int64'), dtype('int64'), dtype('int64'),\n",
       "       dtype('int64'), dtype('int64'), dtype('int64'), dtype('int64'),\n",
       "       dtype('int64'), dtype('int64'), dtype('int64'), dtype('int64'),\n",
       "       dtype('int64'), dtype('int64'), dtype('int64'), dtype('int64'),\n",
       "       dtype('int64'), dtype('int64'), dtype('int64'), dtype('int64'),\n",
       "       dtype('int64'), dtype('int64'), dtype('int64'), dtype('int64'),\n",
       "       dtype('int64'), dtype('int64'), dtype('int64'), dtype('int64'),\n",
       "       dtype('int64'), dtype('int64'), dtype('int64'), dtype('int64'),\n",
       "       dtype('int64'), dtype('int64'), dtype('int64'), dtype('int64'),\n",
       "       dtype('int64'), dtype('int64'), dtype('int64'), dtype('int64'),\n",
       "       dtype('int64'), dtype('int64'), dtype('int64'), dtype('int64'),\n",
       "       dtype('int64'), dtype('int64'), dtype('int64'), dtype('int64'),\n",
       "       dtype('int64'), dtype('int64'), dtype('int64'), dtype('int64'),\n",
       "       dtype('int64'), dtype('int64'), dtype('int64'), dtype('int64'),\n",
       "       dtype('int64'), dtype('int64'), dtype('int64'), dtype('int64'),\n",
       "       dtype('int64'), dtype('int64'), dtype('int64'), dtype('int64'),\n",
       "       dtype('int64'), dtype('int64'), dtype('int64'), dtype('int64'),\n",
       "       dtype('int64'), dtype('int64'), dtype('int64'), dtype('int64'),\n",
       "       dtype('int64'), dtype('int64'), dtype('int64'), dtype('int64'),\n",
       "       dtype('int64'), dtype('int64'), dtype('int64'), dtype('int64'),\n",
       "       dtype('int64'), dtype('int64'), dtype('int64'), dtype('int64'),\n",
       "       dtype('int64'), dtype('int64'), dtype('int64'), dtype('int64'),\n",
       "       dtype('int64'), dtype('int64'), dtype('int64'), dtype('int64'),\n",
       "       dtype('int64'), dtype('int64'), dtype('int64'), dtype('int64'),\n",
       "       dtype('int64'), dtype('int64'), dtype('int64'), dtype('int64'),\n",
       "       dtype('int64'), dtype('int64'), dtype('int64'), dtype('int64'),\n",
       "       dtype('int64'), dtype('int64'), dtype('int64'), dtype('int64'),\n",
       "       dtype('int64'), dtype('int64'), dtype('int64'), dtype('int64'),\n",
       "       dtype('int64'), dtype('int64'), dtype('int64'), dtype('int64'),\n",
       "       dtype('int64'), dtype('int64'), dtype('int64'), dtype('int64'),\n",
       "       dtype('int64'), dtype('int64'), dtype('int64'), dtype('int64'),\n",
       "       dtype('int64'), dtype('int64'), dtype('int64'), dtype('int64'),\n",
       "       dtype('int64'), dtype('int64'), dtype('int64'), dtype('int64'),\n",
       "       dtype('int64'), dtype('int64'), dtype('int64'), dtype('int64'),\n",
       "       dtype('int64'), dtype('int64'), dtype('int64'), dtype('int64'),\n",
       "       dtype('int64'), dtype('int64'), dtype('int64'), dtype('int64'),\n",
       "       dtype('int64'), dtype('int64'), dtype('int64'), dtype('int64'),\n",
       "       dtype('int64'), dtype('int64'), dtype('int64'), dtype('int64'),\n",
       "       dtype('int64'), dtype('int64'), dtype('int64'), dtype('int64'),\n",
       "       dtype('int64'), dtype('int64'), dtype('int64'), dtype('int64'),\n",
       "       dtype('int64'), dtype('int64'), dtype('int64'), dtype('int64'),\n",
       "       dtype('int64'), dtype('int64'), dtype('int64'), dtype('int64'),\n",
       "       dtype('int64'), dtype('int64'), dtype('int64'), dtype('int64'),\n",
       "       dtype('int64'), dtype('int64'), dtype('int64'), dtype('int64'),\n",
       "       dtype('int64'), dtype('int64'), dtype('int64'), dtype('int64'),\n",
       "       dtype('int64'), dtype('int64'), dtype('int64'), dtype('int64'),\n",
       "       dtype('int64'), dtype('int64'), dtype('int64'), dtype('int64'),\n",
       "       dtype('int64'), dtype('int64'), dtype('int64'), dtype('int64'),\n",
       "       dtype('int64'), dtype('int64'), dtype('int64'), dtype('int64'),\n",
       "       dtype('int64'), dtype('int64'), dtype('int64'), dtype('int64'),\n",
       "       dtype('int64'), dtype('int64'), dtype('int64'), dtype('int64'),\n",
       "       dtype('int64'), dtype('int64'), dtype('int64'), dtype('int64'),\n",
       "       dtype('int64'), dtype('int64'), dtype('int64'), dtype('int64'),\n",
       "       dtype('int64'), dtype('int64'), dtype('int64'), dtype('int64'),\n",
       "       dtype('int64'), dtype('int64'), dtype('int64'), dtype('int64'),\n",
       "       dtype('int64'), dtype('int64'), dtype('int64'), dtype('int64'),\n",
       "       dtype('int64'), dtype('int64'), dtype('int64'), dtype('int64'),\n",
       "       dtype('int64'), dtype('int64'), dtype('int64'), dtype('int64'),\n",
       "       dtype('int64'), dtype('int64'), dtype('int64'), dtype('int64'),\n",
       "       dtype('int64'), dtype('int64'), dtype('int64'), dtype('int64'),\n",
       "       dtype('int64'), dtype('int64'), dtype('int64'), dtype('O'),\n",
       "       dtype('int64'), dtype('O'), dtype('int64'), dtype('O'),\n",
       "       dtype('int64'), dtype('int64'), dtype('int64'), dtype('int64'),\n",
       "       dtype('int64'), dtype('int64'), dtype('int64'), dtype('int64'),\n",
       "       dtype('int64'), dtype('int64'), dtype('int64'), dtype('int64'),\n",
       "       dtype('int64'), dtype('int64'), dtype('int64'), dtype('int64'),\n",
       "       dtype('int64'), dtype('int64'), dtype('int64'), dtype('int64'),\n",
       "       dtype('int64'), dtype('int64'), dtype('int64'), dtype('int64'),\n",
       "       dtype('int64'), dtype('int64'), dtype('int64'), dtype('int64'),\n",
       "       dtype('int64'), dtype('int64'), dtype('int64'), dtype('int64'),\n",
       "       dtype('int64'), dtype('int64'), dtype('int64'), dtype('int64'),\n",
       "       dtype('int64'), dtype('int64'), dtype('int64'), dtype('int64'),\n",
       "       dtype('int64'), dtype('int64'), dtype('int64'), dtype('int64'),\n",
       "       dtype('int64'), dtype('int64'), dtype('int64'), dtype('int64'),\n",
       "       dtype('int64'), dtype('int64'), dtype('int64'), dtype('int64'),\n",
       "       dtype('int64'), dtype('int64'), dtype('int64'), dtype('int64'),\n",
       "       dtype('int64'), dtype('int64'), dtype('int64'), dtype('int64'),\n",
       "       dtype('int64'), dtype('int64'), dtype('int64'), dtype('int64'),\n",
       "       dtype('int64'), dtype('int64'), dtype('int64'), dtype('int64'),\n",
       "       dtype('int64'), dtype('int64'), dtype('int64'), dtype('float64'),\n",
       "       dtype('float64'), dtype('float64'), dtype('float64'),\n",
       "       dtype('float64'), dtype('float64'), dtype('float64'),\n",
       "       dtype('float64'), dtype('float64'), dtype('float64'),\n",
       "       dtype('float64'), dtype('float64'), dtype('float64'),\n",
       "       dtype('float64'), dtype('float64'), dtype('float64'),\n",
       "       dtype('float64'), dtype('float64'), dtype('float64'),\n",
       "       dtype('float64'), dtype('float64'), dtype('float64'),\n",
       "       dtype('float64'), dtype('float64'), dtype('float64'),\n",
       "       dtype('float64'), dtype('float64'), dtype('float64'),\n",
       "       dtype('float64'), dtype('float64'), dtype('float64'),\n",
       "       dtype('float64'), dtype('float64'), dtype('float64'),\n",
       "       dtype('float64'), dtype('float64'), dtype('float64'),\n",
       "       dtype('float64'), dtype('float64'), dtype('float64'),\n",
       "       dtype('float64'), dtype('float64'), dtype('float64'),\n",
       "       dtype('float64'), dtype('float64'), dtype('float64'),\n",
       "       dtype('float64'), dtype('float64'), dtype('float64'),\n",
       "       dtype('float64'), dtype('float64'), dtype('float64'),\n",
       "       dtype('float64'), dtype('float64'), dtype('float64'),\n",
       "       dtype('float64'), dtype('float64'), dtype('float64'),\n",
       "       dtype('float64'), dtype('float64'), dtype('float64'),\n",
       "       dtype('float64'), dtype('float64'), dtype('float64'),\n",
       "       dtype('float64'), dtype('float64'), dtype('float64'),\n",
       "       dtype('float64'), dtype('float64'), dtype('float64'),\n",
       "       dtype('float64'), dtype('float64'), dtype('float64'),\n",
       "       dtype('float64'), dtype('float64'), dtype('float64'),\n",
       "       dtype('float64'), dtype('float64'), dtype('float64'),\n",
       "       dtype('float64'), dtype('float64'), dtype('float64'),\n",
       "       dtype('float64'), dtype('float64'), dtype('float64'),\n",
       "       dtype('float64'), dtype('float64'), dtype('float64'),\n",
       "       dtype('float64'), dtype('float64'), dtype('float64'),\n",
       "       dtype('float64'), dtype('float64'), dtype('float64'),\n",
       "       dtype('float64'), dtype('float64'), dtype('float64'),\n",
       "       dtype('float64'), dtype('float64'), dtype('float64'),\n",
       "       dtype('float64'), dtype('float64'), dtype('float64'),\n",
       "       dtype('float64'), dtype('float64'), dtype('float64'),\n",
       "       dtype('float64'), dtype('float64'), dtype('float64'),\n",
       "       dtype('float64'), dtype('float64'), dtype('float64'),\n",
       "       dtype('float64'), dtype('float64'), dtype('float64'),\n",
       "       dtype('float64'), dtype('float64'), dtype('float64'),\n",
       "       dtype('float64'), dtype('float64'), dtype('float64'),\n",
       "       dtype('float64'), dtype('float64'), dtype('float64'),\n",
       "       dtype('float64'), dtype('float64'), dtype('float64'),\n",
       "       dtype('float64'), dtype('float64'), dtype('float64'),\n",
       "       dtype('float64'), dtype('float64'), dtype('float64'),\n",
       "       dtype('float64'), dtype('float64'), dtype('float64'),\n",
       "       dtype('float64'), dtype('float64'), dtype('float64'),\n",
       "       dtype('float64'), dtype('float64'), dtype('float64'),\n",
       "       dtype('float64'), dtype('float64'), dtype('float64'),\n",
       "       dtype('float64'), dtype('float64'), dtype('float64'),\n",
       "       dtype('float64'), dtype('float64'), dtype('float64'),\n",
       "       dtype('float64'), dtype('float64'), dtype('float64'),\n",
       "       dtype('float64'), dtype('float64'), dtype('float64'),\n",
       "       dtype('float64'), dtype('O'), dtype('O'), dtype('O'), dtype('O'),\n",
       "       dtype('float64'), dtype('float64'), dtype('float64'),\n",
       "       dtype('float64'), dtype('float64'), dtype('float64'),\n",
       "       dtype('float64'), dtype('float64'), dtype('float64'),\n",
       "       dtype('float64'), dtype('float64'), dtype('float64'),\n",
       "       dtype('float64'), dtype('float64'), dtype('float64'),\n",
       "       dtype('float64'), dtype('float64'), dtype('float64'),\n",
       "       dtype('float64'), dtype('float64'), dtype('float64'),\n",
       "       dtype('float64'), dtype('float64'), dtype('float64'),\n",
       "       dtype('float64'), dtype('float64'), dtype('float64'),\n",
       "       dtype('float64'), dtype('float64')], dtype=object)"
      ]
     },
     "execution_count": 319,
     "metadata": {},
     "output_type": "execute_result"
    }
   ],
   "source": [
    "# Column data types\n",
    "df.dtypes.values"
   ]
  },
  {
   "cell_type": "markdown",
   "id": "5cfe6878-7244-4c04-878b-7b979948559e",
   "metadata": {},
   "source": [
    "# Data Cleaning"
   ]
  },
  {
   "cell_type": "markdown",
   "id": "71f660dc-b827-4685-86ac-40fab038442c",
   "metadata": {},
   "source": [
    "### Subsetting"
   ]
  },
  {
   "cell_type": "code",
   "execution_count": 322,
   "id": "43bc3436-0548-41e5-bd35-010f43db6026",
   "metadata": {},
   "outputs": [],
   "source": [
    "# Subsetting a random sample of 500 observations \n",
    "df = df.sample(n=500)\n",
    "\n",
    "# Find index of Q1-Q290 & label (Q46)\n",
    "start_col_index = df.columns.get_loc('Q1')\n",
    "end_col_index = df.columns.get_loc('v2xps_party')\n",
    "label_index = df.columns.get_loc('Q46')\n",
    "\n",
    "# Subsetting to only columns that are Core Questions to Contextual Questinos in WVS CodeBook\n",
    "df = df.iloc[:,start_col_index:end_col_index]"
   ]
  },
  {
   "cell_type": "code",
   "execution_count": 328,
   "id": "acd48e0f-612a-4a37-af9b-2c22c12ed3b5",
   "metadata": {},
   "outputs": [
    {
     "data": {
      "text/plain": [
       "array([dtype('int64'), dtype('int64'), dtype('int64'), dtype('int64'),\n",
       "       dtype('int64'), dtype('int64'), dtype('int64'), dtype('int64'),\n",
       "       dtype('int64'), dtype('int64'), dtype('int64'), dtype('int64'),\n",
       "       dtype('int64'), dtype('int64'), dtype('int64'), dtype('int64'),\n",
       "       dtype('int64'), dtype('int64'), dtype('int64'), dtype('int64'),\n",
       "       dtype('int64'), dtype('int64'), dtype('int64'), dtype('int64'),\n",
       "       dtype('int64'), dtype('int64'), dtype('int64'), dtype('int64'),\n",
       "       dtype('int64'), dtype('int64'), dtype('int64'), dtype('int64'),\n",
       "       dtype('int64'), dtype('int64'), dtype('int64'), dtype('int64'),\n",
       "       dtype('int64'), dtype('int64'), dtype('int64'), dtype('int64'),\n",
       "       dtype('int64'), dtype('int64'), dtype('int64'), dtype('int64'),\n",
       "       dtype('int64'), dtype('int64'), dtype('int64'), dtype('int64'),\n",
       "       dtype('int64'), dtype('int64'), dtype('int64'), dtype('int64'),\n",
       "       dtype('int64'), dtype('int64'), dtype('int64'), dtype('int64'),\n",
       "       dtype('int64'), dtype('int64'), dtype('int64'), dtype('int64'),\n",
       "       dtype('int64'), dtype('int64'), dtype('int64'), dtype('int64'),\n",
       "       dtype('int64'), dtype('int64'), dtype('int64'), dtype('int64'),\n",
       "       dtype('int64'), dtype('int64'), dtype('int64'), dtype('int64'),\n",
       "       dtype('int64'), dtype('int64'), dtype('int64'), dtype('int64'),\n",
       "       dtype('int64'), dtype('int64'), dtype('int64'), dtype('int64'),\n",
       "       dtype('int64'), dtype('int64'), dtype('int64'), dtype('int64'),\n",
       "       dtype('int64'), dtype('int64'), dtype('int64'), dtype('int64'),\n",
       "       dtype('int64'), dtype('int64'), dtype('int64'), dtype('int64'),\n",
       "       dtype('int64'), dtype('int64'), dtype('int64'), dtype('int64'),\n",
       "       dtype('int64'), dtype('int64'), dtype('int64'), dtype('int64'),\n",
       "       dtype('int64'), dtype('int64'), dtype('int64'), dtype('int64'),\n",
       "       dtype('int64'), dtype('int64'), dtype('int64'), dtype('int64'),\n",
       "       dtype('int64'), dtype('int64'), dtype('int64'), dtype('int64'),\n",
       "       dtype('int64'), dtype('int64'), dtype('int64'), dtype('int64'),\n",
       "       dtype('int64'), dtype('int64'), dtype('int64'), dtype('int64'),\n",
       "       dtype('int64'), dtype('int64'), dtype('int64'), dtype('int64'),\n",
       "       dtype('int64'), dtype('int64'), dtype('int64'), dtype('int64'),\n",
       "       dtype('int64'), dtype('int64'), dtype('int64'), dtype('int64'),\n",
       "       dtype('int64'), dtype('int64'), dtype('int64'), dtype('int64'),\n",
       "       dtype('int64'), dtype('int64'), dtype('int64'), dtype('int64'),\n",
       "       dtype('int64'), dtype('int64'), dtype('int64'), dtype('int64'),\n",
       "       dtype('int64'), dtype('int64'), dtype('int64'), dtype('int64'),\n",
       "       dtype('int64'), dtype('int64'), dtype('int64'), dtype('int64'),\n",
       "       dtype('int64'), dtype('int64'), dtype('int64'), dtype('int64'),\n",
       "       dtype('int64'), dtype('int64'), dtype('int64'), dtype('int64'),\n",
       "       dtype('int64'), dtype('int64'), dtype('int64'), dtype('int64'),\n",
       "       dtype('int64'), dtype('int64'), dtype('int64'), dtype('int64'),\n",
       "       dtype('int64'), dtype('int64'), dtype('int64'), dtype('int64'),\n",
       "       dtype('int64'), dtype('int64'), dtype('int64'), dtype('int64'),\n",
       "       dtype('int64'), dtype('int64'), dtype('int64'), dtype('int64'),\n",
       "       dtype('int64'), dtype('int64'), dtype('int64'), dtype('int64'),\n",
       "       dtype('int64'), dtype('int64'), dtype('int64'), dtype('int64'),\n",
       "       dtype('int64'), dtype('int64'), dtype('int64'), dtype('int64'),\n",
       "       dtype('int64'), dtype('int64'), dtype('int64'), dtype('int64'),\n",
       "       dtype('int64'), dtype('int64'), dtype('int64'), dtype('int64'),\n",
       "       dtype('int64'), dtype('int64'), dtype('int64'), dtype('int64'),\n",
       "       dtype('int64'), dtype('int64'), dtype('int64'), dtype('int64'),\n",
       "       dtype('int64'), dtype('int64'), dtype('int64'), dtype('int64'),\n",
       "       dtype('int64'), dtype('int64'), dtype('int64'), dtype('int64'),\n",
       "       dtype('int64'), dtype('int64'), dtype('int64'), dtype('int64'),\n",
       "       dtype('int64'), dtype('int64'), dtype('int64'), dtype('int64'),\n",
       "       dtype('int64'), dtype('int64'), dtype('int64'), dtype('int64'),\n",
       "       dtype('int64'), dtype('int64'), dtype('int64'), dtype('int64'),\n",
       "       dtype('int64'), dtype('int64'), dtype('int64'), dtype('int64'),\n",
       "       dtype('int64'), dtype('int64'), dtype('int64'), dtype('int64'),\n",
       "       dtype('int64'), dtype('int64'), dtype('int64'), dtype('int64'),\n",
       "       dtype('int64'), dtype('int64'), dtype('int64'), dtype('int64'),\n",
       "       dtype('int64'), dtype('int64'), dtype('int64'), dtype('int64'),\n",
       "       dtype('int64'), dtype('int64'), dtype('int64'), dtype('int64'),\n",
       "       dtype('int64'), dtype('int64'), dtype('int64'), dtype('int64'),\n",
       "       dtype('int64'), dtype('int64'), dtype('int64'), dtype('int64'),\n",
       "       dtype('int64'), dtype('int64'), dtype('int64'), dtype('int64'),\n",
       "       dtype('int64'), dtype('int64'), dtype('int64'), dtype('int64'),\n",
       "       dtype('int64'), dtype('int64'), dtype('int64'), dtype('int64'),\n",
       "       dtype('int64'), dtype('int64'), dtype('int64'), dtype('int64'),\n",
       "       dtype('int64'), dtype('int64'), dtype('int64'), dtype('int64'),\n",
       "       dtype('int64'), dtype('int64'), dtype('int64'), dtype('int64'),\n",
       "       dtype('int64'), dtype('int64'), dtype('int64'), dtype('int64'),\n",
       "       dtype('int64'), dtype('int64'), dtype('int64'), dtype('int64'),\n",
       "       dtype('int64'), dtype('int64'), dtype('int64'), dtype('int64'),\n",
       "       dtype('int64'), dtype('int64'), dtype('int64'), dtype('int64'),\n",
       "       dtype('int64'), dtype('int64'), dtype('O'), dtype('int64'),\n",
       "       dtype('O'), dtype('int64'), dtype('O'), dtype('int64'),\n",
       "       dtype('int64'), dtype('int64'), dtype('int64'), dtype('int64'),\n",
       "       dtype('int64'), dtype('int64'), dtype('int64'), dtype('int64'),\n",
       "       dtype('int64'), dtype('int64'), dtype('int64'), dtype('int64'),\n",
       "       dtype('int64'), dtype('int64'), dtype('int64'), dtype('int64'),\n",
       "       dtype('int64'), dtype('int64'), dtype('int64'), dtype('int64'),\n",
       "       dtype('int64'), dtype('int64'), dtype('int64'), dtype('int64'),\n",
       "       dtype('int64'), dtype('int64'), dtype('int64'), dtype('int64'),\n",
       "       dtype('int64'), dtype('int64'), dtype('int64'), dtype('int64'),\n",
       "       dtype('int64'), dtype('int64'), dtype('int64'), dtype('int64'),\n",
       "       dtype('int64'), dtype('int64'), dtype('int64'), dtype('int64'),\n",
       "       dtype('int64'), dtype('int64'), dtype('int64'), dtype('int64'),\n",
       "       dtype('int64'), dtype('int64'), dtype('int64'), dtype('int64'),\n",
       "       dtype('int64'), dtype('int64'), dtype('int64'), dtype('int64'),\n",
       "       dtype('int64'), dtype('int64'), dtype('int64'), dtype('int64'),\n",
       "       dtype('int64'), dtype('int64'), dtype('int64'), dtype('int64'),\n",
       "       dtype('int64'), dtype('int64'), dtype('int64'), dtype('int64'),\n",
       "       dtype('int64'), dtype('int64'), dtype('int64'), dtype('int64'),\n",
       "       dtype('int64'), dtype('int64'), dtype('float64'), dtype('float64'),\n",
       "       dtype('float64'), dtype('float64'), dtype('float64'),\n",
       "       dtype('float64'), dtype('float64'), dtype('float64'),\n",
       "       dtype('float64'), dtype('float64'), dtype('float64'),\n",
       "       dtype('float64'), dtype('float64'), dtype('float64'),\n",
       "       dtype('float64'), dtype('float64'), dtype('float64'),\n",
       "       dtype('float64'), dtype('float64'), dtype('float64'),\n",
       "       dtype('float64'), dtype('float64'), dtype('float64'),\n",
       "       dtype('float64'), dtype('float64'), dtype('float64'),\n",
       "       dtype('float64'), dtype('float64'), dtype('float64'),\n",
       "       dtype('float64'), dtype('float64'), dtype('float64'),\n",
       "       dtype('float64'), dtype('float64'), dtype('float64'),\n",
       "       dtype('float64'), dtype('float64'), dtype('float64'),\n",
       "       dtype('float64'), dtype('float64'), dtype('float64'),\n",
       "       dtype('float64'), dtype('float64'), dtype('float64'),\n",
       "       dtype('float64'), dtype('float64'), dtype('float64'),\n",
       "       dtype('float64'), dtype('float64'), dtype('float64'),\n",
       "       dtype('float64'), dtype('float64'), dtype('float64'),\n",
       "       dtype('float64'), dtype('float64'), dtype('float64'),\n",
       "       dtype('float64'), dtype('float64'), dtype('float64'),\n",
       "       dtype('float64'), dtype('float64'), dtype('float64'),\n",
       "       dtype('float64'), dtype('float64'), dtype('float64'),\n",
       "       dtype('float64'), dtype('float64'), dtype('float64'),\n",
       "       dtype('float64'), dtype('float64'), dtype('float64'),\n",
       "       dtype('float64'), dtype('float64'), dtype('float64'),\n",
       "       dtype('float64'), dtype('float64'), dtype('float64'),\n",
       "       dtype('float64'), dtype('float64'), dtype('float64'),\n",
       "       dtype('float64'), dtype('float64'), dtype('float64'),\n",
       "       dtype('float64'), dtype('float64'), dtype('float64'),\n",
       "       dtype('float64'), dtype('float64'), dtype('float64'),\n",
       "       dtype('float64'), dtype('float64'), dtype('float64'),\n",
       "       dtype('float64'), dtype('float64'), dtype('float64'),\n",
       "       dtype('float64'), dtype('float64'), dtype('float64'),\n",
       "       dtype('float64'), dtype('float64'), dtype('float64'),\n",
       "       dtype('float64'), dtype('float64'), dtype('float64'),\n",
       "       dtype('float64'), dtype('float64'), dtype('float64'),\n",
       "       dtype('float64'), dtype('float64'), dtype('float64'),\n",
       "       dtype('float64'), dtype('float64'), dtype('float64'),\n",
       "       dtype('float64'), dtype('float64'), dtype('float64'),\n",
       "       dtype('float64'), dtype('float64'), dtype('float64'),\n",
       "       dtype('float64'), dtype('float64'), dtype('float64'),\n",
       "       dtype('float64'), dtype('float64'), dtype('float64'),\n",
       "       dtype('float64'), dtype('float64'), dtype('float64'),\n",
       "       dtype('float64'), dtype('float64'), dtype('float64'),\n",
       "       dtype('float64'), dtype('float64'), dtype('float64'),\n",
       "       dtype('float64'), dtype('float64'), dtype('float64'),\n",
       "       dtype('float64'), dtype('float64'), dtype('float64'),\n",
       "       dtype('float64'), dtype('float64'), dtype('float64'),\n",
       "       dtype('float64'), dtype('float64'), dtype('float64'),\n",
       "       dtype('float64'), dtype('float64'), dtype('float64'),\n",
       "       dtype('float64'), dtype('float64'), dtype('float64'),\n",
       "       dtype('float64'), dtype('float64'), dtype('float64'),\n",
       "       dtype('float64'), dtype('float64'), dtype('float64'), dtype('O'),\n",
       "       dtype('O'), dtype('O'), dtype('O'), dtype('float64'),\n",
       "       dtype('float64'), dtype('float64'), dtype('float64'),\n",
       "       dtype('float64'), dtype('float64'), dtype('float64'),\n",
       "       dtype('float64'), dtype('float64'), dtype('float64'),\n",
       "       dtype('float64'), dtype('float64'), dtype('float64'),\n",
       "       dtype('float64'), dtype('float64'), dtype('float64'),\n",
       "       dtype('float64'), dtype('float64'), dtype('float64'),\n",
       "       dtype('float64'), dtype('float64'), dtype('float64'),\n",
       "       dtype('float64'), dtype('float64'), dtype('float64'),\n",
       "       dtype('float64'), dtype('float64'), dtype('float64')], dtype=object)"
      ]
     },
     "execution_count": 328,
     "metadata": {},
     "output_type": "execute_result"
    }
   ],
   "source": [
    "# Column data types\n",
    "df.dtypes.values"
   ]
  },
  {
   "cell_type": "markdown",
   "id": "bdb05d99-a399-43e7-8b0c-b066ad9a4cd7",
   "metadata": {},
   "source": [
    "### Changing classes"
   ]
  },
  {
   "cell_type": "code",
   "execution_count": 256,
   "id": "fd1f46bd-0059-4151-a854-690f73c0c38f",
   "metadata": {},
   "outputs": [
    {
     "name": "stdout",
     "output_type": "stream",
     "text": [
      "[ 1  2  3  4 -2 -1 -5]\n",
      "[ 1  2  3  4 -1 -2 -5]\n"
     ]
    },
    {
     "name": "stderr",
     "output_type": "stream",
     "text": [
      "C:\\Users\\aceme\\AppData\\Local\\Temp\\ipykernel_31268\\1976727575.py:23: FutureWarning: DataFrame.applymap has been deprecated. Use DataFrame.map instead.\n",
      "  df.iloc[:,start_col_index:end_col_index] = df.iloc[:,start_col_index:end_col_index].applymap(map_binary_values)\n"
     ]
    },
    {
     "name": "stdout",
     "output_type": "stream",
     "text": [
      "[ 1.  2.  3.  4. nan]\n",
      "[ 1.  0. nan]\n"
     ]
    }
   ],
   "source": [
    "# Checking classes of Q1 & Q46\n",
    "print(df.Q1.unique())\n",
    "print(df.Q46.unique())\n",
    "\n",
    "# Define the mapping for missing values\n",
    "value_mapping = {\n",
    "    -1: np.nan,\n",
    "    -2: np.nan,\n",
    "    -4: np.nan,\n",
    "    -5: np.nan,\n",
    "    -999.0: np.nan,\n",
    "    -9999.0: np.nan\n",
    "}\n",
    "\n",
    "# Function to apply the mapping\n",
    "def map_binary_values(x):\n",
    "    return value_mapping.get(x, x)\n",
    "\n",
    "# Apply the mapping only to the specified columns\n",
    "df.iloc[:,start_col_index:end_col_index] = df.iloc[:,start_col_index:end_col_index].applymap(map_binary_values)\n",
    "\n",
    "# Define the mapping for missing values\n",
    "Q46_value_mapping = {\n",
    "     1: 1,\n",
    "     2: 1,\n",
    "     3: 0,\n",
    "     4: 0,\n",
    "}\n",
    "\n",
    "# Function to apply the mapping\n",
    "def map_Q46_values(x):\n",
    "    return Q46_value_mapping.get(x, x)\n",
    "\n",
    "# Apply the mapping only to the specified column Q46\n",
    "df.iloc[:,label_index] = df.iloc[:,label_index].map(map_Q46_values)\n",
    "\n",
    "# Re-checking classes of Q1 & Q46\n",
    "print(df.Q1.unique())\n",
    "print(df.Q46.unique())"
   ]
  },
  {
   "cell_type": "markdown",
   "id": "cf6fde75-8c8d-4301-9751-ca503fbe76c6",
   "metadata": {},
   "source": [
    "### Dropping columns and NAs"
   ]
  },
  {
   "cell_type": "code",
   "execution_count": 258,
   "id": "21667931-b65d-4288-8ff0-ba7ace88c5b9",
   "metadata": {},
   "outputs": [
    {
     "name": "stdout",
     "output_type": "stream",
     "text": [
      "0\n"
     ]
    }
   ],
   "source": [
    "# Dropping columns that confuse XGBoost\n",
    "df = df.drop(columns=['X002_02B', 'V002A_01', 'V001A_01'])\n",
    "\n",
    "# Drop rows where 'Q46' has NaN values\n",
    "df = df.dropna(subset=['Q46'])\n",
    "\n",
    "# Checking if it works\n",
    "print(df['Q46'].isna().sum())"
   ]
  },
  {
   "cell_type": "markdown",
   "id": "2a7e748f-7478-450b-9e5e-ade923208d4c",
   "metadata": {},
   "source": [
    "# Data Exploration"
   ]
  },
  {
   "cell_type": "code",
   "execution_count": 261,
   "id": "f33dff47-fd32-416d-b84c-1be2519e9d57",
   "metadata": {},
   "outputs": [
    {
     "data": {
      "image/png": "[encoded data removed]",
      "text/plain": [
       "<Figure size 640x480 with 1 Axes>"
      ]
     },
     "metadata": {},
     "output_type": "display_data"
    }
   ],
   "source": [
    "# Create a random number generator with a fixed seed for reproducibility\n",
    "n_bins = 20\n",
    "\n",
    "fig, axs = plt.subplots()\n",
    "\n",
    "# We can set the number of bins with the *bins* keyword argument.\n",
    "axs.hist(df['Q46'], bins=n_bins)\n",
    "\n",
    "plt.show()"
   ]
  },
  {
   "cell_type": "code",
   "execution_count": 263,
   "id": "248b6012-ee33-4c57-b900-b395a381073d",
   "metadata": {},
   "outputs": [
    {
     "name": "stdout",
     "output_type": "stream",
     "text": [
      "84.93\n",
      "-9999.0\n"
     ]
    },
    {
     "data": {
      "image/png": "[encoded data removed]",
      "text/plain": [
       "<Figure size 640x480 with 1 Axes>"
      ]
     },
     "metadata": {},
     "output_type": "display_data"
    }
   ],
   "source": [
    "# Reviewing lifeexpect variable\n",
    "print(df['lifeexpect'].max())\n",
    "print(df['lifeexpect'].min())\n",
    "\n",
    "# Histogram of Life Expectancy\n",
    "n_bins = 20\n",
    "\n",
    "fig, axs = plt.subplots()\n",
    "\n",
    "# We can set the number of bins with the *bins* keyword argument.\n",
    "axs.hist(df['lifeexpect'], bins=n_bins)\n",
    "\n",
    "plt.show()"
   ]
  },
  {
   "cell_type": "markdown",
   "id": "6a3ba4fb-8c7e-43d4-a522-84548e8df93e",
   "metadata": {},
   "source": [
    "# Classifier: XGBoost"
   ]
  },
  {
   "cell_type": "code",
   "execution_count": 156,
   "id": "2550e66a-4300-4d94-9234-c84b08527b85",
   "metadata": {},
   "outputs": [
    {
     "name": "stdout",
     "output_type": "stream",
     "text": [
      "Requirement already satisfied: xgboost in c:\\users\\aceme\\anaconda3\\lib\\site-packages (2.0.3)\n",
      "Requirement already satisfied: numpy in c:\\users\\aceme\\anaconda3\\lib\\site-packages (from xgboost) (1.26.4)\n",
      "Requirement already satisfied: scipy in c:\\users\\aceme\\anaconda3\\lib\\site-packages (from xgboost) (1.11.4)\n"
     ]
    }
   ],
   "source": [
    "# First, put this prompt: \"conda install -c conda-forge py-xgboost\" in anaconda to download xgboost package\n",
    "# install xgboost in jupyter\n",
    "!pip install xgboost"
   ]
  },
  {
   "cell_type": "code",
   "execution_count": 273,
   "id": "f07557d0-9960-402a-ba53-13f732fa915e",
   "metadata": {},
   "outputs": [
    {
     "name": "stdout",
     "output_type": "stream",
     "text": [
      "Accuracy: 1.0\n"
     ]
    },
    {
     "data": {
      "text/plain": [
       "1.0"
      ]
     },
     "execution_count": 273,
     "metadata": {},
     "output_type": "execute_result"
    }
   ],
   "source": [
    "##################################### Classifier: XGBOOST #####################################\n",
    "\n",
    "# Find index of Q1-Q290 & label (Q46)\n",
    "start_col_index = df.columns.get_loc('Q1')\n",
    "end_col_index = df.columns.get_loc('Q290')\n",
    "label_index = df.columns.get_loc('Q46')\n",
    "\n",
    "# Split dataset into X_train and y_train\n",
    "X_train, X_test, y_train, y_test = train_test_split(df.iloc[:,start_col_index:end_col_index], df.iloc[:,label_index], test_size=0.2, random_state=52)\n",
    "\n",
    "# create model instance\n",
    "# n_estimators: number of trees(estimators) the model uses --> the more used, the more accurate the model is\n",
    "# max_depth: maximum depth of tree --> higher number makes model more complex, but too high can cause overfitting\n",
    "# learning_rate: quantifies each tree's contribution to total prediction --> lower number takes longer, but can lead to better generalization\n",
    "# objective: binary:logistic outputs probabilities. if classification is wanted, use binary:hinge\n",
    "bst = XGBClassifier(n_estimators=2, max_depth=2, learning_rate=1, objective='binary:logistic', enable_categorical=True)\n",
    "\n",
    "# fit model with the training data\n",
    "bst.fit(X_train, y_train)\n",
    "\n",
    "# make predictions for the test dataset\n",
    "preds = bst.predict(X_test)\n",
    "\n",
    "# print predictions\n",
    "# print(preds)\n",
    "\n",
    "# print model Accuracy (how often the classifier is correct)\n",
    "print(\"Accuracy:\",skm.accuracy_score(y_test, preds))\n",
    "\n",
    "# Assign the accuracy directly to array\n",
    "skm.f1_score(y_test, preds)  \n"
   ]
  },
  {
   "cell_type": "code",
   "execution_count": null,
   "id": "c4c1b794-69a1-433a-8d76-26ce2bb50ef2",
   "metadata": {},
   "outputs": [],
   "source": []
  }
 ],
 "metadata": {
  "kernelspec": {
   "display_name": "Python 3 (ipykernel)",
   "language": "python",
   "name": "python3"
  },
  "language_info": {
   "codemirror_mode": {
    "name": "ipython",
    "version": 3
   },
   "file_extension": ".py",
   "mimetype": "text/x-python",
   "name": "python",
   "nbconvert_exporter": "python",
   "pygments_lexer": "ipython3",
   "version": "3.11.7"
  }
 },
 "nbformat": 4,
 "nbformat_minor": 5
}
