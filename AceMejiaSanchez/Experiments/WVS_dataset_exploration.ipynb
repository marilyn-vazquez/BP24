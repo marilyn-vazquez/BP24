{
 "cells": [
  {
   "cell_type": "markdown",
   "id": "143f7cc5-94eb-43d5-a151-16c4fbe32e18",
   "metadata": {},
   "source": [
    "# To Do:\n",
    "- subset wvs dataset down to 250 columns randomly and run all classifiers again"
   ]
  },
  {
   "cell_type": "markdown",
   "id": "6a08fd3b-8eee-4518-bcae-5ac763dd452a",
   "metadata": {},
   "source": [
    "- "
   ]
  },
  {
   "cell_type": "markdown",
   "id": "e647b6fc-bc3d-47ab-9cae-ea7fb74f85ef",
   "metadata": {},
   "source": [
    "# Import packages"
   ]
  },
  {
   "cell_type": "code",
   "execution_count": 4,
   "id": "cfb7a264-ec1f-478e-802d-c2762b1fd474",
   "metadata": {},
   "outputs": [],
   "source": [
    "from xgboost import XGBClassifier\n",
    "from sklearn.model_selection import train_test_split\n",
    "from sklearn import metrics\n",
    "import numpy as np\n",
    "from sklearn import datasets\n",
    "from sklearn.neighbors import KNeighborsClassifier\n",
    "import pandas as pd\n",
    "from sklearn import svm\n",
    "import matplotlib.pyplot as plt\n",
    "from sklearn.tree import DecisionTreeClassifier\n",
    "from sklearn.metrics import accuracy_score\n",
    "from sklearn.linear_model import LinearRegression, LogisticRegression\n",
    "from sklearn.svm import SVC\n",
    "from sklearn.feature_selection import SelectKBest\n",
    "from sklearn.feature_selection import chi2\n",
    "import random"
   ]
  },
  {
   "cell_type": "markdown",
   "id": "39f49205-d75a-4a1b-a69d-dcd44e8d2d43",
   "metadata": {},
   "source": [
    "# Data Exploration"
   ]
  },
  {
   "cell_type": "code",
   "execution_count": 96,
   "id": "f82fcd0e-e5fd-4a41-a55f-89f461c25280",
   "metadata": {},
   "outputs": [
    {
     "name": "stderr",
     "output_type": "stream",
     "text": [
      "C:\\Users\\aceme\\AppData\\Local\\Temp\\ipykernel_30792\\3996359589.py:1: DtypeWarning: Columns (346,348,350,580,581,582,583) have mixed types. Specify dtype option on import or set low_memory=False.\n",
      "  df = pd.read_csv(\"C:/Users/aceme/OneDrive/Documents/SIAM Simons Summer Opportunity/Datasets/WVS_Cross-National_Wave_7_csv_v6_0.csv\")\n"
     ]
    }
   ],
   "source": [
    "df = pd.read_csv(\"C:/Users/aceme/OneDrive/Documents/SIAM Simons Summer Opportunity/Datasets/WVS_Cross-National_Wave_7_csv_v6_0.csv\")"
   ]
  },
  {
   "cell_type": "code",
   "execution_count": 97,
   "id": "02d27d96-4c43-451c-a0e2-0653eb92677f",
   "metadata": {},
   "outputs": [
    {
     "data": {
      "text/plain": [
       "(97220, 613)"
      ]
     },
     "execution_count": 97,
     "metadata": {},
     "output_type": "execute_result"
    }
   ],
   "source": [
    "df.head()\n",
    "df.shape"
   ]
  },
  {
   "cell_type": "code",
   "execution_count": 98,
   "id": "fce9c1fa-6db4-4a91-a478-061e7d1e0b9a",
   "metadata": {},
   "outputs": [
    {
     "name": "stdout",
     "output_type": "stream",
     "text": [
      "['version' 'doi' 'A_WAVE' 'A_YEAR' 'A_STUDY' 'B_COUNTRY' 'B_COUNTRY_ALPHA'\n",
      " 'C_COW_NUM' 'C_COW_ALPHA' 'D_INTERVIEW' 'S007' 'J_INTDATE' 'FW_START'\n",
      " 'FW_END' 'K_TIME_START' 'K_TIME_END' 'K_DURATION' 'Q_MODE' 'N_REGION_ISO'\n",
      " 'N_REGION_WVS' 'N_REGION_NUTS2' 'N_REG_NUTS1' 'N_TOWN' 'G_TOWNSIZE'\n",
      " 'G_TOWNSIZE2' 'H_SETTLEMENT' 'H_URBRURAL' 'I_PSU' 'O1_LONGITUDE'\n",
      " 'O2_LATITUDE' 'L_INTERVIEWER_NUMBER' 'S_INTLANGUAGE' 'LNGE_ISO'\n",
      " 'E_RESPINT' 'F_INTPRIVACY' 'E1_LITERACY' 'W_WEIGHT' 'S018' 'PWGHT' 'S025'\n",
      " 'Q1' 'Q2' 'Q3' 'Q4' 'Q5' 'Q6' 'Q7' 'Q8' 'Q9' 'Q10' 'Q11' 'Q12' 'Q13'\n",
      " 'Q14' 'Q15' 'Q16' 'Q17' 'Q18' 'Q19' 'Q20' 'Q21' 'Q22' 'Q23' 'Q24' 'Q25'\n",
      " 'Q26' 'Q27' 'Q28' 'Q29' 'Q30' 'Q31' 'Q32' 'Q33' 'Q33_3' 'Q34' 'Q34_3'\n",
      " 'Q35' 'Q35_3' 'Q36' 'Q37' 'Q38' 'Q39' 'Q40' 'Q41' 'Q42' 'Q43' 'Q44' 'Q45'\n",
      " 'Q46' 'Q47' 'Q48' 'Q49' 'Q50' 'Q51' 'Q52' 'Q53' 'Q54' 'Q55' 'Q56' 'Q57'\n",
      " 'Q58' 'Q59' 'Q60' 'Q61' 'Q62' 'Q63' 'Q64' 'Q65' 'Q66' 'Q67' 'Q68' 'Q69'\n",
      " 'Q70' 'Q71' 'Q72' 'Q73' 'Q74' 'Q75' 'Q76' 'Q77' 'Q78' 'Q79' 'Q80' 'Q81'\n",
      " 'Q82' 'Q82_AFRICANUNION' 'Q82_APEC' 'Q82_ARABLEAGUE' 'Q82_ASEAN'\n",
      " 'Q82_CIS' 'Q82_CUSMA' 'Q82_ECO' 'Q82_EU' 'Q82_GULFCOOP' 'Q82_ISLCOOP'\n",
      " 'Q82_MERCOSUR' 'Q82_NAFTA' 'Q82_OAS' 'Q82_SAARC' 'Q82_SCO' 'Q82_TLC'\n",
      " 'Q82_UNDP' 'Q83' 'Q84' 'Q85' 'Q86' 'Q87' 'Q88' 'Q89' 'Q90' 'Q91' 'Q92'\n",
      " 'Q93' 'Q94' 'Q94R' 'Q95' 'Q95R' 'Q96' 'Q96R' 'Q97' 'Q97R' 'Q98' 'Q98R'\n",
      " 'Q99' 'Q99R' 'Q100' 'Q100R' 'Q101' 'Q101R' 'Q102' 'Q102R' 'Q103' 'Q103R'\n",
      " 'Q104' 'Q104R' 'Q105' 'Q105R' 'Q106' 'Q107' 'Q108' 'Q109' 'Q110' 'Q111'\n",
      " 'Q112' 'Q113' 'Q114' 'Q115' 'Q116' 'Q117' 'Q118' 'Q119' 'Q120' 'Q121'\n",
      " 'Q122' 'Q123' 'Q124' 'Q125' 'Q126' 'Q127' 'Q128' 'Q129' 'Q130' 'Q131'\n",
      " 'Q132' 'Q133' 'Q134' 'Q135' 'Q136' 'Q137' 'Q138' 'Q139' 'Q140' 'Q141'\n",
      " 'Q142' 'Q143' 'Q144' 'Q145' 'Q146' 'Q147' 'Q148' 'Q149' 'Q150' 'Q151'\n",
      " 'Q152' 'Q153' 'Q154' 'Q155' 'Q156' 'Q157' 'Q158' 'Q159' 'Q160' 'Q161'\n",
      " 'Q162' 'Q163' 'Q164' 'Q165' 'Q166' 'Q167' 'Q168' 'Q169' 'Q170' 'Q171'\n",
      " 'Q172' 'Q172R' 'Q173' 'Q174' 'Q175' 'Q176' 'Q177' 'Q178' 'Q179' 'Q180'\n",
      " 'Q181' 'Q182' 'Q183' 'Q184' 'Q185' 'Q186' 'Q187' 'Q188' 'Q189' 'Q190'\n",
      " 'Q191' 'Q192' 'Q193' 'Q194' 'Q195' 'Q196' 'Q197' 'Q198' 'Q199' 'Q200'\n",
      " 'Q201' 'Q202' 'Q203' 'Q204' 'Q205' 'Q206' 'Q207' 'Q208' 'Q209' 'Q210'\n",
      " 'Q211' 'Q212' 'Q213' 'Q214' 'Q215' 'Q216' 'Q217' 'Q218' 'Q219' 'Q220'\n",
      " 'Q221' 'Q222' 'Q223' 'Q223_ABREV' 'Q223_LOCAL' 'Q224' 'Q225' 'Q226'\n",
      " 'Q227' 'Q228' 'Q229' 'Q230' 'Q231' 'Q232' 'Q233' 'Q234' 'Q234A' 'Q235'\n",
      " 'Q236' 'Q237' 'Q238' 'Q239' 'Q240' 'Q241' 'Q242' 'Q243' 'Q244' 'Q245'\n",
      " 'Q246' 'Q247' 'Q248' 'Q249' 'Q250' 'Q251' 'Q252' 'Q253' 'Q254' 'Q255'\n",
      " 'Q256' 'Q257' 'Q258' 'Q259' 'Q260' 'Q261' 'Q262' 'X003R' 'X003R2' 'Q263'\n",
      " 'Q264' 'V002' 'Q265' 'V001' 'Q266' 'X002_02B' 'Q267' 'V002A_01' 'Q268'\n",
      " 'V001A_01' 'Q269' 'Q270' 'Q271' 'Q272' 'Q273' 'Q274' 'Q275' 'Q275A'\n",
      " 'Q275R' 'Q276' 'Q276A' 'Q276R' 'Q277' 'Q277A' 'Q277R' 'Q278' 'Q278A'\n",
      " 'Q278R' 'Q279' 'Q280' 'Q281' 'Q282' 'Q283' 'Q284' 'Q285' 'Q286' 'Q287'\n",
      " 'Q288' 'Q288R' 'Q289' 'Q289CS9' 'Q290' 'Q291G1' 'Q291G2' 'Q291G3'\n",
      " 'Q291G4' 'Q291G5' 'Q291G6' 'Q291P1' 'Q291P2' 'Q291P3' 'Q291P4' 'Q291P5'\n",
      " 'Q291P6' 'Q291UN1' 'Q291UN2' 'Q291UN3' 'Q291UN4' 'Q291UN5' 'Q291UN6'\n",
      " 'Q292A' 'Q292B' 'Q292C' 'Q292D' 'Q292E' 'Q292F' 'Q292G' 'Q292H' 'Q292I'\n",
      " 'Q292J' 'Q292K' 'Q292L' 'Q292M' 'Q292N' 'Q292O' 'Q293' 'Q294A' 'Q294B'\n",
      " 'Y001' 'Y002' 'Y003' 'SACSECVAL' 'RESEMAVAL' 'I_AUTHORITY'\n",
      " 'I_NATIONALISM' 'I_DEVOUT' 'DEFIANCE' 'I_RELIGIMP' 'I_RELIGBEL'\n",
      " 'I_RELIGPRAC' 'DISBELIEF' 'I_NORM1' 'I_NORM2' 'I_NORM3' 'RELATIVISM'\n",
      " 'I_TRUSTARMY' 'I_TRUSTPOLICE' 'I_TRUSTCOURTS' 'SCEPTICISM' 'I_INDEP'\n",
      " 'I_IMAGIN' 'I_NONOBED' 'AUTONOMY' 'I_WOMJOB' 'I_WOMPOL' 'I_WOMEDU'\n",
      " 'EQUALITY' 'I_HOMOLIB' 'I_ABORTLIB' 'I_DIVORLIB' 'CHOICE' 'I_VOICE1'\n",
      " 'I_VOICE2' 'I_VOI2_00' 'VOICE' 'SECVALWGT' 'RESEMAVALWGT' 'fhregion'\n",
      " 'polregfh' 'freestfh' 'prfhrat' 'prfhscore' 'clfhrat' 'clfhscore' 'democ'\n",
      " 'autoc' 'polity' 'durable' 'regtype' 'ruleoflaw' 'corrupttransp'\n",
      " 'electintegr' 'btiregion' 'btistatus' 'btidemstatus' 'btistate'\n",
      " 'btipolpart' 'btiruleoflaw' 'btistability' 'btiintegration' 'btimarket'\n",
      " 'btigovindex' 'btigoveperform' 'btiregime' 'regionWB' 'incomeWB' 'landWB'\n",
      " 'GDPpercap1' 'GDPpercap2' 'giniWB' 'incrichest10p' 'popWB1990'\n",
      " 'popWB2000' 'popWB2019' 'lifeexpect' 'popgrowth' 'urbanpop' 'laborforce'\n",
      " 'deathrate' 'unemployfem' 'unemploymale' 'unemploytotal' 'accessclfuel'\n",
      " 'accesselectr' 'renewelectr' 'co2emis' 'co2percap' 'easeofbusiness'\n",
      " 'militaryexp' 'Trade' 'healthexp' 'educationexp' 'medageun'\n",
      " 'meanschooling' 'educationHDI' 'compulseduc' 'GII' 'DGI' 'womenparl'\n",
      " 'hdi' 'incomeindexHDI' 'humanineqiality' 'lifeexpectHDI' 'homiciderate'\n",
      " 'Refugeesorigin' 'internetusers' 'mobphone' 'migrationrate' 'schoolgpi'\n",
      " 'femchoutsch' 'choutsch' 'v2x_polyarchy' 'v2x_libdem' 'v2x_partipdem'\n",
      " 'v2x_delibdem' 'v2x_egaldem' 'v2x_freexp_altinf' 'v2x_frassoc_thick'\n",
      " 'v2xel_frefair' 'v2xcl_rol' 'v2x_cspart' 'v2xeg_eqdr' 'v2excrptps'\n",
      " 'v2exthftps' 'v2juaccnt' 'v2cltrnslw' 'v2clacjust' 'v2clsocgrp'\n",
      " 'v2clacfree' 'v2clrelig' 'v2csrlgrep' 'v2mecenefm' 'v2mecenefi'\n",
      " 'v2mebias' 'v2pepwrses' 'v2pepwrgen' 'v2peedueq' 'v2pehealth'\n",
      " 'v2peapsecon' 'v2peasjsoecon' 'v2clgencl' 'v2peasjgen' 'v2peasbgen'\n",
      " 'v2cafres' 'v2cafexch' 'v2x_corr' 'v2x_gender' 'v2x_gencl' 'v2x_genpp'\n",
      " 'v2x_rule' 'v2xcl_acjst' 'td_voiacc' 'td_polstab' 'td_goveff'\n",
      " 'td_regqual' 'td_rulelaw' 'td_ctrlcorr' 'ID_GPS' 'ID_PartyFacts'\n",
      " 'Partyname' 'Partyabb' 'CPARTY' 'CPARTYABB' 'Type_Values' 'Type_Populism'\n",
      " 'Type_Populist_Values' 'Type_Partysize_vote' 'Type_Partysize_seat'\n",
      " 'GPS_V4_Scale' 'GPS_V6_Scale' 'GPS_V8_Scale' 'GPS_V9' 'GPS_V10' 'GPS_V11'\n",
      " 'GPS_V12' 'GPS_V13' 'GPS_V14' 'GPS_V15' 'GPS_V16' 'GPS_V17'\n",
      " 'WVS_LR_PartyVoter' 'WVS_LibCon_PartyVoter' 'WVS_Polmistrust_PartyVoter'\n",
      " 'WVS_LR_MedianVoter' 'WVS_LibCon_MedianVoter' 'v2psbars' 'v2psorgs'\n",
      " 'v2psprbrch' 'v2psprlnks' 'v2psplats' 'v2xnp_client' 'v2xps_party']\n"
     ]
    }
   ],
   "source": [
    "# Column names\n",
    "print(df.columns.values)"
   ]
  },
  {
   "cell_type": "markdown",
   "id": "5cfe6878-7244-4c04-878b-7b979948559e",
   "metadata": {},
   "source": [
    "# Data Cleaning"
   ]
  },
  {
   "cell_type": "markdown",
   "id": "71f660dc-b827-4685-86ac-40fab038442c",
   "metadata": {},
   "source": [
    "### Subsetting"
   ]
  },
  {
   "cell_type": "code",
   "execution_count": 101,
   "id": "43bc3436-0548-41e5-bd35-010f43db6026",
   "metadata": {},
   "outputs": [],
   "source": [
    "# Subsetting a random sample of 500 observations \n",
    "# df = df.sample(n=500)\n",
    "\n",
    "# Find index of Q1 to last column & label (Q46)\n",
    "start_col_index = df.columns.get_loc('Q1')\n",
    "label_index = df.columns.get_loc('Q46')\n",
    "\n",
    "# Subsetting to only columns that are Core Questions to Contextual Questinos in WVS CodeBook\n",
    "df = df.iloc[:,start_col_index:-1]"
   ]
  },
  {
   "cell_type": "code",
   "execution_count": 102,
   "id": "acd48e0f-612a-4a37-af9b-2c22c12ed3b5",
   "metadata": {},
   "outputs": [],
   "source": [
    "# Column data types\n",
    "# df.dtypes.values"
   ]
  },
  {
   "cell_type": "markdown",
   "id": "bdb05d99-a399-43e7-8b0c-b066ad9a4cd7",
   "metadata": {},
   "source": [
    "### Changing classes for all columns\n",
    "##### + Drop string columns (NOT DONE TO DO)\n",
    "##### + Any negative values become NaNs \n",
    "##### + Q46 changes from multi-class to binary variable"
   ]
  },
  {
   "cell_type": "code",
   "execution_count": 104,
   "id": "11a64b18-ce7c-44c3-8188-6457c5fd89ab",
   "metadata": {},
   "outputs": [],
   "source": [
    "# Finding columns that are strings\n",
    "string_vars = df.select_dtypes(include=['object'])\n",
    "string_vars.columns\n",
    "\n",
    "# Dropping columns that are strings/objects, these seem to be country-specific variables\n",
    "df = df.drop(columns=['X002_02B', 'V002A_01', 'V001A_01', 'Partyname', 'Partyabb', 'CPARTY',\n",
    "       'CPARTYABB'])"
   ]
  },
  {
   "cell_type": "code",
   "execution_count": 105,
   "id": "fd1f46bd-0059-4151-a854-690f73c0c38f",
   "metadata": {},
   "outputs": [
    {
     "name": "stderr",
     "output_type": "stream",
     "text": [
      "C:\\Users\\aceme\\AppData\\Local\\Temp\\ipykernel_30792\\3172334349.py:24: FutureWarning: DataFrame.applymap has been deprecated. Use DataFrame.map instead.\n",
      "  df.iloc[:,start_col_index:-1] = df.iloc[:,start_col_index:-1].applymap(map_binary_values)\n"
     ]
    },
    {
     "name": "stdout",
     "output_type": "stream",
     "text": [
      "Old Classes: \n",
      " [ 1  2  3  4 -2 -1 -5] [ 1  2  3  4 -1 -2 -5]\n",
      "New Classes: \n",
      " [ 1.  2.  3.  4. nan] [ 1.  0. nan]\n"
     ]
    }
   ],
   "source": [
    "# Find index of Q1-Q290 & label (Q46)\n",
    "start_col_index = df.columns.get_loc('Q1')\n",
    "label_index = df.columns.get_loc('Q46')\n",
    "\n",
    "# Checking classes of Q1 & Q46\n",
    "old_q1 = df.Q1.unique()\n",
    "old_q46 = df.Q46.unique()\n",
    "\n",
    "# Define the mapping for missing values\n",
    "value_mapping = {\n",
    "    -1: np.nan,\n",
    "    -2: np.nan,\n",
    "    -4: np.nan,\n",
    "    -5: np.nan,\n",
    "    -999.0: np.nan,\n",
    "    -9999.0: np.nan\n",
    "}\n",
    "\n",
    "# Function to apply the mapping\n",
    "def map_binary_values(x):\n",
    "    return value_mapping.get(x, x)\n",
    "\n",
    "# Apply the mapping only to the specified columns\n",
    "df.iloc[:,start_col_index:-1] = df.iloc[:,start_col_index:-1].applymap(map_binary_values)\n",
    "\n",
    "# Define the mapping for missing values\n",
    "Q46_value_mapping = {\n",
    "     1: 1,\n",
    "     2: 1,\n",
    "     3: 0,\n",
    "     4: 0,\n",
    "}\n",
    "\n",
    "# # Function to apply the mapping\n",
    "def map_Q46_values(x):\n",
    "    return Q46_value_mapping.get(x, x)\n",
    "\n",
    "# # Apply the mapping only to the specified column Q46\n",
    "df.iloc[:,label_index] = df.iloc[:,label_index].map(map_Q46_values)\n",
    "\n",
    "# Re-checking classes of Q1 & Q46\n",
    "new_q1 = df.Q1.unique()\n",
    "new_q46 = df.Q46.unique()\n",
    "\n",
    "print(\"Old Classes: \\n\", old_q1, old_q46)\n",
    "print(\"New Classes: \\n\", new_q1, new_q46)"
   ]
  },
  {
   "cell_type": "markdown",
   "id": "cf6fde75-8c8d-4301-9751-ca503fbe76c6",
   "metadata": {},
   "source": [
    "### Dropping rows where Q46 is NaNs"
   ]
  },
  {
   "cell_type": "code",
   "execution_count": 107,
   "id": "21667931-b65d-4288-8ff0-ba7ace88c5b9",
   "metadata": {},
   "outputs": [
    {
     "name": "stdout",
     "output_type": "stream",
     "text": [
      "0\n"
     ]
    }
   ],
   "source": [
    "# Drop rows where 'Q46' has NaN values\n",
    "df = df.dropna(subset=['Q46'])\n",
    "\n",
    "# Checking if it works\n",
    "print(df['Q46'].isna().sum())"
   ]
  },
  {
   "cell_type": "code",
   "execution_count": 108,
   "id": "8dd9449b-35c2-4753-b70b-558129b0dbbd",
   "metadata": {},
   "outputs": [],
   "source": [
    "# Column data types to see if we kept any columns that will create issues for our classifiers\n",
    "# df.dtypes.values"
   ]
  },
  {
   "cell_type": "markdown",
   "id": "1f18e988-8884-4bdd-b395-facbef45a9d0",
   "metadata": {},
   "source": [
    "### Dropping columns with too many NaNs"
   ]
  },
  {
   "cell_type": "code",
   "execution_count": 110,
   "id": "0dedbcb6-a14c-490a-a8eb-af48f5993801",
   "metadata": {},
   "outputs": [],
   "source": [
    "# Checking which columns have 80,000+ NaNs\n",
    "# Calculate the sum of NaNs in each column\n",
    "# nan_counts = df.isna().sum()\n",
    "\n",
    "# Print the result for each column\n",
    "#for column, count in nan_counts.items():\n",
    "    #print(f'Column \"{column}\" has {count} NaN values.')\n",
    "\n",
    "# Keeping original shape\n",
    "old_shape = df.shape\n",
    "\n",
    "# Define the ranges of column names to drop\n",
    "ranges_to_drop = [\n",
    "    ('Q82_AFRICANUNION', 'Q82_UNDP'),  # First range\n",
    "    ('Q291G1', 'Q294B'),  # Second range\n",
    "    ('ID_GPS', 'v2xnp_client')   # Third range\n",
    "]\n",
    "\n",
    "# Create a list to store column names to drop\n",
    "columns_to_drop = []\n",
    "\n",
    "# Populate the list with column names from the defined ranges\n",
    "for start_col, end_col in ranges_to_drop:\n",
    "    start_idx = df.columns.get_loc(start_col)\n",
    "    end_idx = df.columns.get_loc(end_col)\n",
    "    columns_to_drop.extend(df.columns[start_idx:end_idx+1])\n",
    "\n",
    "# Drop the columns\n",
    "df = df.drop(columns=columns_to_drop)"
   ]
  },
  {
   "cell_type": "code",
   "execution_count": 111,
   "id": "4054f27b-7e86-4874-b928-d8a57d9148c4",
   "metadata": {},
   "outputs": [
    {
     "name": "stdout",
     "output_type": "stream",
     "text": [
      "Old Shape: (96569, 565)\n",
      "New Shape: (96569, 482)\n"
     ]
    }
   ],
   "source": [
    "# Checking that df size has changed and columns are no longer present\n",
    "new_shape = df.shape\n",
    "print(\"Old Shape:\", old_shape)\n",
    "print(\"New Shape:\", new_shape)\n",
    "# print(df.columns.values)"
   ]
  },
  {
   "cell_type": "code",
   "execution_count": 112,
   "id": "bb7a0f49-fa13-44be-83c0-3e6088b47e82",
   "metadata": {},
   "outputs": [],
   "source": [
    "# Checking again to make sure that we don't have a column with 80,000+ NaNs\n",
    "\n",
    "# Calculate the sum of NaNs in each column\n",
    "nan_counts = df.isna().sum()\n",
    "\n",
    "# Print the result for each column\n",
    "# for column, count in nan_counts.items():\n",
    "    # print(f'Column \"{column}\" has {count} NaN values.')\n"
   ]
  },
  {
   "cell_type": "code",
   "execution_count": 118,
   "id": "7871f79e-cfa5-44c4-827d-5fe6a8a2ab22",
   "metadata": {},
   "outputs": [
    {
     "name": "stdout",
     "output_type": "stream",
     "text": [
      "Old Shape: (96569, 565)\n",
      "New Shape: (497, 482)\n"
     ]
    }
   ],
   "source": [
    "# Dropping all rows that contain NAs\n",
    "df = df.dropna()\n",
    "new_shape = df.shape\n",
    "print(\"Old Shape:\", old_shape)\n",
    "print(\"New Shape:\", new_shape)"
   ]
  },
  {
   "cell_type": "markdown",
   "id": "ea56196a-0211-421c-8297-d6ad34ceb1b0",
   "metadata": {},
   "source": [
    "### Subset data such that the entire dataset is only NON-NEGATIVE (for FIC to work)"
   ]
  },
  {
   "cell_type": "code",
   "execution_count": 134,
   "id": "33c46396-a0a4-46b0-9acb-d3f1e3114737",
   "metadata": {},
   "outputs": [
    {
     "name": "stdout",
     "output_type": "stream",
     "text": [
      "Old Shape: (96569, 565)\n",
      "New Shape: (497, 448)\n"
     ]
    }
   ],
   "source": [
    "# Check for columns without negative values\n",
    "non_negative_columns = df.columns[(df >= 0).all()]\n",
    "\n",
    "# Subset the DataFrame to include only columns with negative values\n",
    "df = df[non_negative_columns]\n",
    "\n",
    "new_shape = df.shape\n",
    "print(\"Old Shape:\", old_shape)\n",
    "print(\"New Shape:\", new_shape)"
   ]
  },
  {
   "cell_type": "markdown",
   "id": "1315d171-9529-4460-9313-dfe6075ef45e",
   "metadata": {},
   "source": [
    "### Subset data such that only 250 random columns are selected (for SVM to work)"
   ]
  },
  {
   "cell_type": "code",
   "execution_count": 136,
   "id": "b294b904-2528-4527-aaae-ed8825d844f4",
   "metadata": {},
   "outputs": [
    {
     "data": {
      "text/plain": [
       "(497, 200)"
      ]
     },
     "execution_count": 136,
     "metadata": {},
     "output_type": "execute_result"
    }
   ],
   "source": [
    "# Select 250 columns from df, such that Q46 (label) is still included & we still have a mix of floats & integers\n",
    "df1 = df.iloc[:,0:100]\n",
    "df2 = df.iloc[:,348:482]\n",
    "df = pd.concat([df1, df2], axis=1)\n",
    "df.shape"
   ]
  },
  {
   "cell_type": "markdown",
   "id": "2a7e748f-7478-450b-9e5e-ade923208d4c",
   "metadata": {},
   "source": [
    "# Data Exploration"
   ]
  },
  {
   "cell_type": "code",
   "execution_count": 138,
   "id": "f33dff47-fd32-416d-b84c-1be2519e9d57",
   "metadata": {},
   "outputs": [
    {
     "data": {
      "image/png": "[encoded data removed]",
      "text/plain": [
       "<Figure size 640x480 with 1 Axes>"
      ]
     },
     "metadata": {},
     "output_type": "display_data"
    }
   ],
   "source": [
    "# Create a random number generator with a fixed seed for reproducibility\n",
    "n_bins = 20\n",
    "\n",
    "fig, axs = plt.subplots()\n",
    "\n",
    "# We can set the number of bins with the *bins* keyword argument.\n",
    "axs.hist(df['Q46'], bins=n_bins)\n",
    "\n",
    "plt.show()"
   ]
  },
  {
   "cell_type": "code",
   "execution_count": 140,
   "id": "248b6012-ee33-4c57-b900-b395a381073d",
   "metadata": {},
   "outputs": [
    {
     "name": "stdout",
     "output_type": "stream",
     "text": [
      "79.03\n",
      "69.42\n"
     ]
    },
    {
     "data": {
      "image/png": "[encoded data removed]",
      "text/plain": [
       "<Figure size 640x480 with 1 Axes>"
      ]
     },
     "metadata": {},
     "output_type": "display_data"
    }
   ],
   "source": [
    "# Reviewing lifeexpect variable\n",
    "print(df['lifeexpect'].max())\n",
    "print(df['lifeexpect'].min())\n",
    "\n",
    "# Histogram of Life Expectancy\n",
    "n_bins = 20\n",
    "\n",
    "fig, axs = plt.subplots()\n",
    "\n",
    "# We can set the number of bins with the *bins* keyword argument.\n",
    "axs.hist(df['lifeexpect'], bins=n_bins)\n",
    "\n",
    "plt.show()"
   ]
  },
  {
   "cell_type": "markdown",
   "id": "4aba5e15-fc5f-444b-b742-23877d821904",
   "metadata": {},
   "source": [
    "# Train test split"
   ]
  },
  {
   "cell_type": "code",
   "execution_count": 142,
   "id": "40070d69-51ba-4664-9579-d313ae6908f9",
   "metadata": {},
   "outputs": [],
   "source": [
    "# Split dataset into X_train and y_train\n",
    "X_train, X_test, y_train, y_test = train_test_split(df.iloc[:,start_col_index:-1].drop(columns=['Q46']), df.loc[:,'Q46'], test_size=0.2, random_state=42)"
   ]
  },
  {
   "cell_type": "markdown",
   "id": "6a3ba4fb-8c7e-43d4-a522-84548e8df93e",
   "metadata": {},
   "source": [
    "# Classifier: XGBoost"
   ]
  },
  {
   "cell_type": "code",
   "execution_count": 67,
   "id": "2550e66a-4300-4d94-9234-c84b08527b85",
   "metadata": {},
   "outputs": [
    {
     "name": "stdout",
     "output_type": "stream",
     "text": [
      "Requirement already satisfied: xgboost in c:\\users\\aceme\\anaconda3\\lib\\site-packages (2.0.3)\n",
      "Requirement already satisfied: numpy in c:\\users\\aceme\\anaconda3\\lib\\site-packages (from xgboost) (1.26.4)\n",
      "Requirement already satisfied: scipy in c:\\users\\aceme\\anaconda3\\lib\\site-packages (from xgboost) (1.11.4)\n"
     ]
    }
   ],
   "source": [
    "# First, put this prompt: \"conda install -c conda-forge py-xgboost\" in anaconda to download xgboost package\n",
    "# install xgboost in jupyter\n",
    "!pip install xgboost"
   ]
  },
  {
   "cell_type": "code",
   "execution_count": 144,
   "id": "f07557d0-9960-402a-ba53-13f732fa915e",
   "metadata": {},
   "outputs": [
    {
     "name": "stdout",
     "output_type": "stream",
     "text": [
      "[1 1 0 1 1 1 1 1 1 1 1 1 1 1 1 1 1 1 0 1 0 1 1 0 1 1 1 1 1 1 1 1 0 1 1 1 1\n",
      " 1 1 1 1 1 1 1 1 1 0 1 1 1 1 1 1 1 1 1 0 1 1 1 1 1 1 1 1 1 1 1 1 1 1 1 1 1\n",
      " 1 1 0 0 1 1 1 1 0 0 1 1 1 1 1 1 1 1 1 1 1 1 1 1 0 1]\n",
      "Accuracy: 0.9325842696629215\n"
     ]
    }
   ],
   "source": [
    "##################################### Classifier: XGBOOST #####################################\n",
    "# create model instance\n",
    "# n_estimators: number of trees(estimators) the model uses --> the more used, the more accurate the model is\n",
    "# max_depth: maximum depth of tree --> higher number makes model more complex, but too high can cause overfitting\n",
    "# learning_rate: quantifies each tree's contribution to total prediction --> lower number takes longer, but can lead to better generalization\n",
    "# objective: binary:logistic outputs probabilities. if classification is wanted, use binary:hinge\n",
    "bst = XGBClassifier(n_estimators=2, max_depth=2, learning_rate=1, objective='binary:logistic', enable_categorical=True)\n",
    "\n",
    "# fit model with the training data\n",
    "bst.fit(X_train, y_train)\n",
    "\n",
    "# make predictions for the test dataset\n",
    "preds = bst.predict(X_test)\n",
    "\n",
    "# print predictions\n",
    "print(preds)\n",
    "\n",
    "# print model F1-Score\n",
    "print(\"Accuracy:\",metrics.f1_score(y_test, preds))"
   ]
  },
  {
   "cell_type": "markdown",
   "id": "2b871975-0edf-49e5-9923-d7ea9e0633ed",
   "metadata": {},
   "source": [
    "# SVM"
   ]
  },
  {
   "cell_type": "code",
   "execution_count": 72,
   "id": "117bc397-85cf-4325-8016-1a424da00604",
   "metadata": {},
   "outputs": [],
   "source": [
    "# Subsetting\n",
    "# df = df.iloc[:,0:50]\n",
    "# df = df.iloc[:,0:100]\n",
    "# df = df.iloc[:,0:150]\n",
    "# df = df.iloc[:,0:200]\n",
    "# df = df.iloc[:,0:250]\n",
    "# df = df.iloc[:,0:300] # 25+ minutes and did not finish"
   ]
  },
  {
   "cell_type": "code",
   "execution_count": 74,
   "id": "4e07b835-efa8-446a-af49-aceb6df85826",
   "metadata": {},
   "outputs": [],
   "source": [
    "# Split dataset into X_train and y_train\n",
    "# X_train, X_test, y_train, y_test = train_test_split(df.iloc[:,start_col_index:-1].drop(columns=['Q46']), df.loc[:,'Q46'], test_size=0.2, random_state=42)"
   ]
  },
  {
   "cell_type": "code",
   "execution_count": null,
   "id": "da1a345d-ae54-4eb4-879c-ffdc72e57067",
   "metadata": {},
   "outputs": [],
   "source": [
    "#Import svm model\n",
    "from sklearn import svm\n",
    "\n",
    "#Create a svm Classifier\n",
    "# kernel: options for kernel include linear, poly, rbf, sigmoid\n",
    "    # linear: use this when data can be split by a linear function\n",
    "    # poly (polynomial): use this when data can be split by a polynomial function\n",
    "    # rbf (radial basis function): use this when there are clusters of one class inside another\n",
    "    # sigmoid: use this when the split between classes is curved and irregular\n",
    "clf = svm.SVC(kernel='linear')\n",
    "\n",
    "#Train the model using the training sets\n",
    "clf.fit(X_train, y_train)\n",
    "\n",
    "#Predict the response for test dataset\n",
    "y_pred = clf.predict(X_test)\n",
    "\n",
    "# print predictions\n",
    "print(y_pred)\n",
    "\n",
    "# print model F1-Score\n",
    "print(\"Accuracy:\",metrics.f1_score(y_test, y_pred))"
   ]
  },
  {
   "cell_type": "markdown",
   "id": "8592f614-c39a-4125-aac2-156028c92cd6",
   "metadata": {},
   "source": [
    "# KNN"
   ]
  },
  {
   "cell_type": "code",
   "execution_count": 39,
   "id": "dc5b8c2a-a5f2-4bf5-bde4-1c390100558c",
   "metadata": {},
   "outputs": [
    {
     "name": "stdout",
     "output_type": "stream",
     "text": [
      "[1. 1. 1. 1. 1. 1. 1. 1. 1. 1. 1. 1. 1. 1. 1. 1. 1. 1. 1. 1. 1. 1. 1. 1.\n",
      " 1. 1. 1. 1. 1. 1. 0. 1. 1. 1. 1. 1. 1. 1. 1. 1. 1. 1. 1. 1. 1. 1. 1. 1.\n",
      " 1. 1. 1. 1. 1. 1. 1. 1. 1. 1. 1. 1. 1. 1. 0. 1. 1. 1. 1. 1. 1. 1. 1. 1.\n",
      " 1. 1. 1. 1. 0. 1. 1. 1. 1. 1. 1. 1. 1. 1. 1. 1. 1. 1. 1. 1. 1. 1. 1. 1.\n",
      " 1. 1. 1. 1.]\n",
      "Accuracy: 0.93048128342246\n"
     ]
    }
   ],
   "source": [
    "#import knn model\n",
    "from sklearn.neighbors import KNeighborsClassifier\n",
    "\n",
    "#create a knn classifier\n",
    "#n_neighbors: predicting the label of the data point by looking at the 3 closest data points and getting them to \"vote\"\n",
    "#algorithm: we may need to look at this if it misbehaves\n",
    "neigh = KNeighborsClassifier(n_neighbors=5)\n",
    "\n",
    "#train the model using the training sets\n",
    "neigh.fit(X_train, y_train)\n",
    "\n",
    "#predict the response for the test dataset\n",
    "y_pred = neigh.predict(X_test)\n",
    "\n",
    "#print predictions\n",
    "print(y_pred)\n",
    "\n",
    "# print model F1-Score\n",
    "print(\"Accuracy:\",metrics.f1_score(y_test,y_pred))"
   ]
  },
  {
   "cell_type": "markdown",
   "id": "3ce62896-75ae-4148-9124-f9d2d7a544da",
   "metadata": {},
   "source": [
    "# FIC"
   ]
  },
  {
   "cell_type": "code",
   "execution_count": 41,
   "id": "9ae8ad9e-7e31-4cd9-8760-edf8d0e57f19",
   "metadata": {},
   "outputs": [],
   "source": [
    "class FeatureClassifier:\n",
    "  def __init__(self,reqAcc = 0.01, classifier = 'DecisionTree', bias = [], control = None, n_jobs = None, random_state = None):\n",
    "    self.featureClassifiers=[] #list of all the classifiers of all the selected features\n",
    "    self.reqAcc=reqAcc #user specified cutoff value\n",
    "    self.indexLs=[] # list of mapped index values to featureClassifiers\n",
    "    self.flag=0\n",
    "    self.bias=bias # list of biases for each and every label\n",
    "    self.control=control #overfitting control for decision trees\n",
    "    self.classifier=classifier #the classifier which is preferred by the user\n",
    "    self.dic={'DecisionTree':0,'LinearRegression':1,'SVM':2,'LogisticRegression':3} #a dictionary which maps the classifier to its index\n",
    "    self.n_jobs=n_jobs\n",
    "    self.random_state=random_state\n",
    "    self.num_lables = None\n",
    "\n",
    "  def finIndex(self):\n",
    "    #finds the index where the reqAcc condition fails and also created the indexLs[] for mapping\n",
    "    for i in range(len(self.featureClassifiers)):\n",
    "      if self.featureClassifiers[i][1] < self.reqAcc:\n",
    "        return i\n",
    "      self.indexLs.append(self.featureClassifiers[i][2])\n",
    "    self.flag=1\n",
    "    return i\n",
    "\n",
    "  def fit(self,x,y):\n",
    "    #applied the model to the dataset. The model is trained and saved for further prediction\n",
    "    self.num_lables=len(set(y.flatten()))\n",
    "    bestfeatures = SelectKBest(score_func=chi2,k=1)\n",
    "    fit = bestfeatures.fit(x,y)\n",
    "\n",
    "    for i in range(len(x[0])):\n",
    "      clf=[DecisionTreeClassifier(max_depth=self.control,random_state=self.random_state),LinearRegression(n_jobs=self.n_jobs),SVC(gamma=self.control,random_state=self.random_state), LogisticRegression(penalty=self.control,random_state=self.random_state)][self.dic[self.classifier]]\n",
    "      X_train, X_test, y_train, y_test = train_test_split(x, y, test_size=0.33,random_state=self.random_state)\n",
    "      clf.fit(X_train[:,i:i+1],y_train)\n",
    "      self.featureClassifiers.append((clf,fit.scores_[i],i))\n",
    "    self.featureClassifiers.sort(key=lambda x:x[1],reverse=True)\n",
    "    index=self.finIndex()\n",
    "    if self.flag==0:\n",
    "      self.featureClassifiers=self.featureClassifiers[:index]\n",
    "    return\n",
    "\n",
    "  def predict(self,x):\n",
    "    #given a list of inputs, predicts the possible outputs\n",
    "    if not self.bias:\n",
    "      self.bias=np.zeros(self.num_lables)\n",
    "    if len(self.bias)<self.num_lables:\n",
    "      raise AttributeError('Please check the lenth of bias list')\n",
    "    yPred=[]\n",
    "    for i in range(len(x)):\n",
    "      pred_arr=np.zeros(self.num_lables)\n",
    "      for j in range(len(self.indexLs)):\n",
    "        pred=np.round(self.featureClassifiers[j][0].predict([[x[i][self.indexLs[j]]]]))\n",
    "        pred_arr[pred]+=self.featureClassifiers[j][1]+self.bias[pred[0]]\n",
    "      yPred.append(np.argmax(pred_arr))\n",
    "    return yPred"
   ]
  },
  {
   "cell_type": "code",
   "execution_count": 42,
   "id": "cf8b6cfa-6769-4975-a906-81153c890902",
   "metadata": {},
   "outputs": [
    {
     "name": "stdout",
     "output_type": "stream",
     "text": [
      "F1 Score: 0.9473684210526316\n",
      "[390, 389, 388, 393, 314, 401, 383, 300, 303, 297, 315, 384, 385, 237, 238, 239, 293, 287, 289, 288, 403, 420, 203, 208, 194, 50, 206, 205, 193, 405, 122, 306, 49, 51, 311, 59, 279, 48, 176, 196, 172, 424, 195, 363, 248, 4, 171, 111, 191, 0, 262, 267, 425, 1, 257, 268, 220, 112, 192, 266, 113, 255, 190, 199, 417, 364, 103, 271, 95, 272, 115, 240, 202, 296, 218, 302, 260, 269, 274, 204, 2, 307, 136, 57, 41, 119, 421, 91, 310, 322, 305, 235, 114, 309, 357, 249, 250, 236, 259, 294, 123, 350, 52, 395, 104, 174, 216, 312, 367, 160, 106, 161, 368, 151, 96, 77, 200, 78, 263, 273, 397, 396, 159, 105, 76, 46, 398, 207, 131, 419, 53, 316, 107, 222, 140, 147, 201, 55, 144, 79, 275, 26, 54, 110, 361, 93, 245, 109, 43, 71, 221, 56, 29, 81, 32, 298, 61, 74, 358, 291, 75, 359, 70, 209, 116, 100, 299, 330, 149, 166, 99, 101, 270, 345, 89, 254, 402, 127, 369, 130, 332, 323, 331, 198, 362, 360, 244, 173, 133, 150, 326, 329, 324, 276, 335, 42, 9, 182, 280, 148, 304, 66, 414, 92, 72, 60, 351, 352, 334, 118, 343, 187, 108, 30, 336, 128, 175, 67, 164, 129, 319, 408, 225, 347, 86, 88, 348, 386, 142, 120, 162, 210, 82, 341, 375, 246, 84, 68, 333, 380, 241, 374, 38, 27, 11, 20, 214, 223, 177, 313, 126, 40, 344, 258, 256, 146, 85, 167, 189, 87, 252, 94, 281, 143, 373, 261, 102, 36, 377, 370, 247, 371, 277, 355, 155, 251, 117, 301, 379, 338, 90, 365, 80, 212, 422, 376, 226, 409, 407, 138, 278, 39, 65, 152, 97, 125, 230, 168, 45, 28, 31, 219, 228, 378, 154, 243, 232, 328, 170, 441, 337, 286, 346, 217, 382, 137, 213, 285, 394, 6, 21, 135, 399, 19, 169, 17, 387, 197, 282, 381, 372, 121, 124, 440, 227, 145, 342, 185, 141, 179, 157, 181, 308, 445, 69, 412, 234, 24, 62, 320, 229, 163, 83, 433, 242, 356, 284, 165, 427, 134, 184, 37, 283, 436, 321, 430, 188, 265, 434, 295, 3, 7, 391, 34, 73, 47, 264, 18, 406, 438, 25, 349, 186, 340, 426, 443, 5, 400, 10, 428, 339, 158, 366, 44, 211, 183, 178, 429, 12, 215, 64, 411, 432, 153, 23, 416, 325, 253, 392, 15, 327, 442, 437, 16, 404, 410, 431, 8, 132, 317, 415, 13, 35, 435, 156, 33, 439, 231, 292, 14, 318, 98, 418, 22, 224, 139, 63, 423, 180, 58, 233, 444, 413, 290, 353, 354]\n"
     ]
    }
   ],
   "source": [
    "# Assuming FeatureClassifier is correctly implemented for DecisionTreeClassifier\n",
    "clf1 = FeatureClassifier(0, classifier='DecisionTree', control=3, random_state = 42)\n",
    "\n",
    "# Fit model with the training data\n",
    "clf1.fit(np.array(X_train), np.array(y_train).astype(int))\n",
    "\n",
    "# Predict the response for the test dataset\n",
    "y_pred = clf1.predict(np.array(X_test))\n",
    "\n",
    "# Calculate and print F1 score\n",
    "f1 = metrics.f1_score(np.array(y_test).astype(int), y_pred)\n",
    "print(\"F1 Score:\", f1)\n",
    "\n",
    "# Print other relevant outputs for debugging\n",
    "print(clf1.indexLs)"
   ]
  }
 ],
 "metadata": {
  "kernelspec": {
   "display_name": "Python 3 (ipykernel)",
   "language": "python",
   "name": "python3"
  },
  "language_info": {
   "codemirror_mode": {
    "name": "ipython",
    "version": 3
   },
   "file_extension": ".py",
   "mimetype": "text/x-python",
   "name": "python",
   "nbconvert_exporter": "python",
   "pygments_lexer": "ipython3",
   "version": "3.11.7"
  }
 },
 "nbformat": 4,
 "nbformat_minor": 5
}
