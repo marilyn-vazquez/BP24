{
 "cells": [
  {
   "cell_type": "code",
   "execution_count": null,
   "id": "4a97c781-1cc8-45de-8d16-9011a1d2b4e6",
   "metadata": {},
   "outputs": [],
   "source": [
    "df.to_csv['IRIS_imbalanced', index=False)"
   ]
  },
  {
   "cell_type": "markdown",
   "id": "5983e3a6-9a88-43d6-b69a-e5835f33dadc",
   "metadata": {},
   "source": [
    "# SMOTE"
   ]
  },
  {
   "cell_type": "code",
   "execution_count": 231,
   "id": "895bf2f9-738e-4ea4-9334-41eb0dd70538",
   "metadata": {},
   "outputs": [
    {
     "data": {
      "text/html": [
       "<div>\n",
       "<style scoped>\n",
       "    .dataframe tbody tr th:only-of-type {\n",
       "        vertical-align: middle;\n",
       "    }\n",
       "\n",
       "    .dataframe tbody tr th {\n",
       "        vertical-align: top;\n",
       "    }\n",
       "\n",
       "    .dataframe thead th {\n",
       "        text-align: right;\n",
       "    }\n",
       "</style>\n",
       "<table border=\"1\" class=\"dataframe\">\n",
       "  <thead>\n",
       "    <tr style=\"text-align: right;\">\n",
       "      <th></th>\n",
       "      <th>sepal_length</th>\n",
       "      <th>sepal_width</th>\n",
       "      <th>petal_length</th>\n",
       "      <th>petal_width</th>\n",
       "      <th>species</th>\n",
       "    </tr>\n",
       "  </thead>\n",
       "  <tbody>\n",
       "    <tr>\n",
       "      <th>0</th>\n",
       "      <td>5.1</td>\n",
       "      <td>3.5</td>\n",
       "      <td>1.4</td>\n",
       "      <td>0.2</td>\n",
       "      <td>Iris-setosa</td>\n",
       "    </tr>\n",
       "    <tr>\n",
       "      <th>1</th>\n",
       "      <td>4.9</td>\n",
       "      <td>3.0</td>\n",
       "      <td>1.4</td>\n",
       "      <td>0.2</td>\n",
       "      <td>Iris-setosa</td>\n",
       "    </tr>\n",
       "    <tr>\n",
       "      <th>2</th>\n",
       "      <td>4.7</td>\n",
       "      <td>3.2</td>\n",
       "      <td>1.3</td>\n",
       "      <td>0.2</td>\n",
       "      <td>Iris-setosa</td>\n",
       "    </tr>\n",
       "    <tr>\n",
       "      <th>3</th>\n",
       "      <td>4.6</td>\n",
       "      <td>3.1</td>\n",
       "      <td>1.5</td>\n",
       "      <td>0.2</td>\n",
       "      <td>Iris-setosa</td>\n",
       "    </tr>\n",
       "    <tr>\n",
       "      <th>4</th>\n",
       "      <td>5.0</td>\n",
       "      <td>3.6</td>\n",
       "      <td>1.4</td>\n",
       "      <td>0.2</td>\n",
       "      <td>Iris-setosa</td>\n",
       "    </tr>\n",
       "  </tbody>\n",
       "</table>\n",
       "</div>"
      ],
      "text/plain": [
       "   sepal_length  sepal_width  petal_length  petal_width      species\n",
       "0           5.1          3.5           1.4          0.2  Iris-setosa\n",
       "1           4.9          3.0           1.4          0.2  Iris-setosa\n",
       "2           4.7          3.2           1.3          0.2  Iris-setosa\n",
       "3           4.6          3.1           1.5          0.2  Iris-setosa\n",
       "4           5.0          3.6           1.4          0.2  Iris-setosa"
      ]
     },
     "execution_count": 231,
     "metadata": {},
     "output_type": "execute_result"
    }
   ],
   "source": [
    "import pandas as pd\n",
    "import numpy as np\n",
    "import matplotlib.pyplot as plt\n",
    "from sklearn.model_selection import train_test_split\n",
    "from imblearn.over_sampling import SMOTE\n",
    "\n",
    "df = pd.read_csv(\"C:/Users/aceme/OneDrive/Documents/GitHub/BP24/IRIS.csv\")\n",
    "df.head()"
   ]
  },
  {
   "cell_type": "code",
   "execution_count": 237,
   "id": "e59b10e5-0cbf-474a-9a43-3f475d6049c6",
   "metadata": {},
   "outputs": [
    {
     "data": {
      "image/png": "[encoded data removed]",
      "text/plain": [
       "<Figure size 640x480 with 1 Axes>"
      ]
     },
     "metadata": {},
     "output_type": "display_data"
    }
   ],
   "source": [
    "# Data exploration\n",
    "x=df.drop(['species'],axis=1)[1:70] # 150 rows -> 70 rows to match with created imbalance\n",
    "y=df['species'][1:70] # creating imbalance\n",
    "count_class=df['species'][1:70].value_counts()\n",
    "plt.bar(count_class.index, count_class.values)\n",
    "plt.xlabel('Class')\n",
    "plt.ylabel('Count')\n",
    "plt.title('Class Distribution')\n",
    "plt.xticks(count_class.index, ['Class 1', 'Class 2'])\n",
    "plt.show()\n",
    "y.value_counts()"
   ]
  },
  {
   "cell_type": "code",
   "execution_count": 147,
   "id": "bd753956-449a-450a-99df-beb21df32acf",
   "metadata": {},
   "outputs": [
    {
     "data": {
      "image/png": "[encoded data removed]",
      "text/plain": [
       "<Figure size 640x480 with 1 Axes>"
      ]
     },
     "metadata": {},
     "output_type": "display_data"
    },
    {
     "data": {
      "text/plain": [
       "species\n",
       "Iris-setosa        49\n",
       "Iris-versicolor    49\n",
       "Name: count, dtype: int64"
      ]
     },
     "execution_count": 147,
     "metadata": {},
     "output_type": "execute_result"
    }
   ],
   "source": [
    "# SMOTE to balance species classes\n",
    "smote=SMOTE(sampling_strategy='minority')  # generating synthetic samples for minority class\n",
    "x,y=smote.fit_resample(x,y) # re-sampling\n",
    "y.value_counts() # Looking at counts post-SMOTE algoirthm\n",
    "\n",
    "count_class=y.value_counts()\n",
    "plt.bar(count_class.index, count_class.values)\n",
    "plt.xlabel('Class')\n",
    "plt.ylabel('Count')\n",
    "plt.title('Class Distribution')\n",
    "plt.xticks(count_class.index, ['Class 1', 'Class 2'])\n",
    "plt.show()\n",
    "y.value_counts()"
   ]
  },
  {
   "cell_type": "markdown",
   "id": "7ea9e33b-f315-4403-b347-006cc706f225",
   "metadata": {},
   "source": [
    "# pmone & modpmone"
   ]
  },
  {
   "cell_type": "code",
   "execution_count": 149,
   "id": "73294f0b-343f-4bfe-a740-4a22ebbf1a2f",
   "metadata": {},
   "outputs": [],
   "source": [
    "import random\n",
    "import sklearn.metrics as skm\n",
    "from sklearn.model_selection import train_test_split\n",
    "from sklearn.neighbors import KNeighborsClassifier\n",
    "from sklearn.tree import DecisionTreeClassifier\n",
    "from sklearn.naive_bayes import GaussianNB\n",
    "from sklearn.preprocessing import StandardScaler\n",
    "from sklearn.svm import SVC\n",
    "\n",
    "def betterApplyAugmentationMethods(X_train, method, nrows, nvalues=None, unit=None, noise=None):\n",
    "    # If nvalues not specified, entire column is selected\n",
    "    if nvalues is None:\n",
    "        nvalues = X_train.shape[1] - 1\n",
    "\n",
    "    if str(method).lower() == 'pmone':\n",
    "        # Creates empty dataframe to store augmented data\n",
    "        augmentedDf = pd.DataFrame()\n",
    "\n",
    "        # Randomly selects rows from data and appends to augmentedDf\n",
    "        for i in range(nrows):\n",
    "            augmentedDf = pd.concat([augmentedDf, X_train.iloc[[random.randint(0, X_train.shape[0] - 1)]]],\n",
    "                                    ignore_index=True)\n",
    "\n",
    "        # Selects nvalues amount of unique column indexes\n",
    "        randCols = random.sample(range(0, X_train.shape[1] - 1), nvalues)\n",
    "\n",
    "        # Iterates through augmentedData and applies plus or minus to randCols indexes\n",
    "        for i in range(augmentedDf.shape[0]):\n",
    "            for col in randCols:\n",
    "                if (random.randint(0, 1) == 0):\n",
    "                    augmentedDf.iloc[i, col] += unit\n",
    "                else:\n",
    "                    augmentedDf.iloc[i, col] -= unit\n",
    "\n",
    "        return augmentedDf\n",
    "\n",
    "    elif str(method).lower() == 'modpmone':\n",
    "        # Creates empty dataframe to store augmented data\n",
    "        augmentedDf = pd.DataFrame()\n",
    "\n",
    "        # Randomly selects rows from data and appends to augmentedDf\n",
    "        for i in range(nrows):\n",
    "            augmentedDf = pd.concat([augmentedDf, X_train.iloc[[random.randint(0, X_train.shape[0] - 1)]]],\n",
    "                                    ignore_index=True)\n",
    "\n",
    "        # Selects nvalues amount of unique column indexes\n",
    "        randCols = random.sample(range(0, X_train.shape[1] - 1), nvalues)\n",
    "\n",
    "        # Iterates through augmentedData and applies plus or minus to randCols indexes\n",
    "        for i in range(augmentedDf.shape[0]):\n",
    "            for col in randCols:\n",
    "                colMax = X_train.iloc[:, col].max()\n",
    "                colMin = X_train.iloc[:, col].min()\n",
    "\n",
    "                if (augmentedDf.iloc[i, col] + unit < colMax and augmentedDf.iloc[i, col] - unit > colMin):\n",
    "                    if (random.randint(0, 1) == 0):\n",
    "                        if (augmentedDf.iloc[i, col] + unit <= colMax):\n",
    "                            augmentedDf.iloc[i, col] += unit\n",
    "                        else:\n",
    "                            augmentedDf.iloc[i, col] -= unit\n",
    "                    else:\n",
    "                        if (augmentedDf.iloc[i, col] - unit >= colMin):\n",
    "                            augmentedDf.iloc[i, col] -= unit\n",
    "                        else:\n",
    "                            augmentedDf.iloc[i, col] += unit\n",
    "\n",
    "        return augmentedDf\n",
    "\n",
    "    elif str(method).lower() == 'gausnoise':\n",
    "        # Creates empty dataframe to hold augmented rows\n",
    "        augmentedDf = pd.DataFrame()\n",
    "\n",
    "        # Selects random rows from data and appends to augmentedDf\n",
    "        for i in range(nrows):\n",
    "            augmentedDf = pd.concat([augmentedDf, X_train.iloc[[random.randint(0, X_train.shape[0] - 1)]]],\n",
    "                                    ignore_index=True)\n",
    "\n",
    "        # Selects random unique column index\n",
    "        randCols = random.sample(range(0, X_train.shape[1] - 1), nvalues)\n",
    "\n",
    "        # Applies Gaussian noise to randCols values stored in array\n",
    "        for i in range(augmentedDf.shape[0]):\n",
    "            for cols in randCols:\n",
    "                augmentedDf.iloc[i, cols] += np.random.normal(0, noise)\n",
    "\n",
    "        return augmentedDf\n",
    "\n",
    "    elif str(method).lower() == 'modgausnoise':\n",
    "        # Creates an empty dataframe to hold augmented observations\n",
    "        augmentedDf = pd.DataFrame()\n",
    "\n",
    "        # Randomly selects unique column indexs from data\n",
    "        randCols = random.sample(range(0, X_train.shape[1] - 1), nvalues)\n",
    "\n",
    "        # Appends randomly selected rows from data to augmentedDf\n",
    "        for i in range(nrows):\n",
    "            augmentedDf = pd.concat([augmentedDf, X_train.iloc[[random.randint(0, X_train.shape[0] - 1)]]],\n",
    "                                    ignore_index=True)\n",
    "\n",
    "        # Generates Gaussian distribution based on columns summary statistics\n",
    "        # Swaps value with random value in generated Gaussian distribution\n",
    "        for col in randCols:\n",
    "            for i in range(augmentedDf.shape[0]):\n",
    "                mean = augmentedDf[col].mean()\n",
    "                stDev = augmentedDf[col].std()\n",
    "\n",
    "                augmentedDf.iloc[i, col] = np.random.normal(mean, stDev)\n",
    "\n",
    "        return augmentedDf\n",
    "\n",
    "    elif str(method).lower() == 'randswap':\n",
    "        # Creates empty dataframe to store augmented rows\n",
    "        augmentedDf = pd.DataFrame()\n",
    "\n",
    "        # Copies nrows from original data and appends to augmentedDf\n",
    "        for i in range(nrows):\n",
    "            augmentedDf = pd.concat([augmentedDf, X_train.iloc[[random.randint(0, X_train.shape[0] - 1)]]],\n",
    "                                    ignore_index=True)\n",
    "\n",
    "        # Picks UNIQUE column indexes to swap\n",
    "        columnIndexSwaps = random.sample(range(0, X_train.shape[1] - 1), nvalues)\n",
    "\n",
    "        # Swaps augmentedDf column value from same column in data\n",
    "        for i in range(augmentedDf.shape[0]):\n",
    "            for col in columnIndexSwaps:\n",
    "                randValue = X_train.iloc[random.randint(0, X_train.shape[0] - 1), col]\n",
    "\n",
    "                augmentedDf.iloc[i, col] = randValue\n",
    "\n",
    "        return augmentedDf\n",
    "\n",
    "    else:\n",
    "        print(\"Method not found\")\n",
    "        return None\n",
    "    "
   ]
  },
  {
   "cell_type": "code",
   "execution_count": 151,
   "id": "35120b80-f7c1-48b6-b641-15fc9af50a98",
   "metadata": {},
   "outputs": [],
   "source": [
    "# NOTES: \n",
    "# nrows; # of rows you want created \n",
    "# nvalues: # of values in column to change\n",
    "# unit: unit you want to change your values by \n",
    "\n",
    "# Converting the string column to int\n",
    "species_mapping = {\n",
    "    'Iris-setosa': 1,\n",
    "    'Iris-versicolor': 2,\n",
    "    'Iris-virginica': 3\n",
    "}\n",
    "df['species'] = df['species'].map(species_mapping)\n"
   ]
  },
  {
   "cell_type": "code",
   "execution_count": 167,
   "id": "8b0cc224-cac0-4442-9914-0337f8deaf1f",
   "metadata": {},
   "outputs": [
    {
     "name": "stdout",
     "output_type": "stream",
     "text": [
      "    sepal_length  sepal_width  petal_length  petal_width\n",
      "0            3.9          1.5           3.5          1.7\n",
      "1            7.3          2.4           6.6          2.4\n",
      "2            5.4          4.0           0.3          0.2\n",
      "3            6.5          3.4           2.8          1.1\n",
      "4            5.3          2.3           3.7          1.6\n",
      "5            7.9          4.2           6.7          2.3\n",
      "6            5.3          1.8           4.1          1.5\n",
      "7            5.3          3.3           3.4          1.3\n",
      "8            7.1          2.0           5.6          1.4\n",
      "9            4.5          1.3           5.0          1.3\n",
      "10           4.1          4.7           2.5          0.4\n",
      "11           6.1          2.7           2.5          0.4\n",
      "12           8.0          4.2           5.7          1.4\n",
      "13           6.6          3.7           5.2          1.3\n",
      "14           8.7          4.8           5.7          2.2\n",
      "15           4.7          3.6           4.5          1.0\n",
      "16           4.7          3.6           4.5          1.0\n",
      "17           7.4          1.8           4.6          2.1\n",
      "18           6.8          3.7           6.1          1.9\n",
      "19           4.6          3.5           4.9          1.1\n",
      "    sepal_length  sepal_width  petal_length  petal_width\n",
      "0            5.4          4.2           4.3          2.3\n",
      "1            4.8          2.7           4.1          1.9\n",
      "2            6.7          2.8           5.1          1.3\n",
      "3            4.4          3.4           1.7          0.2\n",
      "4            4.8          3.0           1.4          0.1\n",
      "5            4.7          2.9           5.2          1.3\n",
      "6            6.9          4.1           3.9          1.5\n",
      "7            5.0          3.0           1.6          0.2\n",
      "8            6.8          2.7           4.9          1.2\n",
      "9            4.4          3.9           1.7          0.4\n",
      "10           4.8          4.1           1.6          0.2\n",
      "11           5.1          3.5           1.4          0.3\n",
      "12           4.5          2.3           1.3          0.3\n",
      "13           7.4          2.8           4.6          2.1\n",
      "14           7.7          4.1           5.4          1.4\n",
      "15           5.0          4.2           1.2          0.2\n",
      "16           7.6          3.0           6.6          2.1\n",
      "17           7.2          3.6           6.1          2.5\n",
      "18           7.3          2.9           4.6          1.8\n",
      "19           6.8          2.7           4.9          1.2\n"
     ]
    }
   ],
   "source": [
    "x = df.drop(['species'], axis=1)\n",
    "y = df['species']\n",
    "\n",
    "# Train test split \n",
    "X_train, X_test, y_train, y_test = train_test_split(x,y, \n",
    "                                                    random_state=0,\n",
    "                                                    test_size=0.25) \n",
    "\n",
    "# pmone\n",
    "aug_dat1 = betterApplyAugmentationMethods(X_train, method='pmone', nrows=20, nvalues=None, unit=1, noise=None)\n",
    "print(aug_dat1)\n",
    "\n",
    "# modpmone\n",
    "aug_dat2 = betterApplyAugmentationMethods(X_train, method='modpmone', nrows=20, nvalues=None, unit=1, noise=None)\n",
    "print(aug_dat2)"
   ]
  },
  {
   "cell_type": "markdown",
   "id": "925dee8b-d635-47cc-b81c-fbd5046b3b72",
   "metadata": {},
   "source": [
    "# Chi-Squared \n",
    "\n",
    "Assumptions: \n"
   ]
  },
  {
   "cell_type": "code",
   "execution_count": 221,
   "id": "21f2e0f8-8890-4e5e-ac4d-0f5e90b9e7a7",
   "metadata": {},
   "outputs": [
    {
     "name": "stdout",
     "output_type": "stream",
     "text": [
      "body_camera       False  True \n",
      "manner_of_death               \n",
      "shot               4514    558\n",
      "shot and Tasered    225     41\n"
     ]
    },
    {
     "data": {
      "text/plain": [
       "Chi2ContingencyResult(statistic=4.505484340744584, pvalue=0.03378632644086566, dof=1, expected_freq=array([[4502.84900712,  569.15099288],\n",
       "       [ 236.15099288,   29.84900712]]))"
      ]
     },
     "execution_count": 221,
     "metadata": {},
     "output_type": "execute_result"
    }
   ],
   "source": [
    "# Import relevant libraries \n",
    "import scipy.stats as stats\n",
    "\n",
    "# Load new dataset\n",
    "df = pd.read_csv(\"C:/Users/aceme/OneDrive/Documents/GitHub/BP24/AceMejiaSanchez/Demo Code/fatal-police-shootings-data.csv\")\n",
    "df.head()\n",
    "\n",
    "# Create contigency table\n",
    "crosstab = pd.crosstab(df[\"manner_of_death\"], df[\"body_camera\"])\n",
    "print(crosstab)\n",
    "\n",
    "# Passing contingency table into chi-squared test\n",
    "stats.chi2_contingency(crosstab)\n"
   ]
  },
  {
   "cell_type": "code",
   "execution_count": 225,
   "id": "9b1e9940-34e7-4f71-8068-d3a68a943cf5",
   "metadata": {},
   "outputs": [
    {
     "data": {
      "image/png": "[encoded data removed]",
      "text/plain": [
       "<Figure size 640x480 with 1 Axes>"
      ]
     },
     "metadata": {},
     "output_type": "display_data"
    }
   ],
   "source": [
    "import numpy as np \n",
    "import matplotlib.pyplot as plt \n",
    "import scipy.stats as stats \n",
    "\n",
    "# Calculated chi-square from previous cell\n",
    "calculated_chi_square = 4.505\n",
    "\n",
    "# Degrees of freedom and significance level \n",
    "df = 2\n",
    "alpha = 0.05\n",
    "  \n",
    "# Critical value from the Chi-Square distribution table \n",
    "critical_value = stats.chi2.ppf(1 - alpha, df) \n",
    "critical_value\n",
    "  \n",
    "# Generate values for the chi-square distribution \n",
    "x = np.linspace(0, 10, 1000) \n",
    "y = stats.chi2.pdf(x, df) \n",
    "  \n",
    "plt.plot(x, y, label='Chi-Square Distribution (df=2)') \n",
    "plt.fill_between(x, y, where=(x > critical_value), color='red', alpha=0.5, label='Critical Region') \n",
    "plt.axvline(calculated_chi_square, color='blue', linestyle='dashed', label='Calculated Chi-Square') \n",
    "plt.axvline(critical_value, color='green', linestyle='dashed', label='Critical Value') \n",
    "plt.title('Chi-Square Distribution and Critical Region') \n",
    "plt.xlabel('Chi-Square Value') \n",
    "plt.ylabel('Probability Density Function') \n",
    "plt.legend() \n",
    "plt.show() "
   ]
  }
 ],
 "metadata": {
  "kernelspec": {
   "display_name": "Python 3 (ipykernel)",
   "language": "python",
   "name": "python3"
  },
  "language_info": {
   "codemirror_mode": {
    "name": "ipython",
    "version": 3
   },
   "file_extension": ".py",
   "mimetype": "text/x-python",
   "name": "python",
   "nbconvert_exporter": "python",
   "pygments_lexer": "ipython3",
   "version": "3.11.7"
  }
 },
 "nbformat": 4,
 "nbformat_minor": 5
}
