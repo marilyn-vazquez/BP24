{
 "cells": [
  {
   "cell_type": "code",
   "execution_count": 4,
   "id": "31572952-d0eb-480d-8459-9e64b9199656",
   "metadata": {},
   "outputs": [],
   "source": [
    "import pandas as pd"
   ]
  },
  {
   "cell_type": "code",
   "execution_count": 5,
   "id": "ee594185-cb76-44b7-9675-ea327193ac1a",
   "metadata": {},
   "outputs": [
    {
     "name": "stderr",
     "output_type": "stream",
     "text": [
      "/var/folders/gq/wfvm6zt96_vgyjdb9mtbd22w0000gn/T/ipykernel_62753/655083133.py:2: DtypeWarning: Columns (7,18,20,39,40,41,42,43,44,45,46,47,48,49,50,51,52,53,54,55,56,57,58,59,60,65,66,67,68,69,70) have mixed types. Specify dtype option on import or set low_memory=False.\n",
      "  data = pd.read_csv('Traffic_Crashes_-_Vehicles.csv')\n"
     ]
    },
    {
     "name": "stdout",
     "output_type": "stream",
     "text": [
      "   CRASH_UNIT_ID                                    CRASH_RECORD_ID  \\\n",
      "0        1717556  7b1763088507f77e0e552c009a6bf89a4d6330c7527706...   \n",
      "1        1717574  2603ff5a88f0b9b54576934c5ed4e4a64e8278e005687b...   \n",
      "2        1717579  a52ef70e33d468b855b5be44e8638a564434dcf99c0edf...   \n",
      "3        1720118  609055f4b1a72a44d6ec40ba9036cefd7c1287a755eb6c...   \n",
      "4        1720119  609055f4b1a72a44d6ec40ba9036cefd7c1287a755eb6c...   \n",
      "\n",
      "               CRASH_DATE  UNIT_NO UNIT_TYPE  NUM_PASSENGERS  VEHICLE_ID  \\\n",
      "0  12/06/2023 03:24:00 PM        1    DRIVER             NaN   1634931.0   \n",
      "1  12/06/2023 04:00:00 PM        2    DRIVER             NaN   1634978.0   \n",
      "2  12/06/2023 04:30:00 PM        1    DRIVER             NaN   1634948.0   \n",
      "3  12/10/2023 12:12:00 PM        1    DRIVER             NaN   1637401.0   \n",
      "4  12/10/2023 12:12:00 PM        2    DRIVER             NaN   1637408.0   \n",
      "\n",
      "  CMRC_VEH_I      MAKE    MODEL  ... TRAILER1_LENGTH  TRAILER2_LENGTH  \\\n",
      "0        NaN    NISSAN   SENTRA  ...             NaN              NaN   \n",
      "1        NaN  CHRYSLER  SEBRING  ...             NaN              NaN   \n",
      "2        NaN    SUBARU  OUTBACK  ...             NaN              NaN   \n",
      "3        NaN    TOYOTA     RAV4  ...             NaN              NaN   \n",
      "4        NaN    SUBARU  OUTBACK  ...             NaN              NaN   \n",
      "\n",
      "  TOTAL_VEHICLE_LENGTH AXLE_CNT VEHICLE_CONFIG CARGO_BODY_TYPE LOAD_TYPE  \\\n",
      "0                  NaN      NaN            NaN             NaN       NaN   \n",
      "1                  NaN      NaN            NaN             NaN       NaN   \n",
      "2                  NaN      NaN            NaN             NaN       NaN   \n",
      "3                  NaN      NaN            NaN             NaN       NaN   \n",
      "4                  NaN      NaN            NaN             NaN       NaN   \n",
      "\n",
      "  HAZMAT_OUT_OF_SERVICE_I MCS_OUT_OF_SERVICE_I  HAZMAT_CLASS  \n",
      "0                     NaN                  NaN           NaN  \n",
      "1                     NaN                  NaN           NaN  \n",
      "2                     NaN                  NaN           NaN  \n",
      "3                     NaN                  NaN           NaN  \n",
      "4                     NaN                  NaN           NaN  \n",
      "\n",
      "[5 rows x 71 columns]\n"
     ]
    }
   ],
   "source": [
    "# Load the dataset\n",
    "data = pd.read_csv('Traffic_Crashes_-_Vehicles.csv')\n",
    "\n",
    "# Display the first few rows of the dataset\n",
    "print(data.head())\n"
   ]
  },
  {
   "cell_type": "code",
   "execution_count": 8,
   "id": "8dae0a07-c35a-45ba-b7c4-72f5bd4aa749",
   "metadata": {},
   "outputs": [
    {
     "name": "stdout",
     "output_type": "stream",
     "text": [
      "       CRASH_UNIT_ID       UNIT_NO  NUM_PASSENGERS    VEHICLE_ID  \\\n",
      "count   1.720494e+06  1.720494e+06   254705.000000  1.681005e+06   \n",
      "mean    9.201007e+05  3.760779e+00        1.470760  8.751604e+05   \n",
      "std     5.326975e+05  2.880310e+03        1.058312  5.055207e+05   \n",
      "min     2.000000e+00  0.000000e+00        1.000000  2.000000e+00   \n",
      "25%     4.579622e+05  1.000000e+00        1.000000  4.377770e+05   \n",
      "50%     9.211815e+05  2.000000e+00        1.000000  8.734910e+05   \n",
      "75%     1.381745e+06  2.000000e+00        2.000000  1.312343e+06   \n",
      "max     1.841186e+06  3.778035e+06       59.000000  1.753890e+06   \n",
      "\n",
      "       VEHICLE_YEAR  OCCUPANT_CNT        CMV_ID  TRAILER1_LENGTH  \\\n",
      "count  1.411994e+06  1.681005e+06  17464.000000      2378.000000   \n",
      "mean   2.014133e+03  1.079171e+00   9740.592476        48.497897   \n",
      "std    1.386829e+02  7.821187e-01   5632.278513        20.750217   \n",
      "min    1.900000e+03  0.000000e+00      1.000000         1.000000   \n",
      "25%    2.007000e+03  1.000000e+00   4812.750000        45.000000   \n",
      "50%    2.013000e+03  1.000000e+00   9768.500000        53.000000   \n",
      "75%    2.016000e+03  1.000000e+00  14633.250000        53.000000   \n",
      "max    9.999000e+03  9.900000e+01  19445.000000       740.000000   \n",
      "\n",
      "       TRAILER2_LENGTH  TOTAL_VEHICLE_LENGTH      AXLE_CNT  \n",
      "count        70.000000           2890.000000   4341.000000  \n",
      "mean         44.271429             53.198962      9.698457  \n",
      "std          28.008240             31.256897    394.710112  \n",
      "min           1.000000              1.000000      1.000000  \n",
      "25%          24.250000             35.000000      2.000000  \n",
      "50%          50.000000             53.000000      3.000000  \n",
      "75%          53.000000             66.000000      5.000000  \n",
      "max         123.000000            999.000000  26009.000000  \n"
     ]
    }
   ],
   "source": [
    "# Display the summary statistics of the dataset\n",
    "print(data.describe())"
   ]
  },
  {
   "cell_type": "code",
   "execution_count": 10,
   "id": "fa6ffc20-c17c-444b-89d3-bde124de9044",
   "metadata": {},
   "outputs": [
    {
     "name": "stdout",
     "output_type": "stream",
     "text": [
      "<class 'pandas.core.frame.DataFrame'>\n",
      "RangeIndex: 1720494 entries, 0 to 1720493\n",
      "Data columns (total 71 columns):\n",
      " #   Column                    Dtype  \n",
      "---  ------                    -----  \n",
      " 0   CRASH_UNIT_ID             int64  \n",
      " 1   CRASH_RECORD_ID           object \n",
      " 2   CRASH_DATE                object \n",
      " 3   UNIT_NO                   int64  \n",
      " 4   UNIT_TYPE                 object \n",
      " 5   NUM_PASSENGERS            float64\n",
      " 6   VEHICLE_ID                float64\n",
      " 7   CMRC_VEH_I                object \n",
      " 8   MAKE                      object \n",
      " 9   MODEL                     object \n",
      " 10  LIC_PLATE_STATE           object \n",
      " 11  VEHICLE_YEAR              float64\n",
      " 12  VEHICLE_DEFECT            object \n",
      " 13  VEHICLE_TYPE              object \n",
      " 14  VEHICLE_USE               object \n",
      " 15  TRAVEL_DIRECTION          object \n",
      " 16  MANEUVER                  object \n",
      " 17  TOWED_I                   object \n",
      " 18  FIRE_I                    object \n",
      " 19  OCCUPANT_CNT              float64\n",
      " 20  EXCEED_SPEED_LIMIT_I      object \n",
      " 21  TOWED_BY                  object \n",
      " 22  TOWED_TO                  object \n",
      " 23  AREA_00_I                 object \n",
      " 24  AREA_01_I                 object \n",
      " 25  AREA_02_I                 object \n",
      " 26  AREA_03_I                 object \n",
      " 27  AREA_04_I                 object \n",
      " 28  AREA_05_I                 object \n",
      " 29  AREA_06_I                 object \n",
      " 30  AREA_07_I                 object \n",
      " 31  AREA_08_I                 object \n",
      " 32  AREA_09_I                 object \n",
      " 33  AREA_10_I                 object \n",
      " 34  AREA_11_I                 object \n",
      " 35  AREA_12_I                 object \n",
      " 36  AREA_99_I                 object \n",
      " 37  FIRST_CONTACT_POINT       object \n",
      " 38  CMV_ID                    float64\n",
      " 39  USDOT_NO                  object \n",
      " 40  CCMC_NO                   object \n",
      " 41  ILCC_NO                   object \n",
      " 42  COMMERCIAL_SRC            object \n",
      " 43  GVWR                      object \n",
      " 44  CARRIER_NAME              object \n",
      " 45  CARRIER_STATE             object \n",
      " 46  CARRIER_CITY              object \n",
      " 47  HAZMAT_PLACARDS_I         object \n",
      " 48  HAZMAT_NAME               object \n",
      " 49  UN_NO                     object \n",
      " 50  HAZMAT_PRESENT_I          object \n",
      " 51  HAZMAT_REPORT_I           object \n",
      " 52  HAZMAT_REPORT_NO          object \n",
      " 53  MCS_REPORT_I              object \n",
      " 54  MCS_REPORT_NO             object \n",
      " 55  HAZMAT_VIO_CAUSE_CRASH_I  object \n",
      " 56  MCS_VIO_CAUSE_CRASH_I     object \n",
      " 57  IDOT_PERMIT_NO            object \n",
      " 58  WIDE_LOAD_I               object \n",
      " 59  TRAILER1_WIDTH            object \n",
      " 60  TRAILER2_WIDTH            object \n",
      " 61  TRAILER1_LENGTH           float64\n",
      " 62  TRAILER2_LENGTH           float64\n",
      " 63  TOTAL_VEHICLE_LENGTH      float64\n",
      " 64  AXLE_CNT                  float64\n",
      " 65  VEHICLE_CONFIG            object \n",
      " 66  CARGO_BODY_TYPE           object \n",
      " 67  LOAD_TYPE                 object \n",
      " 68  HAZMAT_OUT_OF_SERVICE_I   object \n",
      " 69  MCS_OUT_OF_SERVICE_I      object \n",
      " 70  HAZMAT_CLASS              object \n",
      "dtypes: float64(9), int64(2), object(60)\n",
      "memory usage: 932.0+ MB\n",
      "None\n"
     ]
    }
   ],
   "source": [
    "# Display the info to check for missing values\n",
    "print(data.info())"
   ]
  },
  {
   "cell_type": "code",
   "execution_count": 22,
   "id": "b4fa6e61-158e-462d-9e70-c6fa126fb8dc",
   "metadata": {},
   "outputs": [
    {
     "name": "stdout",
     "output_type": "stream",
     "text": [
      "(1716550, 71)\n"
     ]
    }
   ],
   "source": [
    "start_date = '01/01/2023'\n",
    "end_date = '12/31/2023'\n",
    "\n",
    "# Filter rows within the date range for the year 2023\n",
    "data_2023 = data[(data['CRASH_DATE'] >= start_date) & (data['CRASH_DATE'] <= end_date)]\n",
    "\n",
    "# Check the shape of the filtered dataset\n",
    "print(data_2023.shape)\n",
    "1,720,494"
   ]
  },
  {
   "cell_type": "code",
   "execution_count": 26,
   "id": "15054972-8c3d-4f5a-9e62-b07048366189",
   "metadata": {},
   "outputs": [
    {
     "name": "stdout",
     "output_type": "stream",
     "text": [
      "UNIT_TYPE                     2169\n",
      "NUM_PASSENGERS             1462522\n",
      "VEHICLE_ID                   39431\n",
      "CMRC_VEH_I                 1684568\n",
      "MAKE                         39436\n",
      "                            ...   \n",
      "CARGO_BODY_TYPE            1702730\n",
      "LOAD_TYPE                  1703341\n",
      "HAZMAT_OUT_OF_SERVICE_I    1704512\n",
      "MCS_OUT_OF_SERVICE_I       1704267\n",
      "HAZMAT_CLASS               1715434\n",
      "Length: 67, dtype: int64\n"
     ]
    }
   ],
   "source": [
    "# Check for missing values in the new dataset\n",
    "missing_values = data_2023.isnull().sum()\n",
    "\n",
    "# Display columns with missing values\n",
    "print(missing_values[missing_values > 0])"
   ]
  },
  {
   "cell_type": "code",
   "execution_count": 32,
   "id": "17d8f2fa-e3ff-4b51-8bf1-8d771c44f9cd",
   "metadata": {},
   "outputs": [],
   "source": [
    "# Drop rows with missing values in critical columns\n",
    "data_2023_clean = data_2023.dropna(subset=['UNIT_TYPE'])"
   ]
  },
  {
   "cell_type": "code",
   "execution_count": 36,
   "id": "6e3d361a-762d-43e9-96d4-ea47c899cef8",
   "metadata": {},
   "outputs": [
    {
     "name": "stdout",
     "output_type": "stream",
     "text": [
      "(1714381, 71)\n"
     ]
    }
   ],
   "source": [
    "print(data_2023_clean.shape)"
   ]
  },
  {
   "cell_type": "code",
   "execution_count": null,
   "id": "0f9f7abb-3ac5-4bd0-8453-5c62c737efda",
   "metadata": {},
   "outputs": [],
   "source": []
  }
 ],
 "metadata": {
  "kernelspec": {
   "display_name": "Python 3 (ipykernel)",
   "language": "python",
   "name": "python3"
  },
  "language_info": {
   "codemirror_mode": {
    "name": "ipython",
    "version": 3
   },
   "file_extension": ".py",
   "mimetype": "text/x-python",
   "name": "python",
   "nbconvert_exporter": "python",
   "pygments_lexer": "ipython3",
   "version": "3.11.7"
  }
 },
 "nbformat": 4,
 "nbformat_minor": 5
}
