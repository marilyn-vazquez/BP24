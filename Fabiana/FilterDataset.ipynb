{
 "cells": [
  {
   "cell_type": "code",
   "execution_count": 2,
   "id": "31572952-d0eb-480d-8459-9e64b9199656",
   "metadata": {},
   "outputs": [],
   "source": [
    "import pandas as pd"
   ]
  },
  {
   "cell_type": "code",
   "execution_count": 6,
   "id": "ee594185-cb76-44b7-9675-ea327193ac1a",
   "metadata": {},
   "outputs": [
    {
     "name": "stdout",
     "output_type": "stream",
     "text": [
      "      Month  WeekOfMonth  DayOfWeek     Make AccidentArea DayOfWeekClaimed  \\\n",
      "0       Dec            5  Wednesday    Honda        Urban          Tuesday   \n",
      "1       Jan            3  Wednesday    Honda        Urban           Monday   \n",
      "2       Oct            5     Friday    Honda        Urban         Thursday   \n",
      "3       Jun            2   Saturday   Toyota        Rural           Friday   \n",
      "4       Jan            5     Monday    Honda        Urban          Tuesday   \n",
      "...     ...          ...        ...      ...          ...              ...   \n",
      "15415   Nov            4     Friday   Toyota        Urban          Tuesday   \n",
      "15416   Nov            5   Thursday  Pontiac        Urban           Friday   \n",
      "15417   Nov            5   Thursday   Toyota        Rural           Friday   \n",
      "15418   Dec            1     Monday   Toyota        Urban         Thursday   \n",
      "15419   Dec            2  Wednesday   Toyota        Urban         Thursday   \n",
      "\n",
      "      MonthClaimed  WeekOfMonthClaimed     Sex MaritalStatus  ...  \\\n",
      "0              Jan                   1  Female        Single  ...   \n",
      "1              Jan                   4    Male        Single  ...   \n",
      "2              Nov                   2    Male       Married  ...   \n",
      "3              Jul                   1    Male       Married  ...   \n",
      "4              Feb                   2  Female        Single  ...   \n",
      "...            ...                 ...     ...           ...  ...   \n",
      "15415          Nov                   5    Male       Married  ...   \n",
      "15416          Dec                   1    Male       Married  ...   \n",
      "15417          Dec                   1    Male        Single  ...   \n",
      "15418          Dec                   2  Female       Married  ...   \n",
      "15419          Dec                   3    Male        Single  ...   \n",
      "\n",
      "       AgeOfVehicle AgeOfPolicyHolder PoliceReportFiled WitnessPresent  \\\n",
      "0           3 years          26 to 30                No             No   \n",
      "1           6 years          31 to 35               Yes             No   \n",
      "2           7 years          41 to 50                No             No   \n",
      "3       more than 7          51 to 65               Yes             No   \n",
      "4           5 years          31 to 35                No             No   \n",
      "...             ...               ...               ...            ...   \n",
      "15415       6 years          31 to 35                No             No   \n",
      "15416       6 years          31 to 35                No             No   \n",
      "15417       5 years          26 to 30                No             No   \n",
      "15418       2 years          31 to 35                No             No   \n",
      "15419       5 years          26 to 30                No             No   \n",
      "\n",
      "      AgentType  NumberOfSuppliments  AddressChange_Claim  NumberOfCars  Year  \\\n",
      "0      External                 none               1 year        3 to 4  1994   \n",
      "1      External                 none            no change     1 vehicle  1994   \n",
      "2      External                 none            no change     1 vehicle  1994   \n",
      "3      External          more than 5            no change     1 vehicle  1994   \n",
      "4      External                 none            no change     1 vehicle  1994   \n",
      "...         ...                  ...                  ...           ...   ...   \n",
      "15415  External                 none            no change     1 vehicle  1996   \n",
      "15416  External          more than 5            no change        3 to 4  1996   \n",
      "15417  External               1 to 2            no change     1 vehicle  1996   \n",
      "15418  External          more than 5            no change     1 vehicle  1996   \n",
      "15419  External               1 to 2            no change     1 vehicle  1996   \n",
      "\n",
      "       BasePolicy  \n",
      "0       Liability  \n",
      "1       Collision  \n",
      "2       Collision  \n",
      "3       Liability  \n",
      "4       Collision  \n",
      "...           ...  \n",
      "15415   Collision  \n",
      "15416   Liability  \n",
      "15417   Collision  \n",
      "15418  All Perils  \n",
      "15419   Collision  \n",
      "\n",
      "[15420 rows x 33 columns]\n"
     ]
    }
   ],
   "source": [
    "# Load the dataset\n",
    "data = pd.read_csv('fraud_oracle.csv')\n",
    "\n",
    "# Display the first few rows of the dataset\n",
    "print(data)\n"
   ]
  },
  {
   "cell_type": "code",
   "execution_count": 8,
   "id": "8dae0a07-c35a-45ba-b7c4-72f5bd4aa749",
   "metadata": {},
   "outputs": [
    {
     "name": "stdout",
     "output_type": "stream",
     "text": [
      "        WeekOfMonth  WeekOfMonthClaimed           Age  FraudFound_P  \\\n",
      "count  15420.000000        15420.000000  15420.000000  15420.000000   \n",
      "mean       2.788586            2.693969     39.855707      0.059857   \n",
      "std        1.287585            1.259115     13.492377      0.237230   \n",
      "min        1.000000            1.000000      0.000000      0.000000   \n",
      "25%        2.000000            2.000000     31.000000      0.000000   \n",
      "50%        3.000000            3.000000     38.000000      0.000000   \n",
      "75%        4.000000            4.000000     48.000000      0.000000   \n",
      "max        5.000000            5.000000     80.000000      1.000000   \n",
      "\n",
      "       PolicyNumber     RepNumber    Deductible  DriverRating          Year  \n",
      "count  15420.000000  15420.000000  15420.000000  15420.000000  15420.000000  \n",
      "mean    7710.500000      8.483268    407.704280      2.487808   1994.866472  \n",
      "std     4451.514911      4.599948     43.950998      1.119453      0.803313  \n",
      "min        1.000000      1.000000    300.000000      1.000000   1994.000000  \n",
      "25%     3855.750000      5.000000    400.000000      1.000000   1994.000000  \n",
      "50%     7710.500000      8.000000    400.000000      2.000000   1995.000000  \n",
      "75%    11565.250000     12.000000    400.000000      3.000000   1996.000000  \n",
      "max    15420.000000     16.000000    700.000000      4.000000   1996.000000  \n"
     ]
    }
   ],
   "source": [
    "# Display the summary statistics of the dataset\n",
    "print(data.describe())"
   ]
  },
  {
   "cell_type": "code",
   "execution_count": 10,
   "id": "fa6ffc20-c17c-444b-89d3-bde124de9044",
   "metadata": {},
   "outputs": [
    {
     "name": "stdout",
     "output_type": "stream",
     "text": [
      "<class 'pandas.core.frame.DataFrame'>\n",
      "RangeIndex: 15420 entries, 0 to 15419\n",
      "Data columns (total 33 columns):\n",
      " #   Column                Non-Null Count  Dtype \n",
      "---  ------                --------------  ----- \n",
      " 0   Month                 15420 non-null  object\n",
      " 1   WeekOfMonth           15420 non-null  int64 \n",
      " 2   DayOfWeek             15420 non-null  object\n",
      " 3   Make                  15420 non-null  object\n",
      " 4   AccidentArea          15420 non-null  object\n",
      " 5   DayOfWeekClaimed      15420 non-null  object\n",
      " 6   MonthClaimed          15420 non-null  object\n",
      " 7   WeekOfMonthClaimed    15420 non-null  int64 \n",
      " 8   Sex                   15420 non-null  object\n",
      " 9   MaritalStatus         15420 non-null  object\n",
      " 10  Age                   15420 non-null  int64 \n",
      " 11  Fault                 15420 non-null  object\n",
      " 12  PolicyType            15420 non-null  object\n",
      " 13  VehicleCategory       15420 non-null  object\n",
      " 14  VehiclePrice          15420 non-null  object\n",
      " 15  FraudFound_P          15420 non-null  int64 \n",
      " 16  PolicyNumber          15420 non-null  int64 \n",
      " 17  RepNumber             15420 non-null  int64 \n",
      " 18  Deductible            15420 non-null  int64 \n",
      " 19  DriverRating          15420 non-null  int64 \n",
      " 20  Days_Policy_Accident  15420 non-null  object\n",
      " 21  Days_Policy_Claim     15420 non-null  object\n",
      " 22  PastNumberOfClaims    15420 non-null  object\n",
      " 23  AgeOfVehicle          15420 non-null  object\n",
      " 24  AgeOfPolicyHolder     15420 non-null  object\n",
      " 25  PoliceReportFiled     15420 non-null  object\n",
      " 26  WitnessPresent        15420 non-null  object\n",
      " 27  AgentType             15420 non-null  object\n",
      " 28  NumberOfSuppliments   15420 non-null  object\n",
      " 29  AddressChange_Claim   15420 non-null  object\n",
      " 30  NumberOfCars          15420 non-null  object\n",
      " 31  Year                  15420 non-null  int64 \n",
      " 32  BasePolicy            15420 non-null  object\n",
      "dtypes: int64(9), object(24)\n",
      "memory usage: 3.9+ MB\n",
      "None\n"
     ]
    }
   ],
   "source": [
    "# Display the info to check for missing values\n",
    "print(data.info())"
   ]
  },
  {
   "cell_type": "code",
   "execution_count": 22,
   "id": "b4fa6e61-158e-462d-9e70-c6fa126fb8dc",
   "metadata": {},
   "outputs": [
    {
     "name": "stdout",
     "output_type": "stream",
     "text": [
      "(1716550, 71)\n"
     ]
    }
   ],
   "source": [
    "start_date = '01/01/2023'\n",
    "end_date = '12/31/2023'\n",
    "\n",
    "# Filter rows within the date range for the year 2023\n",
    "data_2023 = data[(data['CRASH_DATE'] >= start_date) & (data['CRASH_DATE'] <= end_date)]\n",
    "\n",
    "# Check the shape of the filtered dataset\n",
    "print(data_2023.shape)\n",
    "1,720,494"
   ]
  },
  {
   "cell_type": "code",
   "execution_count": 26,
   "id": "15054972-8c3d-4f5a-9e62-b07048366189",
   "metadata": {},
   "outputs": [
    {
     "name": "stdout",
     "output_type": "stream",
     "text": [
      "UNIT_TYPE                     2169\n",
      "NUM_PASSENGERS             1462522\n",
      "VEHICLE_ID                   39431\n",
      "CMRC_VEH_I                 1684568\n",
      "MAKE                         39436\n",
      "                            ...   \n",
      "CARGO_BODY_TYPE            1702730\n",
      "LOAD_TYPE                  1703341\n",
      "HAZMAT_OUT_OF_SERVICE_I    1704512\n",
      "MCS_OUT_OF_SERVICE_I       1704267\n",
      "HAZMAT_CLASS               1715434\n",
      "Length: 67, dtype: int64\n"
     ]
    }
   ],
   "source": [
    "# Check for missing values in the new dataset\n",
    "missing_values = data_2023.isnull().sum()\n",
    "\n",
    "# Display columns with missing values\n",
    "print(missing_values[missing_values > 0])"
   ]
  },
  {
   "cell_type": "code",
   "execution_count": 32,
   "id": "17d8f2fa-e3ff-4b51-8bf1-8d771c44f9cd",
   "metadata": {},
   "outputs": [],
   "source": [
    "# Drop rows with missing values in critical columns\n",
    "data_2023_clean = data_2023.dropna(subset=['UNIT_TYPE'])"
   ]
  },
  {
   "cell_type": "code",
   "execution_count": 36,
   "id": "6e3d361a-762d-43e9-96d4-ea47c899cef8",
   "metadata": {},
   "outputs": [
    {
     "name": "stdout",
     "output_type": "stream",
     "text": [
      "(1714381, 71)\n"
     ]
    }
   ],
   "source": [
    "print(data_2023_clean.shape)"
   ]
  },
  {
   "cell_type": "code",
   "execution_count": null,
   "id": "0f9f7abb-3ac5-4bd0-8453-5c62c737efda",
   "metadata": {},
   "outputs": [],
   "source": []
  }
 ],
 "metadata": {
  "kernelspec": {
   "display_name": "Python 3 (ipykernel)",
   "language": "python",
   "name": "python3"
  },
  "language_info": {
   "codemirror_mode": {
    "name": "ipython",
    "version": 3
   },
   "file_extension": ".py",
   "mimetype": "text/x-python",
   "name": "python",
   "nbconvert_exporter": "python",
   "pygments_lexer": "ipython3",
   "version": "3.11.7"
  }
 },
 "nbformat": 4,
 "nbformat_minor": 5
}
