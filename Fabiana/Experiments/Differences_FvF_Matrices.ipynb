{
 "cells": [
  {
   "cell_type": "markdown",
   "id": "0f0b58dd-f789-429f-9f35-9c42480c76d1",
   "metadata": {},
   "source": [
    "# Important: F vs F --> Correlation Matrices Differences\n",
    "- Both data1 and data2 MUST have the same number of numerical and categorical columns\n",
    "- We will test 13 columns for all datasets with 8 'numerical'(at the beginning) and 5 'categorical' columns (at the end, including the label column)\n",
    "- Run all the cells for data1\n",
    "- Then, run all the cells for data2\n",
    "- Then, run cell to concat data1 and data2 (Called combined_data)\n",
    "- Then after you have the correlation matrices for both (data1 and combined_data) --> run the difference between matrices test\n",
    "- This is the only way this file will work. If you dont follow the steps you will get an inaccurate result"
   ]
  },
  {
   "cell_type": "code",
   "execution_count": 1,
   "id": "4061dbbd-b593-4839-9ca5-aa8ada5bdcda",
   "metadata": {},
   "outputs": [],
   "source": [
    "import numpy as np\n",
    "import pandas as pd\n",
    "from numpy import linalg\n",
    "from sklearn.model_selection import train_test_split"
   ]
  },
  {
   "cell_type": "markdown",
   "id": "657bfdd5-302c-42ef-9f05-e4ccbefd8ead",
   "metadata": {},
   "source": [
    "# Upload Dataset"
   ]
  },
  {
   "cell_type": "code",
   "execution_count": 3,
   "id": "198910fa-c38e-49d7-b3e5-ec9e71e9ecf3",
   "metadata": {},
   "outputs": [],
   "source": [
    "# Datasets before augmentation (synthetic)\n",
    "data1 = pd.read_csv(\"/Users/fabianafazio/Documents/GitHub/BP24/Ellee/Data/Stacked/stacked_orig.csv\", header=None)\n",
    "#data1 = pd.read_csv(\"/Users/fabianafazio/Documents/GitHub/BP24/Ellee/Data/Uniform/uniform_orig.csv\", header=None)\n",
    "#data1 = pd.read_csv(\"/Users/fabianafazio/Documents/GitHub/BP24/Ellee/Data/Gaussian/gaussian_orig.csv\", header=None)\n",
    "\n",
    "\n",
    "# Datasets after augmentation\n",
    "#data2 = pd.read_csv(\"/Users/fabianafazio/Documents/GitHub/BP24/Ellee/Data/Stacked/stacked_new.csv\", header=None)\n",
    "#data2 = pd.read_csv(\"/Users/fabianafazio/Documents/GitHub/BP24/Fabiana/Data/HAT (synthetic datasets)/stacked_HAT.csv\")\n",
    "data2 = pd.read_csv(\"/Users/fabianafazio/Documents/GitHub/BP24/Aug. Syn. Datasets/stacked_modpmone.csv\")\n",
    "\n",
    "#data2 = pd.read_csv(\"/Users/fabianafazio/Documents/GitHub/BP24/Ellee/Data/Uniform/uniform_new.csv\", header=None)\n",
    "#data2 = pd.read_csv(\"/Users/fabianafazio/Documents/GitHub/BP24/Fabiana/Data/HAT (synthetic datasets)/uniform_HAT.csv\")\n",
    "#data2 = pd.read_csv(\"/Users/fabianafazio/Documents/GitHub/BP24/Aug. Syn. Datasets/uniform_modpmone.csv\")\n",
    "\n",
    "#data2 = pd.read_csv(\"/Users/fabianafazio/Documents/GitHub/BP24/Ellee/Data/Gaussian/gaussian_new.csv\", header=None)\n",
    "#data2 = pd.read_csv(\"/Users/fabianafazio/Documents/GitHub/BP24/Fabiana/Data/HAT (synthetic datasets)/gaussian_HAT.csv\")\n",
    "#data2 = pd.read_csv(\"/Users/fabianafazio/Documents/GitHub/BP24/Aug. Syn. Datasets/gaussian_modpmone.csv\")\n"
   ]
  },
  {
   "cell_type": "markdown",
   "id": "66147c8f-3866-4f2a-81ea-798ca6d35109",
   "metadata": {},
   "source": [
    "# Shapes of Datasets\n",
    "- They must be the same, if they are not--> run specific cells to make them have the same dimensions"
   ]
  },
  {
   "cell_type": "code",
   "execution_count": 6,
   "id": "4bc4a540-4ab8-46fb-9d49-0629d8580b26",
   "metadata": {},
   "outputs": [
    {
     "name": "stdout",
     "output_type": "stream",
     "text": [
      "Shape of data1: (240, 25)\n",
      "Shape of data2: (407, 25)\n"
     ]
    }
   ],
   "source": [
    "# Print shapes for debugging \n",
    "print(f\"Shape of data1: {data1.shape}\")\n",
    "print(f\"Shape of data2: {data2.shape}\")\n"
   ]
  },
  {
   "cell_type": "markdown",
   "id": "5f91f83e-168c-4b2f-9119-c0858d5e0007",
   "metadata": {},
   "source": [
    "# Uniform Distribution"
   ]
  },
  {
   "cell_type": "code",
   "execution_count": null,
   "id": "3d026e7b-e0be-4cf2-b068-dd2fd0bfb528",
   "metadata": {},
   "outputs": [],
   "source": [
    "# Assuming data1 is your DataFrame\n",
    "# indexes 2, 7, 10, 15, 24 are 'categorical' --> we will change this later on \n",
    "# Define the primary columns to move to the end\n",
    "primary_indices = [2, 7, 10, 15, 24]\n",
    "primary_columns = data1.columns[primary_indices]\n",
    "\n",
    "# Define the initial columns (0 to 8), excluding the primary columns\n",
    "initial_indices = list(range(13))\n",
    "initial_indices = [i for i in initial_indices if i not in primary_indices]\n",
    "initial_columns = data1.columns[initial_indices]\n",
    "\n",
    "# Combine the initial columns with the primary columns\n",
    "new_column_order = list(initial_columns) + list(primary_columns)\n",
    "\n",
    "# Reorder the DataFrame\n",
    "data1 = data1[new_column_order]\n",
    "\n",
    "# Ensure the DataFrame has exactly 13 columns\n",
    "data1 = data1.iloc[:, :13]\n",
    "\n",
    "# Reset the column index to go from 0 to 12\n",
    "data1.columns = range(13)\n",
    "\n",
    "# Display the first few rows of the new DataFrame\n",
    "print(data1.dtypes)\n"
   ]
  },
  {
   "cell_type": "code",
   "execution_count": null,
   "id": "d1fac50d-4e8e-40e9-8e67-c1cdfc3fd3e6",
   "metadata": {},
   "outputs": [],
   "source": [
    "# Assuming data1 is your DataFrame\n",
    "# indexes 2, 7, 10, 15, 24 are 'categorical' --> we will change this later on \n",
    "# Define the primary columns to move to the end\n",
    "primary_indices = [2, 7, 10, 15, 24]\n",
    "primary_columns = data2.columns[primary_indices]\n",
    "\n",
    "# Define the initial columns (0 to 8), excluding the primary columns\n",
    "initial_indices = list(range(13))\n",
    "initial_indices = [i for i in initial_indices if i not in primary_indices]\n",
    "initial_columns = data2.columns[initial_indices]\n",
    "\n",
    "# Combine the initial columns with the primary columns\n",
    "new_column_order = list(initial_columns) + list(primary_columns)\n",
    "\n",
    "# Reorder the DataFrame\n",
    "data2 = data2[new_column_order]\n",
    "\n",
    "# Ensure the DataFrame has exactly 13 columns\n",
    "data2 = data2.iloc[:, :13]\n",
    "\n",
    "# Reset the column index to go from 0 to 12\n",
    "data2.columns = range(13)\n",
    "\n",
    "# Display the first few rows of the new DataFrame\n",
    "print(data2.dtypes)\n"
   ]
  },
  {
   "cell_type": "markdown",
   "id": "989fbade-0f5e-4752-8110-2d6f812ae665",
   "metadata": {},
   "source": [
    "# Gaussian Distribution"
   ]
  },
  {
   "cell_type": "code",
   "execution_count": null,
   "id": "fe743336-8bf3-433e-a128-e8fc8aa271a5",
   "metadata": {},
   "outputs": [],
   "source": [
    "# indexes 2, 3, 7, 9, 12 are 'categorical' --> we will change this later on \n",
    "# Define the primary columns to move to the end\n",
    "primary_indices = [2, 3, 7, 9, 12]\n",
    "primary_columns = data1.columns[primary_indices]\n",
    "\n",
    "# Define the initial columns (0 to 8), excluding the primary columns\n",
    "initial_indices = list(range(13))\n",
    "initial_indices = [i for i in initial_indices if i not in primary_indices]\n",
    "initial_columns = data1.columns[initial_indices]\n",
    "\n",
    "# Combine the initial columns with the primary columns\n",
    "new_column_order = list(initial_columns) + list(primary_columns)\n",
    "\n",
    "# Reorder the DataFrame\n",
    "data1 = data1[new_column_order]\n",
    "\n",
    "# Ensure the DataFrame has exactly 13 columns\n",
    "data1 = data1.iloc[:, :13]\n",
    "\n",
    "# Reset the column index to go from 0 to 12\n",
    "data1.columns = range(13)\n",
    "\n",
    "# Display the first few rows of the new DataFrame\n",
    "print(data1.dtypes)\n"
   ]
  },
  {
   "cell_type": "code",
   "execution_count": null,
   "id": "bff7b1d3-21b2-46c9-aa8c-a812252bdb52",
   "metadata": {},
   "outputs": [],
   "source": [
    "# indexes 2, 3, 7, 9, 12 are 'categorical' --> we will change this later on \n",
    "# Define the primary columns to move to the end\n",
    "primary_indices = [2, 3, 7, 9, 12]\n",
    "primary_columns = data2.columns[primary_indices]\n",
    "\n",
    "# Define the initial columns (0 to 8), excluding the primary columns\n",
    "initial_indices = list(range(13))\n",
    "initial_indices = [i for i in initial_indices if i not in primary_indices]\n",
    "initial_columns = data2.columns[initial_indices]\n",
    "\n",
    "# Combine the initial columns with the primary columns\n",
    "new_column_order = list(initial_columns) + list(primary_columns)\n",
    "\n",
    "# Reorder the DataFrame\n",
    "data2 = data2[new_column_order]\n",
    "\n",
    "# Ensure the DataFrame has exactly 13 columns\n",
    "data2 = data2.iloc[:, :13]\n",
    "\n",
    "# Reset the column index to go from 0 to 12\n",
    "data2.columns = range(13)\n",
    "\n",
    "# Display the first few rows of the new DataFrame\n",
    "print(data2 .dtypes)\n"
   ]
  },
  {
   "cell_type": "markdown",
   "id": "6d74374e-7a53-4873-b426-f3c7f61e3b64",
   "metadata": {},
   "source": [
    "# Stacked Distribution"
   ]
  },
  {
   "cell_type": "code",
   "execution_count": 8,
   "id": "f52c5ceb-1aed-47cd-ae7e-e3b4a3d29d0c",
   "metadata": {},
   "outputs": [
    {
     "name": "stdout",
     "output_type": "stream",
     "text": [
      "0     float64\n",
      "1     float64\n",
      "2     float64\n",
      "3     float64\n",
      "4     float64\n",
      "5     float64\n",
      "6     float64\n",
      "7     float64\n",
      "8     float64\n",
      "9     float64\n",
      "10    float64\n",
      "11    float64\n",
      "12    float64\n",
      "dtype: object\n"
     ]
    }
   ],
   "source": [
    "# indexes 16, 17, 18, 19, 20, 21, 22, 23, 24 'categorical' --> we will change this later on \n",
    "# Define the primary columns to move to the end\n",
    "primary_indices = [16, 17, 18, 19, 24]\n",
    "primary_columns = data1.columns[primary_indices]\n",
    "\n",
    "# Define the initial columns (0 to 8), excluding the primary columns\n",
    "initial_indices = list(range(13))\n",
    "initial_indices = [i for i in initial_indices if i not in primary_indices]\n",
    "initial_columns = data1.columns[initial_indices]\n",
    "\n",
    "# Combine the initial columns with the primary columns\n",
    "new_column_order = list(initial_columns) + list(primary_columns)\n",
    "\n",
    "# Reorder the DataFrame\n",
    "data1 = data1[new_column_order]\n",
    "\n",
    "# Ensure the DataFrame has exactly 13 columns\n",
    "data1 = data1.iloc[:, :13]\n",
    "\n",
    "# Reset the column index to go from 0 to 12\n",
    "data1.columns = range(13)\n",
    "\n",
    "# Display the first few rows of the new DataFrame\n",
    "print(data1.dtypes)\n"
   ]
  },
  {
   "cell_type": "code",
   "execution_count": 12,
   "id": "8d77a2f5-985d-4e5f-8eb9-d0eb5be1887b",
   "metadata": {},
   "outputs": [
    {
     "name": "stdout",
     "output_type": "stream",
     "text": [
      "0     float64\n",
      "1     float64\n",
      "2     float64\n",
      "3     float64\n",
      "4     float64\n",
      "5     float64\n",
      "6     float64\n",
      "7     float64\n",
      "8     float64\n",
      "9     float64\n",
      "10    float64\n",
      "11    float64\n",
      "12    float64\n",
      "dtype: object\n"
     ]
    }
   ],
   "source": [
    "# indexes 16, 17, 18, 19, 20, 21, 22, 23, 24 'categorical' --> we will change this later on \n",
    "# Define the primary columns to move to the end\n",
    "primary_indices = [16, 17, 18, 19, 24]\n",
    "primary_columns = data2.columns[primary_indices]\n",
    "\n",
    "# Define the initial columns (0 to 8), excluding the primary columns\n",
    "initial_indices = list(range(13))\n",
    "initial_indices = [i for i in initial_indices if i not in primary_indices]\n",
    "initial_columns = data2.columns[initial_indices]\n",
    "\n",
    "# Combine the initial columns with the primary columns\n",
    "new_column_order = list(initial_columns) + list(primary_columns)\n",
    "\n",
    "# Reorder the DataFrame\n",
    "data2 = data2[new_column_order]\n",
    "\n",
    "# Ensure the DataFrame has exactly 13 columns\n",
    "data2 = data2.iloc[:, :13]\n",
    "\n",
    "# Reset the column index to go from 0 to 12\n",
    "data2.columns = range(13)\n",
    "\n",
    "# Display the first few rows of the new DataFrame\n",
    "print(data2.dtypes)\n",
    "\n"
   ]
  },
  {
   "cell_type": "markdown",
   "id": "3973baf6-f10f-4559-b034-1671b64dd548",
   "metadata": {},
   "source": [
    "# Data1: Synthetic Data"
   ]
  },
  {
   "cell_type": "code",
   "execution_count": 10,
   "id": "1d5edb0a-73dc-47d6-ba73-1c5e13cdda7a",
   "metadata": {},
   "outputs": [
    {
     "name": "stdout",
     "output_type": "stream",
     "text": [
      "0      float64\n",
      "1      float64\n",
      "2      float64\n",
      "3      float64\n",
      "4      float64\n",
      "5      float64\n",
      "6      float64\n",
      "7      float64\n",
      "8     category\n",
      "9     category\n",
      "10    category\n",
      "11    category\n",
      "12    category\n",
      "dtype: object\n",
      "---------------------------Correlation Matrix------------------------- \n",
      "           0         1         2         3         4         5         6  \\\n",
      "0  1.000000  0.108070  0.063378  0.159118  0.300733  0.060047  0.076865   \n",
      "1  0.108070  1.000000  0.232834  0.269201  0.221611  0.170111  0.212529   \n",
      "2  0.063378  0.232834  1.000000  0.258135  0.189010  0.126492  0.259201   \n",
      "3  0.159118  0.269201  0.258135  1.000000  0.243808  0.166886  0.106227   \n",
      "4  0.300733  0.221611  0.189010  0.243808  1.000000  0.236655  0.218265   \n",
      "5  0.060047  0.170111  0.126492  0.166886  0.236655  1.000000  0.008345   \n",
      "6  0.076865  0.212529  0.259201  0.106227  0.218265  0.008345  1.000000   \n",
      "7  0.307111  0.129085  0.118733  0.067711  0.136175  0.008266  0.165480   \n",
      "\n",
      "          7  \n",
      "0  0.307111  \n",
      "1  0.129085  \n",
      "2  0.118733  \n",
      "3  0.067711  \n",
      "4  0.136175  \n",
      "5  0.008266  \n",
      "6  0.165480  \n",
      "7  1.000000  \n",
      "          0         1         2         3         4         5         6  \\\n",
      "0  1.000000  0.108070  0.063378  0.159118  0.300733  0.060047  0.076865   \n",
      "1  0.108070  1.000000  0.232834  0.269201  0.221611  0.170111  0.212529   \n",
      "2  0.063378  0.232834  1.000000  0.258135  0.189010  0.126492  0.259201   \n",
      "3  0.159118  0.269201  0.258135  1.000000  0.243808  0.166886  0.106227   \n",
      "4  0.300733  0.221611  0.189010  0.243808  1.000000  0.236655  0.218265   \n",
      "5  0.060047  0.170111  0.126492  0.166886  0.236655  1.000000  0.008345   \n",
      "6  0.076865  0.212529  0.259201  0.106227  0.218265  0.008345  1.000000   \n",
      "7  0.307111  0.129085  0.118733  0.067711  0.136175  0.008266  0.165480   \n",
      "\n",
      "          7  \n",
      "0  0.307111  \n",
      "1  0.129085  \n",
      "2  0.118733  \n",
      "3  0.067711  \n",
      "4  0.136175  \n",
      "5  0.008266  \n",
      "6  0.165480  \n",
      "7  1.000000  \n"
     ]
    },
    {
     "data": {
      "text/plain": [
       "(8, 8)"
      ]
     },
     "execution_count": 10,
     "metadata": {},
     "output_type": "execute_result"
    }
   ],
   "source": [
    "################### Convert 5 last columns to int then categorical ############\n",
    "# Convert the last 5 columns to integers\n",
    "for col in data1.columns[-5:]:\n",
    "    data1[col] = data1[col].astype(int)\n",
    "\n",
    "# Convert the last 5 columns to categorical\n",
    "for col in data1.columns[-5:]:\n",
    "    data1[col] = data1[col].astype('category')\n",
    "\n",
    "print(data1.dtypes)\n",
    "##################### Subsetting data ################################\n",
    "\n",
    "\n",
    "# Splitting X_train into numerical subset \n",
    "numerical_df = data1.select_dtypes(include = ['float', 'float64'])\n",
    "\n",
    "# Splitting X_train into categorical subset \n",
    "categorical_df = data1.select_dtypes(exclude=['float', 'float64'])\n",
    "\n",
    "\n",
    "##################### Correlation between columns (numerical) Code ############################\n",
    "# Takes the X_train data to find correlation between NUMERICAL features\n",
    "def num_corr(X_train_numerical):\n",
    "    matrix = X_train_numerical.corr(method='pearson')\n",
    "    print(\"---------------------------Correlation Matrix------------------------- \\n\", matrix)\n",
    "     \n",
    "#Calls the function so the matrix prints out    \n",
    "correlation_matrix = num_corr(numerical_df)\n",
    "\n",
    "\n",
    "\n",
    "#################### save Data1 matrix as a dataframe #################################\n",
    "#data1\n",
    "correlation_matrix = numerical_df.corr()\n",
    "correlation_df1 = pd.DataFrame(correlation_matrix)\n",
    "print(correlation_df1)\n",
    "\n",
    "correlation_df1.shape"
   ]
  },
  {
   "cell_type": "markdown",
   "id": "cb1aa6b9-8b74-4f34-b81c-00a47e09409d",
   "metadata": {},
   "source": [
    "# Data1 + Data2: Combined_data"
   ]
  },
  {
   "cell_type": "code",
   "execution_count": 14,
   "id": "7c152381-70d9-4432-9722-fd110d049a8d",
   "metadata": {},
   "outputs": [
    {
     "name": "stdout",
     "output_type": "stream",
     "text": [
      "0      float64\n",
      "1      float64\n",
      "2      float64\n",
      "3      float64\n",
      "4      float64\n",
      "5      float64\n",
      "6      float64\n",
      "7      float64\n",
      "8     category\n",
      "9     category\n",
      "10    category\n",
      "11    category\n",
      "12    category\n",
      "dtype: object\n",
      "---------------------------Correlation Matrix------------------------- \n",
      "           0         1         2         3         4         5         6  \\\n",
      "0  1.000000  0.076951  0.109919  0.142284  0.327129  0.065732  0.092542   \n",
      "1  0.076951  1.000000  0.210111  0.222611  0.152652  0.221276  0.166815   \n",
      "2  0.109919  0.210111  1.000000  0.210367  0.092081  0.111898  0.307895   \n",
      "3  0.142284  0.222611  0.210367  1.000000  0.175315  0.174861  0.046374   \n",
      "4  0.327129  0.152652  0.092081  0.175315  1.000000  0.212913  0.193080   \n",
      "5  0.065732  0.221276  0.111898  0.174861  0.212913  1.000000  0.067276   \n",
      "6  0.092542  0.166815  0.307895  0.046374  0.193080  0.067276  1.000000   \n",
      "7  0.357467  0.174785  0.121293  0.050118  0.143398  0.024715  0.121496   \n",
      "\n",
      "          7  \n",
      "0  0.357467  \n",
      "1  0.174785  \n",
      "2  0.121293  \n",
      "3  0.050118  \n",
      "4  0.143398  \n",
      "5  0.024715  \n",
      "6  0.121496  \n",
      "7  1.000000  \n",
      "          0         1         2         3         4         5         6  \\\n",
      "0  1.000000  0.076951  0.109919  0.142284  0.327129  0.065732  0.092542   \n",
      "1  0.076951  1.000000  0.210111  0.222611  0.152652  0.221276  0.166815   \n",
      "2  0.109919  0.210111  1.000000  0.210367  0.092081  0.111898  0.307895   \n",
      "3  0.142284  0.222611  0.210367  1.000000  0.175315  0.174861  0.046374   \n",
      "4  0.327129  0.152652  0.092081  0.175315  1.000000  0.212913  0.193080   \n",
      "5  0.065732  0.221276  0.111898  0.174861  0.212913  1.000000  0.067276   \n",
      "6  0.092542  0.166815  0.307895  0.046374  0.193080  0.067276  1.000000   \n",
      "7  0.357467  0.174785  0.121293  0.050118  0.143398  0.024715  0.121496   \n",
      "\n",
      "          7  \n",
      "0  0.357467  \n",
      "1  0.174785  \n",
      "2  0.121293  \n",
      "3  0.050118  \n",
      "4  0.143398  \n",
      "5  0.024715  \n",
      "6  0.121496  \n",
      "7  1.000000  \n"
     ]
    },
    {
     "data": {
      "text/plain": [
       "(8, 8)"
      ]
     },
     "execution_count": 14,
     "metadata": {},
     "output_type": "execute_result"
    }
   ],
   "source": [
    "########################## Concat Data1 +  Data2 ##################################\n",
    "# Combine the DataFrames using pd.concat to maintain the data types\n",
    "combined_data = pd.concat([data1, data2], ignore_index=True)\n",
    "\n",
    " \n",
    "\n",
    "################### Convert 5 last columns to int then categorical ############\n",
    "# Convert the last 5 columns to integers\n",
    "for col in combined_data.columns[-5:]:\n",
    "    combined_data[col] = combined_data[col].astype(int)\n",
    "\n",
    "# Convert the last 5 columns to categorical\n",
    "for col in combined_data.columns[-5:]:\n",
    "    combined_data[col] = combined_data[col].astype('category')\n",
    "\n",
    "print(combined_data.dtypes)\n",
    "\n",
    "##################### Subsetting data ################################\n",
    "\n",
    "\n",
    "# Splitting X_train into numerical subset \n",
    "numerical_df = combined_data.select_dtypes(include = ['float', 'float64'])\n",
    "\n",
    "# Splitting X_train into categorical subset \n",
    "categorical_df = combined_data.select_dtypes(exclude=['float', 'float64'])\n",
    "\n",
    "\n",
    "##################### Correlation between columns (numerical) Code ############################\n",
    "# Takes the X_train data to find correlation between NUMERICAL features\n",
    "def num_corr(X_train_numerical):\n",
    "    matrix = X_train_numerical.corr(method='pearson')\n",
    "    print(\"---------------------------Correlation Matrix------------------------- \\n\", matrix)\n",
    "     \n",
    "#Calls the function so the matrix prints out    \n",
    "correlation_matrix = num_corr(numerical_df)\n",
    "\n",
    "\n",
    "############################## save combined_data matrix as a dataframe ############################\n",
    "#combined_data\n",
    "correlation_matrix = numerical_df.corr()\n",
    "correlation_df_combined = pd.DataFrame(correlation_matrix)\n",
    "print(correlation_df_combined)\n",
    "\n",
    "correlation_df_combined.shape\n"
   ]
  },
  {
   "cell_type": "markdown",
   "id": "7d9ea54a-72ba-4ff8-a05b-4b52434b68cc",
   "metadata": {},
   "source": [
    "# Differences in Matrices (Frobenius Norm)"
   ]
  },
  {
   "cell_type": "code",
   "execution_count": 18,
   "id": "a262690c-dfaf-40c8-863b-77001e14d52c",
   "metadata": {},
   "outputs": [
    {
     "name": "stdout",
     "output_type": "stream",
     "text": [
      "Frobenius norm (absolute error) :  0.319\n",
      "Frobenius norm (relative error) :  0.101\n"
     ]
    }
   ],
   "source": [
    "# Convert the dataframes to numpy arrays\n",
    "matrix1 = correlation_df1.to_numpy()\n",
    "matrix2 = correlation_df_combined.to_numpy()\n",
    "\n",
    "# Compute the Frobenius norm of the difference between the matrices. \n",
    "frobenius_abs = np.linalg.norm(matrix1 - matrix2, ord='fro')   # Absolute error with Frobenius norm\n",
    "\n",
    "frobenius_rel = frobenius_abs/np.linalg.norm(matrix1, ord='fro')    # Relative error with Frobenius norm\n",
    "\n",
    "print(f\"Frobenius norm (absolute error) : {frobenius_abs: .3f}\")\n",
    "print(f\"Frobenius norm (relative error) : {frobenius_rel: .3f}\")\n"
   ]
  }
 ],
 "metadata": {
  "kernelspec": {
   "display_name": "Python 3 (ipykernel)",
   "language": "python",
   "name": "python3"
  },
  "language_info": {
   "codemirror_mode": {
    "name": "ipython",
    "version": 3
   },
   "file_extension": ".py",
   "mimetype": "text/x-python",
   "name": "python",
   "nbconvert_exporter": "python",
   "pygments_lexer": "ipython3",
   "version": "3.11.7"
  }
 },
 "nbformat": 4,
 "nbformat_minor": 5
}
