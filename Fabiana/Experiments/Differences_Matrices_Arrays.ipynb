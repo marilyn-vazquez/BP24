{
 "cells": [
  {
   "cell_type": "markdown",
   "id": "0f0b58dd-f789-429f-9f35-9c42480c76d1",
   "metadata": {},
   "source": [
    "# Note:\n",
    "-(make sure both data1 and data2 have the same number of numerical and categorical columns)\n",
    "- Run all the cells for data1\n",
    "- Then, run all the cells for data2\n",
    "- Then after you have the correlation matrices for both (data1 and data2) --> run the difference between matrices test\n",
    "- This is the only way this file will work. If you dont follow the steps you will get a result of ZERO"
   ]
  },
  {
   "cell_type": "code",
   "execution_count": 133,
   "id": "4061dbbd-b593-4839-9ca5-aa8ada5bdcda",
   "metadata": {},
   "outputs": [],
   "source": [
    "import numpy as np\n",
    "import pandas as pd\n",
    "from numpy import linalg\n",
    "from sklearn.model_selection import train_test_split"
   ]
  },
  {
   "cell_type": "markdown",
   "id": "657bfdd5-302c-42ef-9f05-e4ccbefd8ead",
   "metadata": {},
   "source": [
    "# Upload Dataset"
   ]
  },
  {
   "cell_type": "code",
   "execution_count": 136,
   "id": "198910fa-c38e-49d7-b3e5-ec9e71e9ecf3",
   "metadata": {},
   "outputs": [],
   "source": [
    "# Dataset before augmentation\n",
    "#data1 = pd.read_csv(\"/Users/fabianafazio/Documents/GitHub/BP24/Ellee/Data/Stacked/stacked_orig.csv\", header=None)\n",
    "data1 = pd.read_csv(\"/Users/fabianafazio/Documents/GitHub/BP24/Ellee/Data/Uniform/uniform_orig.csv\", header=None)\n",
    "\n",
    "# Dataset after augmentation\n",
    "data2 = pd.read_csv(\"/Users/fabianafazio/Documents/GitHub/BP24/Ellee/Data/Stacked/stacked_new.csv\", header=None)\n",
    "#data2 = pd.read_csv(\"/Users/fabianafazio/Documents/GitHub/BP24/Ellee/Data/Uniform/uniform_new.csv\", header=None)\n",
    "#data2 = pd.read_csv(\"/Users/fabianafazio/Documents/GitHub/BP24/Ellee/Data/Gaussian/gaussian_new.csv\", header=None)\n",
    "\n"
   ]
  },
  {
   "cell_type": "code",
   "execution_count": 138,
   "id": "4bc4a540-4ab8-46fb-9d49-0629d8580b26",
   "metadata": {},
   "outputs": [
    {
     "name": "stdout",
     "output_type": "stream",
     "text": [
      "Shape of data1: (343, 25)\n",
      "Shape of data2: (240, 25)\n"
     ]
    }
   ],
   "source": [
    "# Print shapes for debugging\n",
    "print(f\"Shape of data1: {data1.shape}\")\n",
    "print(f\"Shape of data2: {data2.shape}\")\n"
   ]
  },
  {
   "cell_type": "code",
   "execution_count": 83,
   "id": "b8d71858-9d7a-4db8-a3b0-e99c76cecf4b",
   "metadata": {},
   "outputs": [
    {
     "data": {
      "text/plain": [
       "(343, 13)"
      ]
     },
     "execution_count": 83,
     "metadata": {},
     "output_type": "execute_result"
    }
   ],
   "source": [
    "# Subset the last 13 columns for the dataset with the 25 columns \n",
    "#(we need to make sure we have the same categorical and numerical columns)\n",
    "subset_data1 = data1.iloc[:, -13:]\n",
    "subset_data1.shape"
   ]
  },
  {
   "cell_type": "markdown",
   "id": "bdbe6694-f2b0-43b4-90a1-fc8e2034b417",
   "metadata": {},
   "source": [
    "# Concat Original dataset with New generated dataset"
   ]
  },
  {
   "cell_type": "code",
   "execution_count": null,
   "id": "6716385e-7b86-43be-a458-5470ae7f8e8b",
   "metadata": {},
   "outputs": [],
   "source": [
    "# Concat (adding rows)\n",
    "combined_df = np.vstack((data1, data2))\n",
    "\n",
    "# Reset the index to ensure a clean, continuous index\n",
    "#combined_df.reset_index(drop=True, inplace=True)\n",
    "combined_df.shape\n",
    "combined_df\n",
    "\n",
    "# change numpy array into a dataframe\n",
    "combined_data = pd.DataFrame(combined_df, columns=data1.columns)\n",
    "combined_data\n",
    "\n",
    "# Convert the last 9 columns to categorical\n",
    "for column in combined_data.columns[-9:]:\n",
    "    combined_data[column] = combined_data[column].astype('category')\n",
    "\n",
    "# Verify the changes\n",
    "print(combined_data.dtypes)"
   ]
  },
  {
   "cell_type": "markdown",
   "id": "5f91f83e-168c-4b2f-9119-c0858d5e0007",
   "metadata": {},
   "source": [
    "# Convert columns into categorical (Only for Uniform and Gaussian Distribution)"
   ]
  },
  {
   "cell_type": "code",
   "execution_count": 122,
   "id": "2e56a28d-5d28-4f27-bab4-c783ae3a7443",
   "metadata": {},
   "outputs": [
    {
     "data": {
      "text/plain": [
       "0      float64\n",
       "1      float64\n",
       "2      float64\n",
       "3      float64\n",
       "4      float64\n",
       "5      float64\n",
       "6      float64\n",
       "7      float64\n",
       "8      float64\n",
       "9      float64\n",
       "10     float64\n",
       "11     float64\n",
       "12     float64\n",
       "13     float64\n",
       "14     float64\n",
       "15     float64\n",
       "16    category\n",
       "17    category\n",
       "18    category\n",
       "19    category\n",
       "20    category\n",
       "21    category\n",
       "22    category\n",
       "23    category\n",
       "24    category\n",
       "dtype: object"
      ]
     },
     "execution_count": 122,
     "metadata": {},
     "output_type": "execute_result"
    }
   ],
   "source": [
    "for i in range(-9,0):\n",
    "    data1.iloc[:,i] = data1.iloc[:,i].astype(int) # Integer\n",
    "    data1.iloc[:,i] = data1.iloc[:,i].astype('category') # Categories\n",
    "data1.dtypes\n",
    "#data2.head()  "
   ]
  },
  {
   "cell_type": "markdown",
   "id": "6d74374e-7a53-4873-b426-f3c7f61e3b64",
   "metadata": {},
   "source": [
    "# Convert Last 9 columns to Categorical (Only for Stacked Distribution)"
   ]
  },
  {
   "cell_type": "code",
   "execution_count": 140,
   "id": "ab01b550-9ba2-4d84-8bc0-a5d28d05d206",
   "metadata": {},
   "outputs": [
    {
     "name": "stdout",
     "output_type": "stream",
     "text": [
      "0      float64\n",
      "1      float64\n",
      "2      float64\n",
      "3      float64\n",
      "4      float64\n",
      "5      float64\n",
      "6      float64\n",
      "7      float64\n",
      "8      float64\n",
      "9      float64\n",
      "10     float64\n",
      "11     float64\n",
      "12     float64\n",
      "13     float64\n",
      "14     float64\n",
      "15     float64\n",
      "16    category\n",
      "17    category\n",
      "18    category\n",
      "19    category\n",
      "20    category\n",
      "21    category\n",
      "22    category\n",
      "23    category\n",
      "24    category\n",
      "dtype: object\n"
     ]
    }
   ],
   "source": [
    "#data1\n",
    "# Convert the last 9 columns to categorical\n",
    "for column in data2.columns[-9:]:\n",
    "    data2[column] = data2[column].astype('category')\n",
    "\n",
    "# Verify the changes\n",
    "print(data2.dtypes)\n"
   ]
  },
  {
   "cell_type": "markdown",
   "id": "cb1aa6b9-8b74-4f34-b81c-00a47e09409d",
   "metadata": {},
   "source": [
    "# Split Dataset"
   ]
  },
  {
   "cell_type": "code",
   "execution_count": 124,
   "id": "7c152381-70d9-4432-9722-fd110d049a8d",
   "metadata": {},
   "outputs": [],
   "source": [
    "# Split dataset into X and y (data1)\n",
    "X = data1.iloc[:, :-1]  # All columns except the last one\n",
    "y = data1.iloc[:, -1]   # Only the last column\n",
    "\n",
    "\n",
    "# Split dataset into X_train and y_train\n",
    "X_train, X_test, y_train, y_test = train_test_split(X, y, test_size=0.2, random_state=42)"
   ]
  },
  {
   "cell_type": "code",
   "execution_count": 142,
   "id": "84a9fde3-72eb-48dd-a97a-879cf278b41a",
   "metadata": {},
   "outputs": [],
   "source": [
    "# data2\n",
    "X = data2.iloc[:, :-1]\n",
    "y = data2.iloc[:, -1]\n",
    "\n",
    "\n",
    "# Split dataset into X_train and y_train\n",
    "X_train, X_test, y_train, y_test = train_test_split(X, y, test_size=0.2, random_state=42)"
   ]
  },
  {
   "cell_type": "code",
   "execution_count": 144,
   "id": "1d5edb0a-73dc-47d6-ba73-1c5e13cdda7a",
   "metadata": {},
   "outputs": [],
   "source": [
    "# Splitting X_train into numerical subset \n",
    "numerical_df = X_train.select_dtypes(include = ['float', 'float64'])\n",
    "\n",
    "# Splitting X_train into categorical subset \n",
    "categorical_df = X_train.select_dtypes(exclude=['float', 'float64'])"
   ]
  },
  {
   "cell_type": "markdown",
   "id": "30441ffc-4e6b-44be-94fb-4366c680c6ec",
   "metadata": {},
   "source": [
    "# Correlation between columns test (Matrix)"
   ]
  },
  {
   "cell_type": "code",
   "execution_count": 147,
   "id": "7781a524-15f7-4da5-95ab-24800c49ed8a",
   "metadata": {},
   "outputs": [
    {
     "name": "stdout",
     "output_type": "stream",
     "text": [
      "---------------------------Correlation Matrix------------------------- \n",
      "           0         1         2         3         4         5         6   \\\n",
      "0   1.000000  0.105512  0.208430  0.149823  0.169412  0.153157  0.325821   \n",
      "1   0.105512  1.000000  0.187559  0.262734  0.188697  0.159108  0.164810   \n",
      "2   0.208430  0.187559  1.000000  0.189204  0.185370  0.230435  0.181989   \n",
      "3   0.149823  0.262734  0.189204  1.000000  0.176451  0.194657  0.131511   \n",
      "4   0.169412  0.188697  0.185370  0.176451  1.000000  0.331499  0.290772   \n",
      "5   0.153157  0.159108  0.230435  0.194657  0.331499  1.000000  0.187927   \n",
      "6   0.325821  0.164810  0.181989  0.131511  0.290772  0.187927  1.000000   \n",
      "7   0.130539  0.114001  0.172976  0.034487  0.224663  0.134920  0.157055   \n",
      "8   0.277164  0.128206  0.213753  0.181368  0.012238  0.143849  0.198460   \n",
      "9   0.249566  0.076445  0.250782  0.151817  0.186385  0.139998  0.239602   \n",
      "10  0.218729  0.089038  0.127822  0.226095  0.213650  0.229932  0.279842   \n",
      "11  0.223724  0.182856  0.225609  0.239901  0.162080  0.103940  0.391341   \n",
      "12  0.185346  0.109193  0.199075  0.251113  0.281399  0.211340  0.278552   \n",
      "13  0.238494  0.157880  0.087817  0.319856  0.217423  0.170764  0.263496   \n",
      "14  0.224961  0.162348  0.227295  0.226743  0.187367  0.278230  0.254235   \n",
      "15  0.251752  0.223814  0.186855  0.244390  0.140967  0.262589  0.405189   \n",
      "\n",
      "          7         8         9         10        11        12        13  \\\n",
      "0   0.130539  0.277164  0.249566  0.218729  0.223724  0.185346  0.238494   \n",
      "1   0.114001  0.128206  0.076445  0.089038  0.182856  0.109193  0.157880   \n",
      "2   0.172976  0.213753  0.250782  0.127822  0.225609  0.199075  0.087817   \n",
      "3   0.034487  0.181368  0.151817  0.226095  0.239901  0.251113  0.319856   \n",
      "4   0.224663  0.012238  0.186385  0.213650  0.162080  0.281399  0.217423   \n",
      "5   0.134920  0.143849  0.139998  0.229932  0.103940  0.211340  0.170764   \n",
      "6   0.157055  0.198460  0.239602  0.279842  0.391341  0.278552  0.263496   \n",
      "7   1.000000  0.138612  0.049933  0.156696  0.131293  0.237560  0.055820   \n",
      "8   0.138612  1.000000  0.290903  0.269490  0.308148  0.321967  0.208687   \n",
      "9   0.049933  0.290903  1.000000  0.290549  0.316657  0.232838  0.211780   \n",
      "10  0.156696  0.269490  0.290549  1.000000  0.315207  0.318018  0.279610   \n",
      "11  0.131293  0.308148  0.316657  0.315207  1.000000  0.322478  0.257180   \n",
      "12  0.237560  0.321967  0.232838  0.318018  0.322478  1.000000  0.300706   \n",
      "13  0.055820  0.208687  0.211780  0.279610  0.257180  0.300706  1.000000   \n",
      "14  0.164626  0.194148  0.289448  0.230378  0.272678  0.333039  0.231673   \n",
      "15  0.199265  0.285869  0.284078  0.262782  0.264172  0.293387  0.325559   \n",
      "\n",
      "          14        15  \n",
      "0   0.224961  0.251752  \n",
      "1   0.162348  0.223814  \n",
      "2   0.227295  0.186855  \n",
      "3   0.226743  0.244390  \n",
      "4   0.187367  0.140967  \n",
      "5   0.278230  0.262589  \n",
      "6   0.254235  0.405189  \n",
      "7   0.164626  0.199265  \n",
      "8   0.194148  0.285869  \n",
      "9   0.289448  0.284078  \n",
      "10  0.230378  0.262782  \n",
      "11  0.272678  0.264172  \n",
      "12  0.333039  0.293387  \n",
      "13  0.231673  0.325559  \n",
      "14  1.000000  0.222051  \n",
      "15  0.222051  1.000000  \n"
     ]
    }
   ],
   "source": [
    "##################### Correlation between columns (numerical) Code ############################\n",
    "# Takes the X_train data to find correlation between NUMERICAL features\n",
    "def num_corr(X_train_numerical):\n",
    "    matrix = X_train_numerical.corr(method='pearson')\n",
    "    print(\"---------------------------Correlation Matrix------------------------- \\n\", matrix)\n",
    "     \n",
    "#Calls the function so the matrix prints out    \n",
    "correlation_matrix = num_corr(numerical_df)\n",
    "\n",
    "# Print the dataframe to verify\n",
    "#print(correlation_matrix)\n",
    "#0.860\n"
   ]
  },
  {
   "cell_type": "markdown",
   "id": "c92f7e8a-ca00-46fa-be6a-7daa0025486e",
   "metadata": {},
   "source": [
    "# Save Correlation Matrix into a Dataframe"
   ]
  },
  {
   "cell_type": "code",
   "execution_count": null,
   "id": "c3bb1258-3e08-4365-a4eb-364b74bb224b",
   "metadata": {},
   "outputs": [],
   "source": [
    "#combined_data\n",
    "correlation_matrix = numerical_df.corr()\n",
    "correlation_df_combined = pd.DataFrame(correlation_matrix)\n",
    "print(correlation_df_combined)\n",
    "\n",
    "correlation_df_combined.shape"
   ]
  },
  {
   "cell_type": "code",
   "execution_count": 131,
   "id": "37eb9739-986a-486b-b499-053be1e7031a",
   "metadata": {},
   "outputs": [
    {
     "name": "stdout",
     "output_type": "stream",
     "text": [
      "          0         1         2         3         4         5         6   \\\n",
      "0   1.000000  0.153738  0.136624  0.084442  0.065896  0.182015  0.132600   \n",
      "1   0.153738  1.000000  0.031240  0.146102  0.093639  0.203931  0.174417   \n",
      "2   0.136624  0.031240  1.000000  0.108437  0.062278  0.083978  0.070123   \n",
      "3   0.084442  0.146102  0.108437  1.000000  0.086641  0.160223  0.137962   \n",
      "4   0.065896  0.093639  0.062278  0.086641  1.000000  0.190358  0.044607   \n",
      "5   0.182015  0.203931  0.083978  0.160223  0.190358  1.000000  0.114466   \n",
      "6   0.132600  0.174417  0.070123  0.137962  0.044607  0.114466  1.000000   \n",
      "7  -0.022989  0.060006  0.086452  0.016870 -0.012884  0.135468  0.014761   \n",
      "8  -0.007064  0.084242  0.181168  0.064725  0.025051  0.156622 -0.003306   \n",
      "9   0.086244  0.105229  0.078262  0.158098  0.098994  0.092857  0.128217   \n",
      "10  0.039575  0.137728 -0.041335 -0.034744  0.081228 -0.007523  0.080895   \n",
      "11  0.065992  0.114128 -0.031285  0.034905  0.178465  0.110940  0.000335   \n",
      "12  0.084564  0.188954  0.148415  0.088043  0.171399  0.146997  0.189323   \n",
      "13  0.097929  0.086318  0.037046  0.057185  0.099178  0.175591  0.178317   \n",
      "14  0.129875  0.086466  0.155305  0.196424  0.157637  0.197652  0.008271   \n",
      "15 -0.016030  0.003165  0.095199  0.082405  0.063542  0.097313  0.038868   \n",
      "\n",
      "          7         8         9         10        11        12        13  \\\n",
      "0  -0.022989 -0.007064  0.086244  0.039575  0.065992  0.084564  0.097929   \n",
      "1   0.060006  0.084242  0.105229  0.137728  0.114128  0.188954  0.086318   \n",
      "2   0.086452  0.181168  0.078262 -0.041335 -0.031285  0.148415  0.037046   \n",
      "3   0.016870  0.064725  0.158098 -0.034744  0.034905  0.088043  0.057185   \n",
      "4  -0.012884  0.025051  0.098994  0.081228  0.178465  0.171399  0.099178   \n",
      "5   0.135468  0.156622  0.092857 -0.007523  0.110940  0.146997  0.175591   \n",
      "6   0.014761 -0.003306  0.128217  0.080895  0.000335  0.189323  0.178317   \n",
      "7   1.000000  0.114769 -0.030194  0.057462  0.056849  0.060638  0.040014   \n",
      "8   0.114769  1.000000  0.059255  0.032596  0.127832  0.156012  0.080372   \n",
      "9  -0.030194  0.059255  1.000000  0.047116  0.075936  0.264154 -0.015389   \n",
      "10  0.057462  0.032596  0.047116  1.000000  0.082608 -0.060547  0.170339   \n",
      "11  0.056849  0.127832  0.075936  0.082608  1.000000  0.166307  0.055487   \n",
      "12  0.060638  0.156012  0.264154 -0.060547  0.166307  1.000000  0.150753   \n",
      "13  0.040014  0.080372 -0.015389  0.170339  0.055487  0.150753  1.000000   \n",
      "14  0.155175  0.056257  0.236458 -0.002716  0.066928  0.154679  0.075919   \n",
      "15  0.044416  0.106193  0.124122 -0.022625  0.040047  0.115245  0.127991   \n",
      "\n",
      "          14        15  \n",
      "0   0.129875 -0.016030  \n",
      "1   0.086466  0.003165  \n",
      "2   0.155305  0.095199  \n",
      "3   0.196424  0.082405  \n",
      "4   0.157637  0.063542  \n",
      "5   0.197652  0.097313  \n",
      "6   0.008271  0.038868  \n",
      "7   0.155175  0.044416  \n",
      "8   0.056257  0.106193  \n",
      "9   0.236458  0.124122  \n",
      "10 -0.002716 -0.022625  \n",
      "11  0.066928  0.040047  \n",
      "12  0.154679  0.115245  \n",
      "13  0.075919  0.127991  \n",
      "14  1.000000  0.086422  \n",
      "15  0.086422  1.000000  \n"
     ]
    },
    {
     "data": {
      "text/plain": [
       "(16, 16)"
      ]
     },
     "execution_count": 131,
     "metadata": {},
     "output_type": "execute_result"
    }
   ],
   "source": [
    "#data1\n",
    "correlation_matrix = numerical_df.corr()\n",
    "correlation_df1 = pd.DataFrame(correlation_matrix)\n",
    "print(correlation_df1)\n",
    "\n",
    "correlation_df1.shape"
   ]
  },
  {
   "cell_type": "code",
   "execution_count": 149,
   "id": "b0fdaf84-9cc3-4746-aa8b-8ce5f9a6bd29",
   "metadata": {},
   "outputs": [
    {
     "name": "stdout",
     "output_type": "stream",
     "text": [
      "          0         1         2         3         4         5         6   \\\n",
      "0   1.000000  0.105512  0.208430  0.149823  0.169412  0.153157  0.325821   \n",
      "1   0.105512  1.000000  0.187559  0.262734  0.188697  0.159108  0.164810   \n",
      "2   0.208430  0.187559  1.000000  0.189204  0.185370  0.230435  0.181989   \n",
      "3   0.149823  0.262734  0.189204  1.000000  0.176451  0.194657  0.131511   \n",
      "4   0.169412  0.188697  0.185370  0.176451  1.000000  0.331499  0.290772   \n",
      "5   0.153157  0.159108  0.230435  0.194657  0.331499  1.000000  0.187927   \n",
      "6   0.325821  0.164810  0.181989  0.131511  0.290772  0.187927  1.000000   \n",
      "7   0.130539  0.114001  0.172976  0.034487  0.224663  0.134920  0.157055   \n",
      "8   0.277164  0.128206  0.213753  0.181368  0.012238  0.143849  0.198460   \n",
      "9   0.249566  0.076445  0.250782  0.151817  0.186385  0.139998  0.239602   \n",
      "10  0.218729  0.089038  0.127822  0.226095  0.213650  0.229932  0.279842   \n",
      "11  0.223724  0.182856  0.225609  0.239901  0.162080  0.103940  0.391341   \n",
      "12  0.185346  0.109193  0.199075  0.251113  0.281399  0.211340  0.278552   \n",
      "13  0.238494  0.157880  0.087817  0.319856  0.217423  0.170764  0.263496   \n",
      "14  0.224961  0.162348  0.227295  0.226743  0.187367  0.278230  0.254235   \n",
      "15  0.251752  0.223814  0.186855  0.244390  0.140967  0.262589  0.405189   \n",
      "\n",
      "          7         8         9         10        11        12        13  \\\n",
      "0   0.130539  0.277164  0.249566  0.218729  0.223724  0.185346  0.238494   \n",
      "1   0.114001  0.128206  0.076445  0.089038  0.182856  0.109193  0.157880   \n",
      "2   0.172976  0.213753  0.250782  0.127822  0.225609  0.199075  0.087817   \n",
      "3   0.034487  0.181368  0.151817  0.226095  0.239901  0.251113  0.319856   \n",
      "4   0.224663  0.012238  0.186385  0.213650  0.162080  0.281399  0.217423   \n",
      "5   0.134920  0.143849  0.139998  0.229932  0.103940  0.211340  0.170764   \n",
      "6   0.157055  0.198460  0.239602  0.279842  0.391341  0.278552  0.263496   \n",
      "7   1.000000  0.138612  0.049933  0.156696  0.131293  0.237560  0.055820   \n",
      "8   0.138612  1.000000  0.290903  0.269490  0.308148  0.321967  0.208687   \n",
      "9   0.049933  0.290903  1.000000  0.290549  0.316657  0.232838  0.211780   \n",
      "10  0.156696  0.269490  0.290549  1.000000  0.315207  0.318018  0.279610   \n",
      "11  0.131293  0.308148  0.316657  0.315207  1.000000  0.322478  0.257180   \n",
      "12  0.237560  0.321967  0.232838  0.318018  0.322478  1.000000  0.300706   \n",
      "13  0.055820  0.208687  0.211780  0.279610  0.257180  0.300706  1.000000   \n",
      "14  0.164626  0.194148  0.289448  0.230378  0.272678  0.333039  0.231673   \n",
      "15  0.199265  0.285869  0.284078  0.262782  0.264172  0.293387  0.325559   \n",
      "\n",
      "          14        15  \n",
      "0   0.224961  0.251752  \n",
      "1   0.162348  0.223814  \n",
      "2   0.227295  0.186855  \n",
      "3   0.226743  0.244390  \n",
      "4   0.187367  0.140967  \n",
      "5   0.278230  0.262589  \n",
      "6   0.254235  0.405189  \n",
      "7   0.164626  0.199265  \n",
      "8   0.194148  0.285869  \n",
      "9   0.289448  0.284078  \n",
      "10  0.230378  0.262782  \n",
      "11  0.272678  0.264172  \n",
      "12  0.333039  0.293387  \n",
      "13  0.231673  0.325559  \n",
      "14  1.000000  0.222051  \n",
      "15  0.222051  1.000000  \n"
     ]
    },
    {
     "data": {
      "text/plain": [
       "(16, 16)"
      ]
     },
     "execution_count": 149,
     "metadata": {},
     "output_type": "execute_result"
    }
   ],
   "source": [
    "#data2\n",
    "correlation_matrix = numerical_df.corr()\n",
    "correlation_df2 = pd.DataFrame(correlation_matrix)\n",
    "print(correlation_df2)\n",
    "\n",
    "correlation_df2.shape"
   ]
  },
  {
   "cell_type": "markdown",
   "id": "7d9ea54a-72ba-4ff8-a05b-4b52434b68cc",
   "metadata": {},
   "source": [
    "# Differences in Matrices (Frobenius Norm)"
   ]
  },
  {
   "cell_type": "code",
   "execution_count": 152,
   "id": "a262690c-dfaf-40c8-863b-77001e14d52c",
   "metadata": {},
   "outputs": [
    {
     "name": "stdout",
     "output_type": "stream",
     "text": [
      "Frobenius norm difference:  2.412\n"
     ]
    }
   ],
   "source": [
    "# Convert the dataframes to numpy arrays\n",
    "matrix1 = correlation_df1.to_numpy()\n",
    "matrix2 = correlation_df2.to_numpy()\n",
    "\n",
    "# Compute the Frobenius norm of the difference between the matrices. \n",
    "frobenius_norm = np.linalg.norm(matrix1 - matrix2, ord='fro')\n",
    "#axis= 1 goes across columns\n",
    "#axis = 0 goes across rows\n",
    "\n",
    "\n",
    "print(f\"Frobenius norm difference: {frobenius_norm: .3f}\")\n"
   ]
  },
  {
   "cell_type": "markdown",
   "id": "3893a07c-00f8-4041-ae4b-77e155738f6f",
   "metadata": {},
   "source": [
    "# Differences in Arrays (L2 Norm)"
   ]
  },
  {
   "cell_type": "code",
   "execution_count": null,
   "id": "c0e65e78-7871-4fc8-a693-b5c2ad10229d",
   "metadata": {},
   "outputs": [],
   "source": [
    "#array1 ...\n",
    "#array2 ...\n",
    "\n",
    "# Compute the L2 norm (Euclidean norm) of the difference between the arrays\n",
    "L2_norm = np.linalg.norm(array1 - array2, ord=2)\n",
    "\n",
    "print(f\"L2 norm difference: {L2_norm: .3f}\")\n"
   ]
  },
  {
   "cell_type": "code",
   "execution_count": null,
   "id": "5996e1a0-7162-478b-87bc-f7ac46404aeb",
   "metadata": {},
   "outputs": [],
   "source": []
  }
 ],
 "metadata": {
  "kernelspec": {
   "display_name": "Python 3 (ipykernel)",
   "language": "python",
   "name": "python3"
  },
  "language_info": {
   "codemirror_mode": {
    "name": "ipython",
    "version": 3
   },
   "file_extension": ".py",
   "mimetype": "text/x-python",
   "name": "python",
   "nbconvert_exporter": "python",
   "pygments_lexer": "ipython3",
   "version": "3.11.7"
  }
 },
 "nbformat": 4,
 "nbformat_minor": 5
}
