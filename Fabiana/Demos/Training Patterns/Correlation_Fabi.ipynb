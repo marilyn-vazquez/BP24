{
 "cells": [
  {
   "cell_type": "code",
   "execution_count": 185,
   "id": "4d441418-80f2-47fb-afc0-180ad244b4ff",
   "metadata": {},
   "outputs": [],
   "source": [
    "# import needed packages\n",
    "import numpy as np\n",
    "import pandas as pd"
   ]
  },
  {
   "cell_type": "code",
   "execution_count": 187,
   "id": "c9e41299-caf6-401a-be72-a315d73843f8",
   "metadata": {},
   "outputs": [
    {
     "name": "stdout",
     "output_type": "stream",
     "text": [
      "          0         1         2         3         4         5         6    \\\n",
      "0    2.014037  2.842330  2.093059  2.314322  2.550290  2.556514  2.063987   \n",
      "1    2.655125  2.439494  2.387897  2.414520  2.677007  2.066587  2.221681   \n",
      "2    2.397686  2.129261  2.228847  2.574741  2.672454  2.330393  2.379493   \n",
      "3    0.021023  0.884131  0.570157  0.950007  0.570792  0.741419  0.251829   \n",
      "4    0.087550  0.596086  0.355909  0.447322  0.680048  0.198563  0.192330   \n",
      "..        ...       ...       ...       ...       ...       ...       ...   \n",
      "495  0.611156  0.236036  0.896368  0.773777  0.538057  0.402998  0.090796   \n",
      "496  2.761173  2.080949  2.939479  2.325925  2.977614  2.109083  2.517269   \n",
      "497  0.401104  0.340544  0.555580  0.230778  0.600226  0.992868  0.274078   \n",
      "498  0.248207  0.096274  0.516660  0.946114  0.271408  0.845261  0.546188   \n",
      "499  2.647101  2.363681  2.077603  2.632778  2.676110  2.920187  2.866320   \n",
      "\n",
      "          7         8         9    ...       141       142       143  \\\n",
      "0    2.626166  2.169865  2.729640  ...  2.646452  2.997843  2.546260   \n",
      "1    2.714329  2.637106  2.846487  ...  2.024768  2.424598  2.349128   \n",
      "2    2.028757  2.071634  2.981206  ...  2.625961  2.962051  2.420763   \n",
      "3    0.757477  0.494526  0.316475  ...  0.864361  0.083862  0.616211   \n",
      "4    0.583206  0.219153  0.186750  ...  0.455617  0.516570  0.956458   \n",
      "..        ...       ...       ...  ...       ...       ...       ...   \n",
      "495  0.482314  0.720830  0.180064  ...  0.171930  0.575546  0.945014   \n",
      "496  2.544312  2.654161  2.652206  ...  2.151422  2.056074  2.046506   \n",
      "497  0.244900  0.721668  0.165614  ...  0.372709  0.878008  0.004829   \n",
      "498  0.421216  0.754997  0.122243  ...  0.701308  0.291159  0.210397   \n",
      "499  2.482348  2.262446  2.408884  ...  2.727562  2.806661  2.950930   \n",
      "\n",
      "          144       145       146       147       148       149  150  \n",
      "0    2.423437  2.825879  2.566278  2.403595  2.396183  2.684211  1.0  \n",
      "1    2.325874  2.524994  2.862275  2.060383  2.505475  2.334364  1.0  \n",
      "2    2.411974  2.361735  2.667143  2.073825  2.388143  2.831569  1.0  \n",
      "3    0.898456  0.117597  0.664931  0.813385  0.573604  0.117329  0.0  \n",
      "4    0.972840  0.550108  0.503513  0.337278  0.735706  0.284006  0.0  \n",
      "..        ...       ...       ...       ...       ...       ...  ...  \n",
      "495  0.081361  0.288813  0.572817  0.976307  0.629648  0.328398  0.0  \n",
      "496  2.201667  2.586060  2.426173  2.814096  2.713502  2.494102  1.0  \n",
      "497  0.395672  0.574108  0.120476  0.566036  0.027377  0.236266  0.0  \n",
      "498  0.689696  0.531994  0.544423  0.311161  0.296630  0.472500  0.0  \n",
      "499  2.100634  2.557499  2.814815  2.111127  2.403118  2.725393  1.0  \n",
      "\n",
      "[500 rows x 151 columns]\n"
     ]
    }
   ],
   "source": [
    "#This is what I implemented --Fabi\n",
    "#load dataset\n",
    "data = np.loadtxt(\"uniform_large_d_1.tex\")\n",
    "\n",
    "# Creating NumPy array\n",
    "array = np.array(data)\n",
    "\n",
    "# Converting to Pandas DataFrame\n",
    "df_table = pd.DataFrame(array)\n",
    "\n",
    "# Displaying the table\n",
    "print(df_table)"
   ]
  },
  {
   "cell_type": "code",
   "execution_count": 161,
   "id": "557e4d2e-f2a0-4f9a-b826-a52d70f77762",
   "metadata": {},
   "outputs": [
    {
     "name": "stdout",
     "output_type": "stream",
     "text": [
      "          0         1         2         3         4         5         6    \\\n",
      "0    1.000000  0.929158  0.924704  0.928101  0.927617  0.922816  0.922407   \n",
      "1    0.929158  1.000000  0.924740  0.928030  0.929770  0.925709  0.924826   \n",
      "2    0.924704  0.924740  1.000000  0.925993  0.928419  0.920045  0.921203   \n",
      "3    0.928101  0.928030  0.925993  1.000000  0.926681  0.923778  0.923692   \n",
      "4    0.927617  0.929770  0.928419  0.926681  1.000000  0.922616  0.924595   \n",
      "..        ...       ...       ...       ...       ...       ...       ...   \n",
      "146  0.922252  0.920179  0.914042  0.922341  0.924339  0.916228  0.917731   \n",
      "147  0.934377  0.927804  0.929828  0.918188  0.928903  0.922025  0.923189   \n",
      "148  0.919841  0.916616  0.927009  0.919933  0.922982  0.915026  0.924975   \n",
      "149  0.923502  0.923515  0.918466  0.924443  0.926308  0.918256  0.927131   \n",
      "150  0.962230  0.962121  0.958945  0.961271  0.962504  0.959746  0.961611   \n",
      "\n",
      "          7         8         9    ...       141       142       143  \\\n",
      "0    0.921821  0.927151  0.924539  ...  0.922166  0.924211  0.927096   \n",
      "1    0.927078  0.921251  0.925999  ...  0.925001  0.930597  0.924748   \n",
      "2    0.923864  0.919898  0.921064  ...  0.919451  0.921333  0.922325   \n",
      "3    0.923647  0.913947  0.922569  ...  0.924443  0.917802  0.920124   \n",
      "4    0.927745  0.923573  0.926872  ...  0.921114  0.922507  0.929904   \n",
      "..        ...       ...       ...  ...       ...       ...       ...   \n",
      "146  0.921690  0.918386  0.924497  ...  0.928822  0.919779  0.914390   \n",
      "147  0.929553  0.921945  0.925821  ...  0.925029  0.927103  0.924749   \n",
      "148  0.920600  0.920678  0.928840  ...  0.926382  0.917086  0.923586   \n",
      "149  0.926494  0.918999  0.926673  ...  0.924085  0.918394  0.919451   \n",
      "150  0.961571  0.957377  0.962725  ...  0.960852  0.958624  0.960473   \n",
      "\n",
      "          144       145       146       147       148       149       150  \n",
      "0    0.923989  0.921898  0.922252  0.934377  0.919841  0.923502  0.962230  \n",
      "1    0.927105  0.923964  0.920179  0.927804  0.916616  0.923515  0.962121  \n",
      "2    0.917965  0.923545  0.914042  0.929828  0.927009  0.918466  0.958945  \n",
      "3    0.920693  0.922746  0.922341  0.918188  0.919933  0.924443  0.961271  \n",
      "4    0.927368  0.924824  0.924339  0.928903  0.922982  0.926308  0.962504  \n",
      "..        ...       ...       ...       ...       ...       ...       ...  \n",
      "146  0.914015  0.917977  1.000000  0.919944  0.913997  0.924459  0.958861  \n",
      "147  0.919622  0.924195  0.919944  1.000000  0.927295  0.925262  0.962903  \n",
      "148  0.917881  0.925468  0.913997  0.927295  1.000000  0.922106  0.960590  \n",
      "149  0.919776  0.921612  0.924459  0.925262  0.922106  1.000000  0.961480  \n",
      "150  0.958074  0.961486  0.958861  0.962903  0.960590  0.961480  1.000000  \n",
      "\n",
      "[151 rows x 151 columns]\n"
     ]
    }
   ],
   "source": [
    "print(df_table.corr(method='pearson'))"
   ]
  },
  {
   "cell_type": "code",
   "execution_count": 203,
   "id": "75776f22-53f3-42ca-9893-55aae4af3ccb",
   "metadata": {},
   "outputs": [
    {
     "data": {
      "text/plain": [
       "0      float64\n",
       "1      float64\n",
       "2      float64\n",
       "3      float64\n",
       "4      float64\n",
       "        ...   \n",
       "146    float64\n",
       "147    float64\n",
       "148    float64\n",
       "149    float64\n",
       "150    float64\n",
       "Length: 151, dtype: object"
      ]
     },
     "execution_count": 203,
     "metadata": {},
     "output_type": "execute_result"
    }
   ],
   "source": [
    "df_table.dtypes"
   ]
  },
  {
   "cell_type": "code",
   "execution_count": 205,
   "id": "cd36b742-6822-4881-ad16-cae673ac2efd",
   "metadata": {},
   "outputs": [],
   "source": [
    "# subsetting to last 15 columns that include the label\n",
    "df_table = df_table.iloc[:, 136:151]\n",
    "\n",
    "#loop, converts floats to ints and then category\n",
    "for i in range(0,5):\n",
    "    df_table.iloc[:,i] = df_table.iloc[:,i].astype(int)\n",
    "    df_table.iloc[:,i] = df_table.iloc[:,i].astype(\"category\")\n",
    "    "
   ]
  },
  {
   "cell_type": "code",
   "execution_count": 215,
   "id": "513e2efc-75e6-401d-9274-6346458ac8be",
   "metadata": {},
   "outputs": [
    {
     "data": {
      "text/html": [
       "<div>\n",
       "<style scoped>\n",
       "    .dataframe tbody tr th:only-of-type {\n",
       "        vertical-align: middle;\n",
       "    }\n",
       "\n",
       "    .dataframe tbody tr th {\n",
       "        vertical-align: top;\n",
       "    }\n",
       "\n",
       "    .dataframe thead th {\n",
       "        text-align: right;\n",
       "    }\n",
       "</style>\n",
       "<table border=\"1\" class=\"dataframe\">\n",
       "  <thead>\n",
       "    <tr style=\"text-align: right;\">\n",
       "      <th></th>\n",
       "      <th>136</th>\n",
       "      <th>137</th>\n",
       "      <th>138</th>\n",
       "      <th>139</th>\n",
       "      <th>140</th>\n",
       "      <th>141</th>\n",
       "      <th>142</th>\n",
       "      <th>143</th>\n",
       "      <th>144</th>\n",
       "      <th>145</th>\n",
       "      <th>146</th>\n",
       "      <th>147</th>\n",
       "      <th>148</th>\n",
       "      <th>149</th>\n",
       "      <th>150</th>\n",
       "    </tr>\n",
       "  </thead>\n",
       "  <tbody>\n",
       "    <tr>\n",
       "      <th>0</th>\n",
       "      <td>2.0</td>\n",
       "      <td>2.0</td>\n",
       "      <td>2.0</td>\n",
       "      <td>2.0</td>\n",
       "      <td>2.0</td>\n",
       "      <td>2.646452</td>\n",
       "      <td>2.997843</td>\n",
       "      <td>2.546260</td>\n",
       "      <td>2.423437</td>\n",
       "      <td>2.825879</td>\n",
       "      <td>2.566278</td>\n",
       "      <td>2.403595</td>\n",
       "      <td>2.396183</td>\n",
       "      <td>2.684211</td>\n",
       "      <td>1.0</td>\n",
       "    </tr>\n",
       "    <tr>\n",
       "      <th>1</th>\n",
       "      <td>2.0</td>\n",
       "      <td>2.0</td>\n",
       "      <td>2.0</td>\n",
       "      <td>2.0</td>\n",
       "      <td>2.0</td>\n",
       "      <td>2.024768</td>\n",
       "      <td>2.424598</td>\n",
       "      <td>2.349128</td>\n",
       "      <td>2.325874</td>\n",
       "      <td>2.524994</td>\n",
       "      <td>2.862275</td>\n",
       "      <td>2.060383</td>\n",
       "      <td>2.505475</td>\n",
       "      <td>2.334364</td>\n",
       "      <td>1.0</td>\n",
       "    </tr>\n",
       "    <tr>\n",
       "      <th>2</th>\n",
       "      <td>2.0</td>\n",
       "      <td>2.0</td>\n",
       "      <td>2.0</td>\n",
       "      <td>2.0</td>\n",
       "      <td>2.0</td>\n",
       "      <td>2.625961</td>\n",
       "      <td>2.962051</td>\n",
       "      <td>2.420763</td>\n",
       "      <td>2.411974</td>\n",
       "      <td>2.361735</td>\n",
       "      <td>2.667143</td>\n",
       "      <td>2.073825</td>\n",
       "      <td>2.388143</td>\n",
       "      <td>2.831569</td>\n",
       "      <td>1.0</td>\n",
       "    </tr>\n",
       "    <tr>\n",
       "      <th>3</th>\n",
       "      <td>0.0</td>\n",
       "      <td>0.0</td>\n",
       "      <td>0.0</td>\n",
       "      <td>0.0</td>\n",
       "      <td>0.0</td>\n",
       "      <td>0.864361</td>\n",
       "      <td>0.083862</td>\n",
       "      <td>0.616211</td>\n",
       "      <td>0.898456</td>\n",
       "      <td>0.117597</td>\n",
       "      <td>0.664931</td>\n",
       "      <td>0.813385</td>\n",
       "      <td>0.573604</td>\n",
       "      <td>0.117329</td>\n",
       "      <td>0.0</td>\n",
       "    </tr>\n",
       "    <tr>\n",
       "      <th>4</th>\n",
       "      <td>0.0</td>\n",
       "      <td>0.0</td>\n",
       "      <td>0.0</td>\n",
       "      <td>0.0</td>\n",
       "      <td>0.0</td>\n",
       "      <td>0.455617</td>\n",
       "      <td>0.516570</td>\n",
       "      <td>0.956458</td>\n",
       "      <td>0.972840</td>\n",
       "      <td>0.550108</td>\n",
       "      <td>0.503513</td>\n",
       "      <td>0.337278</td>\n",
       "      <td>0.735706</td>\n",
       "      <td>0.284006</td>\n",
       "      <td>0.0</td>\n",
       "    </tr>\n",
       "  </tbody>\n",
       "</table>\n",
       "</div>"
      ],
      "text/plain": [
       "   136  137  138  139  140       141       142       143       144       145  \\\n",
       "0  2.0  2.0  2.0  2.0  2.0  2.646452  2.997843  2.546260  2.423437  2.825879   \n",
       "1  2.0  2.0  2.0  2.0  2.0  2.024768  2.424598  2.349128  2.325874  2.524994   \n",
       "2  2.0  2.0  2.0  2.0  2.0  2.625961  2.962051  2.420763  2.411974  2.361735   \n",
       "3  0.0  0.0  0.0  0.0  0.0  0.864361  0.083862  0.616211  0.898456  0.117597   \n",
       "4  0.0  0.0  0.0  0.0  0.0  0.455617  0.516570  0.956458  0.972840  0.550108   \n",
       "\n",
       "        146       147       148       149  150  \n",
       "0  2.566278  2.403595  2.396183  2.684211  1.0  \n",
       "1  2.862275  2.060383  2.505475  2.334364  1.0  \n",
       "2  2.667143  2.073825  2.388143  2.831569  1.0  \n",
       "3  0.664931  0.813385  0.573604  0.117329  0.0  \n",
       "4  0.503513  0.337278  0.735706  0.284006  0.0  "
      ]
     },
     "execution_count": 215,
     "metadata": {},
     "output_type": "execute_result"
    }
   ],
   "source": [
    "df_table.head()"
   ]
  },
  {
   "cell_type": "code",
   "execution_count": 209,
   "id": "be3ccd60-ee32-4faf-9e47-fd6f0b427107",
   "metadata": {},
   "outputs": [
    {
     "data": {
      "image/png": "[encoded data removed]",
      "text/plain": [
       "<Figure size 640x480 with 1 Axes>"
      ]
     },
     "metadata": {},
     "output_type": "display_data"
    }
   ],
   "source": [
    "#histogram\n",
    "import matplotlib.pyplot as plt\n",
    "plt.hist(df_table, bins=15, density=True, alpha = 0.6)\n",
    "plt.show()"
   ]
  },
  {
   "cell_type": "code",
   "execution_count": 147,
   "id": "45868639-3c27-430d-b7cb-0902a930e897",
   "metadata": {},
   "outputs": [],
   "source": [
    "#histogram, first 15 columns\n",
    "#Columns: 5 \"categorical\", 10 \" continous numerical\"\n",
    "import matplotlib.pyplot as plt\n",
    "\n",
    "#function to change numerical to categorical \n",
    "def numerical_to_categorical(df_table, columns=None):\n",
    "    # Identify numerical columns\n",
    "    numerical_cols = df_table.select_dtypes(include=[np.number]).columns.tolist()\n",
    "    \n",
    "    # Convert each numerical column to categorical\n",
    "    for col in numerical_cols:\n",
    "        df_table[col] = pd.Categorical(df_table[col])\n",
    "    \n",
    "    return df_table\n"
   ]
  },
  {
   "cell_type": "code",
   "execution_count": 149,
   "id": "66695286-3764-4cc8-a82d-acaa635cbb2d",
   "metadata": {},
   "outputs": [
    {
     "name": "stdout",
     "output_type": "stream",
     "text": [
      "0      category\n",
      "1      category\n",
      "2      category\n",
      "3      category\n",
      "4      category\n",
      "         ...   \n",
      "146    category\n",
      "147    category\n",
      "148    category\n",
      "149    category\n",
      "150    category\n",
      "Length: 151, dtype: object\n"
     ]
    }
   ],
   "source": [
    "columns_to_convert=[\"0\",\"0\"]\n",
    "df_categorical = numerical_to_categorical(df_table, columns=columns_to_convert)\n",
    "print(df_categorical.dtypes)"
   ]
  },
  {
   "cell_type": "code",
   "execution_count": 85,
   "id": "e767ffd3-20ce-4535-ac14-1aadacd5ccb3",
   "metadata": {},
   "outputs": [
    {
     "data": {
      "image/png": "[encoded data removed]",
      "text/plain": [
       "<Figure size 640x480 with 1 Axes>"
      ]
     },
     "metadata": {},
     "output_type": "display_data"
    }
   ],
   "source": [
    "import matplotlib.pyplot as plt\n",
    "x = df_table[0]\n",
    "y = df_table[1]\n",
    "a = df_table[2]\n",
    "b = df_table[3]\n",
    "plt.scatter(x,y, c = \"b\")\n",
    "plt.scatter(a,b, c= \"r\")\n",
    "plt.show()"
   ]
  },
  {
   "cell_type": "code",
   "execution_count": null,
   "id": "4667f535-b93b-466c-a7ea-e539de69c4f3",
   "metadata": {},
   "outputs": [],
   "source": []
  }
 ],
 "metadata": {
  "kernelspec": {
   "display_name": "Python 3 (ipykernel)",
   "language": "python",
   "name": "python3"
  },
  "language_info": {
   "codemirror_mode": {
    "name": "ipython",
    "version": 3
   },
   "file_extension": ".py",
   "mimetype": "text/x-python",
   "name": "python",
   "nbconvert_exporter": "python",
   "pygments_lexer": "ipython3",
   "version": "3.11.7"
  }
 },
 "nbformat": 4,
 "nbformat_minor": 5
}
