{
 "cells": [
  {
   "cell_type": "code",
   "execution_count": null,
   "id": "31c9699f-24d0-44c6-aa7f-2c9dca3a232c",
   "metadata": {},
   "outputs": [],
   "source": [
    "#HAT Histogram Augmentation Technique (HAT) is used widely to augment and classify any tabular data\n",
    "#HAT is designed such that the generated data retains the distribution of the original tabular data histogram\n",
    "#HATanalyses the data distribution of a particular feature and based on the feature type (i.e. continuous or discrete) it generates new samples"
   ]
  },
  {
   "cell_type": "code",
   "execution_count": null,
   "id": "7cd4bc04-cb71-4cce-8d99-e5c6e58713ac",
   "metadata": {},
   "outputs": [],
   "source": [
    "#IMPORT important libraries\n",
    "import numpy as np\n",
    "import pandas as pd\n",
    "import time\n",
    "from collections import Counter"
   ]
  },
  {
   "cell_type": "code",
   "execution_count": null,
   "id": "f6533423-f822-4681-b960-6e5fe5ccfe6d",
   "metadata": {},
   "outputs": [],
   "source": []
  }
 ],
 "metadata": {
  "kernelspec": {
   "display_name": "Python 3 (ipykernel)",
   "language": "python",
   "name": "python3"
  },
  "language_info": {
   "codemirror_mode": {
    "name": "ipython",
    "version": 3
   },
   "file_extension": ".py",
   "mimetype": "text/x-python",
   "name": "python",
   "nbconvert_exporter": "python",
   "pygments_lexer": "ipython3",
   "version": "3.11.7"
  }
 },
 "nbformat": 4,
 "nbformat_minor": 5
}
