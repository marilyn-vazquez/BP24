{
 "cells": [
  {
   "cell_type": "code",
   "execution_count": 4,
   "id": "30c5b55e-5e3f-4994-8ed5-02f0ac4c20cc",
   "metadata": {},
   "outputs": [
    {
     "data": {
      "image/png": "[encoded data removed]",
      "text/plain": [
       "<Figure size 640x480 with 1 Axes>"
      ]
     },
     "metadata": {},
     "output_type": "display_data"
    },
    {
     "ename": "NameError",
     "evalue": "name 'x' is not defined",
     "output_type": "error",
     "traceback": [
      "\u001b[0;31m---------------------------------------------------------------------------\u001b[0m",
      "\u001b[0;31mNameError\u001b[0m                                 Traceback (most recent call last)",
      "Cell \u001b[0;32mIn[4], line 31\u001b[0m\n\u001b[1;32m     17\u001b[0m \u001b[38;5;66;03m#do one height command at a time\u001b[39;00m\n\u001b[1;32m     18\u001b[0m \u001b[38;5;66;03m#add up the heights and divide each by the sum to find proportions (in this case, the sum is 150)\u001b[39;00m\n\u001b[1;32m     19\u001b[0m \u001b[38;5;66;03m#p[0].get_height() 37 --> .2467\u001b[39;00m\n\u001b[0;32m   (...)\u001b[0m\n\u001b[1;32m     27\u001b[0m \u001b[38;5;66;03m#p[8].get_height() 11 --> .0733\u001b[39;00m\n\u001b[1;32m     28\u001b[0m \u001b[38;5;66;03m#p[9].get_height() 5 --> .0333\u001b[39;00m\n\u001b[1;32m     30\u001b[0m no_of_bins \u001b[38;5;241m=\u001b[39m \u001b[38;5;241m10\u001b[39m\n\u001b[0;32m---> 31\u001b[0m min_value \u001b[38;5;241m=\u001b[39m \u001b[38;5;28mmin\u001b[39m(x)\n\u001b[1;32m     32\u001b[0m max_value \u001b[38;5;241m=\u001b[39m \u001b[38;5;28mmax\u001b[39m(x)\n\u001b[1;32m     33\u001b[0m bin_size \u001b[38;5;241m=\u001b[39m (max_value \u001b[38;5;241m-\u001b[39m min_value)\u001b[38;5;241m/\u001b[39mno_of_bins\n",
      "\u001b[0;31mNameError\u001b[0m: name 'x' is not defined"
     ]
    }
   ],
   "source": [
    "#Kullback-Leibler Divergence measures the similarity between two discrete probability distributions\n",
    "# box =[P(green),P(blue),P(red),P(yellow)]\n",
    "#box_1 = [0.25, 0.33, 0.23, 0.19]\n",
    "#box_2 = [0.21, 0.21, 0.32, 0.26]\n",
    "\n",
    "import pandas as pd\n",
    "import numpy as np\n",
    "from scipy.special import rel_entr\n",
    "import matplotlib.pyplot as plt\n",
    "\n",
    "iris = pd.read_csv('/Users/elleemortensen/Documents/GitHub/BP24/IRIS.csv')\n",
    "\n",
    "fig, ax = plt.subplots()\n",
    "ax.hist(iris[\"petal_length\"])\n",
    "plt.show()\n",
    "\n",
    "#do one height command at a time\n",
    "#add up the heights and divide each by the sum to find proportions (in this case, the sum is 150)\n",
    "#p[0].get_height() 37 --> .2467\n",
    "#p[1].get_height() 13 --> .0867\n",
    "#p[2].get_height() 0\n",
    "#p[3].get_height() 3 --> .0200\n",
    "#p[4].get_height() 8 --> .0533\n",
    "#p[5].get_height() 26 --> .1733\n",
    "#p[6].get_height() 29 --> .1933\n",
    "#p[7].get_height() 18 --> .1200\n",
    "#p[8].get_height() 11 --> .0733\n",
    "#p[9].get_height() 5 --> .0333\n",
    "\n",
    "#def kl_divergence(a, b):\n",
    "\t#return sum(a[i] * np.log(a[i]/b[i]) for i in range(len(a)))\n",
    "\n",
    "#print('KL-divergence(box_1 || box_2): %.3f ' % kl_divergence(box_1,box_2))\n",
    "#print('KL-divergence(box_2 || box_1): %.3f ' % kl_divergence(box_2,box_1))\n",
    "\n",
    "# D( p || p) =0\n",
    "#print('KL-divergence(box_1 || box_1): %.3f ' % kl_divergence(box_1,box_1))\n",
    "\n",
    "#print(\"Using Scipy rel_entr function\")\n",
    "#box_1 = np.array(box_1)\n",
    "#box_2 = np.array(box_2)\n",
    "\n",
    "#print('KL-divergence(box_1 || box_2): %.3f ' % sum(rel_entr(box_1,box_2)))\n",
    "#print('KL-divergence(box_2 || box_1): %.3f ' % sum(rel_entr(box_2,box_1)))\n",
    "#print('KL-divergence(box_1 || box_1): %.3f ' % sum(rel_entr(box_1,box_1)))"
   ]
  },
  {
   "cell_type": "code",
   "execution_count": 85,
   "id": "8ed70322-1aff-41f3-8078-c3ef309b8a92",
   "metadata": {},
   "outputs": [
    {
     "name": "stdout",
     "output_type": "stream",
     "text": [
      "Enter outcomes: \n",
      "[0.10660389650834357, 0.5852386380018053, 0.3653173673519633, 0.8348073337397317, 0.9584146652247612]\n",
      "KstestResult(statistic=0.23480733373973173, pvalue=0.8883813335418078, statistic_location=0.8348073337397317, statistic_sign=-1)\n"
     ]
    }
   ],
   "source": [
    "#Kolmogorov-Smirnov Test can be used for continuous distribution, but also discrete data\n",
    "from scipy.stats import kstest\n",
    "import random\n",
    "\n",
    "# N = int(input(\"Enter number of random numbers: \"))\n",
    "N = 5\n",
    "\n",
    "actual =[]\n",
    "print(\"Enter outcomes: \")\n",
    "for i in range(N):\n",
    "\t# x = float(input(\"Outcomes of class \"+str(i + 1)+\": \"))\n",
    "\tactual.append(random.random())\n",
    "\n",
    "print(actual)\n",
    "x = kstest(actual, \"uniform\") \n",
    "print(x)"
   ]
  }
 ],
 "metadata": {
  "kernelspec": {
   "display_name": "Python 3 (ipykernel)",
   "language": "python",
   "name": "python3"
  },
  "language_info": {
   "codemirror_mode": {
    "name": "ipython",
    "version": 3
   },
   "file_extension": ".py",
   "mimetype": "text/x-python",
   "name": "python",
   "nbconvert_exporter": "python",
   "pygments_lexer": "ipython3",
   "version": "3.11.7"
  }
 },
 "nbformat": 4,
 "nbformat_minor": 5
}
