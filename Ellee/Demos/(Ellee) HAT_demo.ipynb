{
 "cells": [
  {
   "cell_type": "code",
   "execution_count": null,
   "id": "31c9699f-24d0-44c6-aa7f-2c9dca3a232c",
   "metadata": {},
   "outputs": [],
   "source": [
    "#HAT Histogram Augmentation Technique (HAT) is used widely to augment and classify any tabular data\n",
    "#HAT is designed such that the generated data retains the distribution of the original tabular data histogram\n",
    "#HATanalyses the data distribution of a particular feature and based on the feature type (i.e. continuous or discrete) it generates new samples"
   ]
  },
  {
   "cell_type": "code",
   "execution_count": 4,
   "id": "7cd4bc04-cb71-4cce-8d99-e5c6e58713ac",
   "metadata": {},
   "outputs": [],
   "source": [
    "#IMPORT important libraries\n",
    "import numpy as np\n",
    "import pandas as pd\n",
    "import time\n",
    "from collections import Counter"
   ]
  },
  {
   "cell_type": "code",
   "execution_count": 6,
   "id": "250e6e5f-494b-4a96-9910-98a9c27829f6",
   "metadata": {},
   "outputs": [],
   "source": [
    "#define histogram function\n",
    "def histogram_sampler(data, no_new_data, data_feat, preserve):\n",
    "\n",
    "    if (data_feat == 'c'):\n",
    "        start_time = time.time()\n",
    "        print(\"Existing data:\", len(data))\n",
    "        print(\"New data to be produced:\", no_new_data)\n",
    "\n",
    "#Function parameters\n",
    "#X_new = New data for each iteration\n",
    "#len_X_new = length of the newly generated data\n",
    "#iter_count = number of iterations\n",
    "#data_gen = Augmented data (original data + newly generated data)\n",
    "        \n",
    "        X_new = []\n",
    "        len_X_new = len(X_new)\n",
    "        iter_count = 0\n",
    "        data_gen = data\n",
    "\n",
    "        while (len_X_new < 0.7*no_new_data):\n",
    "            iter_count+=1\n",
    "            print(\"Number of iterations ---> niter_count=\",iter_count)\n"
   ]
  },
  {
   "cell_type": "code",
   "execution_count": null,
   "id": "f6533423-f822-4681-b960-6e5fe5ccfe6d",
   "metadata": {},
   "outputs": [],
   "source": [
    "#Histogram: Generating the histogram , choosing the mid-value of the bins, and normalizing frequency\n",
    "#fd- Freedman–Diaconis rule is employed to choose the bin size, as it depends on the spread of the data, without any presumption\n",
    "\n",
    "            if(iter_count == 1):\n",
    "                Y,X_interval=np.histogram(data_gen,bins='doane')\n",
    "                n_bins = len(Y)\n",
    "\n",
    "            else:\n",
    "                Y,X_interval=np.histogram(data_gen,bins=n_bins)\n",
    "\n",
    "            X = ((X_interval[0:-1] + X_interval[1:])/2) \n",
    "            Y = Y/max(Y)\n",
    "\n",
    "            bin_val = list(np.round(X,8))\n",
    "            weight = list(Y)\n",
    "            hist = dict(zip(bin_val,weight))\n",
    "\n",
    "            for xi in bin_val[0:-1]:\n",
    "\n",
    "#Values: choosing the values for undergoing validity check\n",
    "\n",
    "                bin_width = ((max(bin_val) - min(bin_val)) / int(len(bin_val)-1))\n",
    "                xm = xi + (bin_width/2)\n",
    "                x1 = xi\n",
    "                y1 = hist[xi]\n",
    "\n",
    "                res = None\n",
    "                temp = iter(hist)\n",
    "                for key in temp:\n",
    "                    if(key == xi):\n",
    "                        res = next(temp,None)\n",
    "\n",
    "                y2 = hist[res]\n",
    "                ym = ((y1+y2)/2)\n"
   ]
  },
  {
   "cell_type": "code",
   "execution_count": null,
   "id": "86650bbe-f199-4b83-a181-c773eb7951c2",
   "metadata": {},
   "outputs": [],
   "source": [
    "#Validity check: checking if the specified value can be considered\n",
    "#if(no_new_data <= len(data)):\n",
    "#ym = ym*(np.random.rand()<=ym)\n",
    "#y1 = y1*(np.random.rand()<=y1)\n",
    "    \n",
    "                #else:\n",
    "                ym = ym*(abs(np.random.normal(0,0.5))<=ym)\n",
    "                y1 = y1*(abs(np.random.normal(0,0.5))<=y1)\n",
    "\n",
    "#Appending: appending the valid values\n",
    "                \n",
    "\n",
    "                if (ym!=0):\n",
    "                    X_new.append(np.round(xm,8))\n",
    "                    #X_new.append(np.round(xm+0.1*xm,8))\n",
    "                    #X_new.append(np.round(xm-0.1*xm,8))\n",
    "                if (y1!=0):\n",
    "                    X_new.append(np.round(x1,8))\n",
    "                    #X_new.append(np.round(x1+0.1*xm,8))\n",
    "                    #X_new.append(np.round(x1-0.1*xm,8))"
   ]
  },
  {
   "cell_type": "code",
   "execution_count": null,
   "id": "421a4399-8889-4f1f-923e-91a119c16ff2",
   "metadata": {},
   "outputs": [],
   "source": [
    "#Stopping: bins * 2, length check\n",
    "\n",
    "            data_gen = data_gen + X_new\n",
    "            n_bins = n_bins*2     \n",
    "            len_X_new+= len(X_new)\n",
    "            print(len_X_new)\n",
    "            X_new = []\n",
    "            print(\"--- %s seconds ---\" % (time.time() - start_time))\n",
    "\n",
    "\n",
    "        print(len(data_gen)-len(data),no_new_data)\n",
    "\n",
    "        if(len(data_gen)-len(data) >= no_new_data):\n",
    "            data_gen = data_gen[:len(data)] + list(np.random.choice(data_gen[len(data):], no_new_data, replace = False))\n",
    "            print('\\nNew data generated:', len(data_gen[len(data):]), '\\nNew data:', len(data_gen), '\\n')\n",
    "            #sns.distplot(data_gen)\n",
    "            if(preserve == False):\n",
    "                data_gen = data_gen[len(data):]\n",
    "            return data_gen\n",
    "\n",
    "        else:\n",
    "            print('to discrete...', no_new_data - (len(data_gen)-len(data)))\n",
    "            samples = histogram_sampler(data_gen, no_new_data - (len(data_gen)-len(data)), 'd', preserve = True)\n",
    "            if(preserve == False):\n",
    "                samples = samples[len(data):]\n",
    "            return samples"
   ]
  }
 ],
 "metadata": {
  "kernelspec": {
   "display_name": "Python 3 (ipykernel)",
   "language": "python",
   "name": "python3"
  },
  "language_info": {
   "codemirror_mode": {
    "name": "ipython",
    "version": 3
   },
   "file_extension": ".py",
   "mimetype": "text/x-python",
   "name": "python",
   "nbconvert_exporter": "python",
   "pygments_lexer": "ipython3",
   "version": "3.11.7"
  }
 },
 "nbformat": 4,
 "nbformat_minor": 5
}
