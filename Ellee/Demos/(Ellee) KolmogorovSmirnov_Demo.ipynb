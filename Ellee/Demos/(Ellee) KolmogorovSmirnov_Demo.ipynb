{
 "cells": [
  {
   "cell_type": "code",
   "execution_count": 42,
   "id": "0dcf6e22-c6c7-493b-8d0c-0bc4bbc7864c",
   "metadata": {},
   "outputs": [],
   "source": [
    "#The Kolmogorov–Smirnov test is a nonparametric goodness-of-fit test and is used to determine \n",
    "#whether two distributions differ, or whether an underlying probability distribution differs from a hypothesized distribution. \n",
    "#It is used when we have two samples coming from two populations that can be different\n",
    "\n",
    "#The Kolmogorov-Smirnov test is defined by:\n",
    "#H0 (null hypothesis):\tThe data follow a normal distribution\n",
    "#Ha (alternative hypothesis):\tThe data do not follow a normal distribution\n",
    "\n",
    "#Note: CDF stands for Cumulative Distribution Function."
   ]
  },
  {
   "cell_type": "code",
   "execution_count": 170,
   "id": "2965ae64-67c5-4c44-a7fc-cf5d13c96cb1",
   "metadata": {},
   "outputs": [],
   "source": [
    "#import libraries\n",
    "import numpy as np\n",
    "import pandas as pd\n",
    "from scipy import stats"
   ]
  },
  {
   "cell_type": "code",
   "execution_count": 174,
   "id": "a1d4aa15-5059-4f8c-8f9e-f6be27183063",
   "metadata": {},
   "outputs": [],
   "source": [
    "# Load dataset\n",
    "df = pd.read_csv('IRIS.csv')\n",
    "\n",
    "# Standardize the sample you will use\n",
    "# This transforms the sample data to have a mean of 0 and a standard deviation of 1.\n",
    "def standardize(sample):\n",
    "    return (sample - np.mean(sample)) / np.std(sample)"
   ]
  },
  {
   "cell_type": "code",
   "execution_count": 176,
   "id": "ccbea7cc-0bc5-43ac-9a79-88151d87862b",
   "metadata": {},
   "outputs": [],
   "source": [
    "# Kolmogorov-Smirnov test function\n",
    "def ks_test(sample):\n",
    "    # Sort the sample\n",
    "    sample_sorted = np.sort(sample)\n",
    "    # Evaluate the empirical CDF (ECDF)\n",
    "    ecdf = np.arange(1, len(sample_sorted)+1) / len(sample_sorted)\n",
    "    # Evaluate the theoretical CDF\n",
    "    cdf = stats.norm.cdf(sample_sorted)\n",
    "    # Calculate the KS statistic\n",
    "    ks_stat = np.max(np.abs(ecdf - cdf))\n",
    "    # Calculate the p-value\n",
    "    p_value = stats.kstest(sample_sorted, 'norm').pvalue\n",
    "    return ks_stat, p_value\n",
    "\n",
    "# Select one feature from the dataset (Example: assuming the first column is sepal_length)\n",
    "sample = df.iloc[:, 0]  # Change the column index as needed\n",
    "\n",
    "# Standardize the sample\n",
    "standardized_sample = standardize(sample)\n",
    "\n",
    "# Perform the KS test on standardize sample\n",
    "ks_stat, p_value = ks_test(standardized_sample)\n"
   ]
  },
  {
   "cell_type": "code",
   "execution_count": 182,
   "id": "1221fcbd-31d7-446e-84c9-5e2462a9a2f2",
   "metadata": {},
   "outputs": [
    {
     "name": "stdout",
     "output_type": "stream",
     "text": [
      "KS Test Result for sepal_length: \n",
      "ks_stat = 0.0895, \n",
      "p-value = 1.706e-01, \n",
      "Normal distribution = True\n",
      "Fail to reject H0. Sample comes from the specified distribution\n"
     ]
    }
   ],
   "source": [
    "# Print the result\n",
    "print(f\"KS Test Result for {df.columns[0]}: \\nks_stat = {ks_stat:.4f}, \\np-value = {p_value:.3e}, \\nNormal distribution = {p_value > 0.05}\")\n",
    "\n",
    "# This supports or rejects the null hypothesis H0 \n",
    "# If sample does not come from a normal distribution ---> reject H0\n",
    "# If sample comes from a normal distribution ---> fail to reject H0\n",
    "if p_value > 0.05:\n",
    "    print(\"Fail to reject H0. Sample comes from the specified distribution\")\n",
    "else:\n",
    "     print(\"Reject H0. Sample DOES NOT come from the specified distribution\")\n"
   ]
  },
  {
   "cell_type": "code",
   "execution_count": 190,
   "id": "9676cba1-599d-44ad-a4f9-cd1e6e222ce7",
   "metadata": {},
   "outputs": [
    {
     "name": "stdout",
     "output_type": "stream",
     "text": [
      "\n",
      "Random samples to verify KS test works: \n",
      "norm_a: ks_stat = 0.0242, p-value = 9.245e-01, Normal distribution = True\n",
      "norm_b: ks_stat = 0.0214, p-value = 9.728e-01, Normal distribution = True\n",
      "norm_c: ks_stat = 0.0211, p-value = 9.460e-01, Normal distribution = True\n",
      "f_a: ks_stat = 0.1426, p-value = 2.497e-09, Normal distribution = False\n"
     ]
    }
   ],
   "source": [
    "# Perform the KS test on some random normal samples for comparison\n",
    "print(\"\\nRandom samples to verify KS test works: \")\n",
    "random_samples = {\n",
    "    'norm_a': np.random.normal(loc=0, scale=1, size=500), #random normal sample with mean 0 and std 1\n",
    "    'norm_b': np.random.normal(loc=0.1, scale=1, size=500),\n",
    "    'norm_c': np.random.normal(loc=3, scale=1, size=500),\n",
    "    'f_a': np.random.f(dfnum=5, dfden=10, size=500) #random F-distribution sample with dfnum=5 and dfden=10\n",
    "}\n",
    "\n",
    "# Standardize and test the random samples\n",
    "for name, sample in random_samples.items(): # Iterate through each generated sample\n",
    "    standardized_sample = standardize(sample) # Standardize the samples\n",
    "    ks_stat, p_value = ks_test(standardized_sample)\n",
    "    print(f\"{name}: ks_stat = {ks_stat:.4f}, p-value = {p_value:.3e}, Normal distribution = {p_value > 0.05}\")\n"
   ]
  }
 ],
 "metadata": {
  "kernelspec": {
   "display_name": "Python 3 (ipykernel)",
   "language": "python",
   "name": "python3"
  },
  "language_info": {
   "codemirror_mode": {
    "name": "ipython",
    "version": 3
   },
   "file_extension": ".py",
   "mimetype": "text/x-python",
   "name": "python",
   "nbconvert_exporter": "python",
   "pygments_lexer": "ipython3",
   "version": "3.11.7"
  }
 },
 "nbformat": 4,
 "nbformat_minor": 5
}
