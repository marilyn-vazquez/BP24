{
 "cells": [
  {
   "cell_type": "code",
   "execution_count": 91,
   "id": "30c5b55e-5e3f-4994-8ed5-02f0ac4c20cc",
   "metadata": {},
   "outputs": [],
   "source": [
    "#Kullback-Leibler Divergence measures the similarity between two discrete probability distributions\n",
    "from sklearn.datasets import load_iris\n",
    "import numpy as np\n",
    "\n",
    "# box = P(green), P(blue), P(red), P(yellow)\n",
    "# box_1 = [0.25, 0.33, 0.23, 0.19]\n",
    "# box_2 = [0.21, 0.21, 0.32, 0.26]\n",
    "\n",
    "# def kl_divergence(p, q):\n",
    "# \treturn sum(p[i] * np.log(p[i]/q[i]) for i in range(len(p)))\n",
    "\n",
    "# print('KL-divergence(box_1 || box_2): %.3f ' % kl_divergence(box_1, box_2))\n",
    "# print('KL-divergence(box_2 || box_1): %.3f ' % kl_divergence(box_2, box_1))\n",
    "\n",
    "# D(p || p) =0\n",
    "# print('KL-divergence(box_1 || box_1): %.3f ' % kl_divergence(box_1, box_1))\n",
    "\n",
    "# print(\"Using Scipy rel_entr function\")\n",
    "# box_1 = np.array(box_1)\n",
    "# box_2 = np.array(box_2)\n",
    "\n",
    "# print('KL-divergence(box_1 || box_2): %.3f ' % sum(rel_entr(box_1, box_2)))\n",
    "# print('KL-divergence(box_2 || box_1): %.3f ' % sum(rel_entr(box_2, box_1)))\n",
    "# print('KL-divergence(box_1 || box_1): %.3f ' % sum(rel_entr(box_1, box_1)))"
   ]
  },
  {
   "cell_type": "code",
   "execution_count": 123,
   "id": "af86597d-1761-4d62-8c8c-d8481f709010",
   "metadata": {},
   "outputs": [
    {
     "name": "stdout",
     "output_type": "stream",
     "text": [
      "Bin Heights: [ 9 23 14 27 16 26 18  6  5  6]\n",
      "Bin Edges: [4.3  4.66 5.02 5.38 5.74 6.1  6.46 6.82 7.18 7.54 7.9 ]\n"
     ]
    }
   ],
   "source": [
    "# Load the Iris dataset\n",
    "iris = load_iris()\n",
    "data = iris.data[:, 0]  #Using sepal length as an example\n",
    "\n",
    "hist, bin_edges = np.histogram(data, bins = 10)\n",
    "\n",
    "print(\"Bin Heights:\", hist) #hist: Contains the counts of sepal lengths falling into each of the 10 bins.\n",
    "print(\"Bin Edges:\", bin_edges) #bin_edges: Contains the boundaries of these 10 bins."
   ]
  },
  {
   "cell_type": "code",
   "execution_count": 129,
   "id": "c61a8ea9-9982-4e8d-931f-b48d4d397013",
   "metadata": {},
   "outputs": [
    {
     "name": "stdout",
     "output_type": "stream",
     "text": [
      "Array with bin heights: [9, 23, 14, 27, 16, 26, 18, 6, 5, 6]\n",
      "Array with bin probabilities: [0.06       0.15333333 0.09333333 0.18       0.10666667 0.17333333\n",
      " 0.12       0.04       0.03333333 0.04      ]\n"
     ]
    }
   ],
   "source": [
    "bin_heights = []\n",
    "bin_heights.extend(hist)\n",
    "print(\"Array with bin heights:\", bin_heights)\n",
    "\n",
    "bin_probs = []\n",
    "bin_probs.extend(hist)\n",
    "print(\"Array with bin probabilities:\", bin_heights/(sum(bin_heights)))"
   ]
  },
  {
   "cell_type": "code",
   "execution_count": 131,
   "id": "1e55eb39-0d88-4e1d-960f-81d601f6ab65",
   "metadata": {},
   "outputs": [
    {
     "name": "stdout",
     "output_type": "stream",
     "text": [
      "Bin 1 (4.30 to 4.66): Height = 9, Probability = 0.06\n",
      "Bin 2 (4.66 to 5.02): Height = 23, Probability = 0.15\n",
      "Bin 3 (5.02 to 5.38): Height = 14, Probability = 0.09\n",
      "Bin 4 (5.38 to 5.74): Height = 27, Probability = 0.18\n",
      "Bin 5 (5.74 to 6.10): Height = 16, Probability = 0.11\n",
      "Bin 6 (6.10 to 6.46): Height = 26, Probability = 0.17\n",
      "Bin 7 (6.46 to 6.82): Height = 18, Probability = 0.12\n",
      "Bin 8 (6.82 to 7.18): Height = 6, Probability = 0.04\n",
      "Bin 9 (7.18 to 7.54): Height = 5, Probability = 0.03\n",
      "Bin 10 (7.54 to 7.90): Height = 6, Probability = 0.04\n"
     ]
    }
   ],
   "source": [
    "for i in range(len(hist)):\n",
    "    bin_range = f\"{bin_edges[i]:.2f} to {bin_edges[i+1]:.2f}\"\n",
    "    bin_probability = hist[i] / sum(hist)\n",
    "    print(f\"Bin {i+1} ({bin_range}): Height = {hist[i]}, Probability = {bin_probability:.2f}\")"
   ]
  },
  {
   "cell_type": "code",
   "execution_count": 71,
   "id": "91d3ba93-00b3-40d6-991f-03c1ea25a2d1",
   "metadata": {},
   "outputs": [],
   "source": [
    "# define distributions\n",
    "#p = [0.06, 0.15333333, 0.09333333, 0.18, 0.10666667, 0.17333333, 0.12, 0.04, 0.03333333, 0.04] #raw data probabilities\n",
    "#q = [0.80, 0.15, 0.05] #probabilities after augmentation"
   ]
  }
 ],
 "metadata": {
  "kernelspec": {
   "display_name": "Python 3 (ipykernel)",
   "language": "python",
   "name": "python3"
  },
  "language_info": {
   "codemirror_mode": {
    "name": "ipython",
    "version": 3
   },
   "file_extension": ".py",
   "mimetype": "text/x-python",
   "name": "python",
   "nbconvert_exporter": "python",
   "pygments_lexer": "ipython3",
   "version": "3.11.7"
  }
 },
 "nbformat": 4,
 "nbformat_minor": 5
}
