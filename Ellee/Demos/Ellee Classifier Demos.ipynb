{
 "cells": [
  {
   "cell_type": "markdown",
   "id": "bc0d46db-653f-4d57-8c27-03c90b6d22cb",
   "metadata": {},
   "source": [
    "### Importing Packages"
   ]
  },
  {
   "cell_type": "code",
   "execution_count": 176,
   "id": "f53352d8-22d2-4075-b31f-d0ef01c764f4",
   "metadata": {},
   "outputs": [],
   "source": [
    "from xgboost import XGBClassifier\n",
    "from sklearn.model_selection import train_test_split\n",
    "from sklearn import metrics\n",
    "import numpy as np\n",
    "from sklearn import datasets\n",
    "from sklearn.neighbors import KNeighborsClassifier\n",
    "import pandas as pd\n",
    "from sklearn import svm\n",
    "import matplotlib.pyplot as plt\n",
    "from sklearn.tree import DecisionTreeClassifier\n",
    "from sklearn.metrics import accuracy_score\n",
    "from sklearn.linear_model import LinearRegression, LogisticRegression\n",
    "from sklearn.svm import SVC\n",
    "from sklearn.feature_selection import SelectKBest\n",
    "from sklearn.feature_selection import chi2"
   ]
  },
  {
   "cell_type": "code",
   "execution_count": 178,
   "id": "e2c78482-a1c3-4fc3-9a32-422305278d8f",
   "metadata": {},
   "outputs": [],
   "source": [
    "#data = np.loadtxt('/Users/elleemortensen/Documents/GitHub/BP24/Ellee/gaussian_large_d_1.tex')\n",
    "#data = np.loadtxt('/Users/elleemortensen/Documents/GitHub/BP24/Ellee/gaussian_small_d_1.tex')\n",
    "#data = np.loadtxt('/Users/elleemortensen/Documents/GitHub/BP24/Ellee/uniform_large_d_1.tex')\n",
    "data = np.loadtxt('/Users/elleemortensen/Documents/GitHub/BP24/Ellee/uniform_small_d_1.tex')\n",
    "\n",
    "array = np.array(data)\n",
    "df = pd.DataFrame(array)"
   ]
  },
  {
   "cell_type": "markdown",
   "id": "3924e959-5c63-41bc-ac61-bf285cc1e4b9",
   "metadata": {},
   "source": [
    "### Splitting Data"
   ]
  },
  {
   "cell_type": "code",
   "execution_count": 187,
   "id": "1c67a91c-b14a-4ce4-bdda-b64f6c32c83b",
   "metadata": {},
   "outputs": [],
   "source": [
    "for i in range(25):\n",
    "    df.iloc[:,i] = df.iloc[:,i].round()\n",
    "    df.iloc[:,i] = df.iloc[:,i].astype(int)\n",
    "    df.iloc[:,i] = df.iloc[:,i].astype(\"category\")\n",
    "df.iloc[:,150] = df.iloc[:,150].astype(\"category\")"
   ]
  },
  {
   "cell_type": "code",
   "execution_count": 189,
   "id": "4a914886-1f4b-4340-84c7-3a8e6f506d9f",
   "metadata": {},
   "outputs": [],
   "source": [
    "# split the dataset into training and testing data\n",
    "# test_size: this is the percentage of data used for testing (20% in this case), so the rest is used for training data (80% in this case)\n",
    "# random_state: this is a random number chosen that should be used each time to ensure we get the same data split each time\n",
    "X_train, X_test, y_train, y_test = train_test_split(df.iloc[:,0:150], df.iloc[:,-1], test_size = 0.2, random_state = 52)"
   ]
  },
  {
   "cell_type": "markdown",
   "id": "23d63487-3dd7-49ed-bdd2-3b4432a519ef",
   "metadata": {},
   "source": [
    "### XGBoost"
   ]
  },
  {
   "cell_type": "code",
   "execution_count": 191,
   "id": "d6e2c2b1-797d-4f7e-ad25-0e3a0045bf9a",
   "metadata": {},
   "outputs": [
    {
     "name": "stdout",
     "output_type": "stream",
     "text": [
      "[0 1 1 0 1 1 1 0 1 0 1 0 0 0 1 1 1 0 0 1 1 1 1 1 1 0 0 1 0 0 1 1 0 0 1 1 1\n",
      " 0 0 0 1 1 1 1 0 1 1 0 0 0 1 0 1 1 1 1 1 0 0 0 1 1 1 1 1 1 1 1 0 1 1 0 1 0\n",
      " 0 1 0 1 1 1 1 1 1 1 1 0 1 1 1 1 1 1 0 1 0 0 0 1 1 0]\n",
      "Accuracy: 0.81\n"
     ]
    }
   ],
   "source": [
    "# create model instance\n",
    "# n_estimators: number of trees(estimators) the model uses --> the more used, the more accurate the model is\n",
    "# max_depth: maximum depth of tree --> higher number makes model more complex, but too high can cause overfitting\n",
    "# learning_rate: quantifies each tree's contribution to total prediction --> lower number takes longer, but can lead to better generalization\n",
    "# objective: binary:logistic outputs probabilities. if classification is wanted, use binary:hinge\n",
    "bst = XGBClassifier(n_estimators = 2, max_depth = 2, learning_rate = 1, objective = 'binary:logistic', enable_categorical = True)\n",
    "\n",
    "# fit model with the training data\n",
    "bst.fit(X_train, y_train)\n",
    "\n",
    "# make predictions for the test dataset\n",
    "preds = bst.predict(X_test)\n",
    "\n",
    "# print predictions\n",
    "print(preds)\n",
    "\n",
    "# print model Accuracy (how often the classifier is correct)\n",
    "print(\"Accuracy:\", metrics.accuracy_score(y_test, preds))"
   ]
  },
  {
   "cell_type": "markdown",
   "id": "a56d3bfc-09bc-416e-b7c7-1f8c8370f16a",
   "metadata": {},
   "source": [
    "### FIC"
   ]
  },
  {
   "cell_type": "code",
   "execution_count": 12,
   "id": "16d03cd9-1b77-4591-adc5-a5ac9e6fa031",
   "metadata": {},
   "outputs": [],
   "source": [
    "class FeatureClassifier:\n",
    "  def __init__(self,reqAcc = 0.01, classifier = 'DecisionTree', bias = [], control = None, n_jobs = None, random_state = None):\n",
    "    self.featureClassifiers=[] #list of all the classifiers of all the selected features\n",
    "    self.reqAcc=reqAcc #user specified cutoff value\n",
    "    self.indexLs=[] # list of mapped index values to featureClassifiers\n",
    "    self.flag=0\n",
    "    self.bias=bias # list of biases for each and every label\n",
    "    self.control=control #overfitting control for decision trees\n",
    "    self.classifier=classifier #the classifier which is preferred by the user\n",
    "    self.dic={'DecisionTree':0,'LinearRegression':1,'SVM':2,'LogisticRegression':3} #a dictionary which maps the classifier to its index\n",
    "    self.n_jobs=n_jobs\n",
    "    self.random_state=random_state\n",
    "    self.num_lables = None\n",
    "\n",
    "  def finIndex(self):\n",
    "    #finds the index where the reqAcc condition fails and also created the indexLs[] for mapping\n",
    "    for i in range(len(self.featureClassifiers)):\n",
    "      if self.featureClassifiers[i][1] < self.reqAcc:\n",
    "        return i\n",
    "      self.indexLs.append(self.featureClassifiers[i][2])\n",
    "    self.flag=1\n",
    "    return i\n",
    "\n",
    "  def fit(self,x,y):\n",
    "    #applied the model to the dataset. The model is trained and saved for further prediction\n",
    "    self.num_lables=len(set(y.flatten()))\n",
    "    bestfeatures = SelectKBest(score_func=chi2,k=1)\n",
    "    fit = bestfeatures.fit(x,y)\n",
    "\n",
    "    for i in range(len(x[0])):\n",
    "      clf=[DecisionTreeClassifier(max_depth=self.control,random_state=self.random_state),LinearRegression(n_jobs=self.n_jobs),SVC(gamma=self.control,random_state=self.random_state), LogisticRegression(penalty=self.control,random_state=self.random_state)][self.dic[self.classifier]]\n",
    "      X_train, X_test, y_train, y_test = train_test_split(x, y, test_size=0.33,random_state=self.random_state)\n",
    "      clf.fit(X_train[:,i:i+1],y_train)\n",
    "      self.featureClassifiers.append((clf,fit.scores_[i],i))\n",
    "    self.featureClassifiers.sort(key=lambda x:x[1],reverse=True)\n",
    "    index=self.finIndex()\n",
    "    if self.flag==0:\n",
    "      self.featureClassifiers=self.featureClassifiers[:index]\n",
    "    return\n",
    "\n",
    "  def predict(self,x):\n",
    "    #given a list of inputs, predicts the possible outputs\n",
    "    if not self.bias:\n",
    "      self.bias=np.zeros(self.num_lables)\n",
    "    if len(self.bias)<self.num_lables:\n",
    "      raise AttributeError('Please check the lenth of bias list')\n",
    "    yPred=[]\n",
    "    for i in range(len(x)):\n",
    "      pred_arr=np.zeros(self.num_lables)\n",
    "      for j in range(len(self.indexLs)):\n",
    "        pred=np.round(self.featureClassifiers[j][0].predict([[x[i][self.indexLs[j]]]]))\n",
    "        pred_arr[pred]+=self.featureClassifiers[j][1]+self.bias[pred[0]]\n",
    "      yPred.append(np.argmax(pred_arr))\n",
    "    return yPred"
   ]
  },
  {
   "cell_type": "code",
   "execution_count": 14,
   "id": "0009d4fe-6bf7-47fd-bd66-f67858d1504c",
   "metadata": {},
   "outputs": [
    {
     "name": "stdout",
     "output_type": "stream",
     "text": [
      "Accuracy: 1.0\n",
      "[136, 102, 99, 12, 13, 139, 103, 109, 129, 112, 94, 58, 4, 93, 137, 47, 134, 14, 29, 120, 0, 42, 54, 122, 65, 121, 64, 124, 127, 131, 67, 123, 148, 130, 145, 59, 111, 143, 57, 144, 1, 133, 52, 126, 43, 20, 38, 24, 117, 39, 48, 25, 7, 128, 45, 113, 75, 106, 110, 60, 90, 104, 35, 119, 31, 77, 62, 83, 5, 89, 66, 142, 107, 114, 21, 56, 41, 73, 88, 76, 138, 86, 37, 96, 23, 2, 6, 51, 28, 44, 69, 19, 108, 80, 22, 33, 100, 18, 30, 97, 71, 68, 50, 61, 118, 141, 36, 63, 16, 98, 105, 27, 11, 26, 79, 92, 74, 125, 115, 53, 10, 85, 78, 34, 84, 32, 17, 8, 81, 82, 140, 46, 40, 95, 101, 132, 9, 49, 70, 135, 3, 147, 15, 91, 116, 87, 55, 146, 72]\n"
     ]
    },
    {
     "data": {
      "text/plain": [
       "[(DecisionTreeClassifier(max_depth=3), 30.90274402045231, 136),\n",
       " (DecisionTreeClassifier(max_depth=3), 29.082777549964945, 102),\n",
       " (DecisionTreeClassifier(max_depth=3), 27.226682233472232, 99),\n",
       " (DecisionTreeClassifier(max_depth=3), 26.69072362931, 12),\n",
       " (DecisionTreeClassifier(max_depth=3), 26.369190478602633, 13),\n",
       " (DecisionTreeClassifier(max_depth=3), 25.036212102731447, 139),\n",
       " (DecisionTreeClassifier(max_depth=3), 24.923520090798064, 103),\n",
       " (DecisionTreeClassifier(max_depth=3), 24.897947036285835, 109),\n",
       " (DecisionTreeClassifier(max_depth=3), 24.79824628055551, 129),\n",
       " (DecisionTreeClassifier(max_depth=3), 24.348075129239582, 112),\n",
       " (DecisionTreeClassifier(max_depth=3), 24.34662049797147, 94),\n",
       " (DecisionTreeClassifier(max_depth=3), 23.548718797867494, 58),\n",
       " (DecisionTreeClassifier(max_depth=3), 23.46422495740002, 4),\n",
       " (DecisionTreeClassifier(max_depth=3), 23.317780150976425, 93),\n",
       " (DecisionTreeClassifier(max_depth=3), 22.94923129205304, 137),\n",
       " (DecisionTreeClassifier(max_depth=3), 22.475290943738184, 47),\n",
       " (DecisionTreeClassifier(max_depth=3), 22.39176820726702, 134),\n",
       " (DecisionTreeClassifier(max_depth=3), 22.387279011932012, 14),\n",
       " (DecisionTreeClassifier(max_depth=3), 22.041473464241335, 29),\n",
       " (DecisionTreeClassifier(max_depth=3), 22.020287576600587, 120),\n",
       " (DecisionTreeClassifier(max_depth=3), 22.004849506544794, 0),\n",
       " (DecisionTreeClassifier(max_depth=3), 21.983302222489485, 42),\n",
       " (DecisionTreeClassifier(max_depth=3), 21.981749695182934, 54),\n",
       " (DecisionTreeClassifier(max_depth=3), 21.834364151568867, 122),\n",
       " (DecisionTreeClassifier(max_depth=3), 21.715898636253677, 65),\n",
       " (DecisionTreeClassifier(max_depth=3), 21.46486263582429, 121),\n",
       " (DecisionTreeClassifier(max_depth=3), 21.463027676547334, 64),\n",
       " (DecisionTreeClassifier(max_depth=3), 21.28174573878738, 124),\n",
       " (DecisionTreeClassifier(max_depth=3), 21.268301528244237, 127),\n",
       " (DecisionTreeClassifier(max_depth=3), 21.146352884137848, 131),\n",
       " (DecisionTreeClassifier(max_depth=3), 21.006679853451615, 67),\n",
       " (DecisionTreeClassifier(max_depth=3), 20.996849025284043, 123),\n",
       " (DecisionTreeClassifier(max_depth=3), 20.972792213145496, 148),\n",
       " (DecisionTreeClassifier(max_depth=3), 20.946014053339898, 130),\n",
       " (DecisionTreeClassifier(max_depth=3), 20.86158048882586, 145),\n",
       " (DecisionTreeClassifier(max_depth=3), 20.817145582267912, 59),\n",
       " (DecisionTreeClassifier(max_depth=3), 20.635416126024953, 111),\n",
       " (DecisionTreeClassifier(max_depth=3), 20.625997748234617, 143),\n",
       " (DecisionTreeClassifier(max_depth=3), 20.383764000812945, 57),\n",
       " (DecisionTreeClassifier(max_depth=3), 20.313078827562848, 144),\n",
       " (DecisionTreeClassifier(max_depth=3), 20.246967667007702, 1),\n",
       " (DecisionTreeClassifier(max_depth=3), 20.235813236987276, 133),\n",
       " (DecisionTreeClassifier(max_depth=3), 20.23158577103309, 52),\n",
       " (DecisionTreeClassifier(max_depth=3), 20.16338491979829, 126),\n",
       " (DecisionTreeClassifier(max_depth=3), 20.110139268588924, 43),\n",
       " (DecisionTreeClassifier(max_depth=3), 19.943851820141717, 20),\n",
       " (DecisionTreeClassifier(max_depth=3), 19.837083505158194, 38),\n",
       " (DecisionTreeClassifier(max_depth=3), 19.775782516270233, 24),\n",
       " (DecisionTreeClassifier(max_depth=3), 19.658872499134816, 117),\n",
       " (DecisionTreeClassifier(max_depth=3), 19.65874356660858, 39),\n",
       " (DecisionTreeClassifier(max_depth=3), 19.583487834818627, 48),\n",
       " (DecisionTreeClassifier(max_depth=3), 19.57382476264167, 25),\n",
       " (DecisionTreeClassifier(max_depth=3), 19.570186723888547, 7),\n",
       " (DecisionTreeClassifier(max_depth=3), 19.51449468572602, 128),\n",
       " (DecisionTreeClassifier(max_depth=3), 19.495807824906386, 45),\n",
       " (DecisionTreeClassifier(max_depth=3), 19.438536878542806, 113),\n",
       " (DecisionTreeClassifier(max_depth=3), 19.37550170388061, 75),\n",
       " (DecisionTreeClassifier(max_depth=3), 19.36974077705405, 106),\n",
       " (DecisionTreeClassifier(max_depth=3), 19.31938472049965, 110),\n",
       " (DecisionTreeClassifier(max_depth=3), 19.281117148512013, 60),\n",
       " (DecisionTreeClassifier(max_depth=3), 19.25314648937202, 90),\n",
       " (DecisionTreeClassifier(max_depth=3), 19.228233564779302, 104),\n",
       " (DecisionTreeClassifier(max_depth=3), 19.017092671722494, 35),\n",
       " (DecisionTreeClassifier(max_depth=3), 18.981455967031373, 119),\n",
       " (DecisionTreeClassifier(max_depth=3), 18.96150961718191, 31),\n",
       " (DecisionTreeClassifier(max_depth=3), 18.959256472302364, 77),\n",
       " (DecisionTreeClassifier(max_depth=3), 18.952667017854864, 62),\n",
       " (DecisionTreeClassifier(max_depth=3), 18.84017112091187, 83),\n",
       " (DecisionTreeClassifier(max_depth=3), 18.80142728613214, 5),\n",
       " (DecisionTreeClassifier(max_depth=3), 18.7634950914835, 89),\n",
       " (DecisionTreeClassifier(max_depth=3), 18.762841858473323, 66),\n",
       " (DecisionTreeClassifier(max_depth=3), 18.72441707294182, 142),\n",
       " (DecisionTreeClassifier(max_depth=3), 18.70587115413956, 107),\n",
       " (DecisionTreeClassifier(max_depth=3), 18.67481306311568, 114),\n",
       " (DecisionTreeClassifier(max_depth=3), 18.63016797268198, 21),\n",
       " (DecisionTreeClassifier(max_depth=3), 18.54990476857342, 56),\n",
       " (DecisionTreeClassifier(max_depth=3), 18.434124697032104, 41),\n",
       " (DecisionTreeClassifier(max_depth=3), 18.4010666081009, 73),\n",
       " (DecisionTreeClassifier(max_depth=3), 18.318311874186726, 88),\n",
       " (DecisionTreeClassifier(max_depth=3), 18.281018008020098, 76),\n",
       " (DecisionTreeClassifier(max_depth=3), 18.234058108628503, 138),\n",
       " (DecisionTreeClassifier(max_depth=3), 18.09771381398048, 86),\n",
       " (DecisionTreeClassifier(max_depth=3), 18.066571257056296, 37),\n",
       " (DecisionTreeClassifier(max_depth=3), 17.976966717574797, 96),\n",
       " (DecisionTreeClassifier(max_depth=3), 17.953559732536025, 23),\n",
       " (DecisionTreeClassifier(max_depth=3), 17.929259826079893, 2),\n",
       " (DecisionTreeClassifier(max_depth=3), 17.784873095625077, 6),\n",
       " (DecisionTreeClassifier(max_depth=3), 17.774451736702193, 51),\n",
       " (DecisionTreeClassifier(max_depth=3), 17.75192203269136, 28),\n",
       " (DecisionTreeClassifier(max_depth=3), 17.735554343383015, 44),\n",
       " (DecisionTreeClassifier(max_depth=3), 17.48142774854268, 69),\n",
       " (DecisionTreeClassifier(max_depth=3), 17.43921174744739, 19),\n",
       " (DecisionTreeClassifier(max_depth=3), 17.375854979024957, 108),\n",
       " (DecisionTreeClassifier(max_depth=3), 17.33081257001851, 80),\n",
       " (DecisionTreeClassifier(max_depth=3), 17.311870777297724, 22),\n",
       " (DecisionTreeClassifier(max_depth=3), 17.206772149974356, 33),\n",
       " (DecisionTreeClassifier(max_depth=3), 17.177545122522282, 100),\n",
       " (DecisionTreeClassifier(max_depth=3), 16.941952227729956, 18),\n",
       " (DecisionTreeClassifier(max_depth=3), 16.908481749135994, 30),\n",
       " (DecisionTreeClassifier(max_depth=3), 16.868714628316063, 97),\n",
       " (DecisionTreeClassifier(max_depth=3), 16.76743625960416, 71),\n",
       " (DecisionTreeClassifier(max_depth=3), 16.66272822003587, 68),\n",
       " (DecisionTreeClassifier(max_depth=3), 16.584179256120002, 50),\n",
       " (DecisionTreeClassifier(max_depth=3), 16.54481243620753, 61),\n",
       " (DecisionTreeClassifier(max_depth=3), 16.541068235559397, 118),\n",
       " (DecisionTreeClassifier(max_depth=3), 16.516516830198135, 141),\n",
       " (DecisionTreeClassifier(max_depth=3), 16.49954351835426, 36),\n",
       " (DecisionTreeClassifier(max_depth=3), 16.42978780047711, 63),\n",
       " (DecisionTreeClassifier(max_depth=3), 16.318483852323173, 16),\n",
       " (DecisionTreeClassifier(max_depth=3), 16.239371495224585, 98),\n",
       " (DecisionTreeClassifier(max_depth=3), 16.219578867873977, 105),\n",
       " (DecisionTreeClassifier(max_depth=3), 16.12529804540059, 27),\n",
       " (DecisionTreeClassifier(max_depth=3), 16.124578266975206, 11),\n",
       " (DecisionTreeClassifier(max_depth=3), 16.05328195348814, 26),\n",
       " (DecisionTreeClassifier(max_depth=3), 16.03377180507494, 79),\n",
       " (DecisionTreeClassifier(max_depth=3), 16.03215818114197, 92),\n",
       " (DecisionTreeClassifier(max_depth=3), 16.027229488998117, 74),\n",
       " (DecisionTreeClassifier(max_depth=3), 15.916569091559882, 125),\n",
       " (DecisionTreeClassifier(max_depth=3), 15.909679361154575, 115),\n",
       " (DecisionTreeClassifier(max_depth=3), 15.834769033828021, 53),\n",
       " (DecisionTreeClassifier(max_depth=3), 15.805230880946706, 10),\n",
       " (DecisionTreeClassifier(max_depth=3), 15.668640782899558, 85),\n",
       " (DecisionTreeClassifier(max_depth=3), 15.63348601414729, 78),\n",
       " (DecisionTreeClassifier(max_depth=3), 15.598937499393948, 34),\n",
       " (DecisionTreeClassifier(max_depth=3), 15.561695215380457, 84),\n",
       " (DecisionTreeClassifier(max_depth=3), 15.532770264366095, 32),\n",
       " (DecisionTreeClassifier(max_depth=3), 15.499861126434725, 17),\n",
       " (DecisionTreeClassifier(max_depth=3), 15.492805089249554, 8),\n",
       " (DecisionTreeClassifier(max_depth=3), 15.348720777775515, 81),\n",
       " (DecisionTreeClassifier(max_depth=3), 15.241205702395202, 82),\n",
       " (DecisionTreeClassifier(max_depth=3), 15.233267924878561, 140),\n",
       " (DecisionTreeClassifier(max_depth=3), 15.071114010695801, 46),\n",
       " (DecisionTreeClassifier(max_depth=3), 15.043718053204945, 40),\n",
       " (DecisionTreeClassifier(max_depth=3), 14.908854273711878, 95),\n",
       " (DecisionTreeClassifier(max_depth=3), 14.603953381537023, 101),\n",
       " (DecisionTreeClassifier(max_depth=3), 14.388700006821717, 132),\n",
       " (DecisionTreeClassifier(max_depth=3), 14.005755788889118, 9),\n",
       " (DecisionTreeClassifier(max_depth=3), 13.868427873488788, 49),\n",
       " (DecisionTreeClassifier(max_depth=3), 13.849498021394727, 70),\n",
       " (DecisionTreeClassifier(max_depth=3), 13.754893938148971, 135),\n",
       " (DecisionTreeClassifier(max_depth=3), 13.594730184724689, 3),\n",
       " (DecisionTreeClassifier(max_depth=3), 13.300592819951326, 147),\n",
       " (DecisionTreeClassifier(max_depth=3), 13.070148856005119, 15),\n",
       " (DecisionTreeClassifier(max_depth=3), 13.041717009279989, 91),\n",
       " (DecisionTreeClassifier(max_depth=3), 12.877902913398502, 116),\n",
       " (DecisionTreeClassifier(max_depth=3), 12.813202843290064, 87),\n",
       " (DecisionTreeClassifier(max_depth=3), 12.053947352575083, 55),\n",
       " (DecisionTreeClassifier(max_depth=3), 11.433743815959286, 146),\n",
       " (DecisionTreeClassifier(max_depth=3), 11.317953244158769, 72)]"
      ]
     },
     "execution_count": 14,
     "metadata": {},
     "output_type": "execute_result"
    }
   ],
   "source": [
    "#train the model using the training sets\n",
    "clf1=FeatureClassifier(0,classifier='DecisionTree',control=3)\n",
    "# clf1.fit(X_train,y_train.reshape(-1,1))\n",
    "clf1.fit(np.array(X_train), np.array(y_train)[:,np.newaxis].astype(int))\n",
    "\n",
    "#predict the response for the test dataset\n",
    "#model accuracy (how often the classifier is correct)\n",
    "print(\"Accuracy:\", metrics.accuracy_score(np.array(y_test).astype(int),clf1.predict(np.array(X_test))))\n",
    "\n",
    "print(clf1.indexLs)\n",
    "clf1.featureClassifiers"
   ]
  },
  {
   "cell_type": "markdown",
   "id": "fdf5fc2c-2542-4fd9-89a6-1b26d1e475e7",
   "metadata": {},
   "source": [
    "### KNN"
   ]
  },
  {
   "cell_type": "code",
   "execution_count": 16,
   "id": "51113697-9559-443b-add0-bb9cff71f5c0",
   "metadata": {},
   "outputs": [
    {
     "name": "stdout",
     "output_type": "stream",
     "text": [
      "[0. 0. 1. 1. 0. 0. 0. 0. 0. 1. 0. 0. 0. 0. 0. 1. 0. 1. 1. 1. 0. 0. 1. 0.\n",
      " 1. 0. 1. 0. 0. 1. 1. 0. 1. 0. 0. 1. 0. 1. 1. 1. 1. 0. 1. 1. 1. 0. 0. 1.\n",
      " 0. 0. 1. 0. 0. 1. 1. 1. 1. 1. 0. 0. 0. 0. 1. 0. 0. 0. 0. 1. 0. 1. 1. 1.\n",
      " 0. 1. 1. 0. 1. 0. 0. 1. 1. 1. 0. 0. 0. 0. 1. 0. 0. 0. 0. 0. 0. 1. 1. 0.\n",
      " 1. 0. 0. 1.]\n",
      "Accuracy: 1.0\n"
     ]
    }
   ],
   "source": [
    "#create a knn classifier\n",
    "#n_neighbors: predicting the label of the data point by looking at the 3 closest data points and getting them to \"vote\"\n",
    "#algorithm: we may need to look at this if it misbehaves\n",
    "neigh = KNeighborsClassifier(n_neighbors=5)\n",
    "\n",
    "#train the model using the training sets\n",
    "neigh.fit(X_train, y_train)\n",
    "\n",
    "#predict the response for the test dataset\n",
    "y_pred = neigh.predict(X_test)\n",
    "\n",
    "#print predictions\n",
    "print(y_pred)\n",
    "\n",
    "#model accuracy (how often the classifier is correct)\n",
    "print(\"Accuracy:\", metrics.accuracy_score(y_test,y_pred))"
   ]
  },
  {
   "cell_type": "markdown",
   "id": "f4427ca7-8d35-4f5e-be7a-bb6759c9047f",
   "metadata": {},
   "source": [
    "### SVM"
   ]
  },
  {
   "cell_type": "code",
   "execution_count": 18,
   "id": "3ec3390b-b028-4d22-b67d-aa7792b31d79",
   "metadata": {},
   "outputs": [
    {
     "name": "stdout",
     "output_type": "stream",
     "text": [
      "[0. 0. 1. 1. 0. 0. 0. 0. 0. 1. 0. 0. 0. 0. 0. 1. 0. 1. 1. 1. 0. 0. 1. 0.\n",
      " 1. 0. 1. 0. 0. 1. 1. 0. 1. 0. 0. 1. 0. 1. 1. 1. 1. 0. 1. 1. 1. 0. 0. 1.\n",
      " 0. 0. 1. 0. 0. 1. 1. 1. 1. 1. 0. 0. 0. 0. 1. 0. 0. 0. 0. 1. 0. 1. 1. 1.\n",
      " 0. 1. 1. 0. 1. 0. 0. 1. 1. 1. 0. 0. 0. 0. 1. 0. 0. 0. 0. 0. 0. 1. 1. 0.\n",
      " 1. 0. 0. 1.]\n",
      "Accuracy: 1.0\n"
     ]
    }
   ],
   "source": [
    "#Create a svm Classifier\n",
    "# kernel: options for kernel include linear, poly, rbf, sigmoid\n",
    "    # linear: use this when data can be split by a linear function\n",
    "    # poly (polynomial): use this when data can be split by a polynomial function\n",
    "    # rbf (radial basis function): use this when there are clusters of one class inside another\n",
    "    # sigmoid: use this when the split between classes is curved and irregular\n",
    "clf = svm.SVC(kernel='linear')\n",
    "\n",
    "#Train the model using the training sets\n",
    "clf.fit(X_train, y_train)\n",
    "\n",
    "#Predict the response for test dataset\n",
    "y_pred = clf.predict(X_test)\n",
    "\n",
    "# print predictions\n",
    "print(y_pred)\n",
    "\n",
    "# print model Accuracy (how often the classifier is correct)\n",
    "print(\"Accuracy:\", metrics.accuracy_score(y_test, y_pred))"
   ]
  }
 ],
 "metadata": {
  "kernelspec": {
   "display_name": "Python 3 (ipykernel)",
   "language": "python",
   "name": "python3"
  },
  "language_info": {
   "codemirror_mode": {
    "name": "ipython",
    "version": 3
   },
   "file_extension": ".py",
   "mimetype": "text/x-python",
   "name": "python",
   "nbconvert_exporter": "python",
   "pygments_lexer": "ipython3",
   "version": "3.11.5"
  }
 },
 "nbformat": 4,
 "nbformat_minor": 5
}
