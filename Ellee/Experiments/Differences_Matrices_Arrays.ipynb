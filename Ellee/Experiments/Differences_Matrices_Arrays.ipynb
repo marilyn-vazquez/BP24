{
 "cells": [
  {
   "cell_type": "code",
   "execution_count": 4,
   "id": "4061dbbd-b593-4839-9ca5-aa8ada5bdcda",
   "metadata": {},
   "outputs": [],
   "source": [
    "import numpy as np\n",
    "import pandas as pd\n",
    "from numpy import linalg\n",
    "from sklearn.model_selection import train_test_split"
   ]
  },
  {
   "cell_type": "markdown",
   "id": "657bfdd5-302c-42ef-9f05-e4ccbefd8ead",
   "metadata": {},
   "source": [
    "# Upload Dataset"
   ]
  },
  {
   "cell_type": "code",
   "execution_count": 6,
   "id": "198910fa-c38e-49d7-b3e5-ec9e71e9ecf3",
   "metadata": {},
   "outputs": [],
   "source": [
    "data1 = pd.read_csv(\"/Users/elleemortensen/Documents/GitHub/BP24/Ellee/Data/Gaussian/gaussian_orig.csv\", header=None)\n",
    "data2 = pd.read_csv(\"/Users/elleemortensen/Documents/GitHub/BP24/Ellee/Data/Uniform/uniform_orig.csv\", header=None)\n",
    "data3 = pd.read_csv(\"/Users/elleemortensen/Documents/GitHub/BP24/Ellee/Data/Uniform/uniform_new.csv\", header=None)"
   ]
  },
  {
   "cell_type": "code",
   "execution_count": 8,
   "id": "9129ee7d-28b0-458c-834e-af96b83c98b8",
   "metadata": {},
   "outputs": [],
   "source": [
    "subset_data2 = data2.iloc[:, -13:]\n",
    "subset_data3 = data3.iloc[:, -13:]"
   ]
  },
  {
   "cell_type": "code",
   "execution_count": 32,
   "id": "4bc4a540-4ab8-46fb-9d49-0629d8580b26",
   "metadata": {
    "scrolled": true
   },
   "outputs": [
    {
     "name": "stdout",
     "output_type": "stream",
     "text": [
      "Shape of data1: (172, 13)\n",
      "Shape of data2: (343, 13)\n",
      "Shape of data3: (342, 13)\n"
     ]
    }
   ],
   "source": [
    "# Print shapes for debugging\n",
    "print(f\"Shape of data1: {data1.shape}\")\n",
    "print(f\"Shape of data2: {subset_data2.shape}\")\n",
    "print(f\"Shape of data3: {subset_data3.shape}\")"
   ]
  },
  {
   "cell_type": "markdown",
   "id": "41ea6a10-aae1-4a13-a214-e033f0638380",
   "metadata": {},
   "source": [
    "# Concat Synthetic + Augmented dataset"
   ]
  },
  {
   "cell_type": "code",
   "execution_count": 14,
   "id": "b43f3f88-467a-4bec-86f0-482da5acc383",
   "metadata": {},
   "outputs": [],
   "source": [
    "for i in range(-5,0):\n",
    "    data1.iloc[:,i] = data1.iloc[:,i].astype(int) # Integer\n",
    "    data1.iloc[:,i] = data1.iloc[:,i].astype('category') # Categories"
   ]
  },
  {
   "cell_type": "code",
   "execution_count": 16,
   "id": "3588fea2-73a5-4432-950e-2a9067fac344",
   "metadata": {},
   "outputs": [
    {
     "name": "stderr",
     "output_type": "stream",
     "text": [
      "/var/folders/vs/hd0z3zmd61j3_8jc_fymfchr0000gn/T/ipykernel_33319/394977183.py:3: FutureWarning: Setting an item of incompatible dtype is deprecated and will raise in a future error of pandas. Value '0      0.0\n",
      "1      0.0\n",
      "2      1.0\n",
      "3      0.0\n",
      "4      0.0\n",
      "      ... \n",
      "338    0.0\n",
      "339    0.0\n",
      "340    0.0\n",
      "341    0.0\n",
      "342    0.0\n",
      "Name: 20, Length: 343, dtype: category\n",
      "Categories (2, float64): [0.0, 1.0]' has dtype incompatible with float64, please explicitly cast to a compatible dtype first.\n",
      "  subset_data2.iloc[:,i] = subset_data2.iloc[:,i].astype('category') # Categories\n",
      "/var/folders/vs/hd0z3zmd61j3_8jc_fymfchr0000gn/T/ipykernel_33319/394977183.py:3: FutureWarning: Setting an item of incompatible dtype is deprecated and will raise in a future error of pandas. Value '0      1.0\n",
      "1      0.0\n",
      "2      0.0\n",
      "3      0.0\n",
      "4      0.0\n",
      "      ... \n",
      "338    0.0\n",
      "339    0.0\n",
      "340    1.0\n",
      "341    0.0\n",
      "342    1.0\n",
      "Name: 21, Length: 343, dtype: category\n",
      "Categories (2, float64): [0.0, 1.0]' has dtype incompatible with float64, please explicitly cast to a compatible dtype first.\n",
      "  subset_data2.iloc[:,i] = subset_data2.iloc[:,i].astype('category') # Categories\n",
      "/var/folders/vs/hd0z3zmd61j3_8jc_fymfchr0000gn/T/ipykernel_33319/394977183.py:3: FutureWarning: Setting an item of incompatible dtype is deprecated and will raise in a future error of pandas. Value '0      0.0\n",
      "1      0.0\n",
      "2      0.0\n",
      "3      0.0\n",
      "4      0.0\n",
      "      ... \n",
      "338    0.0\n",
      "339    0.0\n",
      "340    0.0\n",
      "341    0.0\n",
      "342    0.0\n",
      "Name: 22, Length: 343, dtype: category\n",
      "Categories (2, float64): [0.0, 1.0]' has dtype incompatible with float64, please explicitly cast to a compatible dtype first.\n",
      "  subset_data2.iloc[:,i] = subset_data2.iloc[:,i].astype('category') # Categories\n",
      "/var/folders/vs/hd0z3zmd61j3_8jc_fymfchr0000gn/T/ipykernel_33319/394977183.py:3: FutureWarning: Setting an item of incompatible dtype is deprecated and will raise in a future error of pandas. Value '0      0.0\n",
      "1      0.0\n",
      "2      0.0\n",
      "3      0.0\n",
      "4      0.0\n",
      "      ... \n",
      "338    0.0\n",
      "339    0.0\n",
      "340    0.0\n",
      "341    0.0\n",
      "342    0.0\n",
      "Name: 23, Length: 343, dtype: category\n",
      "Categories (2, float64): [0.0, 1.0]' has dtype incompatible with float64, please explicitly cast to a compatible dtype first.\n",
      "  subset_data2.iloc[:,i] = subset_data2.iloc[:,i].astype('category') # Categories\n",
      "/var/folders/vs/hd0z3zmd61j3_8jc_fymfchr0000gn/T/ipykernel_33319/394977183.py:3: FutureWarning: Setting an item of incompatible dtype is deprecated and will raise in a future error of pandas. Value '0      1.0\n",
      "1      1.0\n",
      "2      1.0\n",
      "3      0.0\n",
      "4      0.0\n",
      "      ... \n",
      "338    0.0\n",
      "339    1.0\n",
      "340    1.0\n",
      "341    0.0\n",
      "342    1.0\n",
      "Name: 24, Length: 343, dtype: category\n",
      "Categories (2, float64): [0.0, 1.0]' has dtype incompatible with float64, please explicitly cast to a compatible dtype first.\n",
      "  subset_data2.iloc[:,i] = subset_data2.iloc[:,i].astype('category') # Categories\n"
     ]
    }
   ],
   "source": [
    "for i in range(-5,0):\n",
    "    subset_data2.iloc[:,i] = subset_data2.iloc[:,i].astype(int) # Integer\n",
    "    subset_data2.iloc[:,i] = subset_data2.iloc[:,i].astype('category') # Categories"
   ]
  },
  {
   "cell_type": "code",
   "execution_count": 18,
   "id": "8a21d733-d7cc-4ab0-9f72-a6d06d328a58",
   "metadata": {},
   "outputs": [
    {
     "name": "stderr",
     "output_type": "stream",
     "text": [
      "/var/folders/vs/hd0z3zmd61j3_8jc_fymfchr0000gn/T/ipykernel_33319/3576809588.py:3: FutureWarning: Setting an item of incompatible dtype is deprecated and will raise in a future error of pandas. Value '0      0.0\n",
      "1      0.0\n",
      "2      1.0\n",
      "3      0.0\n",
      "4      0.0\n",
      "      ... \n",
      "337    0.0\n",
      "338    0.0\n",
      "339    0.0\n",
      "340    0.0\n",
      "341    0.0\n",
      "Name: 20, Length: 342, dtype: category\n",
      "Categories (2, float64): [0.0, 1.0]' has dtype incompatible with float64, please explicitly cast to a compatible dtype first.\n",
      "  subset_data3.iloc[:,i] = subset_data3.iloc[:,i].astype('category') # Categories\n",
      "/var/folders/vs/hd0z3zmd61j3_8jc_fymfchr0000gn/T/ipykernel_33319/3576809588.py:3: FutureWarning: Setting an item of incompatible dtype is deprecated and will raise in a future error of pandas. Value '0      0.0\n",
      "1      0.0\n",
      "2      0.0\n",
      "3      0.0\n",
      "4      0.0\n",
      "      ... \n",
      "337    0.0\n",
      "338    0.0\n",
      "339    0.0\n",
      "340    0.0\n",
      "341    0.0\n",
      "Name: 21, Length: 342, dtype: category\n",
      "Categories (2, float64): [0.0, 1.0]' has dtype incompatible with float64, please explicitly cast to a compatible dtype first.\n",
      "  subset_data3.iloc[:,i] = subset_data3.iloc[:,i].astype('category') # Categories\n",
      "/var/folders/vs/hd0z3zmd61j3_8jc_fymfchr0000gn/T/ipykernel_33319/3576809588.py:3: FutureWarning: Setting an item of incompatible dtype is deprecated and will raise in a future error of pandas. Value '0      0.0\n",
      "1      0.0\n",
      "2      1.0\n",
      "3      0.0\n",
      "4      0.0\n",
      "      ... \n",
      "337    1.0\n",
      "338    0.0\n",
      "339    0.0\n",
      "340    0.0\n",
      "341    0.0\n",
      "Name: 22, Length: 342, dtype: category\n",
      "Categories (2, float64): [0.0, 1.0]' has dtype incompatible with float64, please explicitly cast to a compatible dtype first.\n",
      "  subset_data3.iloc[:,i] = subset_data3.iloc[:,i].astype('category') # Categories\n",
      "/var/folders/vs/hd0z3zmd61j3_8jc_fymfchr0000gn/T/ipykernel_33319/3576809588.py:3: FutureWarning: Setting an item of incompatible dtype is deprecated and will raise in a future error of pandas. Value '0      1.0\n",
      "1      0.0\n",
      "2      0.0\n",
      "3      0.0\n",
      "4      0.0\n",
      "      ... \n",
      "337    0.0\n",
      "338    0.0\n",
      "339    0.0\n",
      "340    1.0\n",
      "341    0.0\n",
      "Name: 23, Length: 342, dtype: category\n",
      "Categories (2, float64): [0.0, 1.0]' has dtype incompatible with float64, please explicitly cast to a compatible dtype first.\n",
      "  subset_data3.iloc[:,i] = subset_data3.iloc[:,i].astype('category') # Categories\n",
      "/var/folders/vs/hd0z3zmd61j3_8jc_fymfchr0000gn/T/ipykernel_33319/3576809588.py:3: FutureWarning: Setting an item of incompatible dtype is deprecated and will raise in a future error of pandas. Value '0      1.0\n",
      "1      1.0\n",
      "2      1.0\n",
      "3      0.0\n",
      "4      0.0\n",
      "      ... \n",
      "337    1.0\n",
      "338    0.0\n",
      "339    0.0\n",
      "340    1.0\n",
      "341    0.0\n",
      "Name: 24, Length: 342, dtype: category\n",
      "Categories (2, float64): [0.0, 1.0]' has dtype incompatible with float64, please explicitly cast to a compatible dtype first.\n",
      "  subset_data3.iloc[:,i] = subset_data3.iloc[:,i].astype('category') # Categories\n"
     ]
    }
   ],
   "source": [
    "for i in range(-5,0):\n",
    "    subset_data3.iloc[:,i] = subset_data3.iloc[:,i].astype(int) # Integer\n",
    "    subset_data3.iloc[:,i] = subset_data3.iloc[:,i].astype('category') # Categories"
   ]
  },
  {
   "cell_type": "code",
   "execution_count": 34,
   "id": "80bc402c-fd49-4bb4-af9f-ae30bf84ef57",
   "metadata": {},
   "outputs": [
    {
     "name": "stdout",
     "output_type": "stream",
     "text": [
      "12     float64\n",
      "13     float64\n",
      "14     float64\n",
      "15     float64\n",
      "16     float64\n",
      "17     float64\n",
      "18     float64\n",
      "19     float64\n",
      "20    category\n",
      "21    category\n",
      "22    category\n",
      "23    category\n",
      "24    category\n",
      "dtype: object\n"
     ]
    }
   ],
   "source": [
    "# Concat (adding rows)\n",
    "combined_df = np.vstack((subset_data2, subset_data3))\n",
    "\n",
    "# Reset the index to ensure a clean, continuous index\n",
    "#combined_df.reset_index(drop=True, inplace=True)\n",
    "combined_df.shape\n",
    "combined_df\n",
    "# change numpy array into a dataframe\n",
    "combined_data = pd.DataFrame(combined_df, columns=subset_data2.columns)\n",
    "combined_data\n",
    "# Convert the last 4 columns to categorical\n",
    "for column in combined_data.columns[-5:]:\n",
    "    combined_data[column] = combined_data[column].astype('category')\n",
    "\n",
    "# Verify the changes\n",
    "print(combined_data.dtypes)"
   ]
  },
  {
   "cell_type": "markdown",
   "id": "75b2489f-88d4-44ab-bdef-17c367df9c35",
   "metadata": {},
   "source": [
    "# Split Dataset"
   ]
  },
  {
   "cell_type": "code",
   "execution_count": 20,
   "id": "7c152381-70d9-4432-9722-fd110d049a8d",
   "metadata": {},
   "outputs": [],
   "source": [
    "# Split dataset into X and y\n",
    "X = data1.iloc[:, :-1]  # All columns except the last one\n",
    "y = data1.iloc[:, -1]   # Only the last column\n",
    "\n",
    "# Split dataset into X_train and y_train\n",
    "X_train, X_test, y_train, y_test = train_test_split(X, y, test_size=0.2, random_state=42)"
   ]
  },
  {
   "cell_type": "code",
   "execution_count": 36,
   "id": "d0a9c22d-7863-442d-aba5-7fd6901ca265",
   "metadata": {},
   "outputs": [],
   "source": [
    "# Split dataset into X and y\n",
    "X = combined_data.iloc[:, :-1]  # All columns except the last one\n",
    "y = combined_data.iloc[:, -1]   # Only the last column\n",
    "\n",
    "# Split dataset into X_train and y_train\n",
    "X_train, X_test, y_train, y_test = train_test_split(X, y, test_size=0.2, random_state=42)"
   ]
  },
  {
   "cell_type": "code",
   "execution_count": 38,
   "id": "1d5edb0a-73dc-47d6-ba73-1c5e13cdda7a",
   "metadata": {},
   "outputs": [],
   "source": [
    "# Splitting X_train into numerical subset \n",
    "numerical_df = X_train.select_dtypes(include = ['float', 'float64'])\n",
    "\n",
    "# Splitting X_train into categorical subset \n",
    "categorical_df = X_train.select_dtypes(exclude=['float', 'float64'])"
   ]
  },
  {
   "cell_type": "markdown",
   "id": "30441ffc-4e6b-44be-94fb-4366c680c6ec",
   "metadata": {},
   "source": [
    "# Correlation between columns test (Matrix)"
   ]
  },
  {
   "cell_type": "code",
   "execution_count": 40,
   "id": "7781a524-15f7-4da5-95ab-24800c49ed8a",
   "metadata": {},
   "outputs": [
    {
     "name": "stdout",
     "output_type": "stream",
     "text": [
      "---------------------------Correlation Matrix------------------------- \n",
      "           12        13        14        15        16        17        18  \\\n",
      "12  1.000000  0.157319  0.134368  0.111432  0.134634  0.183681  0.116678   \n",
      "13  0.157319  1.000000  0.099604  0.117605  0.111486  0.095595  0.089879   \n",
      "14  0.134368  0.099604  1.000000  0.106509  0.034420  0.131049  0.060834   \n",
      "15  0.111432  0.117605  0.106509  1.000000  0.118005  0.100133  0.011884   \n",
      "16  0.134634  0.111486  0.034420  0.118005  1.000000  0.163528  0.152705   \n",
      "17  0.183681  0.095595  0.131049  0.100133  0.163528  1.000000  0.079526   \n",
      "18  0.116678  0.089879  0.060834  0.011884  0.152705  0.079526  1.000000   \n",
      "19  0.145837  0.126652  0.121208  0.085087  0.076828  0.137600  0.069584   \n",
      "\n",
      "          19  \n",
      "12  0.145837  \n",
      "13  0.126652  \n",
      "14  0.121208  \n",
      "15  0.085087  \n",
      "16  0.076828  \n",
      "17  0.137600  \n",
      "18  0.069584  \n",
      "19  1.000000  \n",
      "None\n"
     ]
    }
   ],
   "source": [
    "##################### Correlation between columns (numerical) Code ############################\n",
    "# Takes the X_train data to find correlation between NUMERICAL features\n",
    "def num_corr(X_train_numerical):\n",
    "    matrix = X_train_numerical.corr(method='pearson')\n",
    "    print(\"---------------------------Correlation Matrix------------------------- \\n\", matrix)\n",
    "     \n",
    "#Calls the function so the matrix prints out    \n",
    "correlation_matrix = num_corr(numerical_df)\n",
    "\n",
    "# Print the dataframe to verify\n",
    "print(correlation_matrix)\n",
    "\n",
    "#np.savetxt('correlation_matrix.csv', correlation_matrix, delimiter=',')"
   ]
  },
  {
   "cell_type": "code",
   "execution_count": 26,
   "id": "13c8b607-d6d5-4378-8144-7a981fc48354",
   "metadata": {},
   "outputs": [
    {
     "name": "stdout",
     "output_type": "stream",
     "text": [
      "          0         1         2         3         4         5         6  \\\n",
      "0  1.000000  0.190323  0.213723  0.161948  0.210775  0.124851  0.215383   \n",
      "1  0.190323  1.000000  0.093142  0.150070  0.141232  0.149117  0.136150   \n",
      "2  0.213723  0.093142  1.000000  0.174529  0.183100  0.236549  0.053457   \n",
      "3  0.161948  0.150070  0.174529  1.000000  0.203168  0.285518  0.200924   \n",
      "4  0.210775  0.141232  0.183100  0.203168  1.000000  0.080916  0.269330   \n",
      "5  0.124851  0.149117  0.236549  0.285518  0.080916  1.000000  0.283308   \n",
      "6  0.215383  0.136150  0.053457  0.200924  0.269330  0.283308  1.000000   \n",
      "7  0.278531  0.106609  0.154279  0.227292  0.187540  0.244414  0.239216   \n",
      "\n",
      "          7  \n",
      "0  0.278531  \n",
      "1  0.106609  \n",
      "2  0.154279  \n",
      "3  0.227292  \n",
      "4  0.187540  \n",
      "5  0.244414  \n",
      "6  0.239216  \n",
      "7  1.000000  \n"
     ]
    },
    {
     "data": {
      "text/plain": [
       "(8, 8)"
      ]
     },
     "execution_count": 26,
     "metadata": {},
     "output_type": "execute_result"
    }
   ],
   "source": [
    "correlation_matrix = numerical_df.corr()\n",
    "correlation_df1 = pd.DataFrame(correlation_matrix)\n",
    "print(correlation_df1)\n",
    "\n",
    "correlation_df1.shape"
   ]
  },
  {
   "cell_type": "code",
   "execution_count": 42,
   "id": "ffe1fa67-a648-4fd4-892c-05e376cf5257",
   "metadata": {},
   "outputs": [
    {
     "name": "stdout",
     "output_type": "stream",
     "text": [
      "          12        13        14        15        16        17        18  \\\n",
      "12  1.000000  0.157319  0.134368  0.111432  0.134634  0.183681  0.116678   \n",
      "13  0.157319  1.000000  0.099604  0.117605  0.111486  0.095595  0.089879   \n",
      "14  0.134368  0.099604  1.000000  0.106509  0.034420  0.131049  0.060834   \n",
      "15  0.111432  0.117605  0.106509  1.000000  0.118005  0.100133  0.011884   \n",
      "16  0.134634  0.111486  0.034420  0.118005  1.000000  0.163528  0.152705   \n",
      "17  0.183681  0.095595  0.131049  0.100133  0.163528  1.000000  0.079526   \n",
      "18  0.116678  0.089879  0.060834  0.011884  0.152705  0.079526  1.000000   \n",
      "19  0.145837  0.126652  0.121208  0.085087  0.076828  0.137600  0.069584   \n",
      "\n",
      "          19  \n",
      "12  0.145837  \n",
      "13  0.126652  \n",
      "14  0.121208  \n",
      "15  0.085087  \n",
      "16  0.076828  \n",
      "17  0.137600  \n",
      "18  0.069584  \n",
      "19  1.000000  \n"
     ]
    },
    {
     "data": {
      "text/plain": [
       "(8, 8)"
      ]
     },
     "execution_count": 42,
     "metadata": {},
     "output_type": "execute_result"
    }
   ],
   "source": [
    "correlation_matrix = numerical_df.corr()\n",
    "correlation_df2 = pd.DataFrame(correlation_matrix)\n",
    "print(correlation_df2)\n",
    "\n",
    "correlation_df2.shape"
   ]
  },
  {
   "cell_type": "markdown",
   "id": "7d9ea54a-72ba-4ff8-a05b-4b52434b68cc",
   "metadata": {},
   "source": [
    "# Differences in Matrices (Frobenius Norm)"
   ]
  },
  {
   "cell_type": "code",
   "execution_count": 54,
   "id": "a262690c-dfaf-40c8-863b-77001e14d52c",
   "metadata": {},
   "outputs": [
    {
     "name": "stdout",
     "output_type": "stream",
     "text": [
      "Frobenius norm difference:  0.781\n",
      "Frobenius abs difference:  0.245\n"
     ]
    }
   ],
   "source": [
    "# Convert the dataframes to numpy arrays\n",
    "matrix1 = correlation_df1.to_numpy()\n",
    "matrix2 = correlation_df2.to_numpy()\n",
    "\n",
    "# Compute the Frobenius norm of the difference between the matrices. \n",
    "frobenius_abs = np.linalg.norm(matrix1 - matrix2, ord='fro')\n",
    "frobenius_rel = frobenius_abs/np.linalg.norm(matrix1, ord='fro')\n",
    "\n",
    "print(f\"Frobenius abs difference: {frobenius_abs: .3f}\")\n",
    "print(f\"Frobenius rel difference: {frobenius_rel: .3f}\")"
   ]
  },
  {
   "cell_type": "markdown",
   "id": "3893a07c-00f8-4041-ae4b-77e155738f6f",
   "metadata": {},
   "source": [
    "# Differences in Arrays (L2 Norm)"
   ]
  },
  {
   "cell_type": "code",
   "execution_count": null,
   "id": "c0e65e78-7871-4fc8-a693-b5c2ad10229d",
   "metadata": {},
   "outputs": [],
   "source": [
    "# Compute the L2 norm (Euclidean norm) of the difference between the arrays\n",
    "# L2_norm = np.linalg.norm(array1 - array2, ord=2)\n",
    "\n",
    "# print(f\"L2 norm difference: {L2_norm: .3f}\")"
   ]
  }
 ],
 "metadata": {
  "kernelspec": {
   "display_name": "Python 3 (ipykernel)",
   "language": "python",
   "name": "python3"
  },
  "language_info": {
   "codemirror_mode": {
    "name": "ipython",
    "version": 3
   },
   "file_extension": ".py",
   "mimetype": "text/x-python",
   "name": "python",
   "nbconvert_exporter": "python",
   "pygments_lexer": "ipython3",
   "version": "3.11.7"
  }
 },
 "nbformat": 4,
 "nbformat_minor": 5
}
