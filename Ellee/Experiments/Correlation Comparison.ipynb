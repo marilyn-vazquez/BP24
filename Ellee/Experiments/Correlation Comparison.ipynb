{
 "cells": [
  {
   "cell_type": "code",
   "execution_count": null,
   "id": "a8835c48-865f-4084-b08b-3f3412b509bb",
   "metadata": {},
   "outputs": [],
   "source": []
  },
  {
   "cell_type": "code",
   "execution_count": 33,
   "id": "4940dbfc-8545-4c90-8f30-854cb7336674",
   "metadata": {},
   "outputs": [
    {
     "data": {
      "text/plain": [
       "(500, 151)"
      ]
     },
     "execution_count": 33,
     "metadata": {},
     "output_type": "execute_result"
    }
   ],
   "source": [
    "import pandas as pd\n",
    "import numpy as np\n",
    "data1 = np.loadtxt(\"/Users/elleemortensen/Documents/GitHub/BP24/Fabiana/Data/gaussian_small_d_1.tex\")\n",
    "data1.shape"
   ]
  }
 ],
 "metadata": {
  "kernelspec": {
   "display_name": "Python 3 (ipykernel)",
   "language": "python",
   "name": "python3"
  },
  "language_info": {
   "codemirror_mode": {
    "name": "ipython",
    "version": 3
   },
   "file_extension": ".py",
   "mimetype": "text/x-python",
   "name": "python",
   "nbconvert_exporter": "python",
   "pygments_lexer": "ipython3",
   "version": "3.11.7"
  }
 },
 "nbformat": 4,
 "nbformat_minor": 5
}
