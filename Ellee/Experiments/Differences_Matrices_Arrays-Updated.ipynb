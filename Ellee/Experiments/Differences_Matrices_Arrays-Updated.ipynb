{
 "cells": [
  {
   "cell_type": "markdown",
   "id": "0f0b58dd-f789-429f-9f35-9c42480c76d1",
   "metadata": {},
   "source": [
    "# Note:\n",
    "-(make sure both data1 and data2 have the same number of numerical and categorical columns)\n",
    "- Run all the cells for data1\n",
    "- Then, run all the cells for data2\n",
    "- Then after you have the correlation matrices for both (data1 and data2) --> run the difference between matrices test\n",
    "- This is the only way this file will work. If you dont follow the steps you will get a result of ZERO"
   ]
  },
  {
   "cell_type": "code",
   "execution_count": 2,
   "id": "4061dbbd-b593-4839-9ca5-aa8ada5bdcda",
   "metadata": {},
   "outputs": [],
   "source": [
    "import numpy as np\n",
    "import pandas as pd\n",
    "from numpy import linalg\n",
    "from sklearn.model_selection import train_test_split"
   ]
  },
  {
   "cell_type": "markdown",
   "id": "657bfdd5-302c-42ef-9f05-e4ccbefd8ead",
   "metadata": {},
   "source": [
    "# Upload Dataset"
   ]
  },
  {
   "cell_type": "code",
   "execution_count": 4,
   "id": "198910fa-c38e-49d7-b3e5-ec9e71e9ecf3",
   "metadata": {},
   "outputs": [],
   "source": [
    "# Dataset before augmentation\n",
    "data2 = pd.read_csv(\"/Users/elleemortensen/Documents/GitHub/BP24/Ellee/Data/Stacked/stacked_orig.csv\", header=None)\n",
    "data1 = pd.read_csv(\"/Users/elleemortensen/Documents/GitHub/BP24/Ellee/Data/Uniform/uniform_orig.csv\", header=None)\n",
    "\n",
    "# Dataset after augmentation\n",
    "data3 = pd.read_csv(\"/Users/elleemortensen/Documents/GitHub/BP24/Ellee/Data/Stacked/stacked_new.csv\", header=None)\n",
    "# data2 = pd.read_csv(\"/Users/elleemortensen/Documents/GitHub/BP24/Ellee/Data/Uniform/uniform_new.csv\", header=None)\n",
    "# data2 = pd.read_csv(\"/Users/elleemortensen/Documents/GitHub/BP24/Ellee/Data/Gaussian/gaussian_orig.csv\", header=None)\n",
    "# data2 = pd.read_csv(\"/Users/elleemortensen/Documents/GitHub/BP24/Ellee/Data/Gaussian/gaussian_new.csv\", header=None)\n",
    "\n"
   ]
  },
  {
   "cell_type": "markdown",
   "id": "66147c8f-3866-4f2a-81ea-798ca6d35109",
   "metadata": {},
   "source": [
    "# Check Shapes of Datasets (they must be the same)"
   ]
  },
  {
   "cell_type": "code",
   "execution_count": 6,
   "id": "4bc4a540-4ab8-46fb-9d49-0629d8580b26",
   "metadata": {},
   "outputs": [
    {
     "name": "stdout",
     "output_type": "stream",
     "text": [
      "Shape of data1: (343, 25)\n",
      "Shape of data2: (240, 25)\n",
      "Shape of data3: (240, 25)\n"
     ]
    }
   ],
   "source": [
    "# Print shapes for debugging\n",
    "print(f\"Shape of data1: {data1.shape}\")\n",
    "print(f\"Shape of data2: {data2.shape}\")\n",
    "print(f\"Shape of data3: {data3.shape}\")"
   ]
  },
  {
   "cell_type": "code",
   "execution_count": null,
   "id": "b8d71858-9d7a-4db8-a3b0-e99c76cecf4b",
   "metadata": {},
   "outputs": [],
   "source": [
    "# If the datasets do not have the same columns ---> make one dataset match the other one (order does not matter)\n",
    "# Subset columns so both have the same \n",
    "# (we need to make sure we have the same categorical and numerical columns) ---> you do this after this cell\n",
    "data1 = data1.iloc[:, -13:]\n",
    "data1.shape"
   ]
  },
  {
   "cell_type": "markdown",
   "id": "5f91f83e-168c-4b2f-9119-c0858d5e0007",
   "metadata": {},
   "source": [
    "# Convert columns into Categorical (Only for Uniform and Gaussian Distributions)"
   ]
  },
  {
   "cell_type": "code",
   "execution_count": 14,
   "id": "19945cd3-4527-4754-96d4-0e0f5576c01f",
   "metadata": {},
   "outputs": [
    {
     "name": "stdout",
     "output_type": "stream",
     "text": [
      "Randomly selected columns: [2, 7, 10, 15]\n"
     ]
    },
    {
     "data": {
      "text/plain": [
       "0      float64\n",
       "1      float64\n",
       "2     category\n",
       "3      float64\n",
       "4      float64\n",
       "5      float64\n",
       "6      float64\n",
       "7     category\n",
       "8      float64\n",
       "9      float64\n",
       "10    category\n",
       "11     float64\n",
       "12     float64\n",
       "13     float64\n",
       "14     float64\n",
       "15    category\n",
       "16     float64\n",
       "17     float64\n",
       "18     float64\n",
       "19     float64\n",
       "20     float64\n",
       "21     float64\n",
       "22     float64\n",
       "23     float64\n",
       "dtype: object"
      ]
     },
     "execution_count": 14,
     "metadata": {},
     "output_type": "execute_result"
    }
   ],
   "source": [
    "random_columns = [2,7,10,15]\n",
    "print(\"Randomly selected columns:\", random_columns)\n",
    "\n",
    "# Create a copy of the saved_X_train variable\n",
    "cat_X_train = X_train.copy()\n",
    "\n",
    "# Process the randomly selected columns into categorical\n",
    "for col in random_columns:\n",
    "    cat_X_train[col] = X_train[col].round().astype(int).astype(\"category\")\n",
    "cat_X_train.dtypes"
   ]
  },
  {
   "cell_type": "code",
   "execution_count": 16,
   "id": "2e56a28d-5d28-4f27-bab4-c783ae3a7443",
   "metadata": {},
   "outputs": [
    {
     "data": {
      "text/html": [
       "<div>\n",
       "<style scoped>\n",
       "    .dataframe tbody tr th:only-of-type {\n",
       "        vertical-align: middle;\n",
       "    }\n",
       "\n",
       "    .dataframe tbody tr th {\n",
       "        vertical-align: top;\n",
       "    }\n",
       "\n",
       "    .dataframe thead th {\n",
       "        text-align: right;\n",
       "    }\n",
       "</style>\n",
       "<table border=\"1\" class=\"dataframe\">\n",
       "  <thead>\n",
       "    <tr style=\"text-align: right;\">\n",
       "      <th></th>\n",
       "      <th>0</th>\n",
       "      <th>1</th>\n",
       "      <th>3</th>\n",
       "      <th>4</th>\n",
       "      <th>5</th>\n",
       "      <th>6</th>\n",
       "      <th>8</th>\n",
       "      <th>9</th>\n",
       "      <th>11</th>\n",
       "      <th>12</th>\n",
       "      <th>13</th>\n",
       "      <th>14</th>\n",
       "      <th>16</th>\n",
       "      <th>17</th>\n",
       "      <th>18</th>\n",
       "      <th>19</th>\n",
       "      <th>20</th>\n",
       "      <th>21</th>\n",
       "      <th>22</th>\n",
       "      <th>23</th>\n",
       "    </tr>\n",
       "  </thead>\n",
       "  <tbody>\n",
       "    <tr>\n",
       "      <th>0</th>\n",
       "      <td>0.448339</td>\n",
       "      <td>0.881950</td>\n",
       "      <td>0.997296</td>\n",
       "      <td>1.070843</td>\n",
       "      <td>0.774824</td>\n",
       "      <td>0.450895</td>\n",
       "      <td>0.948064</td>\n",
       "      <td>0.233751</td>\n",
       "      <td>0.884912</td>\n",
       "      <td>1.194469</td>\n",
       "      <td>0.639893</td>\n",
       "      <td>0.827687</td>\n",
       "      <td>0.441712</td>\n",
       "      <td>0.922309</td>\n",
       "      <td>0.970799</td>\n",
       "      <td>0.561568</td>\n",
       "      <td>0.884867</td>\n",
       "      <td>1.198576</td>\n",
       "      <td>0.983875</td>\n",
       "      <td>0.712703</td>\n",
       "    </tr>\n",
       "    <tr>\n",
       "      <th>1</th>\n",
       "      <td>0.471165</td>\n",
       "      <td>0.305296</td>\n",
       "      <td>0.398776</td>\n",
       "      <td>1.003245</td>\n",
       "      <td>0.974305</td>\n",
       "      <td>1.043214</td>\n",
       "      <td>0.910891</td>\n",
       "      <td>0.781484</td>\n",
       "      <td>0.679196</td>\n",
       "      <td>0.214840</td>\n",
       "      <td>0.815345</td>\n",
       "      <td>0.794381</td>\n",
       "      <td>0.302509</td>\n",
       "      <td>0.691533</td>\n",
       "      <td>0.693729</td>\n",
       "      <td>0.410874</td>\n",
       "      <td>0.324358</td>\n",
       "      <td>0.809678</td>\n",
       "      <td>0.574804</td>\n",
       "      <td>0.977890</td>\n",
       "    </tr>\n",
       "    <tr>\n",
       "      <th>2</th>\n",
       "      <td>0.619271</td>\n",
       "      <td>0.423921</td>\n",
       "      <td>0.445857</td>\n",
       "      <td>0.517032</td>\n",
       "      <td>1.181797</td>\n",
       "      <td>0.883740</td>\n",
       "      <td>0.850096</td>\n",
       "      <td>0.877157</td>\n",
       "      <td>0.365843</td>\n",
       "      <td>0.601060</td>\n",
       "      <td>0.935199</td>\n",
       "      <td>0.498430</td>\n",
       "      <td>0.838324</td>\n",
       "      <td>0.934942</td>\n",
       "      <td>0.482507</td>\n",
       "      <td>0.418814</td>\n",
       "      <td>1.000564</td>\n",
       "      <td>0.528500</td>\n",
       "      <td>0.827828</td>\n",
       "      <td>0.651538</td>\n",
       "    </tr>\n",
       "    <tr>\n",
       "      <th>3</th>\n",
       "      <td>0.192957</td>\n",
       "      <td>0.062524</td>\n",
       "      <td>0.831945</td>\n",
       "      <td>0.458847</td>\n",
       "      <td>0.858328</td>\n",
       "      <td>0.954374</td>\n",
       "      <td>0.549190</td>\n",
       "      <td>0.985553</td>\n",
       "      <td>0.264698</td>\n",
       "      <td>0.703247</td>\n",
       "      <td>0.680731</td>\n",
       "      <td>0.378326</td>\n",
       "      <td>0.099141</td>\n",
       "      <td>0.222815</td>\n",
       "      <td>0.157227</td>\n",
       "      <td>0.708536</td>\n",
       "      <td>0.529012</td>\n",
       "      <td>0.593757</td>\n",
       "      <td>0.621701</td>\n",
       "      <td>0.634567</td>\n",
       "    </tr>\n",
       "    <tr>\n",
       "      <th>4</th>\n",
       "      <td>0.820657</td>\n",
       "      <td>0.338822</td>\n",
       "      <td>0.068901</td>\n",
       "      <td>0.803221</td>\n",
       "      <td>0.408169</td>\n",
       "      <td>0.542404</td>\n",
       "      <td>0.098391</td>\n",
       "      <td>0.046909</td>\n",
       "      <td>0.040429</td>\n",
       "      <td>0.311103</td>\n",
       "      <td>0.598771</td>\n",
       "      <td>0.600084</td>\n",
       "      <td>0.223667</td>\n",
       "      <td>0.007614</td>\n",
       "      <td>0.604804</td>\n",
       "      <td>0.284894</td>\n",
       "      <td>0.433043</td>\n",
       "      <td>0.806125</td>\n",
       "      <td>0.387838</td>\n",
       "      <td>0.860067</td>\n",
       "    </tr>\n",
       "  </tbody>\n",
       "</table>\n",
       "</div>"
      ],
      "text/plain": [
       "         0         1         3         4         5         6         8   \\\n",
       "0  0.448339  0.881950  0.997296  1.070843  0.774824  0.450895  0.948064   \n",
       "1  0.471165  0.305296  0.398776  1.003245  0.974305  1.043214  0.910891   \n",
       "2  0.619271  0.423921  0.445857  0.517032  1.181797  0.883740  0.850096   \n",
       "3  0.192957  0.062524  0.831945  0.458847  0.858328  0.954374  0.549190   \n",
       "4  0.820657  0.338822  0.068901  0.803221  0.408169  0.542404  0.098391   \n",
       "\n",
       "         9         11        12        13        14        16        17  \\\n",
       "0  0.233751  0.884912  1.194469  0.639893  0.827687  0.441712  0.922309   \n",
       "1  0.781484  0.679196  0.214840  0.815345  0.794381  0.302509  0.691533   \n",
       "2  0.877157  0.365843  0.601060  0.935199  0.498430  0.838324  0.934942   \n",
       "3  0.985553  0.264698  0.703247  0.680731  0.378326  0.099141  0.222815   \n",
       "4  0.046909  0.040429  0.311103  0.598771  0.600084  0.223667  0.007614   \n",
       "\n",
       "         18        19        20        21        22        23  \n",
       "0  0.970799  0.561568  0.884867  1.198576  0.983875  0.712703  \n",
       "1  0.693729  0.410874  0.324358  0.809678  0.574804  0.977890  \n",
       "2  0.482507  0.418814  1.000564  0.528500  0.827828  0.651538  \n",
       "3  0.157227  0.708536  0.529012  0.593757  0.621701  0.634567  \n",
       "4  0.604804  0.284894  0.433043  0.806125  0.387838  0.860067  "
      ]
     },
     "execution_count": 16,
     "metadata": {},
     "output_type": "execute_result"
    }
   ],
   "source": [
    "drop_X_train = cat_X_train.drop(labels=random_columns, axis=1)\n",
    "drop_X_train.head() "
   ]
  },
  {
   "cell_type": "code",
   "execution_count": 18,
   "id": "4ce7b7ec-492f-448e-b3e8-7e07ca45abde",
   "metadata": {},
   "outputs": [
    {
     "name": "stdout",
     "output_type": "stream",
     "text": [
      "0      float64\n",
      "1      float64\n",
      "2     category\n",
      "3      float64\n",
      "4      float64\n",
      "5      float64\n",
      "6      float64\n",
      "7     category\n",
      "8      float64\n",
      "9      float64\n",
      "10    category\n",
      "11     float64\n",
      "12     float64\n",
      "13     float64\n",
      "14     float64\n",
      "15    category\n",
      "16     float64\n",
      "17     float64\n",
      "18     float64\n",
      "19     float64\n",
      "20     float64\n",
      "21     float64\n",
      "22     float64\n",
      "23     float64\n",
      "dtype: object\n"
     ]
    }
   ],
   "source": [
    "# Create a copy of the saved_X_test variable\n",
    "cat_X_test = X_test.copy()\n",
    "\n",
    "# Process the randomly selected columns\n",
    "for col in random_columns:\n",
    "    cat_X_test[col] = X_test[col].round().astype(int).astype(\"category\")\n",
    "\n",
    "# Check if 4 columns were converted to categorical\n",
    "print(cat_X_test.dtypes)"
   ]
  },
  {
   "cell_type": "markdown",
   "id": "6d74374e-7a53-4873-b426-f3c7f61e3b64",
   "metadata": {},
   "source": [
    "# Convert columns into Categorical (Only for Stacked Distribution)"
   ]
  },
  {
   "cell_type": "code",
   "execution_count": 24,
   "id": "ab01b550-9ba2-4d84-8bc0-a5d28d05d206",
   "metadata": {},
   "outputs": [],
   "source": [
    "for column in data2.columns[-9:]:\n",
    "    data2[column] = data2[column].astype('category')\n",
    "\n",
    "for column in data3.columns[-9:]:\n",
    "    data3[column] = data3[column].astype('category')"
   ]
  },
  {
   "cell_type": "markdown",
   "id": "bdbe6694-f2b0-43b4-90a1-fc8e2034b417",
   "metadata": {},
   "source": [
    "# Concat Synthetic Dataset with New generated dataset"
   ]
  },
  {
   "cell_type": "code",
   "execution_count": 26,
   "id": "1bc977ca-c4fc-45e1-8a6b-1d11a262ae42",
   "metadata": {},
   "outputs": [
    {
     "name": "stdout",
     "output_type": "stream",
     "text": [
      "0      float64\n",
      "1      float64\n",
      "2      float64\n",
      "3      float64\n",
      "4      float64\n",
      "5      float64\n",
      "6      float64\n",
      "7      float64\n",
      "8      float64\n",
      "9      float64\n",
      "10     float64\n",
      "11     float64\n",
      "12     float64\n",
      "13     float64\n",
      "14     float64\n",
      "15     float64\n",
      "16    category\n",
      "17    category\n",
      "18    category\n",
      "19    category\n",
      "20    category\n",
      "21    category\n",
      "22    category\n",
      "23    category\n",
      "24    category\n",
      "dtype: object\n"
     ]
    }
   ],
   "source": [
    "# Concat (adding rows)\n",
    "combined_df = np.vstack((data2, data3))\n",
    "\n",
    "# change numpy array into a dataframe\n",
    "combined_data = pd.DataFrame(combined_df, columns=data2.columns)\n",
    "\n",
    "# Convert the last number of columns to categorical (to make sure they have the same)\n",
    "for column in combined_data.columns[-9:]:\n",
    "    combined_data[column] = combined_data[column].astype('category')\n",
    "\n",
    "# Verify the changes\n",
    "print(combined_data.dtypes)"
   ]
  },
  {
   "cell_type": "markdown",
   "id": "cb1aa6b9-8b74-4f34-b81c-00a47e09409d",
   "metadata": {},
   "source": [
    "# Split Dataset for combined_data"
   ]
  },
  {
   "cell_type": "code",
   "execution_count": 30,
   "id": "7c152381-70d9-4432-9722-fd110d049a8d",
   "metadata": {},
   "outputs": [],
   "source": [
    "# # Split dataset into X and y (data1)\n",
    "# X = combined_data.iloc[:, :-1]  # All columns except the last one\n",
    "# y = combined_data.iloc[:, -1]   # Only the last column\n",
    "\n",
    "\n",
    "# # Split dataset into X_train and y_train\n",
    "# X_train, X_test, y_train, y_test = train_test_split(X, y, test_size=0.2, random_state=42)\n",
    "\n",
    "X_train = combined_data.iloc[:336,:-1]\n",
    "X_test = combined_data.iloc[336:,:-1]\n",
    "y_train = combined_data.iloc[:336,-1]\n",
    "y_test = combined_data.iloc[336:,-1]\n",
    "\n",
    "# Splitting X_train into numerical subset \n",
    "numerical_df = X_train.select_dtypes(include = ['float', 'float64'])\n",
    "\n",
    "# Splitting X_train into categorical subset \n",
    "categorical_df = X_train.select_dtypes(exclude=['float', 'float64'])"
   ]
  },
  {
   "cell_type": "markdown",
   "id": "3973baf6-f10f-4559-b034-1671b64dd548",
   "metadata": {},
   "source": [
    "# Split Dataset for Synthetic Data"
   ]
  },
  {
   "cell_type": "code",
   "execution_count": 12,
   "id": "1d5edb0a-73dc-47d6-ba73-1c5e13cdda7a",
   "metadata": {},
   "outputs": [],
   "source": [
    "# # data2\n",
    "# X = data1.iloc[:, :-1]\n",
    "# y = data1.iloc[:, -1]\n",
    "\n",
    "\n",
    "# # Split dataset into X_train and y_train\n",
    "# X_train, X_test, y_train, y_test = train_test_split(X, y, test_size=0.2, random_state=42)\n",
    "\n",
    "X_train = data1.iloc[:240,:-1]\n",
    "X_test = data1.iloc[240:,:-1]\n",
    "y_train = data1.iloc[:240,-1]\n",
    "y_test = data1.iloc[240:,-1]\n",
    "\n",
    "# Splitting X_train into numerical subset \n",
    "numerical_df = X_train.select_dtypes(include = ['float', 'float64'])\n",
    "\n",
    "# Splitting X_train into categorical subset \n",
    "categorical_df = X_train.select_dtypes(exclude=['float', 'float64'])"
   ]
  },
  {
   "cell_type": "markdown",
   "id": "30441ffc-4e6b-44be-94fb-4366c680c6ec",
   "metadata": {},
   "source": [
    "# Correlation between columns test (Matrix)"
   ]
  },
  {
   "cell_type": "code",
   "execution_count": 20,
   "id": "7781a524-15f7-4da5-95ab-24800c49ed8a",
   "metadata": {},
   "outputs": [
    {
     "name": "stdout",
     "output_type": "stream",
     "text": [
      "---------------------------Correlation Matrix------------------------- \n",
      "           0         1         2         3         4         5         6   \\\n",
      "0   1.000000  0.102176  0.101455  0.046385  0.100937  0.159250  0.156756   \n",
      "1   0.102176  1.000000  0.069224  0.100464  0.100563  0.191945  0.150913   \n",
      "2   0.101455  0.069224  1.000000  0.099960  0.042315  0.076310  0.073328   \n",
      "3   0.046385  0.100464  0.099960  1.000000  0.104913  0.109463  0.138531   \n",
      "4   0.100937  0.100563  0.042315  0.104913  1.000000  0.165329  0.041804   \n",
      "5   0.159250  0.191945  0.076310  0.109463  0.165329  1.000000  0.134224   \n",
      "6   0.156756  0.150913  0.073328  0.138531  0.041804  0.134224  1.000000   \n",
      "7  -0.081726  0.027388  0.011466 -0.022537 -0.035847  0.145137  0.013968   \n",
      "8   0.029898  0.124633  0.147564  0.129089  0.057620  0.219401  0.049445   \n",
      "9   0.041401  0.081107 -0.003502  0.132483  0.124073  0.174872  0.160732   \n",
      "10  0.020039  0.179525 -0.001106 -0.029936  0.083772  0.034538  0.113979   \n",
      "11  0.140919  0.095028  0.031245  0.081945  0.214767  0.165693  0.037640   \n",
      "12  0.046418  0.184672  0.130066  0.079147  0.110327  0.171625  0.155324   \n",
      "13  0.035096  0.096456  0.011118  0.097684  0.113030  0.135976  0.165126   \n",
      "14  0.133412  0.057810  0.094675  0.219388  0.174290  0.252947  0.043721   \n",
      "15  0.098011 -0.007305  0.079456  0.096021  0.065924  0.092322  0.010769   \n",
      "16  0.163586  0.119961  0.136223 -0.007248  0.062580  0.031179  0.169725   \n",
      "17  0.151891  0.156883  0.052274  0.120928  0.186971  0.168466  0.194526   \n",
      "18  0.231964  0.208119 -0.014424  0.099460  0.075663  0.189272  0.008789   \n",
      "19  0.079498  0.145959  0.039121  0.187136  0.205793  0.179840  0.143008   \n",
      "20  0.184307  0.131567  0.068596  0.109348  0.126734  0.190617  0.053319   \n",
      "21  0.119816 -0.019936 -0.050140  0.079572  0.171507  0.014000 -0.063680   \n",
      "22  0.122036  0.037001 -0.055582  0.038583  0.057730  0.170051  0.109601   \n",
      "23  0.173302  0.075484  0.096057  0.066486  0.119073  0.113290  0.191408   \n",
      "\n",
      "          7         8         9   ...        14        15        16        17  \\\n",
      "0  -0.081726  0.029898  0.041401  ...  0.133412  0.098011  0.163586  0.151891   \n",
      "1   0.027388  0.124633  0.081107  ...  0.057810 -0.007305  0.119961  0.156883   \n",
      "2   0.011466  0.147564 -0.003502  ...  0.094675  0.079456  0.136223  0.052274   \n",
      "3  -0.022537  0.129089  0.132483  ...  0.219388  0.096021 -0.007248  0.120928   \n",
      "4  -0.035847  0.057620  0.124073  ...  0.174290  0.065924  0.062580  0.186971   \n",
      "5   0.145137  0.219401  0.174872  ...  0.252947  0.092322  0.031179  0.168466   \n",
      "6   0.013968  0.049445  0.160732  ...  0.043721  0.010769  0.169725  0.194526   \n",
      "7   1.000000  0.145090 -0.003211  ...  0.154685  0.058582  0.087808  0.099827   \n",
      "8   0.145090  1.000000  0.108674  ...  0.120695  0.048480  0.146840  0.176676   \n",
      "9  -0.003211  0.108674  1.000000  ...  0.151326  0.086347  0.179476  0.247905   \n",
      "10  0.051527  0.024149 -0.010856  ...  0.028105  0.046315  0.059910  0.160557   \n",
      "11  0.071498  0.172306  0.160609  ...  0.137416  0.077940  0.134372  0.110789   \n",
      "12  0.095723  0.118179  0.260505  ...  0.173846  0.114474  0.092388  0.265359   \n",
      "13 -0.014936  0.070479  0.002111  ...  0.073083  0.153297  0.170807  0.128680   \n",
      "14  0.154685  0.120695  0.151326  ...  1.000000  0.118391  0.005440  0.235617   \n",
      "15  0.058582  0.048480  0.086347  ...  0.118391  1.000000  0.141337  0.111512   \n",
      "16  0.087808  0.146840  0.179476  ...  0.005440  0.141337  1.000000  0.180832   \n",
      "17  0.099827  0.176676  0.247905  ...  0.235617  0.111512  0.180832  1.000000   \n",
      "18  0.158538  0.011721  0.051482  ...  0.122651 -0.075661  0.094667  0.114316   \n",
      "19  0.017280  0.059514  0.124413  ...  0.167105  0.146823  0.037739  0.216324   \n",
      "20  0.031136  0.106227  0.162934  ...  0.157329  0.095493  0.165161  0.131843   \n",
      "21  0.086929  0.032743  0.045644  ...  0.098909  0.126879  0.060718  0.092873   \n",
      "22  0.143371  0.054503  0.118660  ...  0.100100  0.120516  0.043646  0.141453   \n",
      "23 -0.074588  0.126159  0.121908  ...  0.156348 -0.009209  0.080916 -0.000576   \n",
      "\n",
      "          18        19        20        21        22        23  \n",
      "0   0.231964  0.079498  0.184307  0.119816  0.122036  0.173302  \n",
      "1   0.208119  0.145959  0.131567 -0.019936  0.037001  0.075484  \n",
      "2  -0.014424  0.039121  0.068596 -0.050140 -0.055582  0.096057  \n",
      "3   0.099460  0.187136  0.109348  0.079572  0.038583  0.066486  \n",
      "4   0.075663  0.205793  0.126734  0.171507  0.057730  0.119073  \n",
      "5   0.189272  0.179840  0.190617  0.014000  0.170051  0.113290  \n",
      "6   0.008789  0.143008  0.053319 -0.063680  0.109601  0.191408  \n",
      "7   0.158538  0.017280  0.031136  0.086929  0.143371 -0.074588  \n",
      "8   0.011721  0.059514  0.106227  0.032743  0.054503  0.126159  \n",
      "9   0.051482  0.124413  0.162934  0.045644  0.118660  0.121908  \n",
      "10  0.018136  0.069610  0.103635  0.097835 -0.016505 -0.009121  \n",
      "11  0.151071  0.228389  0.198186  0.190348  0.069503  0.154157  \n",
      "12  0.112586  0.158554  0.205772  0.080217  0.126682  0.068267  \n",
      "13  0.100196  0.132384  0.148329  0.057389  0.165234  0.027431  \n",
      "14  0.122651  0.167105  0.157329  0.098909  0.100100  0.156348  \n",
      "15 -0.075661  0.146823  0.095493  0.126879  0.120516 -0.009209  \n",
      "16  0.094667  0.037739  0.165161  0.060718  0.043646  0.080916  \n",
      "17  0.114316  0.216324  0.131843  0.092873  0.141453 -0.000576  \n",
      "18  1.000000  0.136331  0.068450  0.163223  0.149473  0.071858  \n",
      "19  0.136331  1.000000  0.185574  0.113796  0.124577  0.072732  \n",
      "20  0.068450  0.185574  1.000000  0.148223  0.014885  0.046528  \n",
      "21  0.163223  0.113796  0.148223  1.000000  0.018776  0.098039  \n",
      "22  0.149473  0.124577  0.014885  0.018776  1.000000  0.117037  \n",
      "23  0.071858  0.072732  0.046528  0.098039  0.117037  1.000000  \n",
      "\n",
      "[24 rows x 24 columns]\n"
     ]
    }
   ],
   "source": [
    "##################### Correlation between columns (numerical) Code ############################\n",
    "# Takes the X_train data to find correlation between NUMERICAL features\n",
    "def num_corr(X_train_numerical):\n",
    "    matrix = X_train_numerical.corr(method='pearson')\n",
    "    print(\"---------------------------Correlation Matrix------------------------- \\n\", matrix)\n",
    "     \n",
    "#Calls the function so the matrix prints out    \n",
    "correlation_matrix = num_corr(numerical_df)\n"
   ]
  },
  {
   "cell_type": "markdown",
   "id": "c92f7e8a-ca00-46fa-be6a-7daa0025486e",
   "metadata": {},
   "source": [
    "# Save Correlation Matrix into a Dataframe for combined_data"
   ]
  },
  {
   "cell_type": "code",
   "execution_count": 32,
   "id": "c3bb1258-3e08-4365-a4eb-364b74bb224b",
   "metadata": {},
   "outputs": [
    {
     "name": "stdout",
     "output_type": "stream",
     "text": [
      "          0         1         2         3         4         5         6   \\\n",
      "0   1.000000  0.119394  0.093576  0.165254  0.262304  0.092039  0.105108   \n",
      "1   0.119394  1.000000  0.202749  0.233485  0.175705  0.170697  0.177917   \n",
      "2   0.093576  0.202749  1.000000  0.279403  0.181573  0.156761  0.220407   \n",
      "3   0.165254  0.233485  0.279403  1.000000  0.209248  0.190193  0.124189   \n",
      "4   0.262304  0.175705  0.181573  0.209248  1.000000  0.250837  0.205605   \n",
      "5   0.092039  0.170697  0.156761  0.190193  0.250837  1.000000  0.005947   \n",
      "6   0.105108  0.177917  0.220407  0.124189  0.205605  0.005947  1.000000   \n",
      "7   0.212927  0.106450  0.128576  0.070611  0.181345  0.040819  0.164350   \n",
      "8   0.227360  0.184617  0.232800  0.240305  0.264772  0.185244  0.234702   \n",
      "9   0.208547  0.231368  0.251332  0.211879  0.179882  0.175152  0.215160   \n",
      "10  0.221155  0.215195  0.174298  0.296583  0.170258  0.181904  0.254341   \n",
      "11  0.188710  0.236309  0.257441  0.248219  0.192283  0.060425  0.295934   \n",
      "12  0.164961  0.221222  0.233229  0.280981  0.219479  0.123497  0.204049   \n",
      "13  0.272084  0.223425  0.107967  0.186658  0.187865  0.167655  0.190026   \n",
      "14  0.276690  0.180254  0.200813  0.288574  0.253239  0.208147  0.252858   \n",
      "15  0.187915  0.292320  0.194111  0.247664  0.195990  0.219893  0.205552   \n",
      "\n",
      "          7         8         9         10        11        12        13  \\\n",
      "0   0.212927  0.227360  0.208547  0.221155  0.188710  0.164961  0.272084   \n",
      "1   0.106450  0.184617  0.231368  0.215195  0.236309  0.221222  0.223425   \n",
      "2   0.128576  0.232800  0.251332  0.174298  0.257441  0.233229  0.107967   \n",
      "3   0.070611  0.240305  0.211879  0.296583  0.248219  0.280981  0.186658   \n",
      "4   0.181345  0.264772  0.179882  0.170258  0.192283  0.219479  0.187865   \n",
      "5   0.040819  0.185244  0.175152  0.181904  0.060425  0.123497  0.167655   \n",
      "6   0.164350  0.234702  0.215160  0.254341  0.295934  0.204049  0.190026   \n",
      "7   1.000000  0.216017  0.216178  0.205021  0.173065  0.250752  0.100909   \n",
      "8   0.216017  1.000000  0.329406  0.351925  0.184039  0.299054  0.237010   \n",
      "9   0.216178  0.329406  1.000000  0.319951  0.303019  0.252387  0.205447   \n",
      "10  0.205021  0.351925  0.319951  1.000000  0.265755  0.314770  0.284625   \n",
      "11  0.173065  0.184039  0.303019  0.265755  1.000000  0.304398  0.164455   \n",
      "12  0.250752  0.299054  0.252387  0.314770  0.304398  1.000000  0.197792   \n",
      "13  0.100909  0.237010  0.205447  0.284625  0.164455  0.197792  1.000000   \n",
      "14  0.238786  0.308066  0.335060  0.282194  0.277127  0.288221  0.230776   \n",
      "15  0.228751  0.260801  0.306450  0.259299  0.271692  0.244646  0.268237   \n",
      "\n",
      "          14        15  \n",
      "0   0.276690  0.187915  \n",
      "1   0.180254  0.292320  \n",
      "2   0.200813  0.194111  \n",
      "3   0.288574  0.247664  \n",
      "4   0.253239  0.195990  \n",
      "5   0.208147  0.219893  \n",
      "6   0.252858  0.205552  \n",
      "7   0.238786  0.228751  \n",
      "8   0.308066  0.260801  \n",
      "9   0.335060  0.306450  \n",
      "10  0.282194  0.259299  \n",
      "11  0.277127  0.271692  \n",
      "12  0.288221  0.244646  \n",
      "13  0.230776  0.268237  \n",
      "14  1.000000  0.377263  \n",
      "15  0.377263  1.000000  \n"
     ]
    },
    {
     "data": {
      "text/plain": [
       "(16, 16)"
      ]
     },
     "execution_count": 32,
     "metadata": {},
     "output_type": "execute_result"
    }
   ],
   "source": [
    "#combined_data\n",
    "correlation_matrix = numerical_df.corr()\n",
    "correlation_df_combined = pd.DataFrame(correlation_matrix)\n",
    "print(correlation_df_combined)\n",
    "\n",
    "correlation_df_combined.shape"
   ]
  },
  {
   "cell_type": "markdown",
   "id": "49456482-97cc-4ee1-86d8-f89bf61e4f8f",
   "metadata": {},
   "source": [
    "# Save Correlation Matrix into a Dataframe for Synthetic dataset"
   ]
  },
  {
   "cell_type": "code",
   "execution_count": 22,
   "id": "37eb9739-986a-486b-b499-053be1e7031a",
   "metadata": {},
   "outputs": [
    {
     "name": "stdout",
     "output_type": "stream",
     "text": [
      "          0         1         2         3         4         5         6   \\\n",
      "0   1.000000  0.102176  0.101455  0.046385  0.100937  0.159250  0.156756   \n",
      "1   0.102176  1.000000  0.069224  0.100464  0.100563  0.191945  0.150913   \n",
      "2   0.101455  0.069224  1.000000  0.099960  0.042315  0.076310  0.073328   \n",
      "3   0.046385  0.100464  0.099960  1.000000  0.104913  0.109463  0.138531   \n",
      "4   0.100937  0.100563  0.042315  0.104913  1.000000  0.165329  0.041804   \n",
      "5   0.159250  0.191945  0.076310  0.109463  0.165329  1.000000  0.134224   \n",
      "6   0.156756  0.150913  0.073328  0.138531  0.041804  0.134224  1.000000   \n",
      "7  -0.081726  0.027388  0.011466 -0.022537 -0.035847  0.145137  0.013968   \n",
      "8   0.029898  0.124633  0.147564  0.129089  0.057620  0.219401  0.049445   \n",
      "9   0.041401  0.081107 -0.003502  0.132483  0.124073  0.174872  0.160732   \n",
      "10  0.020039  0.179525 -0.001106 -0.029936  0.083772  0.034538  0.113979   \n",
      "11  0.140919  0.095028  0.031245  0.081945  0.214767  0.165693  0.037640   \n",
      "12  0.046418  0.184672  0.130066  0.079147  0.110327  0.171625  0.155324   \n",
      "13  0.035096  0.096456  0.011118  0.097684  0.113030  0.135976  0.165126   \n",
      "14  0.133412  0.057810  0.094675  0.219388  0.174290  0.252947  0.043721   \n",
      "15  0.098011 -0.007305  0.079456  0.096021  0.065924  0.092322  0.010769   \n",
      "16  0.163586  0.119961  0.136223 -0.007248  0.062580  0.031179  0.169725   \n",
      "17  0.151891  0.156883  0.052274  0.120928  0.186971  0.168466  0.194526   \n",
      "18  0.231964  0.208119 -0.014424  0.099460  0.075663  0.189272  0.008789   \n",
      "19  0.079498  0.145959  0.039121  0.187136  0.205793  0.179840  0.143008   \n",
      "20  0.184307  0.131567  0.068596  0.109348  0.126734  0.190617  0.053319   \n",
      "21  0.119816 -0.019936 -0.050140  0.079572  0.171507  0.014000 -0.063680   \n",
      "22  0.122036  0.037001 -0.055582  0.038583  0.057730  0.170051  0.109601   \n",
      "23  0.173302  0.075484  0.096057  0.066486  0.119073  0.113290  0.191408   \n",
      "\n",
      "          7         8         9   ...        14        15        16        17  \\\n",
      "0  -0.081726  0.029898  0.041401  ...  0.133412  0.098011  0.163586  0.151891   \n",
      "1   0.027388  0.124633  0.081107  ...  0.057810 -0.007305  0.119961  0.156883   \n",
      "2   0.011466  0.147564 -0.003502  ...  0.094675  0.079456  0.136223  0.052274   \n",
      "3  -0.022537  0.129089  0.132483  ...  0.219388  0.096021 -0.007248  0.120928   \n",
      "4  -0.035847  0.057620  0.124073  ...  0.174290  0.065924  0.062580  0.186971   \n",
      "5   0.145137  0.219401  0.174872  ...  0.252947  0.092322  0.031179  0.168466   \n",
      "6   0.013968  0.049445  0.160732  ...  0.043721  0.010769  0.169725  0.194526   \n",
      "7   1.000000  0.145090 -0.003211  ...  0.154685  0.058582  0.087808  0.099827   \n",
      "8   0.145090  1.000000  0.108674  ...  0.120695  0.048480  0.146840  0.176676   \n",
      "9  -0.003211  0.108674  1.000000  ...  0.151326  0.086347  0.179476  0.247905   \n",
      "10  0.051527  0.024149 -0.010856  ...  0.028105  0.046315  0.059910  0.160557   \n",
      "11  0.071498  0.172306  0.160609  ...  0.137416  0.077940  0.134372  0.110789   \n",
      "12  0.095723  0.118179  0.260505  ...  0.173846  0.114474  0.092388  0.265359   \n",
      "13 -0.014936  0.070479  0.002111  ...  0.073083  0.153297  0.170807  0.128680   \n",
      "14  0.154685  0.120695  0.151326  ...  1.000000  0.118391  0.005440  0.235617   \n",
      "15  0.058582  0.048480  0.086347  ...  0.118391  1.000000  0.141337  0.111512   \n",
      "16  0.087808  0.146840  0.179476  ...  0.005440  0.141337  1.000000  0.180832   \n",
      "17  0.099827  0.176676  0.247905  ...  0.235617  0.111512  0.180832  1.000000   \n",
      "18  0.158538  0.011721  0.051482  ...  0.122651 -0.075661  0.094667  0.114316   \n",
      "19  0.017280  0.059514  0.124413  ...  0.167105  0.146823  0.037739  0.216324   \n",
      "20  0.031136  0.106227  0.162934  ...  0.157329  0.095493  0.165161  0.131843   \n",
      "21  0.086929  0.032743  0.045644  ...  0.098909  0.126879  0.060718  0.092873   \n",
      "22  0.143371  0.054503  0.118660  ...  0.100100  0.120516  0.043646  0.141453   \n",
      "23 -0.074588  0.126159  0.121908  ...  0.156348 -0.009209  0.080916 -0.000576   \n",
      "\n",
      "          18        19        20        21        22        23  \n",
      "0   0.231964  0.079498  0.184307  0.119816  0.122036  0.173302  \n",
      "1   0.208119  0.145959  0.131567 -0.019936  0.037001  0.075484  \n",
      "2  -0.014424  0.039121  0.068596 -0.050140 -0.055582  0.096057  \n",
      "3   0.099460  0.187136  0.109348  0.079572  0.038583  0.066486  \n",
      "4   0.075663  0.205793  0.126734  0.171507  0.057730  0.119073  \n",
      "5   0.189272  0.179840  0.190617  0.014000  0.170051  0.113290  \n",
      "6   0.008789  0.143008  0.053319 -0.063680  0.109601  0.191408  \n",
      "7   0.158538  0.017280  0.031136  0.086929  0.143371 -0.074588  \n",
      "8   0.011721  0.059514  0.106227  0.032743  0.054503  0.126159  \n",
      "9   0.051482  0.124413  0.162934  0.045644  0.118660  0.121908  \n",
      "10  0.018136  0.069610  0.103635  0.097835 -0.016505 -0.009121  \n",
      "11  0.151071  0.228389  0.198186  0.190348  0.069503  0.154157  \n",
      "12  0.112586  0.158554  0.205772  0.080217  0.126682  0.068267  \n",
      "13  0.100196  0.132384  0.148329  0.057389  0.165234  0.027431  \n",
      "14  0.122651  0.167105  0.157329  0.098909  0.100100  0.156348  \n",
      "15 -0.075661  0.146823  0.095493  0.126879  0.120516 -0.009209  \n",
      "16  0.094667  0.037739  0.165161  0.060718  0.043646  0.080916  \n",
      "17  0.114316  0.216324  0.131843  0.092873  0.141453 -0.000576  \n",
      "18  1.000000  0.136331  0.068450  0.163223  0.149473  0.071858  \n",
      "19  0.136331  1.000000  0.185574  0.113796  0.124577  0.072732  \n",
      "20  0.068450  0.185574  1.000000  0.148223  0.014885  0.046528  \n",
      "21  0.163223  0.113796  0.148223  1.000000  0.018776  0.098039  \n",
      "22  0.149473  0.124577  0.014885  0.018776  1.000000  0.117037  \n",
      "23  0.071858  0.072732  0.046528  0.098039  0.117037  1.000000  \n",
      "\n",
      "[24 rows x 24 columns]\n"
     ]
    },
    {
     "data": {
      "text/plain": [
       "(24, 24)"
      ]
     },
     "execution_count": 22,
     "metadata": {},
     "output_type": "execute_result"
    }
   ],
   "source": [
    "#data1\n",
    "correlation_matrix = numerical_df.corr()\n",
    "correlation_df1 = pd.DataFrame(correlation_matrix)\n",
    "print(correlation_df1)\n",
    "\n",
    "correlation_df1.shape"
   ]
  },
  {
   "cell_type": "markdown",
   "id": "7d9ea54a-72ba-4ff8-a05b-4b52434b68cc",
   "metadata": {},
   "source": [
    "# Differences in Matrices (Frobenius Norm)"
   ]
  },
  {
   "cell_type": "code",
   "execution_count": 34,
   "id": "a262690c-dfaf-40c8-863b-77001e14d52c",
   "metadata": {},
   "outputs": [
    {
     "ename": "ValueError",
     "evalue": "operands could not be broadcast together with shapes (24,24) (16,16) ",
     "output_type": "error",
     "traceback": [
      "\u001b[0;31m---------------------------------------------------------------------------\u001b[0m",
      "\u001b[0;31mValueError\u001b[0m                                Traceback (most recent call last)",
      "Cell \u001b[0;32mIn[34], line 6\u001b[0m\n\u001b[1;32m      3\u001b[0m matrix2 \u001b[38;5;241m=\u001b[39m correlation_df_combined\u001b[38;5;241m.\u001b[39mto_numpy()\n\u001b[1;32m      5\u001b[0m \u001b[38;5;66;03m# Compute the Frobenius norm of the difference between the matrices. \u001b[39;00m\n\u001b[0;32m----> 6\u001b[0m frobenius_abs \u001b[38;5;241m=\u001b[39m np\u001b[38;5;241m.\u001b[39mlinalg\u001b[38;5;241m.\u001b[39mnorm(matrix1 \u001b[38;5;241m-\u001b[39m matrix2, \u001b[38;5;28mord\u001b[39m\u001b[38;5;241m=\u001b[39m\u001b[38;5;124m'\u001b[39m\u001b[38;5;124mfro\u001b[39m\u001b[38;5;124m'\u001b[39m)   \u001b[38;5;66;03m# Absolute error with Frobenius norm\u001b[39;00m\n\u001b[1;32m      8\u001b[0m frobenius_rel \u001b[38;5;241m=\u001b[39m frobenius_abs\u001b[38;5;241m/\u001b[39mnp\u001b[38;5;241m.\u001b[39mlinalg\u001b[38;5;241m.\u001b[39mnorm(matrix1, \u001b[38;5;28mord\u001b[39m\u001b[38;5;241m=\u001b[39m\u001b[38;5;124m'\u001b[39m\u001b[38;5;124mfro\u001b[39m\u001b[38;5;124m'\u001b[39m)    \u001b[38;5;66;03m# Relative error with Frobenius norm\u001b[39;00m\n\u001b[1;32m     10\u001b[0m \u001b[38;5;28mprint\u001b[39m(\u001b[38;5;124mf\u001b[39m\u001b[38;5;124m\"\u001b[39m\u001b[38;5;124mFrobenius norm difference (absolute error) : \u001b[39m\u001b[38;5;132;01m{\u001b[39;00mfrobenius_abs\u001b[38;5;132;01m:\u001b[39;00m\u001b[38;5;124m .3f\u001b[39m\u001b[38;5;132;01m}\u001b[39;00m\u001b[38;5;124m\"\u001b[39m)\n",
      "\u001b[0;31mValueError\u001b[0m: operands could not be broadcast together with shapes (24,24) (16,16) "
     ]
    }
   ],
   "source": [
    "# Convert the dataframes to numpy arrays\n",
    "matrix1 = correlation_df1.to_numpy()\n",
    "matrix2 = correlation_df_combined.to_numpy()\n",
    "\n",
    "# Compute the Frobenius norm of the difference between the matrices. \n",
    "frobenius_abs = np.linalg.norm(matrix1 - matrix2, ord='fro')   # Absolute error with Frobenius norm\n",
    "\n",
    "frobenius_rel = frobenius_abs/np.linalg.norm(matrix1, ord='fro')    # Relative error with Frobenius norm\n",
    "\n",
    "print(f\"Frobenius norm difference (absolute error) : {frobenius_abs: .3f}\")\n",
    "print(f\"Frobenius notrelative error : {frobenius_rel: .3f}\")\n"
   ]
  },
  {
   "cell_type": "markdown",
   "id": "3893a07c-00f8-4041-ae4b-77e155738f6f",
   "metadata": {},
   "source": [
    "# Differences in Arrays (L2 Norm)"
   ]
  },
  {
   "cell_type": "code",
   "execution_count": null,
   "id": "c0e65e78-7871-4fc8-a693-b5c2ad10229d",
   "metadata": {},
   "outputs": [],
   "source": [
    "#array1 ...\n",
    "#array2 ...\n",
    "\n",
    "# Compute the L2 norm (Euclidean norm) of the difference between the arrays\n",
    "L2_norm = np.linalg.norm(array1 - array2, ord=2)\n",
    "\n",
    "print(f\"L2 norm difference: {L2_norm: .3f}\")\n"
   ]
  },
  {
   "cell_type": "code",
   "execution_count": null,
   "id": "5996e1a0-7162-478b-87bc-f7ac46404aeb",
   "metadata": {},
   "outputs": [],
   "source": []
  }
 ],
 "metadata": {
  "kernelspec": {
   "display_name": "Python 3 (ipykernel)",
   "language": "python",
   "name": "python3"
  },
  "language_info": {
   "codemirror_mode": {
    "name": "ipython",
    "version": 3
   },
   "file_extension": ".py",
   "mimetype": "text/x-python",
   "name": "python",
   "nbconvert_exporter": "python",
   "pygments_lexer": "ipython3",
   "version": "3.11.7"
  }
 },
 "nbformat": 4,
 "nbformat_minor": 5
}
