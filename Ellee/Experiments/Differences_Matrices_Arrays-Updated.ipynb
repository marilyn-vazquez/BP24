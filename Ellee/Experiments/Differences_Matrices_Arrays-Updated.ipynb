{
 "cells": [
  {
   "cell_type": "markdown",
   "id": "0f0b58dd-f789-429f-9f35-9c42480c76d1",
   "metadata": {},
   "source": [
    "# Note:\n",
    "-(make sure both data1 and data2 have the same number of numerical and categorical columns)\n",
    "- Run all the cells for data1\n",
    "- Then, run all the cells for data2\n",
    "- Then after you have the correlation matrices for both (data1 and data2) --> run the difference between matrices test\n",
    "- This is the only way this file will work. If you dont follow the steps you will get a result of ZERO"
   ]
  },
  {
   "cell_type": "code",
   "execution_count": 3,
   "id": "4061dbbd-b593-4839-9ca5-aa8ada5bdcda",
   "metadata": {},
   "outputs": [],
   "source": [
    "import numpy as np\n",
    "import pandas as pd\n",
    "from numpy import linalg\n",
    "from sklearn.model_selection import train_test_split"
   ]
  },
  {
   "cell_type": "markdown",
   "id": "657bfdd5-302c-42ef-9f05-e4ccbefd8ead",
   "metadata": {},
   "source": [
    "# Upload Dataset"
   ]
  },
  {
   "cell_type": "code",
   "execution_count": 7,
   "id": "198910fa-c38e-49d7-b3e5-ec9e71e9ecf3",
   "metadata": {},
   "outputs": [],
   "source": [
    "# Dataset before augmentation\n",
    "data2 = pd.read_csv(\"/Users/elleemortensen/Documents/GitHub/BP24/Ellee/Data/Stacked/stacked_orig.csv\", header=None)\n",
    "data1 = pd.read_csv(\"/Users/elleemortensen/Documents/GitHub/BP24/Ellee/Data/Uniform/uniform_orig.csv\", header=None)\n",
    "\n",
    "# Dataset after augmentation\n",
    "data3 = pd.read_csv(\"/Users/elleemortensen/Documents/GitHub/BP24/Ellee/Data/Stacked/stacked_new.csv\", header=None)\n",
    "# data2 = pd.read_csv(\"/Users/elleemortensen/Documents/GitHub/BP24/Ellee/Data/Uniform/uniform_new.csv\", header=None)\n",
    "# data2 = pd.read_csv(\"/Users/elleemortensen/Documents/GitHub/BP24/Ellee/Data/Gaussian/gaussian_orig.csv\", header=None)\n",
    "# data2 = pd.read_csv(\"/Users/elleemortensen/Documents/GitHub/BP24/Ellee/Data/Gaussian/gaussian_new.csv\", header=None)\n",
    "\n"
   ]
  },
  {
   "cell_type": "markdown",
   "id": "66147c8f-3866-4f2a-81ea-798ca6d35109",
   "metadata": {},
   "source": [
    "# Check Shapes of Datasets (they must be the same)"
   ]
  },
  {
   "cell_type": "code",
   "execution_count": 9,
   "id": "4bc4a540-4ab8-46fb-9d49-0629d8580b26",
   "metadata": {},
   "outputs": [
    {
     "name": "stdout",
     "output_type": "stream",
     "text": [
      "Shape of data1: (343, 25)\n",
      "Shape of data2: (240, 25)\n",
      "Shape of data3: (240, 25)\n"
     ]
    }
   ],
   "source": [
    "# Print shapes for debugging\n",
    "print(f\"Shape of data1: {data1.shape}\")\n",
    "print(f\"Shape of data2: {data2.shape}\")\n",
    "print(f\"Shape of data3: {data3.shape}\")"
   ]
  },
  {
   "cell_type": "code",
   "execution_count": null,
   "id": "b8d71858-9d7a-4db8-a3b0-e99c76cecf4b",
   "metadata": {},
   "outputs": [],
   "source": [
    "# If the datasets do not have the same columns ---> make one dataset match the other one (order does not matter)\n",
    "# Subset columns so both have the same \n",
    "# (we need to make sure we have the same categorical and numerical columns) ---> you do this after this cell\n",
    "data1 = data1.iloc[:, -13:]\n",
    "data1.shape"
   ]
  },
  {
   "cell_type": "markdown",
   "id": "5f91f83e-168c-4b2f-9119-c0858d5e0007",
   "metadata": {},
   "source": [
    "# Convert columns into Categorical (Only for Uniform and Gaussian Distributions)"
   ]
  },
  {
   "cell_type": "code",
   "execution_count": 11,
   "id": "19945cd3-4527-4754-96d4-0e0f5576c01f",
   "metadata": {},
   "outputs": [
    {
     "name": "stderr",
     "output_type": "stream",
     "text": [
      "/var/folders/vs/hd0z3zmd61j3_8jc_fymfchr0000gn/T/ipykernel_1952/784560720.py:3: FutureWarning: Setting an item of incompatible dtype is deprecated and will raise in a future error of pandas. Value '0      0.0\n",
      "1      0.0\n",
      "2      0.0\n",
      "3      0.0\n",
      "4      0.0\n",
      "      ... \n",
      "338    0.0\n",
      "339    1.0\n",
      "340    0.0\n",
      "341    0.0\n",
      "342    1.0\n",
      "Name: 16, Length: 343, dtype: category\n",
      "Categories (2, float64): [0.0, 1.0]' has dtype incompatible with float64, please explicitly cast to a compatible dtype first.\n",
      "  data1.iloc[:,i] = data1.iloc[:,i].astype('category') # Categories\n",
      "/var/folders/vs/hd0z3zmd61j3_8jc_fymfchr0000gn/T/ipykernel_1952/784560720.py:3: FutureWarning: Setting an item of incompatible dtype is deprecated and will raise in a future error of pandas. Value '0      0.0\n",
      "1      0.0\n",
      "2      0.0\n",
      "3      0.0\n",
      "4      0.0\n",
      "      ... \n",
      "338    0.0\n",
      "339    1.0\n",
      "340    0.0\n",
      "341    0.0\n",
      "342    0.0\n",
      "Name: 17, Length: 343, dtype: category\n",
      "Categories (2, float64): [0.0, 1.0]' has dtype incompatible with float64, please explicitly cast to a compatible dtype first.\n",
      "  data1.iloc[:,i] = data1.iloc[:,i].astype('category') # Categories\n",
      "/var/folders/vs/hd0z3zmd61j3_8jc_fymfchr0000gn/T/ipykernel_1952/784560720.py:3: FutureWarning: Setting an item of incompatible dtype is deprecated and will raise in a future error of pandas. Value '0      0.0\n",
      "1      0.0\n",
      "2      0.0\n",
      "3      0.0\n",
      "4      0.0\n",
      "      ... \n",
      "338    0.0\n",
      "339    1.0\n",
      "340    0.0\n",
      "341    0.0\n",
      "342    0.0\n",
      "Name: 18, Length: 343, dtype: category\n",
      "Categories (2, float64): [0.0, 1.0]' has dtype incompatible with float64, please explicitly cast to a compatible dtype first.\n",
      "  data1.iloc[:,i] = data1.iloc[:,i].astype('category') # Categories\n",
      "/var/folders/vs/hd0z3zmd61j3_8jc_fymfchr0000gn/T/ipykernel_1952/784560720.py:3: FutureWarning: Setting an item of incompatible dtype is deprecated and will raise in a future error of pandas. Value '0      0.0\n",
      "1      0.0\n",
      "2      0.0\n",
      "3      0.0\n",
      "4      0.0\n",
      "      ... \n",
      "338    0.0\n",
      "339    0.0\n",
      "340    0.0\n",
      "341    0.0\n",
      "342    0.0\n",
      "Name: 19, Length: 343, dtype: category\n",
      "Categories (2, float64): [0.0, 1.0]' has dtype incompatible with float64, please explicitly cast to a compatible dtype first.\n",
      "  data1.iloc[:,i] = data1.iloc[:,i].astype('category') # Categories\n",
      "/var/folders/vs/hd0z3zmd61j3_8jc_fymfchr0000gn/T/ipykernel_1952/784560720.py:3: FutureWarning: Setting an item of incompatible dtype is deprecated and will raise in a future error of pandas. Value '0      0.0\n",
      "1      0.0\n",
      "2      1.0\n",
      "3      0.0\n",
      "4      0.0\n",
      "      ... \n",
      "338    0.0\n",
      "339    0.0\n",
      "340    0.0\n",
      "341    0.0\n",
      "342    0.0\n",
      "Name: 20, Length: 343, dtype: category\n",
      "Categories (2, float64): [0.0, 1.0]' has dtype incompatible with float64, please explicitly cast to a compatible dtype first.\n",
      "  data1.iloc[:,i] = data1.iloc[:,i].astype('category') # Categories\n",
      "/var/folders/vs/hd0z3zmd61j3_8jc_fymfchr0000gn/T/ipykernel_1952/784560720.py:3: FutureWarning: Setting an item of incompatible dtype is deprecated and will raise in a future error of pandas. Value '0      1.0\n",
      "1      0.0\n",
      "2      0.0\n",
      "3      0.0\n",
      "4      0.0\n",
      "      ... \n",
      "338    0.0\n",
      "339    0.0\n",
      "340    1.0\n",
      "341    0.0\n",
      "342    1.0\n",
      "Name: 21, Length: 343, dtype: category\n",
      "Categories (2, float64): [0.0, 1.0]' has dtype incompatible with float64, please explicitly cast to a compatible dtype first.\n",
      "  data1.iloc[:,i] = data1.iloc[:,i].astype('category') # Categories\n",
      "/var/folders/vs/hd0z3zmd61j3_8jc_fymfchr0000gn/T/ipykernel_1952/784560720.py:3: FutureWarning: Setting an item of incompatible dtype is deprecated and will raise in a future error of pandas. Value '0      0.0\n",
      "1      0.0\n",
      "2      0.0\n",
      "3      0.0\n",
      "4      0.0\n",
      "      ... \n",
      "338    0.0\n",
      "339    0.0\n",
      "340    0.0\n",
      "341    0.0\n",
      "342    0.0\n",
      "Name: 22, Length: 343, dtype: category\n",
      "Categories (2, float64): [0.0, 1.0]' has dtype incompatible with float64, please explicitly cast to a compatible dtype first.\n",
      "  data1.iloc[:,i] = data1.iloc[:,i].astype('category') # Categories\n",
      "/var/folders/vs/hd0z3zmd61j3_8jc_fymfchr0000gn/T/ipykernel_1952/784560720.py:3: FutureWarning: Setting an item of incompatible dtype is deprecated and will raise in a future error of pandas. Value '0      0.0\n",
      "1      0.0\n",
      "2      0.0\n",
      "3      0.0\n",
      "4      0.0\n",
      "      ... \n",
      "338    0.0\n",
      "339    0.0\n",
      "340    0.0\n",
      "341    0.0\n",
      "342    0.0\n",
      "Name: 23, Length: 343, dtype: category\n",
      "Categories (2, float64): [0.0, 1.0]' has dtype incompatible with float64, please explicitly cast to a compatible dtype first.\n",
      "  data1.iloc[:,i] = data1.iloc[:,i].astype('category') # Categories\n",
      "/var/folders/vs/hd0z3zmd61j3_8jc_fymfchr0000gn/T/ipykernel_1952/784560720.py:3: FutureWarning: Setting an item of incompatible dtype is deprecated and will raise in a future error of pandas. Value '0      1.0\n",
      "1      1.0\n",
      "2      1.0\n",
      "3      0.0\n",
      "4      0.0\n",
      "      ... \n",
      "338    0.0\n",
      "339    1.0\n",
      "340    1.0\n",
      "341    0.0\n",
      "342    1.0\n",
      "Name: 24, Length: 343, dtype: category\n",
      "Categories (2, float64): [0.0, 1.0]' has dtype incompatible with float64, please explicitly cast to a compatible dtype first.\n",
      "  data1.iloc[:,i] = data1.iloc[:,i].astype('category') # Categories\n"
     ]
    },
    {
     "data": {
      "text/plain": [
       "0      float64\n",
       "1      float64\n",
       "2      float64\n",
       "3      float64\n",
       "4      float64\n",
       "5      float64\n",
       "6      float64\n",
       "7      float64\n",
       "8      float64\n",
       "9      float64\n",
       "10     float64\n",
       "11     float64\n",
       "12     float64\n",
       "13     float64\n",
       "14     float64\n",
       "15     float64\n",
       "16    category\n",
       "17    category\n",
       "18    category\n",
       "19    category\n",
       "20    category\n",
       "21    category\n",
       "22    category\n",
       "23    category\n",
       "24    category\n",
       "dtype: object"
      ]
     },
     "execution_count": 11,
     "metadata": {},
     "output_type": "execute_result"
    }
   ],
   "source": [
    "for i in range(-9,0):\n",
    "    data1.iloc[:,i] = data1.iloc[:,i].astype(int) # Integer\n",
    "    data1.iloc[:,i] = data1.iloc[:,i].astype('category') # Categories\n",
    "data1.dtypes "
   ]
  },
  {
   "cell_type": "code",
   "execution_count": null,
   "id": "2e56a28d-5d28-4f27-bab4-c783ae3a7443",
   "metadata": {},
   "outputs": [],
   "source": [
    "for i in range(-5,0):\n",
    "    data2.iloc[:,i] = data2.iloc[:,i].astype(int) # Integer\n",
    "    data2.iloc[:,i] = data2.iloc[:,i].astype('category') # Categories\n",
    "data2.dtypes\n",
    "#data2.head()  "
   ]
  },
  {
   "cell_type": "markdown",
   "id": "6d74374e-7a53-4873-b426-f3c7f61e3b64",
   "metadata": {},
   "source": [
    "# Convert columns into Categorical (Only for Stacked Distribution)"
   ]
  },
  {
   "cell_type": "code",
   "execution_count": 13,
   "id": "ab01b550-9ba2-4d84-8bc0-a5d28d05d206",
   "metadata": {},
   "outputs": [],
   "source": [
    "for column in data2.columns[-9:]:\n",
    "    data2[column] = data2[column].astype('category')\n",
    "\n",
    "for column in data3.columns[-9:]:\n",
    "    data3[column] = data3[column].astype('category')"
   ]
  },
  {
   "cell_type": "markdown",
   "id": "bdbe6694-f2b0-43b4-90a1-fc8e2034b417",
   "metadata": {},
   "source": [
    "# Concat Synthetic Dataset with New generated dataset"
   ]
  },
  {
   "cell_type": "code",
   "execution_count": 21,
   "id": "1bc977ca-c4fc-45e1-8a6b-1d11a262ae42",
   "metadata": {},
   "outputs": [
    {
     "name": "stdout",
     "output_type": "stream",
     "text": [
      "0      float64\n",
      "1      float64\n",
      "2      float64\n",
      "3      float64\n",
      "4      float64\n",
      "5      float64\n",
      "6      float64\n",
      "7      float64\n",
      "8      float64\n",
      "9      float64\n",
      "10     float64\n",
      "11     float64\n",
      "12     float64\n",
      "13     float64\n",
      "14     float64\n",
      "15     float64\n",
      "16    category\n",
      "17    category\n",
      "18    category\n",
      "19    category\n",
      "20    category\n",
      "21    category\n",
      "22    category\n",
      "23    category\n",
      "24    category\n",
      "dtype: object\n"
     ]
    }
   ],
   "source": [
    "# Concat (adding rows)\n",
    "combined_df = np.vstack((data2, data3))\n",
    "\n",
    "# change numpy array into a dataframe\n",
    "combined_data = pd.DataFrame(combined_df, columns=data2.columns)\n",
    "\n",
    "# Convert the last number of columns to categorical (to make sure they have the same)\n",
    "for column in combined_data.columns[-9:]:\n",
    "    combined_data[column] = combined_data[column].astype('category')\n",
    "\n",
    "# Verify the changes\n",
    "print(combined_data.dtypes)"
   ]
  },
  {
   "cell_type": "markdown",
   "id": "cb1aa6b9-8b74-4f34-b81c-00a47e09409d",
   "metadata": {},
   "source": [
    "# Split Dataset for combined_data"
   ]
  },
  {
   "cell_type": "code",
   "execution_count": 23,
   "id": "7c152381-70d9-4432-9722-fd110d049a8d",
   "metadata": {},
   "outputs": [],
   "source": [
    "# Split dataset into X and y (data1)\n",
    "X = combined_data.iloc[:, :-1]  # All columns except the last one\n",
    "y = combined_data.iloc[:, -1]   # Only the last column\n",
    "\n",
    "\n",
    "# Split dataset into X_train and y_train\n",
    "X_train, X_test, y_train, y_test = train_test_split(X, y, test_size=0.2, random_state=42)\n",
    "\n",
    "# Splitting X_train into numerical subset \n",
    "numerical_df = X_train.select_dtypes(include = ['float', 'float64'])\n",
    "\n",
    "# Splitting X_train into categorical subset \n",
    "categorical_df = X_train.select_dtypes(exclude=['float', 'float64'])"
   ]
  },
  {
   "cell_type": "markdown",
   "id": "3973baf6-f10f-4559-b034-1671b64dd548",
   "metadata": {},
   "source": [
    "# Split Dataset for Synthetic Data"
   ]
  },
  {
   "cell_type": "code",
   "execution_count": 15,
   "id": "1d5edb0a-73dc-47d6-ba73-1c5e13cdda7a",
   "metadata": {},
   "outputs": [],
   "source": [
    "# data2\n",
    "X = data1.iloc[:, :-1]\n",
    "y = data1.iloc[:, -1]\n",
    "\n",
    "\n",
    "# Split dataset into X_train and y_train\n",
    "X_train, X_test, y_train, y_test = train_test_split(X, y, test_size=0.2, random_state=42)\n",
    "\n",
    "\n",
    "# Splitting X_train into numerical subset \n",
    "numerical_df = X_train.select_dtypes(include = ['float', 'float64'])\n",
    "\n",
    "# Splitting X_train into categorical subset \n",
    "categorical_df = X_train.select_dtypes(exclude=['float', 'float64'])"
   ]
  },
  {
   "cell_type": "markdown",
   "id": "30441ffc-4e6b-44be-94fb-4366c680c6ec",
   "metadata": {},
   "source": [
    "# Correlation between columns test (Matrix)"
   ]
  },
  {
   "cell_type": "code",
   "execution_count": 25,
   "id": "7781a524-15f7-4da5-95ab-24800c49ed8a",
   "metadata": {},
   "outputs": [
    {
     "name": "stdout",
     "output_type": "stream",
     "text": [
      "---------------------------Correlation Matrix------------------------- \n",
      "           0         1         2         3         4         5         6   \\\n",
      "0   1.000000  0.117496  0.129585  0.102646  0.221888  0.118265  0.138458   \n",
      "1   0.117496  1.000000  0.174447  0.215746  0.209029  0.168616  0.224183   \n",
      "2   0.129585  0.174447  1.000000  0.225309  0.252376  0.170272  0.217491   \n",
      "3   0.102646  0.215746  0.225309  1.000000  0.264222  0.127427  0.179586   \n",
      "4   0.221888  0.209029  0.252376  0.264222  1.000000  0.342015  0.275643   \n",
      "5   0.118265  0.168616  0.170272  0.127427  0.342015  1.000000  0.135395   \n",
      "6   0.138458  0.224183  0.217491  0.179586  0.275643  0.135395  1.000000   \n",
      "7   0.199178  0.096817  0.136016  0.075405  0.189819  0.126775  0.142344   \n",
      "8   0.258177  0.149154  0.236951  0.222894  0.170911  0.188252  0.252242   \n",
      "9   0.200137  0.193115  0.203322  0.184342  0.216818  0.169172  0.216939   \n",
      "10  0.186764  0.170429  0.136403  0.266149  0.195199  0.195984  0.232978   \n",
      "11  0.153531  0.209403  0.242933  0.264805  0.210203  0.123206  0.313772   \n",
      "12  0.141658  0.165892  0.229463  0.283585  0.219103  0.145265  0.193449   \n",
      "13  0.266796  0.223188  0.162947  0.238088  0.235222  0.188225  0.242791   \n",
      "14  0.216453  0.158781  0.212675  0.277114  0.255589  0.234719  0.222342   \n",
      "15  0.201694  0.276453  0.224905  0.268848  0.203183  0.226030  0.259356   \n",
      "\n",
      "          7         8         9         10        11        12        13  \\\n",
      "0   0.199178  0.258177  0.200137  0.186764  0.153531  0.141658  0.266796   \n",
      "1   0.096817  0.149154  0.193115  0.170429  0.209403  0.165892  0.223188   \n",
      "2   0.136016  0.236951  0.203322  0.136403  0.242933  0.229463  0.162947   \n",
      "3   0.075405  0.222894  0.184342  0.266149  0.264805  0.283585  0.238088   \n",
      "4   0.189819  0.170911  0.216818  0.195199  0.210203  0.219103  0.235222   \n",
      "5   0.126775  0.188252  0.169172  0.195984  0.123206  0.145265  0.188225   \n",
      "6   0.142344  0.252242  0.216939  0.232978  0.313772  0.193449  0.242791   \n",
      "7   1.000000  0.221381  0.136748  0.202702  0.165111  0.239052  0.135244   \n",
      "8   0.221381  1.000000  0.300496  0.307643  0.229213  0.333506  0.224439   \n",
      "9   0.136748  0.300496  1.000000  0.262684  0.315027  0.223206  0.240224   \n",
      "10  0.202702  0.307643  0.262684  1.000000  0.265744  0.304553  0.292298   \n",
      "11  0.165111  0.229213  0.315027  0.265744  1.000000  0.301016  0.200359   \n",
      "12  0.239052  0.333506  0.223206  0.304553  0.301016  1.000000  0.276675   \n",
      "13  0.135244  0.224439  0.240224  0.292298  0.200359  0.276675  1.000000   \n",
      "14  0.209656  0.306228  0.302032  0.252351  0.280776  0.290215  0.235098   \n",
      "15  0.251502  0.253117  0.273655  0.233167  0.341450  0.262845  0.267436   \n",
      "\n",
      "          14        15  \n",
      "0   0.216453  0.201694  \n",
      "1   0.158781  0.276453  \n",
      "2   0.212675  0.224905  \n",
      "3   0.277114  0.268848  \n",
      "4   0.255589  0.203183  \n",
      "5   0.234719  0.226030  \n",
      "6   0.222342  0.259356  \n",
      "7   0.209656  0.251502  \n",
      "8   0.306228  0.253117  \n",
      "9   0.302032  0.273655  \n",
      "10  0.252351  0.233167  \n",
      "11  0.280776  0.341450  \n",
      "12  0.290215  0.262845  \n",
      "13  0.235098  0.267436  \n",
      "14  1.000000  0.333883  \n",
      "15  0.333883  1.000000  \n"
     ]
    }
   ],
   "source": [
    "##################### Correlation between columns (numerical) Code ############################\n",
    "# Takes the X_train data to find correlation between NUMERICAL features\n",
    "def num_corr(X_train_numerical):\n",
    "    matrix = X_train_numerical.corr(method='pearson')\n",
    "    print(\"---------------------------Correlation Matrix------------------------- \\n\", matrix)\n",
    "     \n",
    "#Calls the function so the matrix prints out    \n",
    "correlation_matrix = num_corr(numerical_df)\n"
   ]
  },
  {
   "cell_type": "markdown",
   "id": "c92f7e8a-ca00-46fa-be6a-7daa0025486e",
   "metadata": {},
   "source": [
    "# Save Correlation Matrix into a Dataframe for combined_data"
   ]
  },
  {
   "cell_type": "code",
   "execution_count": 27,
   "id": "c3bb1258-3e08-4365-a4eb-364b74bb224b",
   "metadata": {},
   "outputs": [
    {
     "name": "stdout",
     "output_type": "stream",
     "text": [
      "          0         1         2         3         4         5         6   \\\n",
      "0   1.000000  0.117496  0.129585  0.102646  0.221888  0.118265  0.138458   \n",
      "1   0.117496  1.000000  0.174447  0.215746  0.209029  0.168616  0.224183   \n",
      "2   0.129585  0.174447  1.000000  0.225309  0.252376  0.170272  0.217491   \n",
      "3   0.102646  0.215746  0.225309  1.000000  0.264222  0.127427  0.179586   \n",
      "4   0.221888  0.209029  0.252376  0.264222  1.000000  0.342015  0.275643   \n",
      "5   0.118265  0.168616  0.170272  0.127427  0.342015  1.000000  0.135395   \n",
      "6   0.138458  0.224183  0.217491  0.179586  0.275643  0.135395  1.000000   \n",
      "7   0.199178  0.096817  0.136016  0.075405  0.189819  0.126775  0.142344   \n",
      "8   0.258177  0.149154  0.236951  0.222894  0.170911  0.188252  0.252242   \n",
      "9   0.200137  0.193115  0.203322  0.184342  0.216818  0.169172  0.216939   \n",
      "10  0.186764  0.170429  0.136403  0.266149  0.195199  0.195984  0.232978   \n",
      "11  0.153531  0.209403  0.242933  0.264805  0.210203  0.123206  0.313772   \n",
      "12  0.141658  0.165892  0.229463  0.283585  0.219103  0.145265  0.193449   \n",
      "13  0.266796  0.223188  0.162947  0.238088  0.235222  0.188225  0.242791   \n",
      "14  0.216453  0.158781  0.212675  0.277114  0.255589  0.234719  0.222342   \n",
      "15  0.201694  0.276453  0.224905  0.268848  0.203183  0.226030  0.259356   \n",
      "\n",
      "          7         8         9         10        11        12        13  \\\n",
      "0   0.199178  0.258177  0.200137  0.186764  0.153531  0.141658  0.266796   \n",
      "1   0.096817  0.149154  0.193115  0.170429  0.209403  0.165892  0.223188   \n",
      "2   0.136016  0.236951  0.203322  0.136403  0.242933  0.229463  0.162947   \n",
      "3   0.075405  0.222894  0.184342  0.266149  0.264805  0.283585  0.238088   \n",
      "4   0.189819  0.170911  0.216818  0.195199  0.210203  0.219103  0.235222   \n",
      "5   0.126775  0.188252  0.169172  0.195984  0.123206  0.145265  0.188225   \n",
      "6   0.142344  0.252242  0.216939  0.232978  0.313772  0.193449  0.242791   \n",
      "7   1.000000  0.221381  0.136748  0.202702  0.165111  0.239052  0.135244   \n",
      "8   0.221381  1.000000  0.300496  0.307643  0.229213  0.333506  0.224439   \n",
      "9   0.136748  0.300496  1.000000  0.262684  0.315027  0.223206  0.240224   \n",
      "10  0.202702  0.307643  0.262684  1.000000  0.265744  0.304553  0.292298   \n",
      "11  0.165111  0.229213  0.315027  0.265744  1.000000  0.301016  0.200359   \n",
      "12  0.239052  0.333506  0.223206  0.304553  0.301016  1.000000  0.276675   \n",
      "13  0.135244  0.224439  0.240224  0.292298  0.200359  0.276675  1.000000   \n",
      "14  0.209656  0.306228  0.302032  0.252351  0.280776  0.290215  0.235098   \n",
      "15  0.251502  0.253117  0.273655  0.233167  0.341450  0.262845  0.267436   \n",
      "\n",
      "          14        15  \n",
      "0   0.216453  0.201694  \n",
      "1   0.158781  0.276453  \n",
      "2   0.212675  0.224905  \n",
      "3   0.277114  0.268848  \n",
      "4   0.255589  0.203183  \n",
      "5   0.234719  0.226030  \n",
      "6   0.222342  0.259356  \n",
      "7   0.209656  0.251502  \n",
      "8   0.306228  0.253117  \n",
      "9   0.302032  0.273655  \n",
      "10  0.252351  0.233167  \n",
      "11  0.280776  0.341450  \n",
      "12  0.290215  0.262845  \n",
      "13  0.235098  0.267436  \n",
      "14  1.000000  0.333883  \n",
      "15  0.333883  1.000000  \n"
     ]
    },
    {
     "data": {
      "text/plain": [
       "(16, 16)"
      ]
     },
     "execution_count": 27,
     "metadata": {},
     "output_type": "execute_result"
    }
   ],
   "source": [
    "#combined_data\n",
    "correlation_matrix = numerical_df.corr()\n",
    "correlation_df_combined = pd.DataFrame(correlation_matrix)\n",
    "print(correlation_df_combined)\n",
    "\n",
    "correlation_df_combined.shape"
   ]
  },
  {
   "cell_type": "markdown",
   "id": "49456482-97cc-4ee1-86d8-f89bf61e4f8f",
   "metadata": {},
   "source": [
    "# Save Correlation Matrix into a Dataframe for Synthetic dataset"
   ]
  },
  {
   "cell_type": "code",
   "execution_count": 19,
   "id": "37eb9739-986a-486b-b499-053be1e7031a",
   "metadata": {},
   "outputs": [
    {
     "name": "stdout",
     "output_type": "stream",
     "text": [
      "          0         1         2         3         4         5         6   \\\n",
      "0   1.000000  0.153738  0.136624  0.084442  0.065896  0.182015  0.132600   \n",
      "1   0.153738  1.000000  0.031240  0.146102  0.093639  0.203931  0.174417   \n",
      "2   0.136624  0.031240  1.000000  0.108437  0.062278  0.083978  0.070123   \n",
      "3   0.084442  0.146102  0.108437  1.000000  0.086641  0.160223  0.137962   \n",
      "4   0.065896  0.093639  0.062278  0.086641  1.000000  0.190358  0.044607   \n",
      "5   0.182015  0.203931  0.083978  0.160223  0.190358  1.000000  0.114466   \n",
      "6   0.132600  0.174417  0.070123  0.137962  0.044607  0.114466  1.000000   \n",
      "7  -0.022989  0.060006  0.086452  0.016870 -0.012884  0.135468  0.014761   \n",
      "8  -0.007064  0.084242  0.181168  0.064725  0.025051  0.156622 -0.003306   \n",
      "9   0.086244  0.105229  0.078262  0.158098  0.098994  0.092857  0.128217   \n",
      "10  0.039575  0.137728 -0.041335 -0.034744  0.081228 -0.007523  0.080895   \n",
      "11  0.065992  0.114128 -0.031285  0.034905  0.178465  0.110940  0.000335   \n",
      "12  0.084564  0.188954  0.148415  0.088043  0.171399  0.146997  0.189323   \n",
      "13  0.097929  0.086318  0.037046  0.057185  0.099178  0.175591  0.178317   \n",
      "14  0.129875  0.086466  0.155305  0.196424  0.157637  0.197652  0.008271   \n",
      "15 -0.016030  0.003165  0.095199  0.082405  0.063542  0.097313  0.038868   \n",
      "\n",
      "          7         8         9         10        11        12        13  \\\n",
      "0  -0.022989 -0.007064  0.086244  0.039575  0.065992  0.084564  0.097929   \n",
      "1   0.060006  0.084242  0.105229  0.137728  0.114128  0.188954  0.086318   \n",
      "2   0.086452  0.181168  0.078262 -0.041335 -0.031285  0.148415  0.037046   \n",
      "3   0.016870  0.064725  0.158098 -0.034744  0.034905  0.088043  0.057185   \n",
      "4  -0.012884  0.025051  0.098994  0.081228  0.178465  0.171399  0.099178   \n",
      "5   0.135468  0.156622  0.092857 -0.007523  0.110940  0.146997  0.175591   \n",
      "6   0.014761 -0.003306  0.128217  0.080895  0.000335  0.189323  0.178317   \n",
      "7   1.000000  0.114769 -0.030194  0.057462  0.056849  0.060638  0.040014   \n",
      "8   0.114769  1.000000  0.059255  0.032596  0.127832  0.156012  0.080372   \n",
      "9  -0.030194  0.059255  1.000000  0.047116  0.075936  0.264154 -0.015389   \n",
      "10  0.057462  0.032596  0.047116  1.000000  0.082608 -0.060547  0.170339   \n",
      "11  0.056849  0.127832  0.075936  0.082608  1.000000  0.166307  0.055487   \n",
      "12  0.060638  0.156012  0.264154 -0.060547  0.166307  1.000000  0.150753   \n",
      "13  0.040014  0.080372 -0.015389  0.170339  0.055487  0.150753  1.000000   \n",
      "14  0.155175  0.056257  0.236458 -0.002716  0.066928  0.154679  0.075919   \n",
      "15  0.044416  0.106193  0.124122 -0.022625  0.040047  0.115245  0.127991   \n",
      "\n",
      "          14        15  \n",
      "0   0.129875 -0.016030  \n",
      "1   0.086466  0.003165  \n",
      "2   0.155305  0.095199  \n",
      "3   0.196424  0.082405  \n",
      "4   0.157637  0.063542  \n",
      "5   0.197652  0.097313  \n",
      "6   0.008271  0.038868  \n",
      "7   0.155175  0.044416  \n",
      "8   0.056257  0.106193  \n",
      "9   0.236458  0.124122  \n",
      "10 -0.002716 -0.022625  \n",
      "11  0.066928  0.040047  \n",
      "12  0.154679  0.115245  \n",
      "13  0.075919  0.127991  \n",
      "14  1.000000  0.086422  \n",
      "15  0.086422  1.000000  \n"
     ]
    },
    {
     "data": {
      "text/plain": [
       "(16, 16)"
      ]
     },
     "execution_count": 19,
     "metadata": {},
     "output_type": "execute_result"
    }
   ],
   "source": [
    "#data1\n",
    "correlation_matrix = numerical_df.corr()\n",
    "correlation_df1 = pd.DataFrame(correlation_matrix)\n",
    "print(correlation_df1)\n",
    "\n",
    "correlation_df1.shape"
   ]
  },
  {
   "cell_type": "markdown",
   "id": "7d9ea54a-72ba-4ff8-a05b-4b52434b68cc",
   "metadata": {},
   "source": [
    "# Differences in Matrices (Frobenius Norm)"
   ]
  },
  {
   "cell_type": "code",
   "execution_count": 29,
   "id": "a262690c-dfaf-40c8-863b-77001e14d52c",
   "metadata": {},
   "outputs": [
    {
     "name": "stdout",
     "output_type": "stream",
     "text": [
      "Frobenius norm difference (absolute error) :  2.405\n",
      "Frobenius notrelative error :  0.552\n"
     ]
    }
   ],
   "source": [
    "# Convert the dataframes to numpy arrays\n",
    "matrix1 = correlation_df1.to_numpy()\n",
    "matrix2 = correlation_df_combined.to_numpy()\n",
    "\n",
    "# Compute the Frobenius norm of the difference between the matrices. \n",
    "frobenius_abs = np.linalg.norm(matrix1 - matrix2, ord='fro')   # Absolute error with Frobenius norm\n",
    "\n",
    "frobenius_rel = frobenius_abs/np.linalg.norm(matrix1, ord='fro')    # Relative error with Frobenius norm\n",
    "\n",
    "print(f\"Frobenius norm difference (absolute error) : {frobenius_abs: .3f}\")\n",
    "print(f\"Frobenius notrelative error : {frobenius_rel: .3f}\")\n"
   ]
  },
  {
   "cell_type": "markdown",
   "id": "3893a07c-00f8-4041-ae4b-77e155738f6f",
   "metadata": {},
   "source": [
    "# Differences in Arrays (L2 Norm)"
   ]
  },
  {
   "cell_type": "code",
   "execution_count": null,
   "id": "c0e65e78-7871-4fc8-a693-b5c2ad10229d",
   "metadata": {},
   "outputs": [],
   "source": [
    "#array1 ...\n",
    "#array2 ...\n",
    "\n",
    "# Compute the L2 norm (Euclidean norm) of the difference between the arrays\n",
    "L2_norm = np.linalg.norm(array1 - array2, ord=2)\n",
    "\n",
    "print(f\"L2 norm difference: {L2_norm: .3f}\")\n"
   ]
  },
  {
   "cell_type": "code",
   "execution_count": null,
   "id": "5996e1a0-7162-478b-87bc-f7ac46404aeb",
   "metadata": {},
   "outputs": [],
   "source": []
  }
 ],
 "metadata": {
  "kernelspec": {
   "display_name": "Python 3 (ipykernel)",
   "language": "python",
   "name": "python3"
  },
  "language_info": {
   "codemirror_mode": {
    "name": "ipython",
    "version": 3
   },
   "file_extension": ".py",
   "mimetype": "text/x-python",
   "name": "python",
   "nbconvert_exporter": "python",
   "pygments_lexer": "ipython3",
   "version": "3.11.7"
  }
 },
 "nbformat": 4,
 "nbformat_minor": 5
}
