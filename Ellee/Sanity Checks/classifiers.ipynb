{
 "cells": [
  {
   "cell_type": "markdown",
   "id": "bc0d46db-653f-4d57-8c27-03c90b6d22cb",
   "metadata": {},
   "source": [
    "### Importing Packages"
   ]
  },
  {
   "cell_type": "code",
   "execution_count": 2,
   "id": "f53352d8-22d2-4075-b31f-d0ef01c764f4",
   "metadata": {},
   "outputs": [],
   "source": [
    "from xgboost import XGBClassifier\n",
    "from sklearn.model_selection import train_test_split\n",
    "from sklearn import metrics\n",
    "import numpy as np\n",
    "from sklearn import datasets\n",
    "from sklearn.neighbors import KNeighborsClassifier\n",
    "import pandas as pd\n",
    "from sklearn import svm\n",
    "import matplotlib.pyplot as plt\n",
    "from sklearn.tree import DecisionTreeClassifier\n",
    "from sklearn.metrics import accuracy_score\n",
    "from sklearn.linear_model import LinearRegression, LogisticRegression\n",
    "from sklearn.svm import SVC\n",
    "from sklearn.feature_selection import SelectKBest\n",
    "from sklearn.feature_selection import chi2\n",
    "import random"
   ]
  },
  {
   "cell_type": "code",
   "execution_count": 3,
   "id": "e2c78482-a1c3-4fc3-9a32-422305278d8f",
   "metadata": {},
   "outputs": [
    {
     "name": "stdout",
     "output_type": "stream",
     "text": [
      "<bound method DataFrame.info of            0         1         2         3         4         5         6   \\\n",
      "0    5.596936  6.392943  7.000000  6.000000  6.178398  5.707033  6.606476   \n",
      "1    5.429079  5.295145  6.000000  6.000000  4.989084  3.945631  4.585737   \n",
      "2    5.702416  6.172278  5.000000  6.000000  6.611566  6.860789  7.077732   \n",
      "3    4.307809  4.170768  3.000000  6.000000  4.405416  4.066206  5.680602   \n",
      "4    5.064397  5.360269  7.000000  6.000000  7.605607  6.865364  5.551478   \n",
      "..        ...       ...       ...       ...       ...       ...       ...   \n",
      "287  5.329224  4.075988  5.262730  5.443950  5.793715  5.889170  4.918485   \n",
      "288  7.318610  5.899962  4.645238  7.092040  5.474216  6.002245  5.665738   \n",
      "289  6.971774  4.908421  4.577884  6.315986  4.733210  5.956985  6.865227   \n",
      "290  6.407721  5.804689  5.113121  7.186046  5.512763  5.759905  6.199651   \n",
      "291  3.824412  5.199059  7.618757  4.719047  4.053534  5.738112  3.608997   \n",
      "\n",
      "           7         8         9   ...        15        16        17  \\\n",
      "0    5.000000  7.137377  6.000000  ...       NaN       NaN       NaN   \n",
      "1    5.000000  8.623490  6.000000  ...       NaN       NaN       NaN   \n",
      "2    7.000000  6.919119  5.000000  ...       NaN       NaN       NaN   \n",
      "3    6.000000  5.241232  4.000000  ...       NaN       NaN       NaN   \n",
      "4    7.000000  6.185243  7.000000  ...       NaN       NaN       NaN   \n",
      "..        ...       ...       ...  ...       ...       ...       ...   \n",
      "287  4.633475  3.875142  5.226384  ...  4.988877  4.666532  5.855365   \n",
      "288  5.952008  4.838373  7.251073  ...  5.945729  6.070257  6.858914   \n",
      "289  6.541754  5.765173  6.134416  ...  5.982531  6.452321  5.384495   \n",
      "290  5.948425  6.781586  6.359316  ...  5.493268  6.315722  6.234254   \n",
      "291  4.833820  4.422462  5.282184  ...  4.525743  6.036722  5.007402   \n",
      "\n",
      "           18        19        20        21        22        23   24  \n",
      "0         NaN       NaN       NaN       NaN       NaN       NaN  NaN  \n",
      "1         NaN       NaN       NaN       NaN       NaN       NaN  NaN  \n",
      "2         NaN       NaN       NaN       NaN       NaN       NaN  NaN  \n",
      "3         NaN       NaN       NaN       NaN       NaN       NaN  NaN  \n",
      "4         NaN       NaN       NaN       NaN       NaN       NaN  NaN  \n",
      "..        ...       ...       ...       ...       ...       ...  ...  \n",
      "287  3.880885  3.872361  3.387192  3.897710  5.348717  6.805128  1.0  \n",
      "288  3.874392  5.594809  7.088283  4.932308  2.817257  5.111145  0.0  \n",
      "289  6.741707  5.616356  5.672497  5.800947  5.962673  5.121012  0.0  \n",
      "290  5.758307  6.438326  5.899016  5.307849  6.435288  6.555550  0.0  \n",
      "291  5.573951  6.089699  5.341801  4.843717  2.979058  4.578361  1.0  \n",
      "\n",
      "[292 rows x 25 columns]> <bound method DataFrame.info of            0         1         2         3         4         5         6   \\\n",
      "0    0.448339  0.881950  0.000000  0.997296  1.070843  0.774824  0.450895   \n",
      "1    0.471165  0.305296  1.000000  0.398776  1.003245  0.974305  1.043214   \n",
      "2    0.619271  0.423921  1.000000  0.445857  0.517032  1.181797  0.883740   \n",
      "3    0.192957  0.062524  0.000000  0.831945  0.458847  0.858328  0.954374   \n",
      "4    0.820657  0.338822  1.000000  0.068901  0.803221  0.408169  0.542404   \n",
      "..        ...       ...       ...       ...       ...       ...       ...   \n",
      "680  0.383727  0.777310  1.065168  1.172775  0.900160  0.823368  1.068495   \n",
      "681  0.232420  0.472032  0.859046  1.009119  0.375141  1.148157  0.897378   \n",
      "682  0.274028  0.271898  0.379130  0.592728  0.579628  0.533124  0.541652   \n",
      "683  0.431171  0.119779  0.718616  0.853654  0.719307  0.148498  0.282667   \n",
      "684  0.043052  0.297495  0.070354  0.532183  0.572758  0.328536  0.199330   \n",
      "\n",
      "           7         8         9   ...        15        16        17  \\\n",
      "0    1.000000  0.948064  0.233751  ...  1.000000  0.441712  0.922309   \n",
      "1    0.000000  0.910891  0.781484  ...  1.000000  0.302509  0.691533   \n",
      "2    1.000000  0.850096  0.877157  ...  1.000000  0.838324  0.934942   \n",
      "3    1.000000  0.549190  0.985553  ...  1.000000  0.099141  0.222815   \n",
      "4    0.000000  0.098391  0.046909  ...  0.000000  0.223667  0.007614   \n",
      "..        ...       ...       ...  ...       ...       ...       ...   \n",
      "680  0.998122  0.746623  0.456166  ...  0.608436  0.690537  0.409245   \n",
      "681  0.917141  0.966318  1.006476  ...  0.405455  0.471809  1.123452   \n",
      "682  0.735807  0.281527  1.041366  ...  0.946057  0.730384  1.183337   \n",
      "683  0.521056  0.070291  0.528317  ...  0.468239  0.515587  0.863860   \n",
      "684  0.808705  0.781414  0.675192  ...  0.135670  0.338378  0.961042   \n",
      "\n",
      "           18        19        20        21        22        23   24  \n",
      "0    0.970799  0.561568  0.884867  1.198576  0.983875  0.712703  1.0  \n",
      "1    0.693729  0.410874  0.324358  0.809678  0.574804  0.977890  1.0  \n",
      "2    0.482507  0.418814  1.000564  0.528500  0.827828  0.651538  1.0  \n",
      "3    0.157227  0.708536  0.529012  0.593757  0.621701  0.634567  0.0  \n",
      "4    0.604804  0.284894  0.433043  0.806125  0.387838  0.860067  0.0  \n",
      "..        ...       ...       ...       ...       ...       ...  ...  \n",
      "680  0.828655  1.080259  1.127950  0.762943  0.786852  0.966910  1.0  \n",
      "681  0.246041  0.588846  1.169135  0.367892  0.636992  0.777959  1.0  \n",
      "682  0.887481  0.246251  0.302872  0.567807  0.466305  0.326524  1.0  \n",
      "683  0.483180  0.302807  0.071053  0.973006  0.184987  0.702726  0.0  \n",
      "684  0.498200  0.916935  0.120270  0.383218  0.539348  0.568433  0.0  \n",
      "\n",
      "[685 rows x 25 columns]>\n"
     ]
    }
   ],
   "source": [
    "# data = np.loadtxt('/Users/elleemortensen/Documents/GitHub/BP24/Ellee/Data/gaussian_large_d_1.tex')\n",
    "# data = np.loadtxt('/Users/elleemortensen/Documents/GitHub/BP24/Ellee/Data/gaussian_small_d_1.tex')\n",
    "# data = np.loadtxt('/Users/elleemortensen/Documents/GitHub/BP24/Ellee/uniform_large_d_1.tex')\n",
    "# data = np.loadtxt('/Users/elleemortensen/Documents/GitHub/BP24/Ellee/uniform_small_d_1.tex')\n",
    "\n",
    "data = pd.read_csv('/Users/elleemortensen/Documents/GitHub/BP24/Ellee/Sanity Checks/Demos/gaussmall.csv', header=None)\n",
    "data1 = pd.read_csv('/Users/elleemortensen/Documents/GitHub/BP24/Ellee/Experiments/gaussian_small.csv', header=None)\n",
    "data2 = pd.read_csv('/Users/elleemortensen/Documents/GitHub/BP24/Ellee/Sanity Checks/Demos/unismall.csv', header=None)\n",
    "data3 = pd.read_csv('/Users/elleemortensen/Documents/GitHub/BP24/Ellee/Experiments/uniform_small.csv', header=None)\n",
    "data4 = pd.read_csv('/Users/elleemortensen/Documents/GitHub/BP24/Ellee/Sanity Checks/Demos/stacked_all.csv')\n",
    "data5 = pd.read_csv('/Users/elleemortensen/Documents/GitHub/BP24/Ellee/Experiments/stackedall.csv')\n",
    "\n",
    "# array = np.array(data)\n",
    "# df = pd.DataFrame(array)\n",
    "gauss = pd.concat([data, data1], ignore_index=True)\n",
    "uniform = pd.concat([data2, data3], ignore_index=True)\n",
    "stacked = pd.concat([data4, data5], ignore_index=True)\n",
    "print(gauss.info, uniform.info, stacked.info)\n",
    "# df = pd.read_excel('/Users/elleemortensen/Downloads/D3Softball.xlsx', index_col=[0])\n",
    "# df.replace('---', np.nan, inplace=True)\n",
    "# df.dropna(inplace=True)"
   ]
  },
  {
   "cell_type": "code",
   "execution_count": null,
   "id": "1c67a91c-b14a-4ce4-bdda-b64f6c32c83b",
   "metadata": {},
   "outputs": [],
   "source": [
    "# for i in range(25):\n",
    "#     df.iloc[:,i] = df.iloc[:,i].round()\n",
    "#     df.iloc[:,i] = df.iloc[:,i].astype(int)\n",
    "#     df.iloc[:,i] = df.iloc[:,i].astype(\"category\")\n",
    "# df.iloc[:,150] = df.iloc[:,150].astype(\"category\")"
   ]
  },
  {
   "cell_type": "markdown",
   "id": "3924e959-5c63-41bc-ac61-bf285cc1e4b9",
   "metadata": {},
   "source": [
    "### Splitting Data"
   ]
  },
  {
   "cell_type": "code",
   "execution_count": null,
   "id": "4a914886-1f4b-4340-84c7-3a8e6f506d9f",
   "metadata": {},
   "outputs": [],
   "source": [
    "# split the dataset into training and testing data\n",
    "# test_size: this is the percentage of data used for testing (20% in this case), so the rest is used for training data (80% in this case)\n",
    "# random_state: this is a random number chosen that should be used each time to ensure we get the same data split each time\n",
    "# X_train, X_test, y_train, y_test = train_test_split(df.iloc[:, :-1], df.iloc[:, -1], test_size = 0.2, random_state = 42)"
   ]
  },
  {
   "cell_type": "markdown",
   "id": "23d63487-3dd7-49ed-bdd2-3b4432a519ef",
   "metadata": {},
   "source": [
    "### XGBoost"
   ]
  },
  {
   "cell_type": "code",
   "execution_count": null,
   "id": "868df05f-7458-4286-bef6-62df87febe7e",
   "metadata": {
    "scrolled": true
   },
   "outputs": [],
   "source": [
    "# columns_to_convert = [\n",
    "#     'G', 'AB', 'H (Offensive)', 'H/G', 'BA', '2B (Offensive)', '2B/G',\n",
    "#     '3B (Offensive)', '3B/G', 'Innings Pitched', 'K (Def)', 'K/G (Def)',\n",
    "#     'BB Allowed', 'BB/G (Def)', 'K/BB', 'HA', 'HA/G', 'Runs Allowed',\n",
    "#     'Runs Allowed/G', 'ER Allowed', 'ERA', 'WHIP', 'PO', 'A', 'E', 'E/G',\n",
    "#     'FPCT', 'HBP (Offensive)', 'HBP/G', 'BB (Offensive)', 'BB/G (Off)',\n",
    "#     'SF (Offensive)', 'SH (Offensive)', 'OBP', 'SHO', 'SHO %', 'SB',\n",
    "#     'SB/G', 'TB', 'TB/G', 'SLG PCT', 'R', 'R/G', 'DP', 'DP/G',\n",
    "#     'K (Off)', 'K/G (Off)'\n",
    "# ]\n",
    "\n",
    "# # Convert the columns to float\n",
    "# df[columns_to_convert] = df[columns_to_convert].apply(pd.to_numeric, errors='coerce')"
   ]
  },
  {
   "cell_type": "code",
   "execution_count": null,
   "id": "d6e2c2b1-797d-4f7e-ad25-0e3a0045bf9a",
   "metadata": {},
   "outputs": [],
   "source": [
    "# create model instance\n",
    "# n_estimators: number of trees(estimators) the model uses --> the more used, the more accurate the model is\n",
    "# max_depth: maximum depth of tree --> higher number makes model more complex, but too high can cause overfitting\n",
    "# learning_rate: quantifies each tree's contribution to total prediction --> lower number takes longer, but can lead to better generalization\n",
    "# objective: binary:logistic outputs probabilities. if classification is wanted, use binary:hinge\n",
    "# bst = XGBClassifier(n_estimators = 2, max_depth = 2, learning_rate = 1, objective = 'binary:logistic', enable_categorical = True)\n",
    "\n",
    "# # fit model with the training data\n",
    "# bst.fit(X_train, y_train)\n",
    "\n",
    "# # make predictions for the test dataset\n",
    "# preds = bst.predict(X_test)\n",
    "\n",
    "# # print predictions\n",
    "# print(preds)\n",
    "\n",
    "# # print model Accuracy (how often the classifier is correct)\n",
    "# print(\"Accuracy:\", metrics.accuracy_score(y_test, preds))\n",
    "\n",
    "# Create XGBoost model instance\n",
    "bst = XGBClassifier(n_estimators=2, max_depth=2, learning_rate=1, objective='binary:logistic', enable_categorical=True)\n",
    "\n",
    "# Fit model with the training data\n",
    "bst.fit(X_train_corner, y_train_corner)\n",
    "\n",
    "# Make predictions for the test dataset\n",
    "preds = bst.predict(X_test_corner)\n",
    "\n",
    "# Print predictions\n",
    "print(\"Predictions:\", preds)\n",
    "\n",
    "# Calculate and print F1 score\n",
    "f1 = metrics.f1_score(y_test_corner, preds)\n",
    "print(\"F1 Score:\", f1)"
   ]
  },
  {
   "cell_type": "markdown",
   "id": "a56d3bfc-09bc-416e-b7c7-1f8c8370f16a",
   "metadata": {},
   "source": [
    "### FIC"
   ]
  },
  {
   "cell_type": "code",
   "execution_count": 11,
   "id": "16d03cd9-1b77-4591-adc5-a5ac9e6fa031",
   "metadata": {},
   "outputs": [],
   "source": [
    "class FeatureClassifier:\n",
    "  def __init__(self,reqAcc = 0.01, classifier = 'DecisionTree', bias = [], control = None, n_jobs = None, random_state = 42):\n",
    "    self.featureClassifiers=[] #list of all the classifiers of all the selected features\n",
    "    self.reqAcc=reqAcc #user specified cutoff value\n",
    "    self.indexLs=[] # list of mapped index values to featureClassifiers\n",
    "    self.flag=0\n",
    "    self.bias=bias # list of biases for each and every label\n",
    "    self.control=control #overfitting control for decision trees\n",
    "    self.classifier=classifier #the classifier which is preferred by the user\n",
    "    self.dic={'DecisionTree':0,'LinearRegression':1,'SVM':2,'LogisticRegression':3} #a dictionary which maps the classifier to its index\n",
    "    self.n_jobs=n_jobs\n",
    "    self.random_state=random_state\n",
    "    self.num_lables = None\n",
    "\n",
    "  def finIndex(self):\n",
    "    #finds the index where the reqAcc condition fails and also created the indexLs[] for mapping\n",
    "    for i in range(len(self.featureClassifiers)):\n",
    "      if self.featureClassifiers[i][1] < self.reqAcc:\n",
    "        return i\n",
    "      self.indexLs.append(self.featureClassifiers[i][2])\n",
    "    self.flag=1\n",
    "    return i\n",
    "  def fit(self,x,y):\n",
    "    #applied the model to the dataset. The model is trained and saved for further prediction\n",
    "    self.num_lables=len(set(y.flatten()))\n",
    "    bestfeatures = SelectKBest(score_func=chi2,k=1)\n",
    "    print(x,y)\n",
    "    fit = bestfeatures.fit(x,y)\n",
    "\n",
    "    for i in range(len(x[0])):\n",
    "      clf=[DecisionTreeClassifier(max_depth=self.control,random_state=self.random_state),LinearRegression(n_jobs=self.n_jobs),SVC(gamma=self.control,random_state=self.random_state), LogisticRegression(penalty=self.control,random_state=self.random_state)][self.dic[self.classifier]]\n",
    "      X_train, X_test, y_train, y_test = train_test_split(x, y, test_size=0.33,random_state=self.random_state)\n",
    "      clf.fit(X_train[:,i:i+1],y_train)\n",
    "      self.featureClassifiers.append((clf,fit.scores_[i],i))\n",
    "    self.featureClassifiers.sort(key=lambda x:x[1],reverse=True)\n",
    "    index=self.finIndex()\n",
    "    if self.flag==0:\n",
    "      self.featureClassifiers=self.featureClassifiers[:index]\n",
    "    return\n",
    "\n",
    "  def predict(self,x):\n",
    "    #given a list of inputs, predicts the possible outputs\n",
    "    if not self.bias:\n",
    "      self.bias=np.zeros(self.num_lables)\n",
    "    if len(self.bias)<self.num_lables:\n",
    "      raise AttributeError('Please check the lenth of bias list')\n",
    "    yPred=[]\n",
    "    for i in range(len(x)):\n",
    "      pred_arr=np.zeros(self.num_lables)\n",
    "      for j in range(len(self.indexLs)):\n",
    "        pred=np.round(self.featureClassifiers[j][0].predict([[x[i][self.indexLs[j]]]]))\n",
    "        pred_arr[pred]+=self.featureClassifiers[j][1]+self.bias[pred[0]]\n",
    "      yPred.append(np.argmax(pred_arr))\n",
    "    return yPred"
   ]
  },
  {
   "cell_type": "code",
   "execution_count": null,
   "id": "0009d4fe-6bf7-47fd-bd66-f67858d1504c",
   "metadata": {},
   "outputs": [],
   "source": [
    "#train the model using the training sets\n",
    "clf1=FeatureClassifier(0, classifier='DecisionTree', control=3, random_state=42)\n",
    "# clf1.fit(X_train,y_train.reshape(-1,1))\n",
    "clf1.fit(np.array(X_train), np.array(y_train)[:,np.newaxis].astype(int))\n",
    "\n",
    "#predict the response for the test dataset\n",
    "#model accuracy (how often the classifier is correct)\n",
    "print(\"Accuracy:\", metrics.accuracy_score(np.array(y_test).astype(int),clf1.predict(np.array(X_test))))\n",
    "\n",
    "print(clf1.indexLs)\n",
    "clf1.featureClassifiers\n",
    "print(clf1.indexLs)"
   ]
  },
  {
   "cell_type": "code",
   "execution_count": 13,
   "id": "cae97d84-13e6-4d02-971d-5e622aa4d574",
   "metadata": {},
   "outputs": [
    {
     "name": "stdout",
     "output_type": "stream",
     "text": [
      "[[ 1.91084413  0.7977536   3.25609559 ...  0.          0.\n",
      "   1.        ]\n",
      " [ 0.61496164  1.30631956 -0.15622361 ...  1.          1.\n",
      "   0.        ]\n",
      " [-0.07089384  0.84888389  0.02390265 ...  0.          1.\n",
      "   0.        ]\n",
      " ...\n",
      " [ 0.37466714  3.64690773  2.03829623 ...  2.          1.\n",
      "   0.        ]\n",
      " [ 0.02271092  0.84125244  1.17746719 ...  0.          0.\n",
      "   2.        ]\n",
      " [ 1.04994748  0.38292255  1.17680361 ...  0.          0.\n",
      "   1.        ]] [1 0 0 0 0 1 1 0 0 1 1 1 0 0 0 0 0 1 1 1 0 1 1 0 0 1 1 0 1 0 1 1 1 1 0 0 0\n",
      " 0 0 0 1 1 0 0 1 1 0 0 1 0 0 0 1 1 0 0 1 0 1 0 1 0 1 1 0 1 1 1 1 0 1 0 0 1\n",
      " 0 1 0 1 1 0 0 1 0 0 1 0 1 1 0 0 0 1 1 1 1 0 1 0 0 0 1 0 0 0 1 1 0 0 0 0 1\n",
      " 1 0 1 0 1 1 1 1 0 0 0 0 1 1 1 1 1 1 1 0 0 0 0 0 1 1 1 1 1 1 0 1 1 0 0 1 1\n",
      " 1 0 0 0 0 1 0 1 1 1 1 0 1 0 0 0 0 1 0 0]\n"
     ]
    },
    {
     "ename": "ValueError",
     "evalue": "Input X must be non-negative.",
     "output_type": "error",
     "traceback": [
      "\u001b[0;31m---------------------------------------------------------------------------\u001b[0m",
      "\u001b[0;31mValueError\u001b[0m                                Traceback (most recent call last)",
      "Cell \u001b[0;32mIn[13], line 5\u001b[0m\n\u001b[1;32m      2\u001b[0m clf1 \u001b[38;5;241m=\u001b[39m FeatureClassifier(\u001b[38;5;241m0\u001b[39m, classifier\u001b[38;5;241m=\u001b[39m\u001b[38;5;124m'\u001b[39m\u001b[38;5;124mDecisionTree\u001b[39m\u001b[38;5;124m'\u001b[39m, control\u001b[38;5;241m=\u001b[39m\u001b[38;5;241m3\u001b[39m, random_state\u001b[38;5;241m=\u001b[39m\u001b[38;5;241m42\u001b[39m)\n\u001b[1;32m      4\u001b[0m \u001b[38;5;66;03m# Fit model with the training data\u001b[39;00m\n\u001b[0;32m----> 5\u001b[0m clf1\u001b[38;5;241m.\u001b[39mfit(np\u001b[38;5;241m.\u001b[39marray(X_train_corner), np\u001b[38;5;241m.\u001b[39marray(y_train_corner)\u001b[38;5;241m.\u001b[39mastype(\u001b[38;5;28mint\u001b[39m))\n\u001b[1;32m      7\u001b[0m \u001b[38;5;66;03m# Predict the response for the test dataset\u001b[39;00m\n\u001b[1;32m      8\u001b[0m y_pred \u001b[38;5;241m=\u001b[39m clf1\u001b[38;5;241m.\u001b[39mpredict(np\u001b[38;5;241m.\u001b[39marray(X_test_corner))\n",
      "Cell \u001b[0;32mIn[11], line 28\u001b[0m, in \u001b[0;36mFeatureClassifier.fit\u001b[0;34m(self, x, y)\u001b[0m\n\u001b[1;32m     26\u001b[0m bestfeatures \u001b[38;5;241m=\u001b[39m SelectKBest(score_func\u001b[38;5;241m=\u001b[39mchi2,k\u001b[38;5;241m=\u001b[39m\u001b[38;5;241m1\u001b[39m)\n\u001b[1;32m     27\u001b[0m \u001b[38;5;28mprint\u001b[39m(x,y)\n\u001b[0;32m---> 28\u001b[0m fit \u001b[38;5;241m=\u001b[39m bestfeatures\u001b[38;5;241m.\u001b[39mfit(x,y)\n\u001b[1;32m     30\u001b[0m \u001b[38;5;28;01mfor\u001b[39;00m i \u001b[38;5;129;01min\u001b[39;00m \u001b[38;5;28mrange\u001b[39m(\u001b[38;5;28mlen\u001b[39m(x[\u001b[38;5;241m0\u001b[39m])):\n\u001b[1;32m     31\u001b[0m   clf\u001b[38;5;241m=\u001b[39m[DecisionTreeClassifier(max_depth\u001b[38;5;241m=\u001b[39m\u001b[38;5;28mself\u001b[39m\u001b[38;5;241m.\u001b[39mcontrol,random_state\u001b[38;5;241m=\u001b[39m\u001b[38;5;28mself\u001b[39m\u001b[38;5;241m.\u001b[39mrandom_state),LinearRegression(n_jobs\u001b[38;5;241m=\u001b[39m\u001b[38;5;28mself\u001b[39m\u001b[38;5;241m.\u001b[39mn_jobs),SVC(gamma\u001b[38;5;241m=\u001b[39m\u001b[38;5;28mself\u001b[39m\u001b[38;5;241m.\u001b[39mcontrol,random_state\u001b[38;5;241m=\u001b[39m\u001b[38;5;28mself\u001b[39m\u001b[38;5;241m.\u001b[39mrandom_state), LogisticRegression(penalty\u001b[38;5;241m=\u001b[39m\u001b[38;5;28mself\u001b[39m\u001b[38;5;241m.\u001b[39mcontrol,random_state\u001b[38;5;241m=\u001b[39m\u001b[38;5;28mself\u001b[39m\u001b[38;5;241m.\u001b[39mrandom_state)][\u001b[38;5;28mself\u001b[39m\u001b[38;5;241m.\u001b[39mdic[\u001b[38;5;28mself\u001b[39m\u001b[38;5;241m.\u001b[39mclassifier]]\n",
      "File \u001b[0;32m/opt/anaconda3/lib/python3.11/site-packages/sklearn/feature_selection/_univariate_selection.py:472\u001b[0m, in \u001b[0;36m_BaseFilter.fit\u001b[0;34m(self, X, y)\u001b[0m\n\u001b[1;32m    467\u001b[0m X, y \u001b[38;5;241m=\u001b[39m \u001b[38;5;28mself\u001b[39m\u001b[38;5;241m.\u001b[39m_validate_data(\n\u001b[1;32m    468\u001b[0m     X, y, accept_sparse\u001b[38;5;241m=\u001b[39m[\u001b[38;5;124m\"\u001b[39m\u001b[38;5;124mcsr\u001b[39m\u001b[38;5;124m\"\u001b[39m, \u001b[38;5;124m\"\u001b[39m\u001b[38;5;124mcsc\u001b[39m\u001b[38;5;124m\"\u001b[39m], multi_output\u001b[38;5;241m=\u001b[39m\u001b[38;5;28;01mTrue\u001b[39;00m\n\u001b[1;32m    469\u001b[0m )\n\u001b[1;32m    471\u001b[0m \u001b[38;5;28mself\u001b[39m\u001b[38;5;241m.\u001b[39m_check_params(X, y)\n\u001b[0;32m--> 472\u001b[0m score_func_ret \u001b[38;5;241m=\u001b[39m \u001b[38;5;28mself\u001b[39m\u001b[38;5;241m.\u001b[39mscore_func(X, y)\n\u001b[1;32m    473\u001b[0m \u001b[38;5;28;01mif\u001b[39;00m \u001b[38;5;28misinstance\u001b[39m(score_func_ret, (\u001b[38;5;28mlist\u001b[39m, \u001b[38;5;28mtuple\u001b[39m)):\n\u001b[1;32m    474\u001b[0m     \u001b[38;5;28mself\u001b[39m\u001b[38;5;241m.\u001b[39mscores_, \u001b[38;5;28mself\u001b[39m\u001b[38;5;241m.\u001b[39mpvalues_ \u001b[38;5;241m=\u001b[39m score_func_ret\n",
      "File \u001b[0;32m/opt/anaconda3/lib/python3.11/site-packages/sklearn/feature_selection/_univariate_selection.py:217\u001b[0m, in \u001b[0;36mchi2\u001b[0;34m(X, y)\u001b[0m\n\u001b[1;32m    215\u001b[0m X \u001b[38;5;241m=\u001b[39m check_array(X, accept_sparse\u001b[38;5;241m=\u001b[39m\u001b[38;5;124m\"\u001b[39m\u001b[38;5;124mcsr\u001b[39m\u001b[38;5;124m\"\u001b[39m, dtype\u001b[38;5;241m=\u001b[39m(np\u001b[38;5;241m.\u001b[39mfloat64, np\u001b[38;5;241m.\u001b[39mfloat32))\n\u001b[1;32m    216\u001b[0m \u001b[38;5;28;01mif\u001b[39;00m np\u001b[38;5;241m.\u001b[39many((X\u001b[38;5;241m.\u001b[39mdata \u001b[38;5;28;01mif\u001b[39;00m issparse(X) \u001b[38;5;28;01melse\u001b[39;00m X) \u001b[38;5;241m<\u001b[39m \u001b[38;5;241m0\u001b[39m):\n\u001b[0;32m--> 217\u001b[0m     \u001b[38;5;28;01mraise\u001b[39;00m \u001b[38;5;167;01mValueError\u001b[39;00m(\u001b[38;5;124m\"\u001b[39m\u001b[38;5;124mInput X must be non-negative.\u001b[39m\u001b[38;5;124m\"\u001b[39m)\n\u001b[1;32m    219\u001b[0m \u001b[38;5;66;03m# Use a sparse representation for Y by default to reduce memory usage when\u001b[39;00m\n\u001b[1;32m    220\u001b[0m \u001b[38;5;66;03m# y has many unique classes.\u001b[39;00m\n\u001b[1;32m    221\u001b[0m Y \u001b[38;5;241m=\u001b[39m LabelBinarizer(sparse_output\u001b[38;5;241m=\u001b[39m\u001b[38;5;28;01mTrue\u001b[39;00m)\u001b[38;5;241m.\u001b[39mfit_transform(y)\n",
      "\u001b[0;31mValueError\u001b[0m: Input X must be non-negative."
     ]
    }
   ],
   "source": [
    "# Assuming FeatureClassifier is correctly implemented for DecisionTreeClassifier\n",
    "clf1 = FeatureClassifier(0, classifier='DecisionTree', control=3, random_state=42)\n",
    "\n",
    "# Fit model with the training data\n",
    "clf1.fit(np.array(X_train_corner), np.array(y_train_corner).astype(int))\n",
    "\n",
    "# Predict the response for the test dataset\n",
    "y_pred = clf1.predict(np.array(X_test_corner))\n",
    "\n",
    "# Calculate and print F1 score\n",
    "f1 = metrics.f1_score(np.array(y_test_corner).astype(int), y_pred)\n",
    "print(\"F1 Score:\", f1)\n",
    "\n",
    "# Print other relevant outputs for debugging\n",
    "print(clf1.indexLs)"
   ]
  },
  {
   "cell_type": "code",
   "execution_count": 17,
   "id": "56db6b0e-18c5-48f7-8302-8aa13dbd3228",
   "metadata": {},
   "outputs": [
    {
     "name": "stdout",
     "output_type": "stream",
     "text": [
      "0\n"
     ]
    }
   ],
   "source": [
    "print(sum(y_test_corner<0))"
   ]
  },
  {
   "cell_type": "code",
   "execution_count": null,
   "id": "5adc35e1-caed-4cdf-a018-bae406111104",
   "metadata": {},
   "outputs": [],
   "source": [
    "# Identify columns with any negative values\n",
    "columns_with_negatives = df.columns[(df < 0).any()]\n",
    "\n",
    "# Drop those columns\n",
    "df = df.drop(columns=columns_with_negatives)\n",
    "df.info"
   ]
  },
  {
   "cell_type": "markdown",
   "id": "fdf5fc2c-2542-4fd9-89a6-1b26d1e475e7",
   "metadata": {},
   "source": [
    "### KNN"
   ]
  },
  {
   "cell_type": "code",
   "execution_count": null,
   "id": "51113697-9559-443b-add0-bb9cff71f5c0",
   "metadata": {},
   "outputs": [],
   "source": [
    "#create a knn classifier\n",
    "#n_neighbors: predicting the label of the data point by looking at the 3 closest data points and getting them to \"vote\"\n",
    "#algorithm: we may need to look at this if it misbehaves\n",
    "neigh = KNeighborsClassifier(n_neighbors=5)\n",
    "\n",
    "#train the model using the training sets\n",
    "neigh.fit(X_train, y_train)\n",
    "\n",
    "#predict the response for the test dataset\n",
    "y_pred = neigh.predict(X_test)\n",
    "\n",
    "#print predictions\n",
    "print(y_pred)\n",
    "\n",
    "#model accuracy (how often the classifier is correct)\n",
    "print(\"Accuracy:\", metrics.accuracy_score(y_test,y_pred))"
   ]
  },
  {
   "cell_type": "code",
   "execution_count": null,
   "id": "5851f6f4-1fbd-487d-a348-96411817e656",
   "metadata": {},
   "outputs": [],
   "source": [
    "# Create KNN classifier instance\n",
    "neigh = KNeighborsClassifier(n_neighbors=5)\n",
    "\n",
    "# Train the model using the training sets\n",
    "neigh.fit(X_train_corner, y_train_corner)\n",
    "\n",
    "# Predict the response for the test dataset\n",
    "y_pred = neigh.predict(X_test_corner)\n",
    "\n",
    "# Print predictions\n",
    "print(\"Predictions:\", y_pred)\n",
    "\n",
    "# Calculate and print F1 score\n",
    "f1 = metrics.f1_score(y_test_corner, y_pred)\n",
    "print(\"F1 Score:\", f1)"
   ]
  },
  {
   "cell_type": "markdown",
   "id": "f4427ca7-8d35-4f5e-be7a-bb6759c9047f",
   "metadata": {},
   "source": [
    "### SVM"
   ]
  },
  {
   "cell_type": "markdown",
   "id": "cc012a82-360d-447c-8b48-1c48d3ee7ba9",
   "metadata": {},
   "source": [
    "#### SVM Accuracy"
   ]
  },
  {
   "cell_type": "code",
   "execution_count": null,
   "id": "3ec3390b-b028-4d22-b67d-aa7792b31d79",
   "metadata": {},
   "outputs": [],
   "source": [
    "#Create a svm Classifier\n",
    "# kernel: options for kernel include linear, poly, rbf, sigmoid\n",
    "    # linear: use this when data can be split by a linear function\n",
    "    # poly (polynomial): use this when data can be split by a polynomial function\n",
    "    # rbf (radial basis function): use this when there are clusters of one class inside another\n",
    "    # sigmoid: use this when the split between classes is curved and irregular\n",
    "clf = svm.SVC(kernel='linear')\n",
    "\n",
    "#Train the model using the training sets\n",
    "clf.fit(X_train, y_train)\n",
    "\n",
    "#Predict the response for test dataset\n",
    "y_pred = clf.predict(X_test)\n",
    "\n",
    "# print predictions\n",
    "print(\"Predictions:\", y_pred)\n",
    "\n",
    "# print model Accuracy (how often the classifier is correct)\n",
    "print(\"Accuracy:\", metrics.accuracy_score(y_test, y_pred))"
   ]
  },
  {
   "cell_type": "markdown",
   "id": "bcce6e36-a3b5-46b6-8d1e-669d044a787d",
   "metadata": {},
   "source": [
    "#### SVM F1 Scores"
   ]
  },
  {
   "cell_type": "code",
   "execution_count": 5,
   "id": "e171592c-ad1c-4b30-92f4-c3a6f748afde",
   "metadata": {},
   "outputs": [],
   "source": [
    "# Stacked\n",
    "X_train_corner = df.iloc[:168, :23]\n",
    "X_test_corner = df.iloc[168:241, :23]\n",
    "y_train_corner =  df.iloc[:168, 24]\n",
    "y_test_corner = df.iloc[168:241, 24]\n",
    "\n",
    "# Gaussian\n",
    "# X_train_corner = df.iloc[:120, :12]\n",
    "# X_test_corner = df.iloc[120:, :12]\n",
    "# y_train_corner =  df.iloc[:120, 12]\n",
    "# y_test_corner = df.iloc[120:, 12]\n",
    "\n",
    "# Uniform\n",
    "# X_train_corner = df.iloc[:240, :24]\n",
    "# X_test_corner = df.iloc[240:, :24]\n",
    "# y_train_corner =  df.iloc[:240, 24]\n",
    "# y_test_corner = df.iloc[240:, 24]"
   ]
  },
  {
   "cell_type": "code",
   "execution_count": null,
   "id": "14d28c3d-9822-4ec4-9386-758da72454e0",
   "metadata": {},
   "outputs": [],
   "source": [
    "# Create SVM classifier instance with linear kernel\n",
    "clf = svm.SVC(kernel='linear', random_state = 42)\n",
    "\n",
    "# Train the model using the training sets\n",
    "clf.fit(X_train_corner.iloc[:,0:], y_train_corner)\n",
    "\n",
    "# Predict the response for test dataset\n",
    "y_pred = clf.predict(X_test_corner.iloc[:,0:])\n",
    "\n",
    "# Print predictions\n",
    "print(\"Predictions:\", y_pred)\n",
    "\n",
    "# Calculate F1 score\n",
    "print(\"F1 Score:\", metrics.f1_score(y_test_corner, y_pred))"
   ]
  },
  {
   "cell_type": "code",
   "execution_count": null,
   "id": "24a0b62c-bd3d-48e6-a39d-1a28736f24e2",
   "metadata": {},
   "outputs": [],
   "source": []
  }
 ],
 "metadata": {
  "kernelspec": {
   "display_name": "Python 3 (ipykernel)",
   "language": "python",
   "name": "python3"
  },
  "language_info": {
   "codemirror_mode": {
    "name": "ipython",
    "version": 3
   },
   "file_extension": ".py",
   "mimetype": "text/x-python",
   "name": "python",
   "nbconvert_exporter": "python",
   "pygments_lexer": "ipython3",
   "version": "3.11.7"
  }
 },
 "nbformat": 4,
 "nbformat_minor": 5
}
