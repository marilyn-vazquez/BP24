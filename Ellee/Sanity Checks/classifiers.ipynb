{
 "cells": [
  {
   "cell_type": "markdown",
   "id": "bc0d46db-653f-4d57-8c27-03c90b6d22cb",
   "metadata": {},
   "source": [
    "### Importing Packages"
   ]
  },
  {
   "cell_type": "code",
   "execution_count": 583,
   "id": "f53352d8-22d2-4075-b31f-d0ef01c764f4",
   "metadata": {},
   "outputs": [],
   "source": [
    "from xgboost import XGBClassifier\n",
    "from sklearn.model_selection import train_test_split\n",
    "from sklearn import metrics\n",
    "import numpy as np\n",
    "from sklearn import datasets\n",
    "from sklearn.neighbors import KNeighborsClassifier\n",
    "import pandas as pd\n",
    "from sklearn import svm\n",
    "import matplotlib.pyplot as plt\n",
    "from sklearn.tree import DecisionTreeClassifier\n",
    "from sklearn.metrics import accuracy_score\n",
    "from sklearn.linear_model import LinearRegression, LogisticRegression\n",
    "from sklearn.svm import SVC\n",
    "from sklearn.feature_selection import SelectKBest\n",
    "from sklearn.feature_selection import chi2\n",
    "import random"
   ]
  },
  {
   "cell_type": "code",
   "execution_count": 601,
   "id": "e2c78482-a1c3-4fc3-9a32-422305278d8f",
   "metadata": {},
   "outputs": [],
   "source": [
    "#data = np.loadtxt('/Users/elleemortensen/Documents/GitHub/BP24/Ellee/Data/gaussian_large_d_1.tex')\n",
    "data = np.loadtxt('/Users/elleemortensen/Documents/GitHub/BP24/Ellee/Data/gaussian_small_d_1.tex')\n",
    "#data = np.loadtxt('/Users/elleemortensen/Documents/GitHub/BP24/Ellee/uniform_large_d_1.tex')\n",
    "#data = np.loadtxt('/Users/elleemortensen/Documents/GitHub/BP24/Ellee/uniform_small_d_1.tex')\n",
    "#df = pd.read_excel('/Users/elleemortensen/Downloads/D3Softball.xlsx', index_col=[0])\n",
    "#df.replace('---', np.nan, inplace=True)\n",
    "#df.dropna(inplace=True)\n",
    "array = np.array(data)\n",
    "df = pd.DataFrame(array)"
   ]
  },
  {
   "cell_type": "code",
   "execution_count": null,
   "id": "1c67a91c-b14a-4ce4-bdda-b64f6c32c83b",
   "metadata": {},
   "outputs": [],
   "source": [
    "# for i in range(25):\n",
    "#     df.iloc[:,i] = df.iloc[:,i].round()\n",
    "#     df.iloc[:,i] = df.iloc[:,i].astype(int)\n",
    "#     df.iloc[:,i] = df.iloc[:,i].astype(\"category\")\n",
    "# df.iloc[:,150] = df.iloc[:,150].astype(\"category\")"
   ]
  },
  {
   "cell_type": "markdown",
   "id": "3924e959-5c63-41bc-ac61-bf285cc1e4b9",
   "metadata": {},
   "source": [
    "### Splitting Data"
   ]
  },
  {
   "cell_type": "code",
   "execution_count": null,
   "id": "4a914886-1f4b-4340-84c7-3a8e6f506d9f",
   "metadata": {},
   "outputs": [],
   "source": [
    "# split the dataset into training and testing data\n",
    "# test_size: this is the percentage of data used for testing (20% in this case), so the rest is used for training data (80% in this case)\n",
    "# random_state: this is a random number chosen that should be used each time to ensure we get the same data split each time\n",
    "X_train, X_test, y_train, y_test = train_test_split(df.iloc[:, :-1], df.iloc[:, -1], test_size = 0.2, random_state = 52)"
   ]
  },
  {
   "cell_type": "markdown",
   "id": "23d63487-3dd7-49ed-bdd2-3b4432a519ef",
   "metadata": {},
   "source": [
    "### XGBoost"
   ]
  },
  {
   "cell_type": "code",
   "execution_count": null,
   "id": "868df05f-7458-4286-bef6-62df87febe7e",
   "metadata": {
    "scrolled": true
   },
   "outputs": [],
   "source": [
    "columns_to_convert = [\n",
    "    'G', 'AB', 'H (Offensive)', 'H/G', 'BA', '2B (Offensive)', '2B/G',\n",
    "    '3B (Offensive)', '3B/G', 'Innings Pitched', 'K (Def)', 'K/G (Def)',\n",
    "    'BB Allowed', 'BB/G (Def)', 'K/BB', 'HA', 'HA/G', 'Runs Allowed',\n",
    "    'Runs Allowed/G', 'ER Allowed', 'ERA', 'WHIP', 'PO', 'A', 'E', 'E/G',\n",
    "    'FPCT', 'HBP (Offensive)', 'HBP/G', 'BB (Offensive)', 'BB/G (Off)',\n",
    "    'SF (Offensive)', 'SH (Offensive)', 'OBP', 'SHO', 'SHO %', 'SB',\n",
    "    'SB/G', 'TB', 'TB/G', 'SLG PCT', 'R', 'R/G', 'DP', 'DP/G',\n",
    "    'K (Off)', 'K/G (Off)'\n",
    "]\n",
    "\n",
    "# Convert the columns to float\n",
    "df[columns_to_convert] = df[columns_to_convert].apply(pd.to_numeric, errors='coerce')"
   ]
  },
  {
   "cell_type": "code",
   "execution_count": null,
   "id": "d6e2c2b1-797d-4f7e-ad25-0e3a0045bf9a",
   "metadata": {},
   "outputs": [],
   "source": [
    "# create model instance\n",
    "# n_estimators: number of trees(estimators) the model uses --> the more used, the more accurate the model is\n",
    "# max_depth: maximum depth of tree --> higher number makes model more complex, but too high can cause overfitting\n",
    "# learning_rate: quantifies each tree's contribution to total prediction --> lower number takes longer, but can lead to better generalization\n",
    "# objective: binary:logistic outputs probabilities. if classification is wanted, use binary:hinge\n",
    "# bst = XGBClassifier(n_estimators = 2, max_depth = 2, learning_rate = 1, objective = 'binary:logistic', enable_categorical = True)\n",
    "\n",
    "# # fit model with the training data\n",
    "# bst.fit(X_train, y_train)\n",
    "\n",
    "# # make predictions for the test dataset\n",
    "# preds = bst.predict(X_test)\n",
    "\n",
    "# # print predictions\n",
    "# print(preds)\n",
    "\n",
    "# # print model Accuracy (how often the classifier is correct)\n",
    "# print(\"Accuracy:\", metrics.accuracy_score(y_test, preds))\n",
    "\n",
    "# Create XGBoost model instance\n",
    "bst = XGBClassifier(n_estimators=2, max_depth=2, learning_rate=1, objective='binary:logistic', enable_categorical=True)\n",
    "\n",
    "# Fit model with the training data\n",
    "bst.fit(X_train, y_train)\n",
    "\n",
    "# Make predictions for the test dataset\n",
    "preds = bst.predict(X_test)\n",
    "\n",
    "# Print predictions\n",
    "print(\"Predictions:\", preds)\n",
    "\n",
    "# Calculate and print F1 score\n",
    "f1 = metrics.f1_score(y_test, preds)\n",
    "print(\"F1 Score:\", f1)"
   ]
  },
  {
   "cell_type": "markdown",
   "id": "a56d3bfc-09bc-416e-b7c7-1f8c8370f16a",
   "metadata": {},
   "source": [
    "### FIC"
   ]
  },
  {
   "cell_type": "code",
   "execution_count": null,
   "id": "16d03cd9-1b77-4591-adc5-a5ac9e6fa031",
   "metadata": {},
   "outputs": [],
   "source": [
    "class FeatureClassifier:\n",
    "  def __init__(self,reqAcc = 0.01, classifier = 'DecisionTree', bias = [], control = None, n_jobs = None, random_state = None):\n",
    "    self.featureClassifiers=[] #list of all the classifiers of all the selected features\n",
    "    self.reqAcc=reqAcc #user specified cutoff value\n",
    "    self.indexLs=[] # list of mapped index values to featureClassifiers\n",
    "    self.flag=0\n",
    "    self.bias=bias # list of biases for each and every label\n",
    "    self.control=control #overfitting control for decision trees\n",
    "    self.classifier=classifier #the classifier which is preferred by the user\n",
    "    self.dic={'DecisionTree':0,'LinearRegression':1,'SVM':2,'LogisticRegression':3} #a dictionary which maps the classifier to its index\n",
    "    self.n_jobs=n_jobs\n",
    "    self.random_state=random_state\n",
    "    self.num_lables = None\n",
    "\n",
    "  def finIndex(self):\n",
    "    #finds the index where the reqAcc condition fails and also created the indexLs[] for mapping\n",
    "    for i in range(len(self.featureClassifiers)):\n",
    "      if self.featureClassifiers[i][1] < self.reqAcc:\n",
    "        return i\n",
    "      self.indexLs.append(self.featureClassifiers[i][2])\n",
    "    self.flag=1\n",
    "    return i\n",
    "\n",
    "  def fit(self,x,y):\n",
    "    #applied the model to the dataset. The model is trained and saved for further prediction\n",
    "    self.num_lables=len(set(y.flatten()))\n",
    "    bestfeatures = SelectKBest(score_func=chi2,k=1)\n",
    "    fit = bestfeatures.fit(x,y)\n",
    "\n",
    "    for i in range(len(x[0])):\n",
    "      clf=[DecisionTreeClassifier(max_depth=self.control,random_state=self.random_state),LinearRegression(n_jobs=self.n_jobs),SVC(gamma=self.control,random_state=self.random_state), LogisticRegression(penalty=self.control,random_state=self.random_state)][self.dic[self.classifier]]\n",
    "      X_train, X_test, y_train, y_test = train_test_split(x, y, test_size=0.33,random_state=self.random_state)\n",
    "      clf.fit(X_train[:,i:i+1],y_train)\n",
    "      self.featureClassifiers.append((clf,fit.scores_[i],i))\n",
    "    self.featureClassifiers.sort(key=lambda x:x[1],reverse=True)\n",
    "    index=self.finIndex()\n",
    "    if self.flag==0:\n",
    "      self.featureClassifiers=self.featureClassifiers[:index]\n",
    "    return\n",
    "\n",
    "  def predict(self,x):\n",
    "    #given a list of inputs, predicts the possible outputs\n",
    "    if not self.bias:\n",
    "      self.bias=np.zeros(self.num_lables)\n",
    "    if len(self.bias)<self.num_lables:\n",
    "      raise AttributeError('Please check the lenth of bias list')\n",
    "    yPred=[]\n",
    "    for i in range(len(x)):\n",
    "      pred_arr=np.zeros(self.num_lables)\n",
    "      for j in range(len(self.indexLs)):\n",
    "        pred=np.round(self.featureClassifiers[j][0].predict([[x[i][self.indexLs[j]]]]))\n",
    "        pred_arr[pred]+=self.featureClassifiers[j][1]+self.bias[pred[0]]\n",
    "      yPred.append(np.argmax(pred_arr))\n",
    "    return yPred"
   ]
  },
  {
   "cell_type": "code",
   "execution_count": null,
   "id": "0009d4fe-6bf7-47fd-bd66-f67858d1504c",
   "metadata": {},
   "outputs": [],
   "source": [
    "#train the model using the training sets\n",
    "clf1=FeatureClassifier(0,classifier='DecisionTree',control=3)\n",
    "# clf1.fit(X_train,y_train.reshape(-1,1))\n",
    "clf1.fit(np.array(X_train), np.array(y_train)[:,np.newaxis].astype(int))\n",
    "\n",
    "#predict the response for the test dataset\n",
    "#model accuracy (how often the classifier is correct)\n",
    "print(\"Accuracy:\", metrics.accuracy_score(np.array(y_test).astype(int),clf1.predict(np.array(X_test))))\n",
    "\n",
    "print(clf1.indexLs)\n",
    "clf1.featureClassifiers\n",
    "print(clf1.indexLs)"
   ]
  },
  {
   "cell_type": "code",
   "execution_count": null,
   "id": "cae97d84-13e6-4d02-971d-5e622aa4d574",
   "metadata": {},
   "outputs": [],
   "source": [
    "# Assuming FeatureClassifier is correctly implemented for DecisionTreeClassifier\n",
    "clf1 = FeatureClassifier(0, classifier='DecisionTree', control=3)\n",
    "\n",
    "# Fit model with the training data\n",
    "clf1.fit(np.array(X_train), np.array(y_train).astype(int))\n",
    "\n",
    "# Predict the response for the test dataset\n",
    "y_pred = clf1.predict(np.array(X_test))\n",
    "\n",
    "# Calculate and print F1 score\n",
    "f1 = metrics.f1_score(np.array(y_test).astype(int), y_pred)\n",
    "print(\"F1 Score:\", f1)\n",
    "\n",
    "# Print other relevant outputs for debugging\n",
    "print(clf1.indexLs)"
   ]
  },
  {
   "cell_type": "markdown",
   "id": "fdf5fc2c-2542-4fd9-89a6-1b26d1e475e7",
   "metadata": {},
   "source": [
    "### KNN"
   ]
  },
  {
   "cell_type": "code",
   "execution_count": null,
   "id": "51113697-9559-443b-add0-bb9cff71f5c0",
   "metadata": {},
   "outputs": [],
   "source": [
    "#create a knn classifier\n",
    "#n_neighbors: predicting the label of the data point by looking at the 3 closest data points and getting them to \"vote\"\n",
    "#algorithm: we may need to look at this if it misbehaves\n",
    "neigh = KNeighborsClassifier(n_neighbors=5)\n",
    "\n",
    "#train the model using the training sets\n",
    "neigh.fit(X_train, y_train)\n",
    "\n",
    "#predict the response for the test dataset\n",
    "y_pred = neigh.predict(X_test)\n",
    "\n",
    "#print predictions\n",
    "print(y_pred)\n",
    "\n",
    "#model accuracy (how often the classifier is correct)\n",
    "print(\"Accuracy:\", metrics.accuracy_score(y_test,y_pred))"
   ]
  },
  {
   "cell_type": "code",
   "execution_count": null,
   "id": "5851f6f4-1fbd-487d-a348-96411817e656",
   "metadata": {},
   "outputs": [],
   "source": [
    "# Create KNN classifier instance\n",
    "neigh = KNeighborsClassifier(n_neighbors=5)\n",
    "\n",
    "# Train the model using the training sets\n",
    "neigh.fit(X_train, y_train)\n",
    "\n",
    "# Predict the response for the test dataset\n",
    "y_pred = neigh.predict(X_test)\n",
    "\n",
    "# Print predictions\n",
    "print(\"Predictions:\", y_pred)\n",
    "\n",
    "# Calculate and print F1 score\n",
    "f1 = metrics.f1_score(y_test, y_pred)\n",
    "print(\"F1 Score:\", f1)"
   ]
  },
  {
   "cell_type": "markdown",
   "id": "f4427ca7-8d35-4f5e-be7a-bb6759c9047f",
   "metadata": {},
   "source": [
    "### SVM"
   ]
  },
  {
   "cell_type": "markdown",
   "id": "cc012a82-360d-447c-8b48-1c48d3ee7ba9",
   "metadata": {},
   "source": [
    "#### SVM Accuracy"
   ]
  },
  {
   "cell_type": "code",
   "execution_count": null,
   "id": "3ec3390b-b028-4d22-b67d-aa7792b31d79",
   "metadata": {},
   "outputs": [],
   "source": [
    "#Create a svm Classifier\n",
    "# kernel: options for kernel include linear, poly, rbf, sigmoid\n",
    "    # linear: use this when data can be split by a linear function\n",
    "    # poly (polynomial): use this when data can be split by a polynomial function\n",
    "    # rbf (radial basis function): use this when there are clusters of one class inside another\n",
    "    # sigmoid: use this when the split between classes is curved and irregular\n",
    "clf = svm.SVC(kernel='linear')\n",
    "\n",
    "#Train the model using the training sets\n",
    "clf.fit(X_train, y_train)\n",
    "\n",
    "#Predict the response for test dataset\n",
    "y_pred = clf.predict(X_test)\n",
    "\n",
    "# print predictions\n",
    "print(\"Predictions:\", y_pred)\n",
    "\n",
    "# print model Accuracy (how often the classifier is correct)\n",
    "print(\"Accuracy:\", metrics.accuracy_score(y_test, y_pred))"
   ]
  },
  {
   "cell_type": "markdown",
   "id": "bcce6e36-a3b5-46b6-8d1e-669d044a787d",
   "metadata": {},
   "source": [
    "#### SVM F1 Scores"
   ]
  },
  {
   "cell_type": "code",
   "execution_count": null,
   "id": "14d28c3d-9822-4ec4-9386-758da72454e0",
   "metadata": {},
   "outputs": [],
   "source": [
    "# Create SVM classifier instance with linear kernel\n",
    "clf = svm.SVC(kernel='linear')\n",
    "\n",
    "# Train the model using the training sets\n",
    "clf.fit(X_train.iloc[:,0:25], y_train)\n",
    "\n",
    "# Predict the response for test dataset\n",
    "y_pred = clf.predict(X_test.iloc[:,0:25])\n",
    "\n",
    "# Print predictions\n",
    "print(\"Predictions:\", y_pred)\n",
    "\n",
    "# Calculate F1 score\n",
    "print(\"F1 Score:\", metrics.f1_score(y_test, y_pred))"
   ]
  },
  {
   "cell_type": "markdown",
   "id": "4a7a8b6e-0799-4830-866a-947db44e0397",
   "metadata": {},
   "source": [
    "#### SVM Experimentation"
   ]
  },
  {
   "cell_type": "code",
   "execution_count": 430,
   "id": "543ce5c8-2f98-4500-928d-c7e03aa630b3",
   "metadata": {},
   "outputs": [
    {
     "name": "stdout",
     "output_type": "stream",
     "text": [
      "F1 Score for 1 dimensions: 0.7058823529411765\n",
      "F1 Score for 2 dimensions: 0.5714285714285714\n",
      "F1 Score for 3 dimensions: 0.75\n",
      "F1 Score for 4 dimensions: 0.75\n",
      "F1 Score for 5 dimensions: 0.7142857142857143\n",
      "F1 Score for 6 dimensions: 0.8750000000000001\n",
      "F1 Score for 7 dimensions: 0.8750000000000001\n",
      "F1 Score for 8 dimensions: 0.8750000000000001\n",
      "F1 Score for 9 dimensions: 0.9411764705882353\n",
      "F1 Score for 10 dimensions: 1.0\n",
      "F1 Score for 11 dimensions: 0.9411764705882353\n",
      "F1 Score for 12 dimensions: 1.0\n",
      "F1 Score for 13 dimensions: 1.0\n",
      "F1 Score for 14 dimensions: 0.9411764705882353\n",
      "F1 Score for 15 dimensions: 0.9411764705882353\n",
      "F1 Score for 16 dimensions: 0.9411764705882353\n",
      "F1 Score for 17 dimensions: 0.9411764705882353\n",
      "F1 Score for 18 dimensions: 0.9411764705882353\n",
      "F1 Score for 19 dimensions: 0.9411764705882353\n",
      "F1 Score for 20 dimensions: 0.9411764705882353\n",
      "F1 Score for 21 dimensions: 0.9411764705882353\n",
      "F1 Score for 22 dimensions: 0.9411764705882353\n",
      "F1 Score for 23 dimensions: 0.9411764705882353\n",
      "F1 Score for 24 dimensions: 0.9411764705882353\n",
      "F1 Score for 25 dimensions: 1.0\n"
     ]
    }
   ],
   "source": [
    "# Initialize an empty list to store F1 scores\n",
    "f1_scores = []\n",
    "\n",
    "# Loop over dimensions from 1 to 25\n",
    "for i in range(1, 26):\n",
    "    # Train the model using the training sets for the first i dimensions\n",
    "    clf.fit(X_train.iloc[:, 0:i], y_train)\n",
    "    \n",
    "    # Predict the response for the test dataset\n",
    "    y_pred = clf.predict(X_test.iloc[:, 0:i])\n",
    "    \n",
    "    # Calculate the F1 score and append it to the list\n",
    "    f1 = metrics.f1_score(y_test, y_pred)\n",
    "    f1_scores.append(f1)\n",
    "\n",
    "# Print F1 scores for each dimension\n",
    "for i, score in enumerate(f1_scores, 1):\n",
    "    print(f\"F1 Score for {i} dimensions: {score}\")"
   ]
  },
  {
   "cell_type": "code",
   "execution_count": 605,
   "id": "2e4f7191-975b-4069-a309-a79efb20e415",
   "metadata": {},
   "outputs": [],
   "source": [
    "# Set a seed for reproducibility\n",
    "np.random.seed(42)\n",
    "\n",
    "# Identify the target column in the dataframe\n",
    "totalrows = df.shape[0]\n",
    "totalcolumns = 35\n",
    "\n",
    "# Sample 500 rows from the DataFrame for consistent labels\n",
    "testing_indices = np.random.permutation(totalrows) - 1\n",
    "sampled_df = df.iloc[testing_indices, :]\n",
    "\n",
    "# Initialize an empty list to store F1 scores\n",
    "f1_scores = []\n",
    "\n",
    "# Initialize the SVM classifier with a linear kernel\n",
    "clf = svm.SVC(kernel='linear')\n",
    "\n",
    "# Maximum iterations allowed for sampling and evaluation\n",
    "max_iterations = 100\n",
    "\n",
    "# Initialize an array to store all F1 scores across iterations and samples\n",
    "allf1scores = np.zeros((totalcolumns, max_iterations))\n",
    "\n",
    "# Iterate over different numbers of sampled columns\n",
    "for i in range(5,totalcolumns):\n",
    "    iterations = 0\n",
    "    # Sample the first 10*(i+1) rows for each iteration\n",
    "    sampled_rows = sampled_df.iloc[0:10 * (i + 1), :]\n",
    "    while iterations < max_iterations:\n",
    "        # Randomly sample (i+1) columns from the first 10*(i+1) rows (excluding the target column)\n",
    "        sampled_columns = sampled_rows.drop(columns=[totalcolumns-1]).sample(n=i+1, axis='columns').columns\n",
    "            \n",
    "        # Split the dataset into training and testing sets using the sampled indices\n",
    "        X_train = sampled_rows[sampled_columns]\n",
    "        y_train = sampled_rows.iloc[:, -1]\n",
    "        # test_index = 10 * (i + 1) + np.ceil(((i+1)/0.7)*0.3).astype(int)\n",
    "        test_index = np.ceil((10 * (i+1)) / 0.7).astype(int)\n",
    "        X_test = sampled_df.iloc[10 * (i + 1):test_index, sampled_columns]\n",
    "        y_test = sampled_df.iloc[10 * (i + 1):test_index, -1]\n",
    "        # print(X_train.shape[0]/(X_train.shape[0] + X_test.shape[0]))\n",
    "        \n",
    "        # Train the SVM classifier using the training sets for the sampled columns\n",
    "        clf.fit(X_train, y_train)\n",
    "        \n",
    "        # Predict the response for the test dataset\n",
    "        y_pred = clf.predict(X_test)\n",
    "        \n",
    "        # Calculate the F1 score and store it in the allf1scores matrix\n",
    "        f1 = metrics.f1_score(y_test, y_pred)\n",
    "        allf1scores[i, iterations] = f1\n",
    "\n",
    "        if i == 11 and iterations == 30:\n",
    "            saved_X_train = X_train.copy()\n",
    "            saved_y_train = y_train.copy()\n",
    "            saved_X_test = X_test.copy()\n",
    "            saved_y_test = y_test.copy()\n",
    "        \n",
    "        # Increment the iterations counter\n",
    "        iterations += 1"
   ]
  },
  {
   "cell_type": "code",
   "execution_count": 607,
   "id": "63ac4113-9eb0-4128-983b-49abd236b24c",
   "metadata": {},
   "outputs": [
    {
     "name": "stdout",
     "output_type": "stream",
     "text": [
      "<class 'pandas.core.frame.DataFrame'>\n",
      "Index: 120 entries, 360 to 41\n",
      "Data columns (total 12 columns):\n",
      " #   Column  Non-Null Count  Dtype  \n",
      "---  ------  --------------  -----  \n",
      " 0   112     120 non-null    float64\n",
      " 1   55      120 non-null    float64\n",
      " 2   139     120 non-null    float64\n",
      " 3   101     120 non-null    float64\n",
      " 4   63      120 non-null    float64\n",
      " 5   17      120 non-null    float64\n",
      " 6   129     120 non-null    float64\n",
      " 7   125     120 non-null    float64\n",
      " 8   73      120 non-null    float64\n",
      " 9   8       120 non-null    float64\n",
      " 10  80      120 non-null    float64\n",
      " 11  31      120 non-null    float64\n",
      "dtypes: float64(12)\n",
      "memory usage: 12.2 KB\n",
      "None\n",
      "Randomly selected columns: [139, 8, 31, 112]\n",
      "112    category\n",
      "55      float64\n",
      "139    category\n",
      "101     float64\n",
      "63      float64\n",
      "17      float64\n",
      "129     float64\n",
      "125     float64\n",
      "73      float64\n",
      "8      category\n",
      "80      float64\n",
      "31     category\n",
      "dtype: object\n"
     ]
    }
   ],
   "source": [
    "# Select 4 random columns\n",
    "print(saved_X_train.info())\n",
    "random_columns = random.sample(list(saved_X_train.columns), 4)\n",
    "print(\"Randomly selected columns:\", random_columns)\n",
    "cat_X_train = saved_X_train.copy()\n",
    "\n",
    "# Process the randomly selected columns\n",
    "for col in random_columns:\n",
    "    cat_X_train[col] = saved_X_train[col].round().astype(int).astype(\"category\")\n",
    "    \n",
    "print(cat_X_train.dtypes)"
   ]
  },
  {
   "cell_type": "code",
   "execution_count": 609,
   "id": "e37e600e-22a4-4cfa-8b17-7d9ee70f7209",
   "metadata": {},
   "outputs": [
    {
     "name": "stdout",
     "output_type": "stream",
     "text": [
      "112    category\n",
      "55      float64\n",
      "139    category\n",
      "101     float64\n",
      "63      float64\n",
      "17      float64\n",
      "129     float64\n",
      "125     float64\n",
      "73      float64\n",
      "8      category\n",
      "80      float64\n",
      "31     category\n",
      "dtype: object\n"
     ]
    }
   ],
   "source": [
    "cat_X_test = saved_X_test.copy()\n",
    "\n",
    "# Process the randomly selected columns\n",
    "for col in random_columns:\n",
    "    cat_X_test[col] = saved_X_test[col].round().astype(int).astype(\"category\")\n",
    "    \n",
    "print(cat_X_test.dtypes)"
   ]
  },
  {
   "cell_type": "code",
   "execution_count": 613,
   "id": "e5cc0933-a68f-4977-9063-6940588eadb3",
   "metadata": {},
   "outputs": [
    {
     "name": "stdout",
     "output_type": "stream",
     "text": [
      "0.8076923076923077\n",
      "(52, 12)\n",
      "(120, 12)\n"
     ]
    }
   ],
   "source": [
    "clf.fit(cat_X_train, saved_y_train)\n",
    "y_pred = clf.predict(cat_X_test)\n",
    "f1 = metrics.f1_score(saved_y_test, y_pred)\n",
    "print(f1)\n",
    "print(cat_X_test.shape)\n",
    "print(cat_X_train.shape)"
   ]
  },
  {
   "cell_type": "code",
   "execution_count": 518,
   "id": "0ef5d597-d05c-41c1-84d8-c50902049bf6",
   "metadata": {},
   "outputs": [
    {
     "data": {
      "image/png": "[encoded data removed]",
      "text/plain": [
       "<Figure size 1000x600 with 1 Axes>"
      ]
     },
     "metadata": {},
     "output_type": "display_data"
    }
   ],
   "source": [
    "# Plotting the F1 scores across iterations\n",
    "plt.figure(figsize=(10, 6))\n",
    "plt.plot(range(5, totalcolumns+1), np.min(allf1scores[4:,:], axis=1), marker='o', linestyle='-', color='b', label='F1 Score')\n",
    "plt.title('F1 Scores Across Iterations')\n",
    "plt.xlabel('Number of Columns')\n",
    "plt.ylabel('Average F1 Score')\n",
    "plt.xticks(range(1, 37))\n",
    "plt.grid(True)\n",
    "plt.legend()\n",
    "plt.tight_layout()\n",
    "plt.show()"
   ]
  }
 ],
 "metadata": {
  "kernelspec": {
   "display_name": "Python 3 (ipykernel)",
   "language": "python",
   "name": "python3"
  },
  "language_info": {
   "codemirror_mode": {
    "name": "ipython",
    "version": 3
   },
   "file_extension": ".py",
   "mimetype": "text/x-python",
   "name": "python",
   "nbconvert_exporter": "python",
   "pygments_lexer": "ipython3",
   "version": "3.11.7"
  }
 },
 "nbformat": 4,
 "nbformat_minor": 5
}
