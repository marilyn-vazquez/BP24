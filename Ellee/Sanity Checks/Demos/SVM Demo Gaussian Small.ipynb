{
 "cells": [
  {
   "cell_type": "markdown",
   "id": "d54f7a37-5ed9-4013-94ba-cfdc92a98f5c",
   "metadata": {},
   "source": [
    "### Import Packages"
   ]
  },
  {
   "cell_type": "code",
   "execution_count": 184,
   "id": "ca3a82bb-e23b-4eda-aaf0-1442a24e0f7e",
   "metadata": {},
   "outputs": [],
   "source": [
    "from sklearn import svm, metrics\n",
    "import numpy as np\n",
    "import pandas as pd\n",
    "import matplotlib.pyplot as plt\n",
    "from sklearn.svm import SVC\n",
    "import random"
   ]
  },
  {
   "cell_type": "markdown",
   "id": "4710f509-ab98-4294-a98c-64c87583ae48",
   "metadata": {},
   "source": [
    "### Load Dataset"
   ]
  },
  {
   "cell_type": "code",
   "execution_count": 210,
   "id": "e97c0eeb-a502-46f3-9c92-26af913b3fa3",
   "metadata": {},
   "outputs": [
    {
     "name": "stdout",
     "output_type": "stream",
     "text": [
      "          0         1         2         3         4         5         6    \\\n",
      "0    5.444140  3.835115  3.291091  5.501369  3.428899  4.922020  6.679717   \n",
      "1    4.751552  7.292662  5.983595  6.379493  5.236658  5.765614  5.973641   \n",
      "2    6.271994  6.196881  6.260575  5.059051  7.156964  5.242397  5.938668   \n",
      "3    4.175813  3.704364  3.481604  4.074979  4.708090  5.923180  3.811577   \n",
      "4    5.471645  5.372742  6.487397  5.160722  6.983509  5.484562  8.489674   \n",
      "..        ...       ...       ...       ...       ...       ...       ...   \n",
      "495  6.515782  6.464166  5.501283  6.732302  5.269133  6.618181  5.884162   \n",
      "496  7.336528  6.595669  5.312352  6.044823  5.116878  5.240449  4.876616   \n",
      "497  6.907411  7.031573  5.392985  6.665723  6.002096  5.260769  5.739866   \n",
      "498  3.362284  4.530481  6.174449  3.252904  3.639634  5.220902  4.486876   \n",
      "499  5.543395  8.342256  7.318517  6.244895  5.622331  5.563644  5.385929   \n",
      "\n",
      "          7         8         9    ...       141       142       143  \\\n",
      "0    4.207196  5.551717  4.834592  ...  5.827100  5.536030  5.505949   \n",
      "1    4.951007  4.739128  5.221459  ...  6.917924  6.177616  3.985334   \n",
      "2    6.792579  5.949605  4.961027  ...  5.436174  5.076978  5.613830   \n",
      "3    5.946279  5.894935  4.305289  ...  3.936844  4.982322  5.583355   \n",
      "4    6.386151  5.103722  6.382228  ...  5.699915  4.489785  4.401668   \n",
      "..        ...       ...       ...  ...       ...       ...       ...   \n",
      "495  6.291273  5.152482  6.925017  ...  6.886486  5.695266  5.777641   \n",
      "496  5.700538  4.837792  6.138116  ...  7.304246  6.673673  4.151986   \n",
      "497  4.133471  4.589181  6.431894  ...  5.243043  6.964126  7.058684   \n",
      "498  6.243542  4.079148  5.855083  ...  5.186256  5.835086  5.378599   \n",
      "499  6.324223  7.605392  4.994740  ...  6.239590  4.754933  6.420867   \n",
      "\n",
      "          144       145       146       147       148       149  150  \n",
      "0    3.871041  4.820020  6.893534  4.675085  6.774422  4.013287  1.0  \n",
      "1    7.088912  6.713774  6.083684  3.632900  4.680444  3.866624  1.0  \n",
      "2    4.757041  7.940103  5.800670  6.505194  5.033843  8.216384  0.0  \n",
      "3    3.444634  5.448884  5.031922  5.339520  4.730453  5.299622  1.0  \n",
      "4    5.614796  6.298538  6.293809  5.578622  6.118113  7.776001  0.0  \n",
      "..        ...       ...       ...       ...       ...       ...  ...  \n",
      "495  5.835360  5.969851  7.678365  4.980105  7.077408  5.262314  0.0  \n",
      "496  6.106000  6.230404  5.158468  4.306041  3.690511  3.745372  1.0  \n",
      "497  5.818994  5.077911  6.618537  6.695898  6.327442  5.909636  0.0  \n",
      "498  4.045284  5.109945  5.074592  4.079903  5.009101  5.579137  1.0  \n",
      "499  5.884446  5.934727  6.168030  5.605300  6.342360  4.432329  0.0  \n",
      "\n",
      "[500 rows x 151 columns]\n"
     ]
    }
   ],
   "source": [
    "# Import Gaussian Small Dataset\n",
    "data = np.loadtxt('/Users/elleemortensen/Documents/GitHub/BP24/Ellee/Data/gaussian_small_d_1.tex')\n",
    "array = np.array(data)\n",
    "df = pd.DataFrame(array)"
   ]
  },
  {
   "cell_type": "markdown",
   "id": "12375348-aa4c-451d-a885-8f1b96dad1cc",
   "metadata": {},
   "source": [
    "### Set-Up and Iterations"
   ]
  },
  {
   "cell_type": "code",
   "execution_count": 188,
   "id": "b6064014-47dd-4d68-b5a2-5f087f022fad",
   "metadata": {},
   "outputs": [],
   "source": [
    "# Set a seed for reproducibility\n",
    "np.random.seed(42)\n",
    "\n",
    "# Assume df is your DataFrame\n",
    "totalrows = df.shape[0]\n",
    "totalcolumns = 35\n",
    "\n",
    "# Sample 500 rows from the DataFrame for consistent labels\n",
    "testing_indices = np.random.permutation(totalrows)-1\n",
    "sampled_df = df.iloc[testing_indices, :]\n",
    "\n",
    "# Initialize an empty list to store F1 scores\n",
    "f1_scores = []\n",
    "\n",
    "# Initialize the SVM classifier with a linear kernel\n",
    "clf = svm.SVC(kernel='linear')\n",
    "\n",
    "# Maximum iterations allowed for sampling and evaluation\n",
    "max_iterations = 100\n",
    "\n",
    "# Initialize an array to store all F1 scores across iterations and samples\n",
    "allf1scores = np.zeros((totalcolumns, max_iterations))\n",
    "\n",
    "# Iterate over different numbers of sampled columns\n",
    "for i in range(5, totalcolumns):\n",
    "    iterations = 0\n",
    "    # Sample the first 10*(i+1) rows for each iteration\n",
    "    sampled_rows = sampled_df.iloc[:10 * (i + 1), :]\n",
    "    while iterations < max_iterations:\n",
    "        # Randomly sample (i+1) columns from the first 10*(i+1) rows (excluding the target column)\n",
    "        sampled_columns = sampled_rows.drop(columns=[totalcolumns - 1]).sample(n=i + 1, axis='columns').columns\n",
    "        \n",
    "        # Split the dataset into training and testing sets using the sampled indices\n",
    "        X_train = sampled_rows[sampled_columns]\n",
    "        y_train = sampled_rows.iloc[:, -1]\n",
    "        \n",
    "        # Determine the test index\n",
    "        test_index = np.ceil((10 * (i+1)) / 0.7).astype(int)\n",
    "        X_test = sampled_df.iloc[10 * (i + 1):test_index, sampled_columns]\n",
    "        y_test = sampled_df.iloc[10 * (i + 1):test_index, -1]\n",
    "        \n",
    "        # Train the SVM classifier using the training sets for the sampled columns\n",
    "        clf.fit(X_train, y_train)\n",
    "        \n",
    "        # Predict the response for the test dataset\n",
    "        y_pred = clf.predict(X_test)\n",
    "        \n",
    "        # Calculate the F1 score and store it in the allf1scores matrix\n",
    "        f1 = metrics.f1_score(y_test, y_pred)\n",
    "        allf1scores[i, iterations] = f1\n",
    "\n",
    "        # Save the training and testing data at a specific condition for further analysis\n",
    "        if i == 11 and iterations == 30:\n",
    "            saved_X_train = X_train.copy()\n",
    "            saved_y_train = y_train.copy()\n",
    "            saved_X_test = X_test.copy()\n",
    "            saved_y_test = y_test.copy()\n",
    "        \n",
    "        # Increment the iterations counter\n",
    "        iterations += 1"
   ]
  },
  {
   "cell_type": "code",
   "execution_count": 218,
   "id": "2afcadd0-91f5-47c9-9c0c-d2259b1bf68e",
   "metadata": {},
   "outputs": [
    {
     "name": "stdout",
     "output_type": "stream",
     "text": [
      "(172, 12)\n",
      "(172, 1)\n",
      "(172, 13)\n",
      "(172, 13)\n"
     ]
    }
   ],
   "source": [
    "stacked_x = np.vstack((cat_X_train, cat_X_test))\n",
    "stacked_y = np.vstack((np.array(saved_y_train)[:,np.newaxis], np.array(saved_y_test)[:,np.newaxis]))\n",
    "\n",
    "print(stacked_x.shape)\n",
    "print(stacked_y.shape)\n",
    "print(stacked_all.shape)\n",
    "\n",
    "stacked_all = np.hstack((stacked_x, stacked_y))\n",
    "print(stacked_all.shape)"
   ]
  },
  {
   "cell_type": "code",
   "execution_count": 190,
   "id": "bc733a3f-8f38-4eb4-8e5f-a02b13843b02",
   "metadata": {},
   "outputs": [
    {
     "name": "stdout",
     "output_type": "stream",
     "text": [
      "Randomly selected columns: [101, 125, 8, 139]\n",
      "112     float64\n",
      "55      float64\n",
      "139    category\n",
      "101    category\n",
      "63      float64\n",
      "17      float64\n",
      "129     float64\n",
      "125    category\n",
      "73      float64\n",
      "8      category\n",
      "80      float64\n",
      "31      float64\n",
      "dtype: object\n"
     ]
    }
   ],
   "source": [
    "# Select 4 random columns\n",
    "random_columns = [101, 125, 8, 139]\n",
    "print(\"Randomly selected columns:\", random_columns)\n",
    "\n",
    "# Create a copy of the saved_X_train variable\n",
    "cat_X_train = saved_X_train.copy()\n",
    "\n",
    "# Process the randomly selected columns into categorical\n",
    "for col in random_columns:\n",
    "    cat_X_train[col] = saved_X_train[col].round().astype(int).astype(\"category\")\n",
    "\n",
    "# Check if 4 columns were converted to categorical\n",
    "print(cat_X_train.dtypes)"
   ]
  },
  {
   "cell_type": "code",
   "execution_count": 232,
   "id": "75cab11a-9e0d-4f2c-b0e9-74676266bd1a",
   "metadata": {},
   "outputs": [
    {
     "name": "stdout",
     "output_type": "stream",
     "text": [
      "112     float64\n",
      "55      float64\n",
      "139    category\n",
      "101    category\n",
      "63      float64\n",
      "17      float64\n",
      "129     float64\n",
      "125    category\n",
      "73      float64\n",
      "8      category\n",
      "80      float64\n",
      "31      float64\n",
      "dtype: object\n",
      "(172, 13)\n"
     ]
    }
   ],
   "source": [
    "# Create a copy of the saved_X_test variable\n",
    "cat_X_test = saved_X_test.copy()\n",
    "\n",
    "# Process the randomly selected columns\n",
    "for col in random_columns:\n",
    "    cat_X_test[col] = saved_X_test[col].round().astype(int).astype(\"category\")\n",
    "\n",
    "# Check if 4 columns were coverted to categorical\n",
    "print(cat_X_test.dtypes)\n",
    "#np.savetxt('gaussmall.csv', stacked_all, delimiter=',')\n",
    "print(stacked_all.shape)"
   ]
  },
  {
   "cell_type": "code",
   "execution_count": 228,
   "id": "f99051a7-56a4-4cc0-937a-5c3d6f244da4",
   "metadata": {},
   "outputs": [
    {
     "name": "stdout",
     "output_type": "stream",
     "text": [
      "0.823529411764706\n",
      "(120, 12)\n",
      "(52, 12)\n",
      "360    0.0\n",
      "72     0.0\n",
      "373    0.0\n",
      "154    1.0\n",
      "103    0.0\n",
      "      ... \n",
      "280    0.0\n",
      "246    0.0\n",
      "236    0.0\n",
      "116    0.0\n",
      "41     0.0\n",
      "Name: 150, Length: 120, dtype: float64\n",
      "219    1.0\n",
      "175    0.0\n",
      "319    0.0\n",
      "152    1.0\n",
      "230    1.0\n",
      "226    1.0\n",
      "416    0.0\n",
      "202    1.0\n",
      "125    0.0\n",
      "328    0.0\n",
      "30     1.0\n",
      "112    0.0\n",
      "469    1.0\n",
      "270    0.0\n",
      "139    0.0\n",
      "56     1.0\n",
      "191    0.0\n",
      "23     1.0\n",
      "16     1.0\n",
      "264    1.0\n",
      "65     1.0\n",
      "207    0.0\n",
      "478    0.0\n",
      "93     1.0\n",
      "252    0.0\n",
      "265    0.0\n",
      "22     1.0\n",
      "221    0.0\n",
      "260    1.0\n",
      "425    1.0\n",
      "4      0.0\n",
      "115    1.0\n",
      "44     0.0\n",
      "15     1.0\n",
      "461    1.0\n",
      "356    0.0\n",
      "2      0.0\n",
      "217    1.0\n",
      "404    1.0\n",
      "59     0.0\n",
      "109    1.0\n",
      "317    0.0\n",
      "427    0.0\n",
      "28     1.0\n",
      "436    0.0\n",
      "470    1.0\n",
      "25     1.0\n",
      "6      0.0\n",
      "452    0.0\n",
      "107    1.0\n",
      "36     0.0\n",
      "156    1.0\n",
      "Name: 150, dtype: float64\n"
     ]
    }
   ],
   "source": [
    "# Fit the SVM classifier using the training data with categorical features\n",
    "clf.fit(cat_X_train, saved_y_train)\n",
    "\n",
    "# Predict the response for the test dataset\n",
    "y_pred = clf.predict(cat_X_test)\n",
    "\n",
    "# Calculate the F1 score for the predictions\n",
    "f1 = metrics.f1_score(saved_y_test, y_pred)\n",
    "\n",
    "# Find the F1 score and check the shapes of the datasets\n",
    "print(f1)\n",
    "print(cat_X_train.shape)\n",
    "print(cat_X_test.shape)\n",
    "print(saved_y_train)\n",
    "print(saved_y_test)"
   ]
  },
  {
   "cell_type": "code",
   "execution_count": 194,
   "id": "59bde3ac-4e60-443a-9746-0723c56fada2",
   "metadata": {},
   "outputs": [
    {
     "data": {
      "image/png": "[encoded data removed]",
      "text/plain": [
       "<Figure size 1000x600 with 1 Axes>"
      ]
     },
     "metadata": {},
     "output_type": "display_data"
    }
   ],
   "source": [
    "# Plotting the F1 scores across iterations\n",
    "plt.figure(figsize=(10, 6))\n",
    "plt.plot(range(5, totalcolumns+1), np.min(allf1scores[4:,:], axis=1), marker='o', linestyle='-', color='b', label='F1 Score')\n",
    "plt.title('F1 Scores Across Iterations')\n",
    "plt.xlabel('Number of Columns')\n",
    "plt.ylabel('Average F1 Score')\n",
    "plt.xticks(range(1, 37))\n",
    "plt.grid(True)\n",
    "plt.legend()\n",
    "plt.tight_layout()\n",
    "plt.show()"
   ]
  }
 ],
 "metadata": {
  "kernelspec": {
   "display_name": "Python 3 (ipykernel)",
   "language": "python",
   "name": "python3"
  },
  "language_info": {
   "codemirror_mode": {
    "name": "ipython",
    "version": 3
   },
   "file_extension": ".py",
   "mimetype": "text/x-python",
   "name": "python",
   "nbconvert_exporter": "python",
   "pygments_lexer": "ipython3",
   "version": "3.11.7"
  }
 },
 "nbformat": 4,
 "nbformat_minor": 5
}
