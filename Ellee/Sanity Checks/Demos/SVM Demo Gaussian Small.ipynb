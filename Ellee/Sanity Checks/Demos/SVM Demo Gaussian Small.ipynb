{
 "cells": [
  {
   "cell_type": "markdown",
   "id": "d54f7a37-5ed9-4013-94ba-cfdc92a98f5c",
   "metadata": {},
   "source": [
    "### Import Packages"
   ]
  },
  {
   "cell_type": "code",
   "execution_count": null,
   "id": "ca3a82bb-e23b-4eda-aaf0-1442a24e0f7e",
   "metadata": {},
   "outputs": [],
   "source": [
    "from sklearn import svm, metrics\n",
    "import numpy as np\n",
    "import pandas as pd\n",
    "import matplotlib.pyplot as plt\n",
    "from sklearn.svm import SVC\n",
    "import random"
   ]
  },
  {
   "cell_type": "markdown",
   "id": "4710f509-ab98-4294-a98c-64c87583ae48",
   "metadata": {},
   "source": [
    "### Load Dataset"
   ]
  },
  {
   "cell_type": "code",
   "execution_count": null,
   "id": "e97c0eeb-a502-46f3-9c92-26af913b3fa3",
   "metadata": {},
   "outputs": [],
   "source": [
    "# Import Gaussian Small Dataset\n",
    "data = np.loadtxt('/Users/elleemortensen/Documents/GitHub/BP24/Ellee/Data/gaussian_small_d_1.tex')\n",
    "array = np.array(data)\n",
    "df = pd.DataFrame(array)"
   ]
  },
  {
   "cell_type": "markdown",
   "id": "12375348-aa4c-451d-a885-8f1b96dad1cc",
   "metadata": {},
   "source": [
    "### Set-Up and Iterations"
   ]
  },
  {
   "cell_type": "code",
   "execution_count": null,
   "id": "b6064014-47dd-4d68-b5a2-5f087f022fad",
   "metadata": {},
   "outputs": [],
   "source": [
    "# Set a seed for reproducibility\n",
    "np.random.seed(42)\n",
    "\n",
    "# Assume df is your DataFrame\n",
    "totalrows = df.shape[0]\n",
    "totalcolumns = 35\n",
    "\n",
    "# Sample 500 rows from the DataFrame for consistent labels\n",
    "testing_indices = np.random.permutation(totalrows)-1\n",
    "sampled_df = df.iloc[testing_indices, :]\n",
    "\n",
    "# Initialize an empty list to store F1 scores\n",
    "f1_scores = []\n",
    "\n",
    "# Initialize the SVM classifier with a linear kernel\n",
    "clf = svm.SVC(kernel='linear')\n",
    "\n",
    "# Maximum iterations allowed for sampling and evaluation\n",
    "max_iterations = 100\n",
    "\n",
    "# Initialize an array to store all F1 scores across iterations and samples\n",
    "allf1scores = np.zeros((totalcolumns, max_iterations))\n",
    "\n",
    "# Iterate over different numbers of sampled columns\n",
    "for i in range(5, totalcolumns):\n",
    "    iterations = 0\n",
    "    # Sample the first 10*(i+1) rows for each iteration\n",
    "    sampled_rows = sampled_df.iloc[:10 * (i + 1), :]\n",
    "    while iterations < max_iterations:\n",
    "        # Randomly sample (i+1) columns from the first 10*(i+1) rows (excluding the target column)\n",
    "        sampled_columns = sampled_rows.drop(columns=[totalcolumns - 1]).sample(n=i + 1, axis='columns').columns\n",
    "        \n",
    "        # Split the dataset into training and testing sets using the sampled indices\n",
    "        X_train = sampled_rows[sampled_columns]\n",
    "        y_train = sampled_rows.iloc[:, -1]\n",
    "        \n",
    "        # Determine the test index\n",
    "        test_index = np.ceil((10 * (i+1)) / 0.7).astype(int)\n",
    "        X_test = sampled_df.iloc[10 * (i + 1):test_index, sampled_columns]\n",
    "        y_test = sampled_df.iloc[10 * (i + 1):test_index, -1]\n",
    "        \n",
    "        # Train the SVM classifier using the training sets for the sampled columns\n",
    "        clf.fit(X_train, y_train)\n",
    "        \n",
    "        # Predict the response for the test dataset\n",
    "        y_pred = clf.predict(X_test)\n",
    "        \n",
    "        # Calculate the F1 score and store it in the allf1scores matrix\n",
    "        f1 = metrics.f1_score(y_test, y_pred)\n",
    "        allf1scores[i, iterations] = f1\n",
    "\n",
    "        # Save the training and testing data at a specific condition for further analysis\n",
    "        if i == 11 and iterations == 30:\n",
    "            saved_X_train = X_train.copy()\n",
    "            saved_y_train = y_train.copy()\n",
    "            saved_X_test = X_test.copy()\n",
    "            saved_y_test = y_test.copy()\n",
    "        \n",
    "        # Increment the iterations counter\n",
    "        iterations += 1"
   ]
  },
  {
   "cell_type": "code",
   "execution_count": null,
   "id": "2afcadd0-91f5-47c9-9c0c-d2259b1bf68e",
   "metadata": {},
   "outputs": [],
   "source": [
    "stacked_x = np.vstack((cat_X_train, cat_X_test))\n",
    "stacked_y = np.vstack((np.array(saved_y_train)[:,np.newaxis], np.array(saved_y_test)[:,np.newaxis]))\n",
    "\n",
    "print(stacked_x.shape)\n",
    "print(stacked_y.shape)\n",
    "print(stacked_all.shape)\n",
    "\n",
    "stacked_all = np.hstack((stacked_x, stacked_y))\n",
    "print(stacked_all.shape)"
   ]
  },
  {
   "cell_type": "code",
   "execution_count": null,
   "id": "bc733a3f-8f38-4eb4-8e5f-a02b13843b02",
   "metadata": {},
   "outputs": [],
   "source": [
    "# Select 4 random columns\n",
    "random_columns = [101, 125, 8, 139]\n",
    "print(\"Randomly selected columns:\", random_columns)\n",
    "\n",
    "# Create a copy of the saved_X_train variable\n",
    "cat_X_train = saved_X_train.copy()\n",
    "\n",
    "# Process the randomly selected columns into categorical\n",
    "for col in random_columns:\n",
    "    cat_X_train[col] = saved_X_train[col].round().astype(int).astype(\"category\")\n",
    "\n",
    "# Check if 4 columns were converted to categorical\n",
    "print(cat_X_train.dtypes)"
   ]
  },
  {
   "cell_type": "code",
   "execution_count": null,
   "id": "75cab11a-9e0d-4f2c-b0e9-74676266bd1a",
   "metadata": {},
   "outputs": [],
   "source": [
    "# Create a copy of the saved_X_test variable\n",
    "cat_X_test = saved_X_test.copy()\n",
    "\n",
    "# Process the randomly selected columns\n",
    "for col in random_columns:\n",
    "    cat_X_test[col] = saved_X_test[col].round().astype(int).astype(\"category\")\n",
    "\n",
    "# Check if 4 columns were converted to categorical\n",
    "print(cat_X_test.dtypes)\n",
    "#np.savetxt('gaussmall.csv', stacked_all, delimiter=',')\n",
    "print(stacked_all.shape)"
   ]
  },
  {
   "cell_type": "code",
   "execution_count": null,
   "id": "f99051a7-56a4-4cc0-937a-5c3d6f244da4",
   "metadata": {},
   "outputs": [],
   "source": [
    "# Fit the SVM classifier using the training data with categorical features\n",
    "clf.fit(cat_X_train, saved_y_train)\n",
    "\n",
    "# Predict the response for the test dataset\n",
    "y_pred = clf.predict(cat_X_test)\n",
    "\n",
    "# Calculate the F1 score for the predictions\n",
    "f1 = metrics.f1_score(saved_y_test, y_pred)\n",
    "\n",
    "# Find the F1 score and check the shapes of the datasets\n",
    "print(f1)\n",
    "print(cat_X_train.shape)\n",
    "print(cat_X_test.shape)\n",
    "print(saved_y_train)\n",
    "print(saved_y_test)"
   ]
  },
  {
   "cell_type": "code",
   "execution_count": null,
   "id": "59bde3ac-4e60-443a-9746-0723c56fada2",
   "metadata": {},
   "outputs": [],
   "source": [
    "# Plotting the F1 scores across iterations\n",
    "plt.figure(figsize=(10, 6))\n",
    "plt.plot(range(5, totalcolumns+1), np.min(allf1scores[4:,:], axis=1), marker='o', linestyle='-', color='b', label='F1 Score')\n",
    "plt.title('F1 Scores Across Iterations')\n",
    "plt.xlabel('Number of Columns')\n",
    "plt.ylabel('Average F1 Score')\n",
    "plt.xticks(range(1, 37))\n",
    "plt.grid(True)\n",
    "plt.legend()\n",
    "plt.tight_layout()\n",
    "plt.show()"
   ]
  }
 ],
 "metadata": {
  "kernelspec": {
   "display_name": "Python 3 (ipykernel)",
   "language": "python",
   "name": "python3"
  },
  "language_info": {
   "codemirror_mode": {
    "name": "ipython",
    "version": 3
   },
   "file_extension": ".py",
   "mimetype": "text/x-python",
   "name": "python",
   "nbconvert_exporter": "python",
   "pygments_lexer": "ipython3",
   "version": "3.11.7"
  }
 },
 "nbformat": 4,
 "nbformat_minor": 5
}
