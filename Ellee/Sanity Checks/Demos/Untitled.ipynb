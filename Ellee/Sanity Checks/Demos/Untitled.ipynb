{
 "cells": [
  {
   "cell_type": "code",
   "execution_count": 10,
   "id": "ef3b10da-b3b7-4bf2-a3d8-ca609a24bff7",
   "metadata": {},
   "outputs": [],
   "source": [
    "import pandas as pd\n",
    "from sklearn import svm, metrics\n",
    "df = pd.read_csv(\"/Users/elleemortensen/Documents/GitHub/BP24/Ellee/Data/Stacked/stacked_orig.csv\", header=None)"
   ]
  },
  {
   "cell_type": "code",
   "execution_count": 20,
   "id": "610f5722-8ba7-46c1-ab94-bf0b4e0f39a8",
   "metadata": {},
   "outputs": [
    {
     "data": {
      "text/plain": [
       "((168, 24), (72, 24))"
      ]
     },
     "execution_count": 20,
     "metadata": {},
     "output_type": "execute_result"
    }
   ],
   "source": [
    "X_train = df.iloc[:168,:-1]\n",
    "X_test = df.iloc[168:,:-1]\n",
    "y_train = df.iloc[:168,-1]\n",
    "y_test = df.iloc[168:,-1]"
   ]
  },
  {
   "cell_type": "code",
   "execution_count": 22,
   "id": "cf8395aa-e980-478b-9aa8-4e3b1340f05e",
   "metadata": {},
   "outputs": [
    {
     "name": "stdout",
     "output_type": "stream",
     "text": [
      "Predictions: [0. 0. 0. 0. 0. 1. 0. 0. 0. 1. 0. 1. 0. 1. 0. 0. 1. 0. 1. 1. 1. 0. 1. 0.\n",
      " 1. 0. 1. 1. 0. 1. 0. 1. 0. 1. 0. 0. 0. 0. 0. 1. 1. 0. 0. 0. 1. 0. 0. 0.\n",
      " 0. 0. 0. 1. 1. 1. 1. 1. 0. 1. 1. 1. 0. 1. 1. 0. 0. 0. 0. 0. 0. 1. 0. 0.]\n",
      "F1 Score: 0.8181818181818181\n"
     ]
    }
   ],
   "source": [
    "# Create SVM classifier instance with linear kernel\n",
    "clf = svm.SVC(kernel='linear', random_state = 42)\n",
    "\n",
    "# Train the model using the training sets\n",
    "clf.fit(X_train.iloc[:,0:], y_train)\n",
    "\n",
    "# Predict the response for test dataset\n",
    "y_pred = clf.predict(X_test.iloc[:,0:])\n",
    "\n",
    "# Print predictions\n",
    "print(\"Predictions:\", y_pred)\n",
    "\n",
    "# Calculate F1 score\n",
    "print(\"F1 Score:\", metrics.f1_score(y_test, y_pred))"
   ]
  },
  {
   "cell_type": "code",
   "execution_count": null,
   "id": "b034ef16-4db5-4ad8-a50b-450338d2c552",
   "metadata": {},
   "outputs": [],
   "source": []
  }
 ],
 "metadata": {
  "kernelspec": {
   "display_name": "Python 3 (ipykernel)",
   "language": "python",
   "name": "python3"
  },
  "language_info": {
   "codemirror_mode": {
    "name": "ipython",
    "version": 3
   },
   "file_extension": ".py",
   "mimetype": "text/x-python",
   "name": "python",
   "nbconvert_exporter": "python",
   "pygments_lexer": "ipython3",
   "version": "3.11.7"
  }
 },
 "nbformat": 4,
 "nbformat_minor": 5
}
