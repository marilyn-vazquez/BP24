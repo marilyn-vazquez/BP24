{
 "cells": [
  {
   "cell_type": "code",
   "execution_count": 72,
   "id": "7372dbd6-d94d-45eb-b9f0-c13c659ff38a",
   "metadata": {},
   "outputs": [],
   "source": [
    "from sklearn import svm, metrics\n",
    "import pandas as pd"
   ]
  },
  {
   "cell_type": "code",
   "execution_count": 74,
   "id": "96e2c646-b30e-4530-b7cd-a16b200534f1",
   "metadata": {},
   "outputs": [],
   "source": [
    "df_orig = pd.read_csv(\"/Users/elleemortensen/Documents/GitHub/BP24/Ellee/Data/Gaussian/gaussian_orig.csv\", header=None)\n",
    "df_aug = pd.read_csv(\"/Users/elleemortensen/Documents/GitHub/BP24/Fabiana/Data/HAT (synthetic datasets)/gaussian_HAT.csv\", header=None)\n",
    "df = pd.concat([df_orig, df_aug], axis=0, ignore_index=True)"
   ]
  },
  {
   "cell_type": "code",
   "execution_count": 75,
   "id": "0f743650-d139-4522-a436-1c07056af688",
   "metadata": {},
   "outputs": [],
   "source": [
    "X_train = df.iloc[:240,:-1]\n",
    "X_test = df.iloc[240:,:-1]\n",
    "y_train = df.iloc[:240,-1]\n",
    "y_test = df.iloc[240:,-1]"
   ]
  },
  {
   "cell_type": "code",
   "execution_count": 76,
   "id": "fde76800-d103-478a-9943-6512f9590961",
   "metadata": {},
   "outputs": [],
   "source": [
    "random_columns = [2,3,7,9]\n",
    "\n",
    "# Create a copy of the saved_X_train variable\n",
    "cat_X_train = X_train.copy()\n",
    "\n",
    "# Process the randomly selected columns into categorical\n",
    "for col in random_columns:\n",
    "    cat_X_train[col] = X_train[col].round().astype(int)"
   ]
  },
  {
   "cell_type": "code",
   "execution_count": 77,
   "id": "d2658546-f494-442e-b656-797a3aa02299",
   "metadata": {},
   "outputs": [
    {
     "name": "stdout",
     "output_type": "stream",
     "text": [
      "Predictions: [0. 1. 0. 1. 1. 1. 1. 1. 1. 0. 1. 0. 0. 0. 0. 1. 0. 1. 1. 1. 1. 0. 1. 0.\n",
      " 1. 0. 1. 1. 1. 0. 1. 0. 0. 1. 1. 0. 1. 1. 0. 0. 1. 1. 1. 1. 1. 0. 0. 1.\n",
      " 1. 0. 0. 1. 0. 0. 0. 1. 1. 1. 1. 1. 0. 0. 1. 0. 0. 0. 1. 1. 1. 1. 1. 0.\n",
      " 0. 1. 1. 0. 0. 0. 1. 0. 0. 1. 0. 1. 0. 1. 0. 1. 0. 1. 0. 0. 0. 0. 0. 1.\n",
      " 0. 0. 0. 0. 1. 1. 1. 1. 1.]\n",
      "F1 Score: 0.9285714285714286\n"
     ]
    }
   ],
   "source": [
    "# Create SVM classifier instance with linear kernel\n",
    "clf = svm.SVC(kernel='linear', random_state = 42)\n",
    "\n",
    "# Train the model using the training sets\n",
    "clf.fit(cat_X_train, y_train)\n",
    "\n",
    "# Predict the response for test dataset\n",
    "y_pred = clf.predict(X_test)\n",
    "\n",
    "# Print predictions\n",
    "print(\"Predictions:\", y_pred)\n",
    "\n",
    "# Calculate F1 score\n",
    "print(\"F1 Score:\", metrics.f1_score(y_test, y_pred))"
   ]
  },
  {
   "cell_type": "code",
   "execution_count": null,
   "id": "5944b03b-f5ae-4c2d-9bdd-566c2c97c541",
   "metadata": {},
   "outputs": [],
   "source": []
  }
 ],
 "metadata": {
  "kernelspec": {
   "display_name": "Python 3 (ipykernel)",
   "language": "python",
   "name": "python3"
  },
  "language_info": {
   "codemirror_mode": {
    "name": "ipython",
    "version": 3
   },
   "file_extension": ".py",
   "mimetype": "text/x-python",
   "name": "python",
   "nbconvert_exporter": "python",
   "pygments_lexer": "ipython3",
   "version": "3.11.7"
  }
 },
 "nbformat": 4,
 "nbformat_minor": 5
}
